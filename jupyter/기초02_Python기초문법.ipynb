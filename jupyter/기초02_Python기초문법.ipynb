{
 "cells": [
  {
   "cell_type": "markdown",
   "metadata": {},
   "source": [
    "## Python 기초 코드 맛보기\n",
    "\n",
    "- 출처 : ChatGPT 3.5\n",
    "- prompt : python code 기초적인 예시 들어줘"
   ]
  },
  {
   "cell_type": "markdown",
   "metadata": {},
   "source": [
    "### 1. 변수 할당과 출력\n",
    "\n",
    "- 변수에 값을 할당하고 그 값을 출력하는 기본적인 예시입니다.\n",
    "- Python은 변수에 <span style=\"color:yellow\"><string>동적으로 타입(Type)을 할당</string></span>합니다."
   ]
  },
  {
   "cell_type": "code",
   "execution_count": null,
   "metadata": {},
   "outputs": [],
   "source": [
    "# 변수에 값 할당\n",
    "name = \"Alice\"\n",
    "age = 30\n",
    "\n",
    "# 변수 출력\n",
    "print(\"Name:\", name)\n",
    "print(\"Age:\", age)"
   ]
  },
  {
   "cell_type": "markdown",
   "metadata": {},
   "source": [
    "### 2. 조건문 (if-else)\n",
    "\n",
    "- 조건에 따라 다른 코드 블록을 실행하는 예시입니다.\n",
    "- Python은 코드 블록을 <span style=\"color:yellow\"><string>들여쓰기(indent)</string></span>로 표현합니다.  "
   ]
  },
  {
   "cell_type": "code",
   "execution_count": null,
   "metadata": {},
   "outputs": [],
   "source": [
    "# 사용자의 나이 입력 받기\n",
    "age = 30\n",
    "\n",
    "# 조건문으로 나이에 따라 다른 메시지 출력\n",
    "if age < 18:\n",
    "    print(\"You are under 18.\")\n",
    "else:\n",
    "    print(\"You are 18 or older.\")"
   ]
  },
  {
   "cell_type": "markdown",
   "metadata": {},
   "source": [
    "### 3. 반복문 (for loop)\n",
    "\n",
    "- 리스트의 각 요소를 반복적으로 처리하는 예시입니다."
   ]
  },
  {
   "cell_type": "code",
   "execution_count": null,
   "metadata": {},
   "outputs": [],
   "source": [
    "# 리스트의 각 요소 출력하기\n",
    "fruits = [\"apple\", \"banana\", \"cherry\"]\n",
    "\n",
    "for fruit in fruits:\n",
    "    print(fruit)"
   ]
  },
  {
   "cell_type": "markdown",
   "metadata": {},
   "source": [
    "### 4. 함수 정의 (def)\n",
    "\n",
    "- 간단한 함수를 정의하고 호출하는 예시입니다."
   ]
  },
  {
   "cell_type": "code",
   "execution_count": null,
   "metadata": {},
   "outputs": [],
   "source": [
    "# 두 수를 더하는 함수 정의\n",
    "def add_numbers(a, b):\n",
    "    return a + b\n",
    "\n",
    "# 함수 호출 및 결과 출력\n",
    "result = add_numbers(5, 3)\n",
    "print(\"Result:\", result)"
   ]
  },
  {
   "cell_type": "markdown",
   "metadata": {},
   "source": [
    "### 5. 리스트 (List) 사용\n",
    "\n",
    "- 리스트를 정의하고 요소를 추가하고 삭제하는 예시입니다."
   ]
  },
  {
   "cell_type": "code",
   "execution_count": null,
   "metadata": {},
   "outputs": [],
   "source": [
    "# 빈 리스트 생성\n",
    "numbers = []\n",
    "\n",
    "# 리스트에 숫자 추가\n",
    "numbers.append(1)\n",
    "numbers.append(2)\n",
    "numbers.append(None)\n",
    "numbers.append(\"3\")\n",
    "\n",
    "# 리스트 출력\n",
    "print(\"Numbers:\", numbers)\n",
    "\n",
    "# 리스트에서 요소 제거\n",
    "numbers.remove(2)\n",
    "\n",
    "# 수정된 리스트 출력\n",
    "print(\"Modified Numbers:\", numbers)\n"
   ]
  },
  {
   "cell_type": "markdown",
   "metadata": {},
   "source": [
    "### 6. 문자열 다루기\n",
    "\n",
    "- 문자열의 일부를 추출하거나 연결하는 예시입니다."
   ]
  },
  {
   "cell_type": "code",
   "execution_count": null,
   "metadata": {},
   "outputs": [],
   "source": [
    "# 문자열 변수 선언\n",
    "message = \"Hello, World!\"\n",
    "\n",
    "# 문자열 일부분 출력\n",
    "print(\"First 5 characters:\", message[:5])\n",
    "\n",
    "# 두 문자열 합치기\n",
    "greeting = \"Hello\"\n",
    "name = \"Alice\"\n",
    "full_message = greeting + \", \" + name + \"!\"\n",
    "print(\"Full Message:\", full_message)\n"
   ]
  },
  {
   "cell_type": "markdown",
   "metadata": {},
   "source": [
    "### 7. 딕셔너리 (Dictionary) 사용\n",
    "\n",
    "- 키-값 쌍으로 데이터를 저장하고 조회하는 예시입니다."
   ]
  },
  {
   "cell_type": "code",
   "execution_count": null,
   "metadata": {},
   "outputs": [],
   "source": [
    "# 빈 딕셔너리 생성\n",
    "person = {}\n",
    "\n",
    "# 딕셔너리에 정보 추가\n",
    "person[\"name\"] = \"Alice\"\n",
    "person[\"age\"] = 30\n",
    "person[\"city\"] = \"New York\"\n",
    "\n",
    "# 딕셔너리의 값 출력\n",
    "print(\"Person:\", person)\n",
    "\n",
    "# 특정 키의 값 출력\n",
    "print(\"Name:\", person[\"name\"])\n"
   ]
  },
  {
   "cell_type": "markdown",
   "metadata": {},
   "source": [
    "## Python 컨테이너 자료형\n",
    "- Python에서 컨테이너 자료형은 여러 개의 값을 저장하고 관리할 수 있는 자료 구조를 말합니다. 이 자료형은 프로그래밍에서 매우 중요하며, 데이터를 효율적으로 다루는 데에 도움이 됩니다. 컨테이너 자료형으로는 리스트, 튜플, 세트, 딕셔너리가 있습니다.\n",
    "\n",
    "### 1. 리스트 (List)\n",
    "\n",
    "- 여러 값을 순서대로 저장하며, 값을 추가하거나 변경할 수 있습니다.(mutable)\n",
    "- 대괄호([])로 표현하며, 각 값은 쉼표(,)로 구분합니다.\n",
    "\n",
    "#### 1-1. 리스트 생성"
   ]
  },
  {
   "cell_type": "code",
   "execution_count": null,
   "metadata": {},
   "outputs": [],
   "source": [
    "# 빈 리스트 생성\n",
    "my_list = []\n",
    "\n",
    "# 값이 있는 리스트 생성\n",
    "numbers = [1, 2, 3, 4, 5]\n",
    "fruits = [\"apple\", \"banana\", \"cherry\"]\n",
    "mixed = [1, \"apple\", True, 3.14]"
   ]
  },
  {
   "cell_type": "markdown",
   "metadata": {},
   "source": [
    "#### 1-2. 리스트 인덱싱(Indexing)과 슬라이싱(Slicing)"
   ]
  },
  {
   "cell_type": "code",
   "execution_count": null,
   "metadata": {},
   "outputs": [],
   "source": [
    "# 인덱싱(Indexing): 특정 위치의 값에 접근\n",
    "print(numbers[0])  # 출력: 1\n",
    "print(fruits[1])   # 출력: \"banana\"\n",
    "\n",
    "# 음수 인덱스: 뒤에서부터 접근\n",
    "print(numbers[-1])  # 출력: 5\n",
    "print(fruits[-2])   # 출력: \"banana\"\n",
    "\n",
    "# 슬라이싱(Slicing): 범위로 값들을 추출\n",
    "print(numbers[1:4])  # 출력: [2, 3, 4]\n",
    "print(fruits[:2])    # 출력: [\"apple\", \"banana\"]\n",
    "print(mixed[2:])     # 출력: [True, 3.14]"
   ]
  },
  {
   "cell_type": "markdown",
   "metadata": {},
   "source": [
    "#### 1-3. 리스트 값 추가 및 변경"
   ]
  },
  {
   "cell_type": "code",
   "execution_count": null,
   "metadata": {},
   "outputs": [],
   "source": [
    "# 값 추가: append() 메서드\n",
    "fruits.append(\"orange\")\n",
    "print(fruits)  # 출력: [\"apple\", \"banana\", \"cherry\", \"orange\"]\n",
    "\n",
    "# 특정 위치에 값 추가: insert() 메서드\n",
    "fruits.insert(1, \"grape\")\n",
    "print(fruits)  # 출력: [\"apple\", \"grape\", \"banana\", \"cherry\", \"orange\"]\n",
    "\n",
    "# 값 변경\n",
    "numbers[2] = 10\n",
    "print(numbers)  # 출력: [1, 2, 10, 4, 5]"
   ]
  },
  {
   "cell_type": "markdown",
   "metadata": {},
   "source": [
    "#### 1-4. 리스트 값 제거"
   ]
  },
  {
   "cell_type": "code",
   "execution_count": null,
   "metadata": {},
   "outputs": [],
   "source": [
    "# 값 제거: remove() 메서드\n",
    "fruits.remove(\"banana\")\n",
    "print(fruits)  # 출력: [\"apple\", \"grape\", \"cherry\", \"orange\"]\n",
    "\n",
    "# 인덱스로 값 제거: del 키워드\n",
    "del numbers[1]\n",
    "print(numbers)  # 출력: [1, 10, 4, 5]\n",
    "\n",
    "# 마지막 값 제거: pop() 메서드\n",
    "last_item = fruits.pop()\n",
    "print(last_item)  # 출력: \"orange\"\n",
    "print(fruits)     # 출력: [\"apple\", \"grape\", \"cherry\"]"
   ]
  },
  {
   "cell_type": "markdown",
   "metadata": {},
   "source": [
    "#### 1-5. 리스트 연산"
   ]
  },
  {
   "cell_type": "code",
   "execution_count": null,
   "metadata": {},
   "outputs": [],
   "source": [
    "# 리스트 연결(Concatenation)\n",
    "new_list = numbers + fruits\n",
    "print(new_list)  \n",
    "# 출력: [1, 10, 4, 5, \"apple\", \"grape\", \"cherry\"]\n",
    "\n",
    "# 리스트 반복(Repetition)\n",
    "repeated_list = fruits * 2\n",
    "print(repeated_list)  \n",
    "# 출력: [\"apple\", \"grape\", \"cherry\", \"apple\", \"grape\", \"cherry\"]"
   ]
  },
  {
   "cell_type": "markdown",
   "metadata": {},
   "source": [
    "#### 1-6. 리스트 길이와 포함 여부 확인"
   ]
  },
  {
   "cell_type": "code",
   "execution_count": null,
   "metadata": {},
   "outputs": [],
   "source": [
    "# 리스트 길이 확인: len() 함수\n",
    "print(len(numbers))  # 출력: 4\n",
    "\n",
    "# 값의 존재 여부 확인: in 키워드\n",
    "print(\"apple\" in fruits)  # 출력: True\n",
    "print(10 not in numbers)  # 출력: False"
   ]
  },
  {
   "cell_type": "markdown",
   "metadata": {},
   "source": [
    "### 2. 딕셔너리(Dictionary)\n",
    "- 키(key)와 값(value)의 쌍을 저장하는 자료형입니다. \n",
    "- 각 항목은 중괄호({})로 감싸며, 키와 값은 콜론(:)으로 구분하여 표현합니다. \n",
    "- 키를 사용하여 해당 값을 검색할 수 있는 매우 유용한 자료형입니다.\n",
    "\n",
    "#### 2-1. 딕셔너리 생성"
   ]
  },
  {
   "cell_type": "code",
   "execution_count": null,
   "metadata": {},
   "outputs": [],
   "source": [
    "# 빈 딕셔너리 생성\n",
    "my_dict = {}\n",
    "\n",
    "# 값이 있는 딕셔너리 생성\n",
    "person = {\n",
    "    \"name\": \"Alice\",\n",
    "    \"age\": 25,\n",
    "    \"city\": \"New York\"\n",
    "}\n",
    "\n",
    "print(my_dict)\n",
    "print(person)\n",
    "\n",
    "# dict 내장함수를 사용한 딕셔너리 생성\n",
    "# 빈 딕셔너리 생성\n",
    "my_dict = dict()\n",
    "\n",
    "# 값이 있는 딕셔너리 생성\n",
    "person = dict(\n",
    "    name = \"Alice\",\n",
    "    age = 25,\n",
    "    city = \"New York\"\n",
    ")\n",
    "\n",
    "print(my_dict)\n",
    "print(person)"
   ]
  },
  {
   "cell_type": "markdown",
   "metadata": {},
   "source": [
    "#### 2-2. 딕셔너리 값 접근"
   ]
  },
  {
   "cell_type": "code",
   "execution_count": null,
   "metadata": {},
   "outputs": [],
   "source": [
    "# 특정 키를 사용하여 값에 접근\n",
    "print(person[\"name\"])  # 출력: \"Alice\""
   ]
  },
  {
   "cell_type": "markdown",
   "metadata": {},
   "source": [
    "#### 2-3. 딕셔너리 값 변경 및 추가"
   ]
  },
  {
   "cell_type": "code",
   "execution_count": null,
   "metadata": {},
   "outputs": [],
   "source": [
    "# 값 변경\n",
    "person[\"age\"] = 26\n",
    "print(person)  \n",
    "# 출력: {'name': 'Alice', 'age': 26, 'city': 'New York'}\n",
    "\n",
    "# 새로운 키와 값 추가\n",
    "person[\"job\"] = \"Engineer\"\n",
    "print(person)  \n",
    "# 출력: {'name': 'Alice', 'age': 26, 'city': 'New York', 'job': 'Engineer'}"
   ]
  },
  {
   "cell_type": "markdown",
   "metadata": {},
   "source": [
    "#### 2-4. 딕셔너리 메서드(method)"
   ]
  },
  {
   "cell_type": "code",
   "execution_count": null,
   "metadata": {},
   "outputs": [],
   "source": [
    "# keys(): 모든 키 반환\n",
    "print(person.keys())\n",
    "# 출력: dict_keys(['name', 'age', 'city', 'job'])\n",
    "\n",
    "# values(): 모든 값 반환\n",
    "print(person.values())\n",
    "# 출력: dict_values(['Alice', 26, 'New York', 'Engineer'])\n",
    "\n",
    "# items(): 모든 키-값 쌍 반환\n",
    "print(person.items())\n",
    "# 출력: dict_items([('name', 'Alice'), ('age', 26), ('city', 'New York'), ('job', 'Engineer')])"
   ]
  },
  {
   "cell_type": "markdown",
   "metadata": {},
   "source": [
    "#### 2-5. 딕셔너리 반복"
   ]
  },
  {
   "cell_type": "code",
   "execution_count": null,
   "metadata": {},
   "outputs": [],
   "source": [
    "# 키를 사용한 반복\n",
    "for key in person:\n",
    "    print(key, person[key])\n",
    "\n",
    "# items() 메서드를 사용한 반복\n",
    "for key, value in person.items():\n",
    "    print(key, value)"
   ]
  },
  {
   "cell_type": "markdown",
   "metadata": {},
   "source": [
    "#### 2-6. 딕셔너리 길이 확인"
   ]
  },
  {
   "cell_type": "code",
   "execution_count": null,
   "metadata": {},
   "outputs": [],
   "source": [
    "# len() 함수로 딕셔너리의 길이 확인\n",
    "print(len(person))  # 출력: 4"
   ]
  },
  {
   "cell_type": "markdown",
   "metadata": {},
   "source": [
    "#### 2-7. 딕셔너리 값 제거"
   ]
  },
  {
   "cell_type": "code",
   "execution_count": 35,
   "metadata": {},
   "outputs": [
    {
     "name": "stdout",
     "output_type": "stream",
     "text": [
      "{'name': 'Alice', 'age': 26, 'job': 'Engineer'}\n",
      "Engineer\n",
      "{'name': 'Alice', 'age': 26}\n"
     ]
    }
   ],
   "source": [
    "# 특정 키와 값을 제거\n",
    "del person[\"city\"]\n",
    "print(person)  # 출력: {'name': 'Alice', 'age': 26, 'job': 'Engineer'}\n",
    "\n",
    "# pop() 메서드로 키와 값을 제거하고 반환\n",
    "removed_job = person.pop(\"job\")\n",
    "print(removed_job)  # 출력: \"Engineer\"\n",
    "print(person)       # 출력: {'name': 'Alice', 'age': 26}"
   ]
  },
  {
   "cell_type": "markdown",
   "metadata": {},
   "source": [
    "#### 2-8. `**`=키워드 인자 언패킹(keyword argument unpacking)"
   ]
  },
  {
   "cell_type": "markdown",
   "metadata": {},
   "source": [
    "- 다양한 `**` 활용"
   ]
  },
  {
   "cell_type": "code",
   "execution_count": 36,
   "metadata": {},
   "outputs": [
    {
     "name": "stdout",
     "output_type": "stream",
     "text": [
      "{'height': 175, 'weight': 70, 'name': 'Alice', 'age': 26}\n",
      "{'name': 'Alice', 'age': 26, 'height': 175, 'weight': 70}\n",
      "{'name': 'Alice', 'age': 26, 'height': 175, 'weight': 70}\n"
     ]
    }
   ],
   "source": [
    "# 값 추가\n",
    "person = {'name': 'Alice', 'age': 26}\n",
    "physical_description = { 'height':175, 'weight':70,**person }\n",
    "print(physical_description)\n",
    "\n",
    "#디셔너리 머지(Merge)\n",
    "height_weight = {'height':175, 'weight':70}\n",
    "physical_description1 = { **person, **height_weight }\n",
    "print(physical_description1)\n",
    "\n",
    "physical_description2 = dict( **person, **height_weight )\n",
    "print(physical_description2)"
   ]
  },
  {
   "cell_type": "markdown",
   "metadata": {},
   "source": [
    "- 함수 매개변수로 입력"
   ]
  },
  {
   "cell_type": "code",
   "execution_count": 37,
   "metadata": {},
   "outputs": [
    {
     "name": "stdout",
     "output_type": "stream",
     "text": [
      "Hello, Alice! You are 26 years old.\n",
      "Hello, Alice! You are 26 years old.\n"
     ]
    }
   ],
   "source": [
    "def greet_person(name, age):\n",
    "    \"\"\"이름과 나이를 출력하는 함수\"\"\"\n",
    "    print(f\"Hello, {name}! You are {age} years old.\")\n",
    "\n",
    "# 키워드 인자 언패킹\n",
    "greet_person(**person)\n",
    "\n",
    "# 일반적인 함수 매개변수 입력\n",
    "greet_person(name=person['name'], age=person['age'])"
   ]
  },
  {
   "cell_type": "code",
   "execution_count": 42,
   "metadata": {},
   "outputs": [
    {
     "name": "stdout",
     "output_type": "stream",
     "text": [
      "{'name': 'Alice', 'age': 26}\n"
     ]
    }
   ],
   "source": [
    "def print_kargs(**kargs):\n",
    "    print(kargs)\n",
    "\n",
    "# 키워드 인자 언패킹\n",
    "print_kargs(**person)"
   ]
  },
  {
   "cell_type": "markdown",
   "metadata": {},
   "source": [
    "### 3. Python 튜플(Tuple)\n",
    "\n",
    "- Python의 튜플은 여러 값을 순서대로 저장하며, 한 번 생성되면 수정할 수 없는(immutable) 자료형입니다.\n",
    "- 튜플은 괄호(())로 값을 감싸며, 각 값은 쉼표(,)로 구분하여 표현합니다.\n",
    "\n",
    "#### 3-1. 튜플 생성"
   ]
  },
  {
   "cell_type": "code",
   "execution_count": null,
   "metadata": {},
   "outputs": [],
   "source": [
    "# 빈 튜플 생성\n",
    "empty_tuple = ()\n",
    "\n",
    "# 값이 있는 튜플 생성\n",
    "fruits_tuple = (\"apple\", \"banana\", \"cherry\", \"orange\")\n",
    "\n",
    "# 괄호를 생략하여 튜플 생성\n",
    "single_value_tuple = 1,\n",
    "\n",
    "print(empty_tuple)\n",
    "print(fruits_tuple)\n",
    "print(single_value_tuple)"
   ]
  },
  {
   "cell_type": "markdown",
   "metadata": {},
   "source": [
    "#### 3-2. 튜플 인덱싱(Indexing)과 슬라이싱(Slicing)"
   ]
  },
  {
   "cell_type": "code",
   "execution_count": null,
   "metadata": {},
   "outputs": [],
   "source": [
    "# 인덱싱(Indexing): 특정 위치의 값에 접근\n",
    "print(fruits_tuple[0])  # 출력: \"apple\"\n",
    "print(fruits_tuple[1])  # 출력: \"banana\"\n",
    "\n",
    "# 음수 인덱스: 뒤에서부터 접근\n",
    "print(fruits_tuple[-1])  # 출력: \"cherry\"\n",
    "\n",
    "# 슬라이싱(Slicing): 범위로 값들을 추출\n",
    "print(fruits_tuple[1:])  # 출력: (\"banana\", \"cherry\", \"orange\")\n",
    "\n",
    "# 슬라이싱(Slicing): 범위로 값들을 추출 index 1 ~ 2(3 이전)\n",
    "print(fruits_tuple[1:3])  # 출력: (\"banana\", \"cherry\")"
   ]
  },
  {
   "cell_type": "markdown",
   "metadata": {},
   "source": [
    "#### 3-3. 튜플 값 변경과 추가"
   ]
  },
  {
   "cell_type": "code",
   "execution_count": null,
   "metadata": {},
   "outputs": [],
   "source": [
    "fruits_tuple[0] = \"pear\"  # TypeError 발생!"
   ]
  },
  {
   "cell_type": "code",
   "execution_count": null,
   "metadata": {},
   "outputs": [],
   "source": [
    "fruits_tuple.append(\"mango\")  # AttributeError 발생!"
   ]
  },
  {
   "cell_type": "markdown",
   "metadata": {},
   "source": [
    "#### 3-4. 여러 값을 한 번에 할당하기"
   ]
  },
  {
   "cell_type": "code",
   "execution_count": null,
   "metadata": {},
   "outputs": [],
   "source": [
    "# 여러 값을 한 번에 할당\n",
    "name, age, city = (\"Alice\", 25, \"New York\")\n",
    "\n",
    "print(name)  # 출력: \"Alice\"\n",
    "print(age)   # 출력: 25\n",
    "print(city)  # 출력: \"New York\""
   ]
  },
  {
   "cell_type": "markdown",
   "metadata": {},
   "source": [
    "- 함수에서 여러 값을 리턴하기"
   ]
  },
  {
   "cell_type": "code",
   "execution_count": 32,
   "metadata": {},
   "outputs": [
    {
     "name": "stdout",
     "output_type": "stream",
     "text": [
      "('Bob', 30, 'Los Angeles')\n",
      "Bob\n",
      "30\n",
      "Los Angeles\n"
     ]
    }
   ],
   "source": [
    "def get_info():\n",
    "    name = \"Bob\"\n",
    "    age = 30\n",
    "    city = \"Los Angeles\"\n",
    "    return name, age, city\n",
    "\n",
    "# 함수 호출하여 여러 값을 받기\n",
    "person_info = get_info()\n",
    "print(person_info)  # 출력: (\"Bob\", 30, \"Los Angeles\")\n",
    "\n",
    "# 튜플 언패킹을 통해 값들 추출\n",
    "name, age, city = get_info()\n",
    "print(name)  # 출력: \"Bob\"\n",
    "print(age)   # 출력: 30\n",
    "print(city)  # 출력: \"Los Angeles\""
   ]
  },
  {
   "cell_type": "markdown",
   "metadata": {},
   "source": [
    "#### 3-5. 튜플의 길이와 포함 여부 확인"
   ]
  },
  {
   "cell_type": "code",
   "execution_count": 31,
   "metadata": {},
   "outputs": [
    {
     "name": "stdout",
     "output_type": "stream",
     "text": [
      "4\n",
      "True\n",
      "False\n"
     ]
    }
   ],
   "source": [
    "# 길이 확인: len() 함수\n",
    "print(len(fruits_tuple))  # 출력: 4\n",
    "\n",
    "# 값의 존재 여부 확인: in 키워드\n",
    "print(\"apple\" in fruits_tuple)  # 출력: True\n",
    "print(\"orange\" not in fruits_tuple)  # 출력: False\n"
   ]
  },
  {
   "cell_type": "markdown",
   "metadata": {},
   "source": [
    "#### 3-6. `*`=키워드 인자 언패킹(keyword argument unpacking)"
   ]
  },
  {
   "cell_type": "code",
   "execution_count": null,
   "metadata": {},
   "outputs": [],
   "source": [
    "def greet_person(name, age):\n",
    "    \"\"\"이름과 나이를 출력하는 함수\"\"\"\n",
    "    print(f\"Hello, {name}! You are {age} years old.\")\n",
    "\n",
    "# 튜플 정의\n",
    "person_info = (\"Alice\", 30)\n",
    "\n",
    "# 튜플의 요소를 키워드 인자로 언패킹하여 함수 호출\n",
    "greet_person(*person_info)"
   ]
  },
  {
   "cell_type": "code",
   "execution_count": 41,
   "metadata": {},
   "outputs": [
    {
     "name": "stdout",
     "output_type": "stream",
     "text": [
      "('Alice', 30)\n"
     ]
    }
   ],
   "source": [
    "def print_args(*args):\n",
    "    print(args)\n",
    "\n",
    "# 튜플 정의\n",
    "person_info = (\"Alice\", 30)\n",
    "\n",
    "# 튜플의 요소를 키워드 인자로 언패킹하여 함수 호출\n",
    "print_args(*person_info)"
   ]
  }
 ],
 "metadata": {
  "kernelspec": {
   "display_name": "Python 3",
   "language": "python",
   "name": "python3"
  },
  "language_info": {
   "codemirror_mode": {
    "name": "ipython",
    "version": 3
   },
   "file_extension": ".py",
   "mimetype": "text/x-python",
   "name": "python",
   "nbconvert_exporter": "python",
   "pygments_lexer": "ipython3",
   "version": "3.10.12"
  }
 },
 "nbformat": 4,
 "nbformat_minor": 2
}
