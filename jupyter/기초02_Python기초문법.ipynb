{
 "cells": [
  {
   "cell_type": "markdown",
   "metadata": {},
   "source": [
    "## Python 기초 코드 맛보기\n",
    "\n",
    "- 출처 : ChatGPT 3.5\n",
    "- prompt : python code 기초적인 예시 들어줘"
   ]
  },
  {
   "cell_type": "markdown",
   "metadata": {},
   "source": [
    "### 1. 변수 할당과 출력\n",
    "\n",
    "- 변수에 값을 할당하고 그 값을 출력하는 기본적인 예시입니다.\n",
    "- Python은 변수에 <span style=\"color:yellow\"><string>동적으로 타입(Type)을 할당</string></span>합니다."
   ]
  },
  {
   "cell_type": "code",
   "execution_count": null,
   "metadata": {},
   "outputs": [],
   "source": [
    "# 변수에 값 할당\n",
    "name = \"Alice\"\n",
    "age = 30\n",
    "\n",
    "# 변수 출력\n",
    "print(\"Name:\", name)\n",
    "print(\"Age:\", age)"
   ]
  },
  {
   "cell_type": "markdown",
   "metadata": {},
   "source": [
    "### 2. 조건문 (if-else)\n",
    "\n",
    "- 조건에 따라 다른 코드 블록을 실행하는 예시입니다.\n",
    "- Python은 코드 블록을 <span style=\"color:yellow\"><string>들여쓰기(indent)</string></span>로 표현합니다.  "
   ]
  },
  {
   "cell_type": "code",
   "execution_count": null,
   "metadata": {},
   "outputs": [],
   "source": [
    "# 사용자의 나이 입력 받기\n",
    "age = 30\n",
    "\n",
    "# 조건문으로 나이에 따라 다른 메시지 출력\n",
    "if age < 18:\n",
    "    print(\"You are under 18.\")\n",
    "else:\n",
    "    print(\"You are 18 or older.\")"
   ]
  },
  {
   "cell_type": "markdown",
   "metadata": {},
   "source": [
    "### 3. 반복문 (for loop)\n",
    "\n",
    "- 리스트의 각 요소를 반복적으로 처리하는 예시입니다."
   ]
  },
  {
   "cell_type": "code",
   "execution_count": null,
   "metadata": {},
   "outputs": [],
   "source": [
    "# 리스트의 각 요소 출력하기\n",
    "fruits = [\"apple\", \"banana\", \"cherry\"]\n",
    "\n",
    "for fruit in fruits:\n",
    "    print(fruit)"
   ]
  },
  {
   "cell_type": "markdown",
   "metadata": {},
   "source": [
    "### 4. 함수 정의 (def)\n",
    "\n",
    "- 간단한 함수를 정의하고 호출하는 예시입니다."
   ]
  },
  {
   "cell_type": "code",
   "execution_count": null,
   "metadata": {},
   "outputs": [],
   "source": [
    "# 두 수를 더하는 함수 정의\n",
    "def add_numbers(a, b):\n",
    "    return a + b\n",
    "\n",
    "# 함수 호출 및 결과 출력\n",
    "result = add_numbers(5, 3)\n",
    "print(\"Result:\", result)"
   ]
  },
  {
   "cell_type": "markdown",
   "metadata": {},
   "source": [
    "### 5. 리스트 (List) 사용\n",
    "\n",
    "- 리스트를 정의하고 요소를 추가하고 삭제하는 예시입니다."
   ]
  },
  {
   "cell_type": "code",
   "execution_count": null,
   "metadata": {},
   "outputs": [],
   "source": [
    "# 빈 리스트 생성\n",
    "numbers = []\n",
    "\n",
    "# 리스트에 숫자 추가\n",
    "numbers.append(1)\n",
    "numbers.append(2)\n",
    "numbers.append(None)\n",
    "numbers.append(\"3\")\n",
    "\n",
    "# 리스트 출력\n",
    "print(\"Numbers:\", numbers)\n",
    "\n",
    "# 리스트에서 요소 제거\n",
    "numbers.remove(2)\n",
    "\n",
    "# 수정된 리스트 출력\n",
    "print(\"Modified Numbers:\", numbers)\n"
   ]
  },
  {
   "cell_type": "markdown",
   "metadata": {},
   "source": [
    "### 6. 문자열 다루기\n",
    "\n",
    "- 문자열의 일부를 추출하거나 연결하는 예시입니다."
   ]
  },
  {
   "cell_type": "code",
   "execution_count": null,
   "metadata": {},
   "outputs": [],
   "source": [
    "# 문자열 변수 선언\n",
    "message = \"Hello, World!\"\n",
    "\n",
    "# 문자열 일부분 출력\n",
    "print(\"First 5 characters:\", message[:5])\n",
    "\n",
    "# 두 문자열 합치기\n",
    "greeting = \"Hello\"\n",
    "name = \"Alice\"\n",
    "full_message = greeting + \", \" + name + \"!\"\n",
    "print(\"Full Message:\", full_message)\n"
   ]
  },
  {
   "cell_type": "markdown",
   "metadata": {},
   "source": [
    "### 7. 딕셔너리 (Dictionary) 사용\n",
    "\n",
    "- 키-값 쌍으로 데이터를 저장하고 조회하는 예시입니다."
   ]
  },
  {
   "cell_type": "code",
   "execution_count": null,
   "metadata": {},
   "outputs": [],
   "source": [
    "# 빈 딕셔너리 생성\n",
    "person = {}\n",
    "\n",
    "# 딕셔너리에 정보 추가\n",
    "person[\"name\"] = \"Alice\"\n",
    "person[\"age\"] = 30\n",
    "person[\"city\"] = \"New York\"\n",
    "\n",
    "# 딕셔너리의 값 출력\n",
    "print(\"Person:\", person)\n",
    "\n",
    "# 특정 키의 값 출력\n",
    "print(\"Name:\", person[\"name\"])\n"
   ]
  }
 ],
 "metadata": {
  "kernelspec": {
   "display_name": "Python 3",
   "language": "python",
   "name": "python3"
  },
  "language_info": {
   "codemirror_mode": {
    "name": "ipython",
    "version": 3
   },
   "file_extension": ".py",
   "mimetype": "text/x-python",
   "name": "python",
   "nbconvert_exporter": "python",
   "pygments_lexer": "ipython3",
   "version": "3.10.12"
  }
 },
 "nbformat": 4,
 "nbformat_minor": 2
}
