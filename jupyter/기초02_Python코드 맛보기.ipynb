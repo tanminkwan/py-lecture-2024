{
 "cells": [
  {
   "cell_type": "markdown",
   "metadata": {},
   "source": [
    "## Python 코드 맛보기\n",
    "\n",
    "- python의 가장 기초적인 문법들을 예시로 살펴봅니다."
   ]
  },
  {
   "cell_type": "markdown",
   "metadata": {},
   "source": [
    "### 1. 변수 할당과 출력\n",
    "\n",
    "- 변수에 값을 할당하고 그 값을 출력하는 기본적인 예시입니다.\n",
    "- Python은 변수에 <span style=\"color:yellow\"><string>동적으로 타입(Type)을 할당</string></span>합니다."
   ]
  },
  {
   "cell_type": "code",
   "execution_count": null,
   "metadata": {},
   "outputs": [],
   "source": [
    "# 변수에 값 할당\n",
    "name = \"Alice\"\n",
    "age = 17\n",
    "is_adult = False\n",
    "\n",
    "# 변수 출력\n",
    "print(\"Name:\", name)\n",
    "print(\"Age:\", age)\n",
    "print(\"I am an adult. :\", is_adult)"
   ]
  },
  {
   "cell_type": "markdown",
   "metadata": {},
   "source": [
    "### 2. 조건문 (if-else)\n",
    "\n",
    "- 조건에 따라 다른 코드 블록을 실행하는 예시입니다.\n",
    "- Python은 코드 블록을 <span style=\"color:yellow\"><string>들여쓰기(indent)</string></span>로 표현합니다.  "
   ]
  },
  {
   "cell_type": "code",
   "execution_count": null,
   "metadata": {},
   "outputs": [],
   "source": [
    "# 사용자의 나이 입력 받기\n",
    "age = 30\n",
    "\n",
    "# 조건문으로 나이에 따라 다른 메시지 출력\n",
    "if age < 18:\n",
    "    print(\"You are under 18.\")\n",
    "else:\n",
    "    print(\"You are 18 or older.\")"
   ]
  },
  {
   "cell_type": "markdown",
   "metadata": {},
   "source": [
    "### 3. 반복문 (for loop)\n",
    "\n",
    "- 리스트의 각 요소를 반복적으로 처리하는 예시입니다."
   ]
  },
  {
   "cell_type": "code",
   "execution_count": null,
   "metadata": {},
   "outputs": [],
   "source": [
    "# 리스트의 각 요소 출력하기\n",
    "fruits = [\"apple\", \"banana\", \"cherry\"]\n",
    "\n",
    "for fruit in fruits:\n",
    "    print(fruit)"
   ]
  },
  {
   "cell_type": "markdown",
   "metadata": {},
   "source": [
    "### 4. 함수 정의 (def)\n",
    "\n",
    "- 간단한 함수를 정의하고 호출하는 예시입니다."
   ]
  },
  {
   "cell_type": "code",
   "execution_count": null,
   "metadata": {},
   "outputs": [],
   "source": [
    "# 두 수를 더하는 함수 정의\n",
    "def add_numbers(a, b):\n",
    "    return a + b\n",
    "\n",
    "# 함수 호출 및 결과 출력\n",
    "result = add_numbers(5, 3)\n",
    "print(\"Result:\", result)"
   ]
  },
  {
   "cell_type": "markdown",
   "metadata": {},
   "source": [
    "### 5. 리스트 (List) 사용\n",
    "\n",
    "- 리스트를 정의하고 요소를 추가하고 삭제하는 예시입니다."
   ]
  },
  {
   "cell_type": "code",
   "execution_count": null,
   "metadata": {},
   "outputs": [],
   "source": [
    "# 빈 리스트 생성\n",
    "numbers = []\n",
    "\n",
    "# 리스트에 숫자 추가\n",
    "numbers.append(1)\n",
    "numbers.append(2)\n",
    "# 리스트에 문자열 추가\n",
    "numbers.append(\"3\")\n",
    "\n",
    "# 리스트 출력\n",
    "print(\"Numbers:\", numbers)\n",
    "\n",
    "# 리스트에서 요소 제거\n",
    "numbers.remove(\"3\")\n",
    "\n",
    "# 수정된 리스트 출력\n",
    "print(\"Modified Numbers:\", numbers)\n"
   ]
  },
  {
   "cell_type": "markdown",
   "metadata": {},
   "source": [
    "### 6. 문자열 다루기\n",
    "\n",
    "- 문자열의 일부를 추출하거나 연결하는 예시입니다."
   ]
  },
  {
   "cell_type": "code",
   "execution_count": null,
   "metadata": {},
   "outputs": [],
   "source": [
    "# 문자열 변수 선언\n",
    "message = 'Hello, World!'\n",
    "\n",
    "# 문자열 일부분 출력\n",
    "print(\"First 5 characters:\", message[:5])\n",
    "\n",
    "# 두 문자열 합치기\n",
    "greeting = 'Hello'\n",
    "name = \"Alice\"\n",
    "full_message = greeting + \", \" + name + \"!\"\n",
    "print(\"Full Message:\", full_message)\n"
   ]
  },
  {
   "cell_type": "markdown",
   "metadata": {},
   "source": [
    "- Python에서는 문자열을 표현할 때 큰 따옴표(\")와 작은 따옴표(')를 모두 사용할 수 있습니다. 이 두 가지의 차이는 주로 문자열 안에 따옴표를 포함해야 할 때나 문자열 안에 변수 값을 포함해야 할 때 발생합니다."
   ]
  },
  {
   "cell_type": "code",
   "execution_count": 8,
   "metadata": {},
   "outputs": [
    {
     "name": "stdout",
     "output_type": "stream",
     "text": [
      "I'm fine.\n",
      "He said, \"Hello!\"\n"
     ]
    }
   ],
   "source": [
    "message1 = \"I'm fine.\"\n",
    "message2 = 'He said, \"Hello!\"'\n",
    "\n",
    "print(message1)\n",
    "print(message2)"
   ]
  },
  {
   "cell_type": "markdown",
   "metadata": {},
   "source": [
    "### 7. 딕셔너리 (Dictionary) 사용\n",
    "\n",
    "- 키-값 쌍으로 데이터를 저장하고 조회하는 예시입니다."
   ]
  },
  {
   "cell_type": "code",
   "execution_count": null,
   "metadata": {},
   "outputs": [],
   "source": [
    "# 빈 딕셔너리 생성\n",
    "person = {}\n",
    "\n",
    "# 딕셔너리에 정보 추가\n",
    "person[\"name\"] = \"Alice\"\n",
    "person[\"age\"] = 30\n",
    "person[\"city\"] = \"New York\"\n",
    "\n",
    "# 딕셔너리의 값 출력\n",
    "print(\"Person:\", person)\n",
    "\n",
    "# 특정 키의 값 출력\n",
    "print(\"Name:\", person[\"name\"])\n"
   ]
  },
  {
   "cell_type": "markdown",
   "metadata": {},
   "source": [
    "### 8. 클래스(Class) 정의\n",
    "- 클래스(Class)는 객체 지향 프로그래밍에서 가장 기본적인 개념 중 하나입니다. 클래스는 데이터와 해당 데이터를 처리하는 메서드(함수)를 포함하는 사용자 정의 데이터 형식입니다."
   ]
  },
  {
   "cell_type": "code",
   "execution_count": null,
   "metadata": {},
   "outputs": [],
   "source": [
    "class Person:\n",
    "    \"\"\"간단한 사람 클래스\"\"\"\n",
    "    \n",
    "    def __init__(self, name, age):\n",
    "        \"\"\"Person 클래스의 생성자\"\"\"\n",
    "        self.name = name\n",
    "        self.age = age\n",
    "    \n",
    "    def greet(self):\n",
    "        \"\"\"인사하는 메서드\"\"\"\n",
    "        print(f\"Hello, my name is {self.name} and I am {self.age} years old.\")\n",
    "\n",
    "# Person 클래스의 인스턴스 생성\n",
    "person1 = Person(\"Alice\", 30)\n",
    "person2 = Person(\"Bob\", 25)\n",
    "\n",
    "# 인스턴스의 속성에 접근하여 출력\n",
    "print(person1.name)  # 출력: \"Alice\"\n",
    "print(person2.age)   # 출력: 25\n",
    "\n",
    "# 인스턴스의 메서드 호출\n",
    "person1.greet()  # 출력: \"Hello, my name is Alice and I am 30 years old.\"\n",
    "person2.greet()  # 출력: \"Hello, my name is Bob and I am 25 years old.\""
   ]
  }
 ],
 "metadata": {
  "kernelspec": {
   "display_name": "Python 3",
   "language": "python",
   "name": "python3"
  },
  "language_info": {
   "codemirror_mode": {
    "name": "ipython",
    "version": 3
   },
   "file_extension": ".py",
   "mimetype": "text/x-python",
   "name": "python",
   "nbconvert_exporter": "python",
   "pygments_lexer": "ipython3",
   "version": "3.10.12"
  }
 },
 "nbformat": 4,
 "nbformat_minor": 2
}
