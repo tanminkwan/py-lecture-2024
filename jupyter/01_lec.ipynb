{
 "cells": [
  {
   "cell_type": "markdown",
   "metadata": {},
   "source": [
    "### first-class function features"
   ]
  },
  {
   "cell_type": "code",
   "execution_count": 1,
   "metadata": {},
   "outputs": [],
   "source": [
    "def print_me():\n",
    "    print('I was just printed.')\n",
    "    return 'OK'\n",
    "\n",
    "def run_function(f):\n",
    "    print('I am a deliver.')\n",
    "    return f()\n",
    "\n",
    "def deliver_function(f):\n",
    "    print('I am a deliver.')\n",
    "    return f\n",
    "\n",
    "def inner_function():\n",
    "    def inner(f):\n",
    "        print('I am an inner.')\n",
    "        return f\n",
    "    return inner\n",
    "\n",
    "def closer_function(f):\n",
    "    def closer():\n",
    "        print('I am a closer.')\n",
    "        f()\n",
    "    return closer"
   ]
  },
  {
   "cell_type": "code",
   "execution_count": 2,
   "metadata": {},
   "outputs": [
    {
     "name": "stdout",
     "output_type": "stream",
     "text": [
      "I was just printed.\n"
     ]
    },
    {
     "data": {
      "text/plain": [
       "'OK'"
      ]
     },
     "execution_count": 2,
     "metadata": {},
     "output_type": "execute_result"
    }
   ],
   "source": [
    "print_me()"
   ]
  },
  {
   "cell_type": "code",
   "execution_count": 3,
   "metadata": {},
   "outputs": [
    {
     "name": "stdout",
     "output_type": "stream",
     "text": [
      "I was just printed.\n"
     ]
    },
    {
     "data": {
      "text/plain": [
       "'OK'"
      ]
     },
     "execution_count": 3,
     "metadata": {},
     "output_type": "execute_result"
    }
   ],
   "source": [
    "# 위 내용과 동일\n",
    "f = print_me\n",
    "f()"
   ]
  },
  {
   "cell_type": "code",
   "execution_count": 4,
   "metadata": {},
   "outputs": [
    {
     "name": "stdout",
     "output_type": "stream",
     "text": [
      "I am a deliver.\n",
      "I was just printed.\n"
     ]
    },
    {
     "data": {
      "text/plain": [
       "'OK'"
      ]
     },
     "execution_count": 4,
     "metadata": {},
     "output_type": "execute_result"
    }
   ],
   "source": [
    "run_function(print_me)"
   ]
  },
  {
   "cell_type": "code",
   "execution_count": 5,
   "metadata": {},
   "outputs": [
    {
     "name": "stdout",
     "output_type": "stream",
     "text": [
      "I am a deliver.\n",
      "I was just printed.\n"
     ]
    },
    {
     "data": {
      "text/plain": [
       "'OK'"
      ]
     },
     "execution_count": 5,
     "metadata": {},
     "output_type": "execute_result"
    }
   ],
   "source": [
    "deliver_function(print_me)()"
   ]
  },
  {
   "cell_type": "code",
   "execution_count": 6,
   "metadata": {},
   "outputs": [
    {
     "name": "stdout",
     "output_type": "stream",
     "text": [
      "I am a deliver.\n",
      "I was just printed.\n"
     ]
    },
    {
     "data": {
      "text/plain": [
       "'OK'"
      ]
     },
     "execution_count": 6,
     "metadata": {},
     "output_type": "execute_result"
    }
   ],
   "source": [
    "# 위 내용과 동일\n",
    "f = deliver_function(print_me)\n",
    "f()"
   ]
  },
  {
   "cell_type": "code",
   "execution_count": 7,
   "metadata": {},
   "outputs": [
    {
     "name": "stdout",
     "output_type": "stream",
     "text": [
      "I was just printed.\n",
      "I am a deliver.\n",
      "I was just printed.\n"
     ]
    }
   ],
   "source": [
    "functions = [print_me, print_me(), run_function, run_function(print_me), deliver_function]"
   ]
  },
  {
   "cell_type": "code",
   "execution_count": 8,
   "metadata": {},
   "outputs": [
    {
     "name": "stdout",
     "output_type": "stream",
     "text": [
      "I am an inner.\n",
      "I was just printed.\n"
     ]
    },
    {
     "data": {
      "text/plain": [
       "'OK'"
      ]
     },
     "execution_count": 8,
     "metadata": {},
     "output_type": "execute_result"
    }
   ],
   "source": [
    "f = inner_function()\n",
    "f(print_me)()"
   ]
  },
  {
   "cell_type": "code",
   "execution_count": 9,
   "metadata": {},
   "outputs": [
    {
     "name": "stdout",
     "output_type": "stream",
     "text": [
      "I am a closer.\n",
      "I was just printed.\n"
     ]
    }
   ],
   "source": [
    "f = closer_function(print_me)\n",
    "f()"
   ]
  },
  {
   "cell_type": "code",
   "execution_count": 10,
   "metadata": {},
   "outputs": [
    {
     "name": "stdout",
     "output_type": "stream",
     "text": [
      "Why me!!\n",
      "Why me!!\n",
      "Why me!!\n",
      "Why me!!\n",
      "Why me!!\n",
      "Why me!!\n",
      "Why me!!\n",
      "Why me!!\n",
      "Why me!!\n",
      "Why me!!\n"
     ]
    }
   ],
   "source": [
    "def recursive_function(f, i):\n",
    "\n",
    "    if i==0:\n",
    "        return\n",
    "    \n",
    "    print(\"Why me?\")\n",
    "    \n",
    "    f(f, i-1)\n",
    "\n",
    "recursive_function(recursive_function, 10)"
   ]
  }
 ],
 "metadata": {
  "kernelspec": {
   "display_name": "Python 3",
   "language": "python",
   "name": "python3"
  },
  "language_info": {
   "codemirror_mode": {
    "name": "ipython",
    "version": 3
   },
   "file_extension": ".py",
   "mimetype": "text/x-python",
   "name": "python",
   "nbconvert_exporter": "python",
   "pygments_lexer": "ipython3",
   "version": "3.10.12"
  }
 },
 "nbformat": 4,
 "nbformat_minor": 2
}
