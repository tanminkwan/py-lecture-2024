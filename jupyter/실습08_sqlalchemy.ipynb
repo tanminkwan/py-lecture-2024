{
 "cells": [
  {
   "cell_type": "markdown",
   "metadata": {},
   "source": [
    "### 사전준비\n",
    "- sqlalchemy 설치"
   ]
  },
  {
   "cell_type": "code",
   "execution_count": null,
   "metadata": {},
   "outputs": [],
   "source": [
    "%pip install SQLAlchemy"
   ]
  },
  {
   "cell_type": "markdown",
   "metadata": {},
   "source": []
  },
  {
   "cell_type": "markdown",
   "metadata": {},
   "source": [
    "### sqlalchemy 란\n",
    "\n",
    "- SQLAlchemy is an open-source SQL toolkit and object-relational mapper (ORM) for the Python programming language released under the MIT License."
   ]
  },
  {
   "cell_type": "markdown",
   "metadata": {},
   "source": [
    "- sqlalchemy 구성"
   ]
  },
  {
   "cell_type": "markdown",
   "metadata": {},
   "source": [
    "![Alt text for broken image link](../resources/sqlalchemy.jpg)"
   ]
  },
  {
   "cell_type": "markdown",
   "metadata": {},
   "source": [
    "- sqlite db 접속 engine 생성"
   ]
  },
  {
   "cell_type": "code",
   "execution_count": null,
   "metadata": {},
   "outputs": [],
   "source": [
    "from sqlalchemy import create_engine\n",
    "\n",
    "# sqlite:///mydb.db : dialect로 sqlite를 사용하고 db(파일)은 현재 directory의 mydb.db를 사용\n",
    "# echo=True : 실행되는 SQL을 출력\n",
    "engine = create_engine('sqlite:///mydb.db', echo=True)"
   ]
  },
  {
   "cell_type": "markdown",
   "metadata": {},
   "source": [
    "### SQL\n",
    "-  sql 문장 실행하기"
   ]
  },
  {
   "cell_type": "code",
   "execution_count": null,
   "metadata": {},
   "outputs": [],
   "source": [
    "conn = engine.connect()\n",
    "\n",
    "# db file 생성 확인 "
   ]
  },
  {
   "cell_type": "code",
   "execution_count": null,
   "metadata": {},
   "outputs": [],
   "source": [
    "from sqlalchemy import text\n",
    "conn.execute(text(\"CREATE TABLE TEST (X int, Y int)\")) "
   ]
  },
  {
   "cell_type": "code",
   "execution_count": null,
   "metadata": {},
   "outputs": [],
   "source": [
    "insert_statement = \"INSERT INTO TEST (x, y) VALUES (:x, :y)\"\n",
    "test_data = [{\"x\": 1, \"y\": 1}, {\"x\": 2, \"y\": 4}]\n",
    "\n",
    "conn.execute(text(insert_statement), test_data)\n",
    "conn.commit()"
   ]
  },
  {
   "cell_type": "code",
   "execution_count": null,
   "metadata": {},
   "outputs": [],
   "source": [
    "select_statement = \"SELECT x, y FROM TEST\"\n",
    "result = conn.execute(text(select_statement))\n",
    "for row in result:\n",
    "    print(row)"
   ]
  },
  {
   "cell_type": "code",
   "execution_count": null,
   "metadata": {},
   "outputs": [],
   "source": [
    "conn.execute(text(\"DROP TABLE TEST\")) "
   ]
  },
  {
   "cell_type": "markdown",
   "metadata": {},
   "source": [
    "### ORM"
   ]
  },
  {
   "cell_type": "code",
   "execution_count": null,
   "metadata": {},
   "outputs": [],
   "source": [
    "from sqlalchemy.orm import declarative_base\n",
    "Base = declarative_base()"
   ]
  },
  {
   "cell_type": "markdown",
   "metadata": {},
   "source": [
    "- Model(DB Table) 정의"
   ]
  },
  {
   "cell_type": "code",
   "execution_count": null,
   "metadata": {},
   "outputs": [],
   "source": [
    "\"\"\"\n",
    "prompt :\n",
    "\n",
    "sqlalchemy.orm.declarative_base 의 결과를 상속 받은 data model 두개를 아래 조건에 맞게 선언하는 code를 작성하라\n",
    "---\n",
    "1. \n",
    "class 이름 : User\n",
    "table 이름 : user_account\n",
    "칼럼들 :\n",
    "    nickname (type:string)\n",
    "    real_name  (type:string)\n",
    "2. \n",
    "class 이름 : Asset\n",
    "table 이름 : user_asset\n",
    "칼럼들 :\n",
    "    asset_name (type:string)\n",
    "    owner_id  (type:integer, user_account.id를 참조하는 foreign key)\n",
    "\n",
    "기타조건 : \n",
    "- user_account table 한 row 가 삭제되면 user_asset.owner_id로 연결된 row들도 삭제\n",
    "- table 객체를 print하면 table의 column과 값을 출력한다.\n",
    "===\n",
    "results from ChatGPT-3.5\n",
    "\"\"\"\n",
    "from sqlalchemy import Column, Integer, String, ForeignKey\n",
    "from sqlalchemy.orm import relationship\n",
    "\n",
    "class User(Base):\n",
    "    __tablename__ = 'user_account'  # 데이터베이스에서 사용할 테이블 이름입니다.\n",
    "\n",
    "    id = Column(Integer, primary_key=True)\n",
    "    nickname = Column(String(30))\n",
    "    real_name = Column(String)\n",
    "\n",
    "    # User와 Asset의 관계를 설정합니다.\n",
    "    assets = relationship(\"Asset\", cascade=\"all, delete-orphan\")\n",
    "\n",
    "    # 객체를 print 하면 호출됨\n",
    "    def __repr__(self):\n",
    "        return f\"User(id={self.id}, nickname={self.nickname}, real_name={self.real_name})\"\n",
    "    \n",
    "class Asset(Base):\n",
    "    __tablename__ = 'user_asset'\n",
    "    id = Column(Integer, primary_key=True)\n",
    "    asset_name = Column(String(30))\n",
    "    \n",
    "    # User 테이블의 id를 외래키로 설정하여 User와의 관계를 맺습니다.\n",
    "    owner_id = Column(Integer, ForeignKey('user_account.id'))\n",
    "\n",
    "    # 객체를 print 하면 호출됨\n",
    "    def __repr__(self):\n",
    "        return f\"Asset(id={self.id}, asset_name={self.asset_name}, owner_id={self.owner_id})\"\n"
   ]
  },
  {
   "cell_type": "code",
   "execution_count": null,
   "metadata": {},
   "outputs": [],
   "source": [
    "print('tables : ', Base.metadata.tables)"
   ]
  },
  {
   "cell_type": "markdown",
   "metadata": {},
   "source": [
    "- Table들 일괄 Create "
   ]
  },
  {
   "cell_type": "code",
   "execution_count": null,
   "metadata": {},
   "outputs": [],
   "source": [
    "Base.metadata.create_all(engine)"
   ]
  },
  {
   "cell_type": "code",
   "execution_count": null,
   "metadata": {},
   "outputs": [],
   "source": [
    "#Base.metadata.drop_all(engine)"
   ]
  },
  {
   "cell_type": "markdown",
   "metadata": {},
   "source": [
    "- sqlalchemy로부터 db session을 하나 얻음"
   ]
  },
  {
   "cell_type": "code",
   "execution_count": null,
   "metadata": {},
   "outputs": [],
   "source": [
    "from sqlalchemy.orm import Session\n",
    "\n",
    "session = Session(engine)"
   ]
  },
  {
   "cell_type": "markdown",
   "metadata": {},
   "source": [
    "- Insert"
   ]
  },
  {
   "cell_type": "code",
   "execution_count": null,
   "metadata": {},
   "outputs": [],
   "source": [
    "me = User(nickname='hennry', real_name='김형기')\n",
    "\n",
    "session.add(me)"
   ]
  },
  {
   "cell_type": "code",
   "execution_count": null,
   "metadata": {},
   "outputs": [],
   "source": [
    "session.commit()"
   ]
  },
  {
   "cell_type": "code",
   "execution_count": null,
   "metadata": {},
   "outputs": [],
   "source": [
    "next_one = User(nickname='sunsiny', real_name='이순신')\n",
    "\n",
    "session.add(next_one)\n",
    "\n",
    "session.rollback()"
   ]
  },
  {
   "cell_type": "markdown",
   "metadata": {},
   "source": [
    "- Select"
   ]
  },
  {
   "cell_type": "code",
   "execution_count": null,
   "metadata": {},
   "outputs": [],
   "source": [
    "users = session.query(User).all()\n",
    "\n",
    "for user in users:\n",
    "    print(user)"
   ]
  },
  {
   "cell_type": "code",
   "execution_count": null,
   "metadata": {},
   "outputs": [],
   "source": [
    "user = session.query(User).first()\n",
    "\n",
    "print(user)"
   ]
  },
  {
   "cell_type": "code",
   "execution_count": null,
   "metadata": {},
   "outputs": [],
   "source": [
    "user = session.query(User).filter(User.nickname=='hennry')\n",
    "\n",
    "for user in users:\n",
    "    print(user)"
   ]
  },
  {
   "cell_type": "markdown",
   "metadata": {},
   "source": [
    "- Update"
   ]
  },
  {
   "cell_type": "code",
   "execution_count": null,
   "metadata": {},
   "outputs": [],
   "source": [
    "user.real_name = '김형기2'\n",
    "user.nickname = 'hennry2'\n",
    "print('Before commit : Is the session dirty?',user in session.dirty)\n",
    "session.commit()\n",
    "print('After commit : Is the session dirty?',user in session.dirty)"
   ]
  },
  {
   "cell_type": "markdown",
   "metadata": {},
   "source": [
    "- Delete"
   ]
  },
  {
   "cell_type": "code",
   "execution_count": null,
   "metadata": {},
   "outputs": [],
   "source": [
    "session.delete(user)\n",
    "session.commit()"
   ]
  },
  {
   "cell_type": "markdown",
   "metadata": {},
   "source": [
    "- Child Table Insert"
   ]
  },
  {
   "cell_type": "code",
   "execution_count": null,
   "metadata": {},
   "outputs": [],
   "source": [
    "me = User(nickname='tiffanie', real_name='김형기')\n",
    "me.assets.append(Asset(asset_name=\"Car\"))\n",
    "me.assets.append(Asset(asset_name=\"House\"))\n",
    "session.add(me)\n",
    "session.commit()"
   ]
  },
  {
   "cell_type": "code",
   "execution_count": null,
   "metadata": {},
   "outputs": [],
   "source": [
    "me.assets.append(Asset(asset_name=\"Wife\"))\n",
    "me.assets.append(Asset(asset_name=\"Son1\"))\n",
    "me.assets.append(Asset(asset_name=\"Son2\"))\n",
    "session.commit()"
   ]
  },
  {
   "cell_type": "code",
   "execution_count": null,
   "metadata": {},
   "outputs": [],
   "source": [
    "for asset in me.assets:\n",
    "    print(asset)"
   ]
  },
  {
   "cell_type": "markdown",
   "metadata": {},
   "source": [
    "- Child Table로부터 Select"
   ]
  },
  {
   "cell_type": "markdown",
   "metadata": {},
   "source": [
    "-    - Asset Table을 직접 Select"
   ]
  },
  {
   "cell_type": "code",
   "execution_count": null,
   "metadata": {},
   "outputs": [],
   "source": [
    "assets = session.query(Asset).filter(Asset.owner_id==me.id, Asset.asset_name=='Car')\n",
    "\n",
    "for asset in assets:\n",
    "    print(asset)"
   ]
  },
  {
   "cell_type": "markdown",
   "metadata": {},
   "source": [
    "-    - Table Join 방식으로 Select"
   ]
  },
  {
   "cell_type": "code",
   "execution_count": null,
   "metadata": {},
   "outputs": [],
   "source": [
    "rows = session.query(User, Asset).join(Asset, Asset.owner_id==User.id).filter(User.id==me.id)\n",
    "\n",
    "for row in rows:\n",
    "    print(row[0], row[1])"
   ]
  },
  {
   "cell_type": "markdown",
   "metadata": {},
   "source": [
    "-    - Comprehention을 사용해 me 객체에서 Select"
   ]
  },
  {
   "cell_type": "code",
   "execution_count": null,
   "metadata": {},
   "outputs": [],
   "source": [
    "# asset_name으로 검색이 가능하도록 key=asset_name, value=Asset instance인 dictionary 생성\n",
    "assets_in_me = { asset.asset_name:asset for asset in me.assets }\n",
    "\n",
    "print('Assets : ', assets_in_me)\n",
    "print('asset_name이 Car인 Asset  : ', assets_in_me['Car'])\n",
    "print('asset_name이 Car인 Asset의 id  : ', assets_in_me['Car'].id)"
   ]
  },
  {
   "cell_type": "code",
   "execution_count": null,
   "metadata": {},
   "outputs": [],
   "source": [
    "asset = next( a for a in me.assets if a.asset_name==\"Car\" )\n",
    "\n",
    "print('asset_name이 Car인 Asset  : ', asset)\n",
    "print('asset_name이 Car인 Asset의 id  : ', asset.id)"
   ]
  },
  {
   "cell_type": "markdown",
   "metadata": {},
   "source": [
    "- Child Table Update"
   ]
  },
  {
   "cell_type": "code",
   "execution_count": null,
   "metadata": {},
   "outputs": [],
   "source": [
    "asset.asset_name = \"비싼 Car\""
   ]
  },
  {
   "cell_type": "code",
   "execution_count": null,
   "metadata": {},
   "outputs": [],
   "source": [
    "session.commit()"
   ]
  },
  {
   "cell_type": "markdown",
   "metadata": {},
   "source": [
    "- Child Table Delete"
   ]
  },
  {
   "cell_type": "code",
   "execution_count": null,
   "metadata": {},
   "outputs": [],
   "source": [
    "me.assets.remove(asset)"
   ]
  },
  {
   "cell_type": "code",
   "execution_count": null,
   "metadata": {},
   "outputs": [],
   "source": [
    "session.commit()"
   ]
  },
  {
   "cell_type": "markdown",
   "metadata": {},
   "source": [
    "### Core"
   ]
  },
  {
   "cell_type": "markdown",
   "metadata": {},
   "source": [
    "- Insert"
   ]
  },
  {
   "cell_type": "code",
   "execution_count": null,
   "metadata": {},
   "outputs": [],
   "source": [
    "from sqlalchemy import insert\n",
    "\n",
    "stmt = insert(User).values(nickname='kang', real_name=\"강인모\")\n",
    "\n",
    "session.execute(stmt)\n",
    "session.commit()"
   ]
  },
  {
   "cell_type": "markdown",
   "metadata": {},
   "source": [
    "- Select"
   ]
  },
  {
   "cell_type": "code",
   "execution_count": null,
   "metadata": {},
   "outputs": [],
   "source": [
    "from sqlalchemy import select\n",
    "\n",
    "stmt = select(User).where(User.nickname == 'kang')\n",
    "\n",
    "cursor = session.execute(stmt)\n",
    "\n",
    "for row in cursor:\n",
    "    print(row)"
   ]
  },
  {
   "cell_type": "markdown",
   "metadata": {},
   "source": [
    "- Update"
   ]
  },
  {
   "cell_type": "code",
   "execution_count": null,
   "metadata": {},
   "outputs": [],
   "source": [
    "from sqlalchemy import update\n",
    "\n",
    "stmt = update(User).where(User.nickname == 'kang').\\\n",
    "    values(real_name='강감찬')\n",
    "\n",
    "session.execute(stmt)\n",
    "session.commit()"
   ]
  },
  {
   "cell_type": "markdown",
   "metadata": {},
   "source": [
    "- Delete"
   ]
  },
  {
   "cell_type": "code",
   "execution_count": null,
   "metadata": {},
   "outputs": [],
   "source": [
    "from sqlalchemy import delete\n",
    "\n",
    "stmt = delete(User).where(User.nickname == 'kang')\n",
    "\n",
    "session.execute(stmt)\n",
    "session.commit()"
   ]
  },
  {
   "cell_type": "markdown",
   "metadata": {},
   "source": [
    "- Child Table Insert"
   ]
  },
  {
   "cell_type": "code",
   "execution_count": null,
   "metadata": {},
   "outputs": [],
   "source": [
    "# Insert User\n",
    "user_insert = insert(User).values(nickname='mansour', real_name='만수르')\n",
    "result = session.execute(user_insert)\n",
    "\n",
    "user_id = result.lastrowid\n",
    "\n",
    "# Insert Asset\n",
    "asset1_insert = insert(Asset).values(asset_name=\"맨체스터 시티 FC\", owner_id=user_id)\n",
    "asset2_insert = insert(Asset).values(asset_name=\"돈\", owner_id=user_id)\n",
    "\n",
    "asset1_id = session.execute(asset1_insert).lastrowid\n",
    "asset2_id = session.execute(asset2_insert).lastrowid\n",
    "\n",
    "session.commit()"
   ]
  },
  {
   "cell_type": "code",
   "execution_count": null,
   "metadata": {},
   "outputs": [],
   "source": [
    "stmt = select(Asset).where(Asset.owner_id == user_id)\n",
    "\n",
    "rows = session.execute(stmt)\n",
    "\n",
    "# 결과 출력\n",
    "for row in rows:\n",
    "    print(\"Asset ID:\", row[0].id, \"Asset Name:\", row[0].asset_name)"
   ]
  },
  {
   "cell_type": "markdown",
   "metadata": {},
   "source": [
    "- Select join tables"
   ]
  },
  {
   "cell_type": "code",
   "execution_count": null,
   "metadata": {},
   "outputs": [],
   "source": [
    "stmt = select(User, Asset).where(User.id == user_id, User.id == Asset.owner_id)\n",
    "\n",
    "rows = session.execute(stmt)\n",
    "\n",
    "# 결과 출력\n",
    "for row in rows:\n",
    "    print(\"User ID:\", row[0].id, \"Nickname:\", row[0].nickname, \"Asset ID:\", row[1].id, \"Asset Name:\", row[1].asset_name)"
   ]
  }
 ],
 "metadata": {
  "kernelspec": {
   "display_name": "Python 3",
   "language": "python",
   "name": "python3"
  },
  "language_info": {
   "codemirror_mode": {
    "name": "ipython",
    "version": 3
   },
   "file_extension": ".py",
   "mimetype": "text/x-python",
   "name": "python",
   "nbconvert_exporter": "python",
   "pygments_lexer": "ipython3",
   "version": "3.10.12"
  }
 },
 "nbformat": 4,
 "nbformat_minor": 2
}
