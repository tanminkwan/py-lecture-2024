{
 "cells": [
  {
   "cell_type": "markdown",
   "metadata": {},
   "source": [
    "### 사전준비\n",
    "- sqlalchemy 설치"
   ]
  },
  {
   "cell_type": "code",
   "execution_count": null,
   "metadata": {},
   "outputs": [],
   "source": [
    "%pip install SQLAlchemy"
   ]
  },
  {
   "cell_type": "markdown",
   "metadata": {},
   "source": [
    "### sqlalchemy \n",
    "\n",
    "- SQLAlchemy is an open-source SQL toolkit and object-relational mapper (ORM) for the Python programming language released under the MIT License."
   ]
  },
  {
   "cell_type": "markdown",
   "metadata": {},
   "source": [
    "- sqlalchemy 구성"
   ]
  },
  {
   "cell_type": "markdown",
   "metadata": {},
   "source": [
    "![Alt text for broken image link](../resources/sqlalchemy.jpg)"
   ]
  },
  {
   "cell_type": "code",
   "execution_count": null,
   "metadata": {},
   "outputs": [],
   "source": [
    "from sqlalchemy import create_engine\n",
    "\n",
    "engine = create_engine('sqlite:///mydb.db')"
   ]
  },
  {
   "cell_type": "code",
   "execution_count": null,
   "metadata": {},
   "outputs": [],
   "source": [
    "conn = engine.connect()\n",
    "\n",
    "# db file 생성 확인 "
   ]
  },
  {
   "cell_type": "markdown",
   "metadata": {},
   "source": [
    "### SQL\n",
    "-  sql 문장 실행하기"
   ]
  },
  {
   "cell_type": "code",
   "execution_count": null,
   "metadata": {},
   "outputs": [],
   "source": [
    "from sqlalchemy import text\n",
    "conn.execute(text(\"CREATE TABLE TEST (X int, Y int)\")) "
   ]
  },
  {
   "cell_type": "code",
   "execution_count": null,
   "metadata": {},
   "outputs": [],
   "source": [
    "insert_statement = \"INSERT INTO TEST (x, y) VALUES (:x, :y)\"\n",
    "test_data = [{\"x\": 1, \"y\": 1}, {\"x\": 2, \"y\": 4}]\n",
    "\n",
    "conn.execute(text(insert_statement), test_data)\n",
    "conn.commit()"
   ]
  },
  {
   "cell_type": "code",
   "execution_count": null,
   "metadata": {},
   "outputs": [],
   "source": [
    "select_statement = \"SELECT x, y FROM TEST\"\n",
    "result = conn.execute(text(select_statement))\n",
    "for row in result:\n",
    "    print(row)"
   ]
  },
  {
   "cell_type": "code",
   "execution_count": null,
   "metadata": {},
   "outputs": [],
   "source": [
    "conn.execute(text(\"DROP TABLE TEST\")) "
   ]
  },
  {
   "cell_type": "markdown",
   "metadata": {},
   "source": [
    "### ORM"
   ]
  },
  {
   "cell_type": "code",
   "execution_count": null,
   "metadata": {},
   "outputs": [],
   "source": [
    "from sqlalchemy.orm import declarative_base\n",
    "Base = declarative_base()"
   ]
  },
  {
   "cell_type": "markdown",
   "metadata": {},
   "source": [
    "- Model(DB Table) 정의"
   ]
  },
  {
   "cell_type": "code",
   "execution_count": null,
   "metadata": {},
   "outputs": [],
   "source": [
    "\"\"\"\n",
    "prompt :\n",
    "\n",
    "sqlalchemy.orm.declarative_base 의 결과를 상속 받은 data model 두개를 아래 조건에 맞게 선언하는 code를 작성하라\n",
    "---\n",
    "1. \n",
    "class 이름 : User\n",
    "table 이름 : user_account\n",
    "칼럼들 :\n",
    "    name (type:string)\n",
    "    fullname  (type:string)\n",
    "2. \n",
    "class 이름 : Asset\n",
    "table 이름 : user_asset\n",
    "칼럼들 :\n",
    "    asset_name (type:string)\n",
    "    owner_id  (type:integer, user_account.id를 참조하는 foreign key)\n",
    "\n",
    "기타조건 : \n",
    "- user_account table 한 row 가 삭제되면 user_asset.owner_id로 연결된 row들도 삭제\n",
    "- table 객체를 print하면 table의 column과 값을 출력한다.\n",
    "===\n",
    "results from ChatGPT-3.5\n",
    "\"\"\"\n",
    "sqlalchemy.orm.declarative_base \n",
    "\n",
    "from sqlalchemy import Column, Integer, String, ForeignKey\n",
    "from sqlalchemy.orm import relationship\n",
    "\n",
    "class User(Base):\n",
    "    __tablename__ = 'user_account'  # 데이터베이스에서 사용할 테이블 이름입니다.\n",
    "\n",
    "    id = Column(Integer, primary_key=True)\n",
    "    name = Column(String(30))\n",
    "    fullname = Column(String)\n",
    "\n",
    "    # User와 Asset의 관계를 설정합니다.\n",
    "    assets = relationship(\"Asset\", cascade=\"all, delete-orphan\")\n",
    "\n",
    "    # 객체를 print 하면 호출됨\n",
    "    def __repr__(self):\n",
    "        return f\"User(id={self.id}, name={self.name}, fullname={self.fullname})\"\n",
    "    \n",
    "class Asset(Base):\n",
    "    __tablename__ = 'user_asset'\n",
    "    id = Column(Integer, primary_key=True)\n",
    "    asset_name = Column(String(30))\n",
    "    \n",
    "    # User 테이블의 id를 외래키로 설정하여 User와의 관계를 맺습니다.\n",
    "    owner_id = Column(Integer, ForeignKey('user_account.id'))\n",
    "\n",
    "    # 객체를 print 하면 호출됨\n",
    "    def __repr__(self):\n",
    "        return f\"Asset(id={self.id}, asset_name={self.asset_name}, owner_id={self.owner_id})\"\n"
   ]
  },
  {
   "cell_type": "code",
   "execution_count": null,
   "metadata": {},
   "outputs": [],
   "source": [
    "print('tables : ', Base.metadata.tables)"
   ]
  },
  {
   "cell_type": "markdown",
   "metadata": {},
   "source": [
    "- Database에 Table 일괄 생성"
   ]
  },
  {
   "cell_type": "code",
   "execution_count": null,
   "metadata": {},
   "outputs": [],
   "source": [
    "Base.metadata.create_all(engine)"
   ]
  },
  {
   "cell_type": "code",
   "execution_count": null,
   "metadata": {},
   "outputs": [],
   "source": [
    "#Base.metadata.drop_all(engine)"
   ]
  },
  {
   "cell_type": "markdown",
   "metadata": {},
   "source": [
    "- sqlalchemy로부터 db session을 하나 얻음"
   ]
  },
  {
   "cell_type": "code",
   "execution_count": null,
   "metadata": {},
   "outputs": [],
   "source": [
    "from sqlalchemy.orm import Session\n",
    "\n",
    "session = Session(engine)"
   ]
  },
  {
   "cell_type": "markdown",
   "metadata": {},
   "source": [
    "- Insert"
   ]
  },
  {
   "cell_type": "code",
   "execution_count": null,
   "metadata": {},
   "outputs": [],
   "source": [
    "me = User(name='Kim', fullname='Hennry Kim')\n",
    "\n",
    "session.add(me)"
   ]
  },
  {
   "cell_type": "code",
   "execution_count": null,
   "metadata": {},
   "outputs": [],
   "source": [
    "session.commit()"
   ]
  },
  {
   "cell_type": "code",
   "execution_count": null,
   "metadata": {},
   "outputs": [],
   "source": [
    "my_son = User(name='Kim', fullname='Sun Kim')\n",
    "\n",
    "session.add(my_son)\n",
    "\n",
    "session.rollback()"
   ]
  },
  {
   "cell_type": "markdown",
   "metadata": {},
   "source": [
    "- Select"
   ]
  },
  {
   "cell_type": "code",
   "execution_count": null,
   "metadata": {},
   "outputs": [],
   "source": [
    "users = session.query(User).all()\n",
    "\n",
    "for user in users:\n",
    "    print(user)"
   ]
  },
  {
   "cell_type": "code",
   "execution_count": null,
   "metadata": {},
   "outputs": [],
   "source": [
    "user = session.query(User).first()\n",
    "\n",
    "print(user)"
   ]
  },
  {
   "cell_type": "code",
   "execution_count": null,
   "metadata": {},
   "outputs": [],
   "source": [
    "user = session.query(User).filter(User.name=='Kim')\n",
    "\n",
    "for user in users:\n",
    "    print(user)"
   ]
  },
  {
   "cell_type": "markdown",
   "metadata": {},
   "source": [
    "- Update"
   ]
  },
  {
   "cell_type": "code",
   "execution_count": null,
   "metadata": {},
   "outputs": [],
   "source": [
    "user.fullname = '김형기'\n",
    "print('Before commit : Is the session dirty?',user in session.dirty)\n",
    "session.commit()\n",
    "print('After commit : Is the session dirty?',user in session.dirty)"
   ]
  },
  {
   "cell_type": "markdown",
   "metadata": {},
   "source": [
    "- Delete"
   ]
  },
  {
   "cell_type": "code",
   "execution_count": null,
   "metadata": {},
   "outputs": [],
   "source": [
    "session.delete(user)\n",
    "session.commit()"
   ]
  },
  {
   "cell_type": "markdown",
   "metadata": {},
   "source": [
    "- Child Table Insert"
   ]
  },
  {
   "cell_type": "code",
   "execution_count": null,
   "metadata": {},
   "outputs": [],
   "source": [
    "me = User(name='Kim', fullname='Hennry Kim')\n",
    "me.assets.append(Asset(asset_name=\"Car\"))\n",
    "me.assets.append(Asset(asset_name=\"House\"))\n",
    "session.add(me)\n",
    "session.commit()"
   ]
  },
  {
   "cell_type": "code",
   "execution_count": null,
   "metadata": {},
   "outputs": [],
   "source": [
    "me.assets.append(Asset(asset_name=\"Wife\"))\n",
    "me.assets.append(Asset(asset_name=\"Son1\"))\n",
    "me.assets.append(Asset(asset_name=\"Son2\"))\n",
    "session.commit()"
   ]
  },
  {
   "cell_type": "code",
   "execution_count": null,
   "metadata": {},
   "outputs": [],
   "source": [
    "for asset in me.assets:\n",
    "    print(asset)"
   ]
  },
  {
   "cell_type": "markdown",
   "metadata": {},
   "source": [
    "- Child Table로부터 Select"
   ]
  },
  {
   "cell_type": "markdown",
   "metadata": {},
   "source": [
    "-\n",
    "    - Asset Table을 직접 Select"
   ]
  },
  {
   "cell_type": "code",
   "execution_count": null,
   "metadata": {},
   "outputs": [],
   "source": [
    "assets = session.query(Asset).filter(Asset.owner_id==me.id, Asset.asset_name=='Car')\n",
    "\n",
    "for asset in assets:\n",
    "    print(asset)"
   ]
  },
  {
   "cell_type": "code",
   "execution_count": 154,
   "metadata": {},
   "outputs": [
    {
     "name": "stdout",
     "output_type": "stream",
     "text": [
      "User(id=2, name=nobody, fullname=nobody) Asset(id=1, asset_name=no pain)\n",
      "User(id=2, name=nobody, fullname=nobody) Asset(id=2, asset_name=no gain)\n"
     ]
    }
   ],
   "source": [
    "rows = session.query(User, Asset).join(Asset, Asset.owner_id==User.id).filter(User.id==me.id)\n",
    "\n",
    "for row in rows:\n",
    "    print(row[0], row[1])"
   ]
  },
  {
   "cell_type": "markdown",
   "metadata": {},
   "source": [
    "-\n",
    "    - Comprehention을 사용해 me 객체에서 Select"
   ]
  },
  {
   "cell_type": "code",
   "execution_count": null,
   "metadata": {},
   "outputs": [],
   "source": [
    "# asset_name으로 검색이 가능하도록 key=asset_name, value=Asset instance인 dictionary 생성\n",
    "assets_in_me = { asset.asset_name:asset for asset in me.assets }\n",
    "\n",
    "print('Assets : ', assets_in_me)\n",
    "print('asset_name이 Car인 Asset  : ', assets_in_me['Car'])\n",
    "print('asset_name이 Car인 Asset의 id  : ', assets_in_me['Car'].id)"
   ]
  },
  {
   "cell_type": "code",
   "execution_count": null,
   "metadata": {},
   "outputs": [],
   "source": [
    "asset = next( a for a in me.assets if a.asset_name==\"Car\")\n",
    "\n",
    "print('asset_name이 Car인 Asset  : ', asset)\n",
    "print('asset_name이 Car인 Asset의 id  : ', asset.id)"
   ]
  },
  {
   "cell_type": "markdown",
   "metadata": {},
   "source": [
    "- Child Table Update"
   ]
  },
  {
   "cell_type": "code",
   "execution_count": null,
   "metadata": {},
   "outputs": [],
   "source": [
    "asset.asset_name = \"비싼 Car\""
   ]
  },
  {
   "cell_type": "markdown",
   "metadata": {},
   "source": [
    "- Child Table Delete"
   ]
  },
  {
   "cell_type": "code",
   "execution_count": null,
   "metadata": {},
   "outputs": [],
   "source": [
    "user.assets.remove(asset)"
   ]
  },
  {
   "cell_type": "code",
   "execution_count": null,
   "metadata": {},
   "outputs": [],
   "source": [
    "session.rollback()"
   ]
  },
  {
   "cell_type": "code",
   "execution_count": null,
   "metadata": {},
   "outputs": [],
   "source": [
    "me = User(name='Kim', fullname='Hennry Kim')\n",
    "\n",
    "session.add(me)"
   ]
  },
  {
   "cell_type": "markdown",
   "metadata": {},
   "source": [
    "### Core"
   ]
  },
  {
   "cell_type": "markdown",
   "metadata": {},
   "source": [
    "- Insert"
   ]
  },
  {
   "cell_type": "code",
   "execution_count": null,
   "metadata": {},
   "outputs": [],
   "source": [
    "from sqlalchemy import insert\n",
    "\n",
    "stmt = insert(User).values(name='JK', fullname=\"JK Choi\")\n",
    "\n",
    "session.execute(stmt)\n",
    "session.commit()"
   ]
  },
  {
   "cell_type": "code",
   "execution_count": null,
   "metadata": {},
   "outputs": [],
   "source": [
    "print(stmt)"
   ]
  },
  {
   "cell_type": "markdown",
   "metadata": {},
   "source": [
    "- Select"
   ]
  },
  {
   "cell_type": "code",
   "execution_count": null,
   "metadata": {},
   "outputs": [],
   "source": [
    "from sqlalchemy import select\n",
    "\n",
    "stmt = select(User).where(User.name == 'JK')\n",
    "\n",
    "cursor = session.execute(stmt)\n",
    "\n",
    "for row in cursor:\n",
    "    print(row)\n"
   ]
  },
  {
   "cell_type": "code",
   "execution_count": null,
   "metadata": {},
   "outputs": [],
   "source": [
    "print(stmt)"
   ]
  },
  {
   "cell_type": "markdown",
   "metadata": {},
   "source": [
    "- Update"
   ]
  },
  {
   "cell_type": "code",
   "execution_count": null,
   "metadata": {},
   "outputs": [],
   "source": [
    "from sqlalchemy import update\n",
    "\n",
    "stmt = update(User).where(User.name == 'JK').\\\n",
    "    values(fullname='진국')\n",
    "\n",
    "session.execute(stmt)\n",
    "session.commit()"
   ]
  },
  {
   "cell_type": "code",
   "execution_count": null,
   "metadata": {},
   "outputs": [],
   "source": [
    "print(stmt)"
   ]
  },
  {
   "cell_type": "markdown",
   "metadata": {},
   "source": [
    "- Delete"
   ]
  },
  {
   "cell_type": "code",
   "execution_count": null,
   "metadata": {},
   "outputs": [],
   "source": [
    "from sqlalchemy import delete\n",
    "\n",
    "stmt = delete(User).where(User.name == 'JK')\n",
    "\n",
    "session.execute(stmt)\n",
    "session.commit()"
   ]
  },
  {
   "cell_type": "code",
   "execution_count": null,
   "metadata": {},
   "outputs": [],
   "source": [
    "print(stmt)"
   ]
  },
  {
   "cell_type": "markdown",
   "metadata": {},
   "source": [
    "- Child Table Insert"
   ]
  },
  {
   "cell_type": "code",
   "execution_count": 142,
   "metadata": {},
   "outputs": [
    {
     "data": {
      "text/plain": [
       "<sqlalchemy.engine.cursor.CursorResult at 0x7cd2c8dbbb80>"
      ]
     },
     "execution_count": 142,
     "metadata": {},
     "output_type": "execute_result"
    }
   ],
   "source": [
    "# Insert User\n",
    "user_insert = insert(User).values(name='nobody', fullname='nobody')\n",
    "result = session.execute(user_insert)\n",
    "\n",
    "user_id = result.lastrowid\n",
    "\n",
    "# Insert Asset\n",
    "asset1_insert = insert(Asset).values(asset_name=\"no pain\", owner_id=user_id)\n",
    "asset2_insert = insert(Asset).values(asset_name=\"no gain\", owner_id=user_id)\n",
    "\n",
    "asset1_id = session.execute(asset1_insert).lastrowid\n",
    "asset2_id = session.execute(asset2_insert).lastrowid\n",
    "\n",
    "session.commit()"
   ]
  },
  {
   "cell_type": "markdown",
   "metadata": {},
   "source": [
    "- Select join tables"
   ]
  },
  {
   "cell_type": "code",
   "execution_count": 149,
   "metadata": {},
   "outputs": [
    {
     "name": "stdout",
     "output_type": "stream",
     "text": [
      "User ID: 2 Name: nobody Asset ID: 1 Asset Name: no pain\n",
      "User ID: 2 Name: nobody Asset ID: 2 Asset Name: no gain\n"
     ]
    }
   ],
   "source": [
    "stmt = select(User, Asset).where(User.id == user_id, User.id == Asset.owner_id)\n",
    "\n",
    "rows = session.execute(stmt)\n",
    "\n",
    "# 결과 출력\n",
    "for row in rows:\n",
    "    print(\"User ID:\", row[0].id, \"Name:\", row[0].name, \"Asset ID:\", row[1].id, \"Asset Name:\", row[1].asset_name)"
   ]
  }
 ],
 "metadata": {
  "kernelspec": {
   "display_name": "Python 3",
   "language": "python",
   "name": "python3"
  },
  "language_info": {
   "codemirror_mode": {
    "name": "ipython",
    "version": 3
   },
   "file_extension": ".py",
   "mimetype": "text/x-python",
   "name": "python",
   "nbconvert_exporter": "python",
   "pygments_lexer": "ipython3",
   "version": "3.10.12"
  }
 },
 "nbformat": 4,
 "nbformat_minor": 2
}
