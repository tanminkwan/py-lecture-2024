{
 "cells": [
  {
   "cell_type": "markdown",
   "metadata": {},
   "source": [
    "### numpy "
   ]
  },
  {
   "cell_type": "code",
   "execution_count": 2,
   "metadata": {},
   "outputs": [],
   "source": [
    "import numpy as np"
   ]
  },
  {
   "cell_type": "code",
   "execution_count": 8,
   "metadata": {},
   "outputs": [
    {
     "name": "stdout",
     "output_type": "stream",
     "text": [
      "['abc' '2']\n"
     ]
    },
    {
     "ename": "ValueError",
     "evalue": "invalid literal for int() with base 10: 'abc'",
     "output_type": "error",
     "traceback": [
      "\u001b[0;31m---------------------------------------------------------------------------\u001b[0m",
      "\u001b[0;31mValueError\u001b[0m                                Traceback (most recent call last)",
      "Cell \u001b[0;32mIn[8], line 5\u001b[0m\n\u001b[1;32m      3\u001b[0m \u001b[38;5;28mprint\u001b[39m(a)\n\u001b[1;32m      4\u001b[0m a\u001b[38;5;241m.\u001b[39mdtype\n\u001b[0;32m----> 5\u001b[0m \u001b[43ma\u001b[49m\u001b[38;5;241;43m.\u001b[39;49m\u001b[43mastype\u001b[49m\u001b[43m(\u001b[49m\u001b[38;5;124;43m'\u001b[39;49m\u001b[38;5;124;43muint8\u001b[39;49m\u001b[38;5;124;43m'\u001b[39;49m\u001b[43m)\u001b[49m\n",
      "\u001b[0;31mValueError\u001b[0m: invalid literal for int() with base 10: 'abc'"
     ]
    }
   ],
   "source": [
    "#\n",
    "l = ['abc',2]\n",
    "a = np.array(l)\n",
    "print(a)\n",
    "a.dtype\n",
    "a.astype('uint8')"
   ]
  },
  {
   "cell_type": "code",
   "execution_count": 12,
   "metadata": {},
   "outputs": [
    {
     "name": "stdout",
     "output_type": "stream",
     "text": [
      "[8 2]\n",
      "int64\n"
     ]
    },
    {
     "data": {
      "text/plain": [
       "array([8, 2], dtype=uint8)"
      ]
     },
     "execution_count": 12,
     "metadata": {},
     "output_type": "execute_result"
    }
   ],
   "source": [
    "l = [8,2]\n",
    "a = np.array(l)\n",
    "print(a)\n",
    "print(a.dtype)\n",
    "a.astype('uint8')"
   ]
  },
  {
   "cell_type": "code",
   "execution_count": 14,
   "metadata": {},
   "outputs": [
    {
     "data": {
      "text/plain": [
       "array([[[0., 0., 0., 0.],\n",
       "        [0., 0., 0., 0.],\n",
       "        [0., 0., 0., 0.]],\n",
       "\n",
       "       [[0., 0., 0., 0.],\n",
       "        [0., 5., 0., 0.],\n",
       "        [0., 0., 0., 0.]]])"
      ]
     },
     "execution_count": 14,
     "metadata": {},
     "output_type": "execute_result"
    }
   ],
   "source": [
    "arr_zero = np.zeros((2,3,4))\n",
    "arr_zero[1,1,1] = 5\n",
    "arr_zero"
   ]
  },
  {
   "cell_type": "code",
   "execution_count": 9,
   "metadata": {},
   "outputs": [
    {
     "name": "stdout",
     "output_type": "stream",
     "text": [
      "[[[[115  10 248  77 197]\n",
      "   [ 37  18  43  84  23]\n",
      "   [ 69 190 116   9 211]\n",
      "   [151 140   3 207  88]]\n",
      "\n",
      "  [[179  24  91 131  97]\n",
      "   [  9 242 130 146  17]\n",
      "   [ 27 112  23 106 223]\n",
      "   [166 102 103  91  63]]\n",
      "\n",
      "  [[ 40  24 157 228  38]\n",
      "   [ 66 192 142 113 201]\n",
      "   [144 115 247 152 123]\n",
      "   [141  50 198 115 245]]]\n",
      "\n",
      "\n",
      " [[[181  72  24 243 185]\n",
      "   [ 36 233 158  47 198]\n",
      "   [253  19 219 235 248]\n",
      "   [163 119 217   0 133]]\n",
      "\n",
      "  [[233  22 223  19 117]\n",
      "   [ 86 121  66  44 196]\n",
      "   [102 115  76 169 236]\n",
      "   [162 155 231 212  21]]\n",
      "\n",
      "  [[ 74   1 191 202   1]\n",
      "   [132  47 193  51  30]\n",
      "   [164 198  47 146 249]\n",
      "   [  6  37 151 111 159]]]]\n"
     ]
    }
   ],
   "source": [
    "\n",
    "noisy_video = np.random.randint(0, 255, size=(2, 3, 4, 5), dtype=np.uint8)\n",
    "print(noisy_video)"
   ]
  },
  {
   "cell_type": "code",
   "execution_count": 10,
   "metadata": {},
   "outputs": [
    {
     "name": "stdout",
     "output_type": "stream",
     "text": [
      "[115  10 248  77 197  37  18  43  84  23  69 190 116   9 211 151 140   3\n",
      " 207  88 179  24  91 131  97   9 242 130 146  17  27 112  23 106 223 166\n",
      " 102 103  91  63  40  24 157 228  38  66 192 142 113 201 144 115 247 152\n",
      " 123 141  50 198 115 245 181  72  24 243 185  36 233 158  47 198 253  19\n",
      " 219 235 248 163 119 217   0 133 233  22 223  19 117  86 121  66  44 196\n",
      " 102 115  76 169 236 162 155 231 212  21  74   1 191 202   1 132  47 193\n",
      "  51  30 164 198  47 146 249   6  37 151 111 159]\n"
     ]
    }
   ],
   "source": [
    "# \n",
    "vectorized_video = noisy_video.reshape(-1)\n",
    "print(vectorized_video)"
   ]
  },
  {
   "cell_type": "code",
   "execution_count": 17,
   "metadata": {},
   "outputs": [
    {
     "name": "stdout",
     "output_type": "stream",
     "text": [
      "[[[115  10 248  77 197  37  18  43  84  23]\n",
      "  [ 69 190 116   9 211 151 140   3 207  88]]\n",
      "\n",
      " [[179  24  91 131  97   9 242 130 146  17]\n",
      "  [ 27 112  23 106 223 166 102 103  91  63]]\n",
      "\n",
      " [[ 40  24 157 228  38  66 192 142 113 201]\n",
      "  [144 115 247 152 123 141  50 198 115 245]]\n",
      "\n",
      " [[181  72  24 243 185  36 233 158  47 198]\n",
      "  [253  19 219 235 248 163 119 217   0 133]]\n",
      "\n",
      " [[233  22 223  19 117  86 121  66  44 196]\n",
      "  [102 115  76 169 236 162 155 231 212  21]]\n",
      "\n",
      " [[ 74   1 191 202   1 132  47 193  51  30]\n",
      "  [164 198  47 146 249   6  37 151 111 159]]]\n"
     ]
    }
   ],
   "source": [
    "reshape_video = noisy_video.reshape([-1,2,10])\n",
    "print(reshape_video)"
   ]
  },
  {
   "cell_type": "code",
   "execution_count": 18,
   "metadata": {},
   "outputs": [
    {
     "name": "stdout",
     "output_type": "stream",
     "text": [
      "[[[115  10 248  77 197  37  18  43  84  23]\n",
      "  [ 69 190 116   9 211 151 140   3 207  88]]\n",
      "\n",
      " [[179  24  91 131  97   9 242 130 146  17]\n",
      "  [ 27 112  23 106 223 166 102 103  91  63]]\n",
      "\n",
      " [[ 40  24 157 228  38  66 192 142 113 201]\n",
      "  [144 115 247 152 123 141  50 198 115 245]]\n",
      "\n",
      " [[181  72  24 243 185  36 233 158  47 198]\n",
      "  [253  19 219 235 248 163 119 217   0 133]]\n",
      "\n",
      " [[233  22 223  19 117  86 121  66  44 196]\n",
      "  [102 115  76 169 236 162 155 231 212  21]]\n",
      "\n",
      " [[ 74   1 191 202   1 132  47 193  51  30]\n",
      "  [164 198  47 146 249   6  37 151 111 159]]]\n"
     ]
    }
   ],
   "source": [
    "reshape_video = noisy_video.reshape([6,-1,10])\n",
    "print(reshape_video)"
   ]
  },
  {
   "cell_type": "code",
   "execution_count": 5,
   "metadata": {},
   "outputs": [
    {
     "name": "stdout",
     "output_type": "stream",
     "text": [
      "I am a deliver.\n",
      "I was just printed.\n"
     ]
    },
    {
     "data": {
      "text/plain": [
       "'OK'"
      ]
     },
     "execution_count": 5,
     "metadata": {},
     "output_type": "execute_result"
    }
   ],
   "source": [
    "deliver_function(print_me)()"
   ]
  },
  {
   "cell_type": "code",
   "execution_count": 8,
   "metadata": {},
   "outputs": [
    {
     "name": "stdout",
     "output_type": "stream",
     "text": [
      "I am an inner.\n",
      "I was just printed.\n"
     ]
    },
    {
     "data": {
      "text/plain": [
       "'OK'"
      ]
     },
     "execution_count": 8,
     "metadata": {},
     "output_type": "execute_result"
    }
   ],
   "source": [
    "f = inner_function()\n",
    "f(print_me)()"
   ]
  },
  {
   "cell_type": "code",
   "execution_count": 9,
   "metadata": {},
   "outputs": [
    {
     "name": "stdout",
     "output_type": "stream",
     "text": [
      "I am a closer.\n",
      "I was just printed.\n"
     ]
    }
   ],
   "source": [
    "f = closer_function(print_me)\n",
    "f()"
   ]
  },
  {
   "cell_type": "code",
   "execution_count": 10,
   "metadata": {},
   "outputs": [
    {
     "name": "stdout",
     "output_type": "stream",
     "text": [
      "Why me!!\n",
      "Why me!!\n",
      "Why me!!\n",
      "Why me!!\n",
      "Why me!!\n",
      "Why me!!\n",
      "Why me!!\n",
      "Why me!!\n",
      "Why me!!\n",
      "Why me!!\n"
     ]
    }
   ],
   "source": [
    "def recursive_function(f, i):\n",
    "\n",
    "    if i==0:\n",
    "        return\n",
    "    \n",
    "    print(\"Why me?\")\n",
    "    \n",
    "    f(f, i-1)\n",
    "\n",
    "recursive_function(recursive_function, 10)"
   ]
  }
 ],
 "metadata": {
  "kernelspec": {
   "display_name": "Python 3",
   "language": "python",
   "name": "python3"
  },
  "language_info": {
   "codemirror_mode": {
    "name": "ipython",
    "version": 3
   },
   "file_extension": ".py",
   "mimetype": "text/x-python",
   "name": "python",
   "nbconvert_exporter": "python",
   "pygments_lexer": "ipython3",
   "version": "3.10.12"
  }
 },
 "nbformat": 4,
 "nbformat_minor": 2
}
