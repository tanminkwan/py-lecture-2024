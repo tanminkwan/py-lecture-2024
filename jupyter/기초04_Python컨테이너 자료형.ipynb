{
 "cells": [
  {
   "cell_type": "markdown",
   "metadata": {},
   "source": [
    "## Python 컨테이너 자료형\n",
    "- Python은 컨테이너 자료형을 이용해서 여러 개의 값을 한 변수에 저장하고 효율적으로 관리할 수 있습니다.\n",
    "- 컨테이너 자료형으로는 리스트, 튜플, 세트, 딕셔너리가 있습니다.\n",
    "\n",
    "### 1. 리스트 (List)\n",
    "\n",
    "- 여러 값을 순서대로 저장하며, 값을 추가하거나 변경할 수 있습니다.(mutable)\n",
    "- 대괄호([])로 표현하며, 각 값은 쉼표(,)로 구분합니다.\n",
    "\n",
    "#### 1-1. 리스트 생성"
   ]
  },
  {
   "cell_type": "code",
   "execution_count": null,
   "metadata": {},
   "outputs": [],
   "source": [
    "# 빈 리스트 생성\n",
    "my_list = []\n",
    "\n",
    "# 값이 있는 리스트 생성\n",
    "numbers = [1, 2, 3, 4, 5, 6, 7, 8]\n",
    "fruits = [\"apple\", \"banana\", \"cherry\"]\n",
    "mixed = [1, \"apple\", True, 3.14]"
   ]
  },
  {
   "cell_type": "markdown",
   "metadata": {},
   "source": [
    "#### 1-2. 리스트 인덱싱(Indexing)과 슬라이싱(Slicing)\n",
    "- 인덱싱(Indexing)"
   ]
  },
  {
   "cell_type": "code",
   "execution_count": null,
   "metadata": {},
   "outputs": [],
   "source": [
    "# 인덱싱(Indexing): 특정 위치의 값에 접근\n",
    "print(numbers[0])  # 출력: 1\n",
    "print(fruits[1])   # 출력: \"banana\"\n",
    "\n",
    "# 음수 인덱스: 뒤에서부터 접근\n",
    "print(numbers[-1])  # 출력: 8\n",
    "print(fruits[-2])   # 출력: \"banana\""
   ]
  },
  {
   "cell_type": "markdown",
   "metadata": {},
   "source": [
    "- 슬라이싱(Slicing)"
   ]
  },
  {
   "cell_type": "code",
   "execution_count": null,
   "metadata": {},
   "outputs": [],
   "source": [
    "# 슬라이싱(Slicing): 범위로 값들을 추출\n",
    "print(numbers[1:4])  # 출력: [2, 3, 4]\n",
    "print(fruits[:2])    # 출력: [\"apple\", \"banana\"]\n",
    "print(mixed[2:])     # 출력: [True, 3.14]\n",
    "\n",
    "# 간격을 지정한 슬라이싱(Slicing)\n",
    "print(numbers[::2])   # 출력: [1, 3, 5, 7]\n",
    "print(numbers[1:6:2]) # 출력: [2, 4, 6]\n",
    "print(numbers[::-3])  # 출력: [8, 5, 2]"
   ]
  },
  {
   "cell_type": "markdown",
   "metadata": {},
   "source": [
    "#### 1-3. 리스트 값 추가 및 변경"
   ]
  },
  {
   "cell_type": "code",
   "execution_count": null,
   "metadata": {},
   "outputs": [],
   "source": [
    "# 값 추가: append() 메서드\n",
    "fruits.append(\"orange\")\n",
    "print(fruits)  # 출력: [\"apple\", \"banana\", \"cherry\", \"orange\"]\n",
    "\n",
    "# 특정 위치에 값 추가: insert() 메서드\n",
    "fruits.insert(1, \"grape\")\n",
    "print(fruits)  # 출력: [\"apple\", \"grape\", \"banana\", \"cherry\", \"orange\"]\n",
    "\n",
    "# 값 변경\n",
    "numbers[2] = 10\n",
    "print(numbers)  # 출력: [1, 2, 10, 4, 5]"
   ]
  },
  {
   "cell_type": "markdown",
   "metadata": {},
   "source": [
    "#### 1-4. 리스트 값 제거"
   ]
  },
  {
   "cell_type": "code",
   "execution_count": null,
   "metadata": {},
   "outputs": [],
   "source": [
    "# 값 제거: remove() 메서드\n",
    "fruits.remove(\"banana\")\n",
    "print(fruits)  # 출력: [\"apple\", \"grape\", \"cherry\", \"orange\"]\n",
    "\n",
    "# 인덱스로 값 제거: del 키워드\n",
    "del numbers[1]\n",
    "print(numbers)  # 출력: [1, 10, 4, 5]"
   ]
  },
  {
   "cell_type": "markdown",
   "metadata": {},
   "source": [
    "#### 1-5. 리스트 연산"
   ]
  },
  {
   "cell_type": "code",
   "execution_count": null,
   "metadata": {},
   "outputs": [],
   "source": [
    "# 리스트 연결(Concatenation)\n",
    "new_list = numbers + fruits\n",
    "print(new_list)  \n",
    "# 출력: [1, 10, 4, 5, \"apple\", \"grape\", \"cherry\"]\n",
    "\n",
    "# 리스트 반복(Repetition)\n",
    "repeated_list = fruits * 2\n",
    "print(repeated_list)  \n",
    "# 출력: [\"apple\", \"grape\", \"cherry\", \"apple\", \"grape\", \"cherry\"]"
   ]
  },
  {
   "cell_type": "markdown",
   "metadata": {},
   "source": [
    "#### 1-6. 리스트 길이와 포함 여부 확인"
   ]
  },
  {
   "cell_type": "code",
   "execution_count": null,
   "metadata": {},
   "outputs": [],
   "source": [
    "# 리스트 길이 확인: len() 함수\n",
    "print(len(numbers))  # 출력: 4\n",
    "\n",
    "# 값의 존재 여부 확인: in 키워드\n",
    "print(\"apple\" in fruits)  # 출력: True\n",
    "print(10 not in numbers)  # 출력: False"
   ]
  },
  {
   "cell_type": "markdown",
   "metadata": {},
   "source": [
    "### 2. 딕셔너리(Dictionary)\n",
    "- 키(key)와 값(value)의 쌍을 저장하는 자료형입니다. \n",
    "- 각 항목은 중괄호({})로 감싸며, 키와 값은 콜론(:)으로 구분하여 표현합니다. \n",
    "- 키를 사용하여 해당 값을 검색할 수 있는 매우 유용한 자료형입니다.\n",
    "\n",
    "#### 2-1. 딕셔너리 생성"
   ]
  },
  {
   "cell_type": "code",
   "execution_count": null,
   "metadata": {},
   "outputs": [],
   "source": [
    "# 빈 딕셔너리 생성\n",
    "my_dict = {}\n",
    "\n",
    "# 값이 있는 딕셔너리 생성\n",
    "person = {\n",
    "    \"name\": \"Alice\",\n",
    "    \"age\": 25,\n",
    "    \"city\": \"New York\"\n",
    "}\n",
    "\n",
    "print(my_dict)\n",
    "print(person)\n",
    "\n",
    "# dict 내장함수를 사용한 딕셔너리 생성\n",
    "# 빈 딕셔너리 생성\n",
    "my_dict = dict()\n",
    "\n",
    "# 값이 있는 딕셔너리 생성\n",
    "person = dict(\n",
    "    name = \"Alice\",\n",
    "    age = 25,\n",
    "    city = \"New York\"\n",
    ")\n",
    "\n",
    "print(my_dict)\n",
    "print(person)"
   ]
  },
  {
   "cell_type": "markdown",
   "metadata": {},
   "source": [
    "#### 2-2. 딕셔너리 값 접근"
   ]
  },
  {
   "cell_type": "code",
   "execution_count": null,
   "metadata": {},
   "outputs": [],
   "source": [
    "# 특정 키를 사용하여 값에 접근\n",
    "print(person[\"name\"])  # 출력: \"Alice\""
   ]
  },
  {
   "cell_type": "markdown",
   "metadata": {},
   "source": [
    "#### 2-3. 딕셔너리 값 변경 및 추가"
   ]
  },
  {
   "cell_type": "code",
   "execution_count": null,
   "metadata": {},
   "outputs": [],
   "source": [
    "# 값 변경\n",
    "person[\"age\"] = 26\n",
    "print(person)  \n",
    "# 출력: {'name': 'Alice', 'age': 26, 'city': 'New York'}\n",
    "\n",
    "# 새로운 키와 값 추가\n",
    "person[\"job\"] = \"Engineer\"\n",
    "print(person)  \n",
    "# 출력: {'name': 'Alice', 'age': 26, 'city': 'New York', 'job': 'Engineer'}"
   ]
  },
  {
   "cell_type": "markdown",
   "metadata": {},
   "source": [
    "#### 2-4. 딕셔너리 메서드(method)"
   ]
  },
  {
   "cell_type": "code",
   "execution_count": null,
   "metadata": {},
   "outputs": [],
   "source": [
    "# keys(): 모든 키 반환\n",
    "print(person.keys())\n",
    "# 출력: dict_keys(['name', 'age', 'city', 'job'])\n",
    "\n",
    "# values(): 모든 값 반환\n",
    "print(person.values())\n",
    "# 출력: dict_values(['Alice', 26, 'New York', 'Engineer'])\n",
    "\n",
    "# items(): 모든 키-값 쌍 반환\n",
    "print(person.items())\n",
    "# 출력: dict_items([('name', 'Alice'), ('age', 26), ('city', 'New York'), ('job', 'Engineer')])"
   ]
  },
  {
   "cell_type": "markdown",
   "metadata": {},
   "source": [
    "#### 2-5. 딕셔너리 반복(iteration)"
   ]
  },
  {
   "cell_type": "code",
   "execution_count": null,
   "metadata": {},
   "outputs": [],
   "source": [
    "# 키를 사용한 반복\n",
    "for key in person:\n",
    "    print(key, person[key])\n",
    "\n",
    "# items() 메서드를 사용한 반복\n",
    "for key, value in person.items():\n",
    "    print(key, value)"
   ]
  },
  {
   "cell_type": "markdown",
   "metadata": {},
   "source": [
    "#### 2-6. 딕셔너리 길이 확인"
   ]
  },
  {
   "cell_type": "code",
   "execution_count": null,
   "metadata": {},
   "outputs": [],
   "source": [
    "# len() 함수로 딕셔너리의 길이 확인\n",
    "print(len(person))  # 출력: 4"
   ]
  },
  {
   "cell_type": "markdown",
   "metadata": {},
   "source": [
    "#### 2-7. 딕셔너리 값 제거"
   ]
  },
  {
   "cell_type": "code",
   "execution_count": null,
   "metadata": {},
   "outputs": [],
   "source": [
    "# 특정 키와 값을 제거\n",
    "del person[\"city\"]\n",
    "print(person)  # 출력: {'name': 'Alice', 'age': 26, 'job': 'Engineer'}"
   ]
  },
  {
   "cell_type": "markdown",
   "metadata": {},
   "source": [
    "#### 2-8. `**` 키워드 인자 언패킹(keyword argument unpacking)"
   ]
  },
  {
   "cell_type": "markdown",
   "metadata": {},
   "source": [
    "- 다양한 `**` 활용"
   ]
  },
  {
   "cell_type": "code",
   "execution_count": null,
   "metadata": {},
   "outputs": [],
   "source": [
    "# 값 추가\n",
    "person = {'name': 'Alice', 'age': 26}\n",
    "physical_description = { 'height':175, 'weight':70,**person }\n",
    "print(physical_description)\n",
    "\n",
    "#디셔너리 머지(Merge)\n",
    "height_weight = {'height':175, 'weight':70}\n",
    "physical_description1 = { **person, **height_weight }\n",
    "print(physical_description1)\n",
    "\n",
    "physical_description2 = dict( **person, **height_weight )\n",
    "print(physical_description2)"
   ]
  },
  {
   "cell_type": "markdown",
   "metadata": {},
   "source": [
    "- 함수 매개변수로 입력"
   ]
  },
  {
   "cell_type": "code",
   "execution_count": null,
   "metadata": {},
   "outputs": [],
   "source": [
    "person = {'name': 'Alice', 'age': 26}\n",
    "\n",
    "def greet_person(name, age):\n",
    "    \"\"\"이름과 나이를 출력하는 함수\"\"\"\n",
    "    print(f\"Hello, {name}! You are {age} years old.\")\n",
    "\n",
    "# 일반적인 함수 매개변수 입력\n",
    "greet_person(name=person['name'], age=person['age'])\n",
    "\n",
    "# 키워드 인자 언패킹\n",
    "greet_person(**person)"
   ]
  },
  {
   "cell_type": "code",
   "execution_count": null,
   "metadata": {},
   "outputs": [],
   "source": [
    "def print_kargs(**kargs):\n",
    "    print(kargs)\n",
    "\n",
    "# 키워드 인자 언패킹\n",
    "print_kargs(**person)"
   ]
  },
  {
   "cell_type": "markdown",
   "metadata": {},
   "source": [
    "#### 2-9. JSON으로 변환\n",
    "- 딕셔너리를 JSON으로 변환 "
   ]
  },
  {
   "cell_type": "code",
   "execution_count": null,
   "metadata": {},
   "outputs": [],
   "source": [
    "import json\n",
    "\n",
    "# 딕셔너리\n",
    "data_dict = {\n",
    "    \"name\": \"Alice\",\n",
    "    \"age\": 30,\n",
    "    \"city\": \"New York\"\n",
    "}\n",
    "\n",
    "# 딕셔너리를 JSON 문자열로 변환\n",
    "json_string = json.dumps(data_dict)\n",
    "\n",
    "# 변환된 JSON 문자열 출력\n",
    "print(type(json_string))\n",
    "print(json_string)"
   ]
  },
  {
   "cell_type": "markdown",
   "metadata": {},
   "source": [
    "- JSON을 딕셔너리로 변환"
   ]
  },
  {
   "cell_type": "code",
   "execution_count": null,
   "metadata": {},
   "outputs": [],
   "source": [
    "import json\n",
    "\n",
    "# JSON 문자열\n",
    "json_string = '{\"name\": \"Alice\", \"age\": 30, \"city\": \"New York\"}'\n",
    "\n",
    "# JSON 문자열을 딕셔너리로 변환\n",
    "data_dict = json.loads(json_string)\n",
    "\n",
    "# 변환된 딕셔너리 출력\n",
    "print(type(data_dict))\n",
    "print(data_dict)"
   ]
  },
  {
   "cell_type": "markdown",
   "metadata": {},
   "source": [
    "### 3. Python 튜플(Tuple)\n",
    "\n",
    "- Python의 튜플은 여러 값을 순서대로 저장하며, 한 번 생성되면 수정할 수 없는(immutable) 자료형입니다.\n",
    "- 튜플은 괄호(())로 값을 감싸며, 각 값은 쉼표(,)로 구분하여 표현합니다.\n",
    "\n",
    "#### 3-1. 튜플 생성"
   ]
  },
  {
   "cell_type": "code",
   "execution_count": null,
   "metadata": {},
   "outputs": [],
   "source": [
    "# 빈 튜플 생성\n",
    "empty_tuple = ()\n",
    "\n",
    "# 값이 있는 튜플 생성\n",
    "fruits_tuple = (\"apple\", \"banana\", \"cherry\", \"orange\")\n",
    "\n",
    "# 괄호를 생략하여 튜플 생성\n",
    "single_value_tuple = 1,\n",
    "\n",
    "print(empty_tuple)\n",
    "print(fruits_tuple)\n",
    "print(single_value_tuple)"
   ]
  },
  {
   "cell_type": "markdown",
   "metadata": {},
   "source": [
    "#### 3-2. 튜플 인덱싱(Indexing)과 슬라이싱(Slicing)"
   ]
  },
  {
   "cell_type": "code",
   "execution_count": null,
   "metadata": {},
   "outputs": [],
   "source": [
    "# 인덱싱(Indexing): 특정 위치의 값에 접근\n",
    "print(fruits_tuple[0])  # 출력: \"apple\"\n",
    "print(fruits_tuple[1])  # 출력: \"banana\"\n",
    "\n",
    "# 음수 인덱스: 뒤에서부터 접근\n",
    "print(fruits_tuple[-1])  # 출력: \"cherry\"\n",
    "\n",
    "# 슬라이싱(Slicing): 범위로 값들을 추출\n",
    "print(fruits_tuple[1:])  # 출력: (\"banana\", \"cherry\", \"orange\")\n",
    "\n",
    "# 슬라이싱(Slicing): 범위로 값들을 추출 index 1 ~ 2(3 이전)\n",
    "print(fruits_tuple[1:3])  # 출력: (\"banana\", \"cherry\")"
   ]
  },
  {
   "cell_type": "markdown",
   "metadata": {},
   "source": [
    "#### 3-3. 튜플 값 변경과 추가"
   ]
  },
  {
   "cell_type": "code",
   "execution_count": null,
   "metadata": {},
   "outputs": [],
   "source": [
    "fruits_tuple[0] = \"pear\"  # TypeError 발생!"
   ]
  },
  {
   "cell_type": "code",
   "execution_count": null,
   "metadata": {},
   "outputs": [],
   "source": [
    "fruits_tuple.append(\"mango\")  # AttributeError 발생!"
   ]
  },
  {
   "cell_type": "markdown",
   "metadata": {},
   "source": [
    "#### 3-4. 여러 값을 한 번에 할당하기"
   ]
  },
  {
   "cell_type": "code",
   "execution_count": null,
   "metadata": {},
   "outputs": [],
   "source": [
    "# 여러 값을 한 번에 할당\n",
    "name, age, city = (\"Alice\", 25, \"New York\")\n",
    "\n",
    "print(name)  # 출력: \"Alice\"\n",
    "print(age)   # 출력: 25\n",
    "print(city)  # 출력: \"New York\""
   ]
  },
  {
   "cell_type": "markdown",
   "metadata": {},
   "source": [
    "- 함수에서 여러 값을 리턴하기"
   ]
  },
  {
   "cell_type": "code",
   "execution_count": null,
   "metadata": {},
   "outputs": [],
   "source": [
    "def get_info():\n",
    "    name = \"Bob\"\n",
    "    age = 30\n",
    "    city = \"Los Angeles\"\n",
    "    return name, age, city\n",
    "\n",
    "# 함수 호출하여 여러 값을 받기\n",
    "person_info = get_info()\n",
    "print(person_info)  # 출력: (\"Bob\", 30, \"Los Angeles\")\n",
    "\n",
    "# 튜플 언패킹을 통해 값들 추출\n",
    "name, age, city = get_info()\n",
    "print(name)  # 출력: \"Bob\"\n",
    "print(age)   # 출력: 30\n",
    "print(city)  # 출력: \"Los Angeles\""
   ]
  },
  {
   "cell_type": "markdown",
   "metadata": {},
   "source": [
    "#### 3-5. 튜플의 길이와 포함 여부 확인"
   ]
  },
  {
   "cell_type": "code",
   "execution_count": null,
   "metadata": {},
   "outputs": [],
   "source": [
    "# 길이 확인: len() 함수\n",
    "print(len(fruits_tuple))  # 출력: 4\n",
    "\n",
    "# 값의 존재 여부 확인: in 키워드\n",
    "print(\"apple\" in fruits_tuple)  # 출력: True\n",
    "print(\"orange\" not in fruits_tuple)  # 출력: False\n"
   ]
  },
  {
   "cell_type": "markdown",
   "metadata": {},
   "source": [
    "#### 3-6. `*` 키워드 인자 언패킹(keyword argument unpacking)"
   ]
  },
  {
   "cell_type": "code",
   "execution_count": null,
   "metadata": {},
   "outputs": [],
   "source": [
    "def greet_person(name, age):\n",
    "    \"\"\"이름과 나이를 출력하는 함수\"\"\"\n",
    "    print(f\"Hello, {name}! You are {age} years old.\")\n",
    "\n",
    "# 튜플 정의\n",
    "person_info = (\"Alice\", 30)\n",
    "\n",
    "# 튜플의 요소를 키워드 인자로 언패킹하여 함수 호출\n",
    "greet_person(*person_info)"
   ]
  },
  {
   "cell_type": "code",
   "execution_count": null,
   "metadata": {},
   "outputs": [],
   "source": [
    "def print_args(*args):\n",
    "    print(args)\n",
    "\n",
    "# 튜플 정의\n",
    "person_info = (\"Alice\", 30)\n",
    "\n",
    "# 튜플의 요소를 키워드 인자로 언패킹하여 함수 호출\n",
    "print_args(*person_info)"
   ]
  },
  {
   "cell_type": "markdown",
   "metadata": {},
   "source": [
    "### 4. Python 집합(Set)\n",
    "\n",
    "- 집합은 중복을 허용하지 않고 순서가 없는 항목들의 모음입니다. \n",
    "- 집합은 중괄호({})를 사용하여 정의되며, 각 항목은 쉼표로 구분됩니다.\n",
    "- 집합은 순서가 없으므로 인덱싱으로 항목에 접근할 수 없습니다.\n",
    "\n",
    "#### 4-1. 집합 생성"
   ]
  },
  {
   "cell_type": "code",
   "execution_count": null,
   "metadata": {},
   "outputs": [],
   "source": [
    "# 빈 집합 생성\n",
    "empty_set = set()\n",
    "\n",
    "# 값이 있는 집합 생성\n",
    "fruits_set = {\"apple\", \"banana\", \"cherry\"}\n",
    "\n",
    "# 리스트나 튜플로부터 집합 생성\n",
    "numbers_set = set([1, 2, 3, 4, 5])"
   ]
  },
  {
   "cell_type": "markdown",
   "metadata": {},
   "source": [
    "#### 4-2. 집합 연산\n",
    "- 합집합(Union)"
   ]
  },
  {
   "cell_type": "code",
   "execution_count": null,
   "metadata": {},
   "outputs": [],
   "source": [
    "set1 = {1, 2, 3}\n",
    "set2 = {3, 4, 5}\n",
    "\n",
    "union_set = set1 | set2\n",
    "print(union_set)  # 출력: {1, 2, 3, 4, 5}"
   ]
  },
  {
   "cell_type": "markdown",
   "metadata": {},
   "source": [
    "- 교집합(Intersection)"
   ]
  },
  {
   "cell_type": "code",
   "execution_count": null,
   "metadata": {},
   "outputs": [],
   "source": [
    "intersection_set = set1 & set2\n",
    "print(intersection_set)  # 출력: {3}"
   ]
  },
  {
   "cell_type": "markdown",
   "metadata": {},
   "source": [
    "- 차집합(Difference)"
   ]
  },
  {
   "cell_type": "code",
   "execution_count": null,
   "metadata": {},
   "outputs": [],
   "source": [
    "difference_set = set1 - set2\n",
    "print(difference_set)  # 출력: {1, 2}"
   ]
  },
  {
   "cell_type": "markdown",
   "metadata": {},
   "source": [
    "- 대칭 차집합(Symmetric Difference)"
   ]
  },
  {
   "cell_type": "code",
   "execution_count": null,
   "metadata": {},
   "outputs": [],
   "source": [
    "symmetric_difference_set = set1 ^ set2\n",
    "print(symmetric_difference_set)  # 출력: {1, 2, 4, 5}"
   ]
  },
  {
   "cell_type": "markdown",
   "metadata": {},
   "source": [
    "#### 4-3. 집합 연산 메서드\n",
    "- `add()`"
   ]
  },
  {
   "cell_type": "code",
   "execution_count": null,
   "metadata": {},
   "outputs": [],
   "source": [
    "fruits_set.add(\"orange\")\n",
    "print(fruits_set)  # 출력: {'apple', 'banana', 'cherry', 'orange'}"
   ]
  },
  {
   "cell_type": "markdown",
   "metadata": {},
   "source": [
    "- `remove()`"
   ]
  },
  {
   "cell_type": "code",
   "execution_count": null,
   "metadata": {},
   "outputs": [],
   "source": [
    "fruits_set.remove(\"banana\")\n",
    "print(fruits_set)  # 출력: {'apple', 'cherry', 'orange'}"
   ]
  },
  {
   "cell_type": "markdown",
   "metadata": {},
   "source": [
    "- `clear()`"
   ]
  },
  {
   "cell_type": "code",
   "execution_count": null,
   "metadata": {},
   "outputs": [],
   "source": [
    "fruits_set.clear()\n",
    "print(fruits_set)  # 출력: set()"
   ]
  },
  {
   "cell_type": "markdown",
   "metadata": {},
   "source": [
    "#### 4-4. 집합 반복"
   ]
  },
  {
   "cell_type": "code",
   "execution_count": null,
   "metadata": {},
   "outputs": [],
   "source": [
    "for fruit in fruits_set:\n",
    "    print(fruit)"
   ]
  },
  {
   "cell_type": "markdown",
   "metadata": {},
   "source": [
    "#### 4-5. 집합의 길이 확인"
   ]
  },
  {
   "cell_type": "code",
   "execution_count": null,
   "metadata": {},
   "outputs": [],
   "source": [
    "print(len(fruits_set))  # 출력: 3"
   ]
  },
  {
   "cell_type": "markdown",
   "metadata": {},
   "source": [
    "### 5. 컨테이너 자료형 `copy()` 함수\n",
    "- 컨테이너 자료형 변수를 다른 변수에 할당할 경우 한 변수에 변경을 가할 경우 나머지 변수도 같이 변합니다.\n",
    "- 튜플(tuple)은 immutable 객체이므로 대상에서 제외됩니다."
   ]
  },
  {
   "cell_type": "code",
   "execution_count": null,
   "metadata": {},
   "outputs": [],
   "source": [
    "# list\n",
    "l_orig = [1,2,3]\n",
    "l_replica = l_orig\n",
    "l_orig.append(4)\n",
    "print(l_replica)\n",
    "\n",
    "# set\n",
    "s_orig = {1,2,3}\n",
    "s_replica = s_orig\n",
    "s_orig.add(4)\n",
    "print(s_replica)\n",
    "\n",
    "# dictionary\n",
    "d_orig = {'a':1,'b':2,'c':3}\n",
    "d_replica = d_orig\n",
    "d_orig['d'] = 4\n",
    "print(d_replica)"
   ]
  },
  {
   "cell_type": "markdown",
   "metadata": {},
   "source": [
    "- 원본 변수의 값만 복제하여 새로운 변수에 할당할 때 `copy()` 메소드(method)를 사용합니다."
   ]
  },
  {
   "cell_type": "code",
   "execution_count": null,
   "metadata": {},
   "outputs": [],
   "source": [
    "# list\n",
    "l_orig = [1,2,3]\n",
    "l_replica = l_orig.copy()\n",
    "l_orig.append(4)\n",
    "print(l_replica)\n",
    "\n",
    "# set\n",
    "s_orig = {1,2,3}\n",
    "s_replica = s_orig.copy()\n",
    "s_orig.add(4)\n",
    "print(s_replica)\n",
    "\n",
    "# dictionary\n",
    "d_orig = {'a':1,'b':2,'c':3}\n",
    "d_replica = d_orig.copy()\n",
    "d_orig['d'] = 4\n",
    "print(d_replica)"
   ]
  },
  {
   "cell_type": "markdown",
   "metadata": {},
   "source": [
    "### 문제 #1\n",
    "- 당신은 웹 서비스의 백엔드 개발자이며, 사용자의 로그 데이터를 분석하여 각 페이지별 몇명의 사용자가 방문했는지를 리포트 합니다. 단, 동일인이 여러 회 방문한 경우 하나로 카운트합나다.\n",
    "- to-do를 채워 리포트 기능을 완성하세요."
   ]
  },
  {
   "cell_type": "code",
   "execution_count": null,
   "metadata": {},
   "outputs": [],
   "source": [
    "logs = [\n",
    "    {\"user_id\": 1, \"page\": \"Home\"},\n",
    "    {\"user_id\": 2, \"page\": \"About\"},\n",
    "    {\"user_id\": 1, \"page\": \"Product\"},\n",
    "    {\"user_id\": 1, \"page\": \"Home\"},\n",
    "    {\"user_id\": 2, \"page\": \"Contact\"},\n",
    "    {\"user_id\": 3, \"page\": \"Home\"},\n",
    "    {\"user_id\": 2, \"page\": \"Home\"},\n",
    "    {\"user_id\": 1, \"page\": \"About\"},\n",
    "    {\"user_id\": 2, \"page\": \"Product\"},\n",
    "    {\"user_id\": 2, \"page\": \"Contact\"},\n",
    "]\n",
    "\n",
    "# 페이지별 방문한 유니크 사용자 수를 계산\n",
    "page_visits = {\n",
    "    \"Home\":0,\n",
    "    \"About\":0,\n",
    "    \"Contact\":0,\n",
    "    \"Product\":0\n",
    "}\n",
    "\n",
    "#to-do\n",
    "\n",
    "print(page_visits)\n",
    "\n",
    "# 예상결과 : \n",
    "# ---\n",
    "# {\n",
    "#    \"Home\":3,\n",
    "#    \"About\":2,\n",
    "#    \"Contact\":1,\n",
    "#    \"Product\":2\n",
    "# }"
   ]
  },
  {
   "cell_type": "markdown",
   "metadata": {},
   "source": [
    "### 문제 #2\n",
    "- 주어진 products_dict 딕셔너리에는 여러 상품 이름과 그 상품의 카테고리(예: 과일, 장난감, 음식)가 키-값 쌍으로 저장되어 있습니다. products_by_category_list는 각 카테고리별로 상품을 분류하기 위한 빈 리스트를 포함하는 딕셔너리들의 리스트입니다. \n",
    "- products_dict의 모든 상품이 적절한 카테고리에 분류되고 products_by_category_list에 추가되도록 to-do를 완성하세요."
   ]
  },
  {
   "cell_type": "code",
   "execution_count": null,
   "metadata": {},
   "outputs": [],
   "source": [
    "products_dict = {\n",
    "    \"apple\":\"fruit\",\n",
    "    \"banana\":\"fruit\",\n",
    "    \"blueberry\":\"fruit\",\n",
    "    \"lego\":\"toy\",\n",
    "    \"pororo\":\"toy\",\n",
    "    \"kimchi\":\"food\"\n",
    "}\n",
    "\n",
    "products_by_category_list = [\n",
    "    {\"type\":\"fruit\",\"products\":[]},\n",
    "    {\"type\":\"toy\",\"products\":[]},\n",
    "    {\"type\":\"food\",\"products\":[]}\n",
    "]\n",
    "\n",
    "# to-do\n",
    "\n",
    "print(products_by_category_list)\n",
    "\n",
    "# 예상결과 : \n",
    "# ---\n",
    "# [\n",
    "#    {\"type\":\"fruit\",\"products\":[\"apple\", \"banana\", \"blueberry\"]},\n",
    "#    {\"type\":\"toy\",\"products\":[\"lego\", \"pororo\"]},\n",
    "#    {\"type\":\"food\",\"products\":[\"kimchi\"]}\n",
    "# ]"
   ]
  },
  {
   "cell_type": "markdown",
   "metadata": {},
   "source": [
    "### Wrap up\n",
    "1. **컨테이너 자료형의 이해와 사용**:\n",
    "\n",
    "\t리스트, 딕셔너리, 튜플, 집합은 서로 다른 타입의 데이터를 그룹으로 관리할 수 있게 해주는 중요한 자료형입니다. 각각의 특징(예: mutable vs immutable, 순서 유무, 중복 허용 여부)을 이해하고 상황에 맞게 사용할 수 있어야 합니다.\n",
    "2. **데이터 조작 기법**:\n",
    "\n",
    "\t컨테이너 자료형의 데이터를 추가, 삭제, 변경하는 방법과 이들 간의 연산(예: 리스트 연결, 집합의 합집합과 교집합 등)을 할 수 있어야 합니다.\n",
    "3. **반복, 조건 검사, 데이터 접근 방법**:\n",
    "\n",
    "\t반복문(for, while), 조건문(if-else)을 사용하여 컨테이너 자료형을 순회하고, 인덱싱, 슬라이싱, 키를 통한 접근 등 데이터를 효율적으로 다룰 수 있어야 합니다.\n",
    "    "
   ]
  }
 ],
 "metadata": {
  "kernelspec": {
   "display_name": "Python 3",
   "language": "python",
   "name": "python3"
  },
  "language_info": {
   "codemirror_mode": {
    "name": "ipython",
    "version": 3
   },
   "file_extension": ".py",
   "mimetype": "text/x-python",
   "name": "python",
   "nbconvert_exporter": "python",
   "pygments_lexer": "ipython3",
   "version": "3.10.12"
  }
 },
 "nbformat": 4,
 "nbformat_minor": 2
}
