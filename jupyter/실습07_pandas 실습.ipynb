{
 "cells": [
  {
   "cell_type": "markdown",
   "metadata": {},
   "source": [
    "### 사전준비"
   ]
  },
  {
   "cell_type": "markdown",
   "metadata": {},
   "source": [
    "- parent directory 를 python library path에 추가하기"
   ]
  },
  {
   "cell_type": "code",
   "execution_count": null,
   "metadata": {},
   "outputs": [],
   "source": [
    "# Parent directory의 .py 파일에 정의된 함수들를 import 하여 사용하기 위해 parent directory 를 python library path에 추가합니다.\n",
    "\n",
    "import sys\n",
    "import os\n",
    "\n",
    "current_dir = os.getcwd()\n",
    "print(\"Current Directory:\", current_dir)\n",
    "\n",
    "parent_dir = os.path.abspath(os.path.join(current_dir, '..'))\n",
    "print(\"Parent Directory:\", parent_dir)\n",
    "\n",
    "sys.path.append(parent_dir)\n",
    "\n",
    "# System Path 와는 다름\n",
    "print(\"System PATH :\", os.environ['PATH'])\n",
    "print(\"Python Library PATH :\", sys.path)"
   ]
  },
  {
   "cell_type": "markdown",
   "metadata": {},
   "source": [
    "- mp4 file로부터 video array, 재생시간, frame개수 정보를 추출하기"
   ]
  },
  {
   "cell_type": "code",
   "execution_count": null,
   "metadata": {},
   "outputs": [],
   "source": [
    "# ../functions.py 에 미리 정의된 함수들을 import 한다\n",
    "from functions import video_2_ndarray\n",
    "\n",
    "# 함수 video_2_ndarray 를 사용하여 ../media/SampleVideo_640x360_5mb.mp4 의 video data를 ndarray 에 저장한다.\n",
    "# video array, 재생시간, frame 개수를 저장\n",
    "video_array, tot_duration, tot_frames = video_2_ndarray('../media/SampleVideo_640x360_5mb.mp4')"
   ]
  },
  {
   "cell_type": "markdown",
   "metadata": {},
   "source": [
    "- 연속되는 두 frame들간의 유사도를 구해서 차례로 list에 저장"
   ]
  },
  {
   "cell_type": "code",
   "execution_count": null,
   "metadata": {},
   "outputs": [],
   "source": [
    "# numpy를 import 한다\n",
    "import numpy as np"
   ]
  },
  {
   "cell_type": "code",
   "execution_count": null,
   "metadata": {},
   "outputs": [],
   "source": [
    "from numpy import dot\n",
    "from numpy.linalg import norm\n",
    "\n",
    "# cosine similatiry 함수\n",
    "def cos_sim(A, B):\n",
    "    return dot(A, B) / (norm(A) * norm(B))"
   ]
  },
  {
   "cell_type": "code",
   "execution_count": null,
   "metadata": {},
   "outputs": [],
   "source": [
    "prev_frame = None\n",
    "\n",
    "similarity_list = []\n",
    "\n",
    "for frame in video_array:\n",
    "\n",
    "    # 1차원으로 reshape\n",
    "    # 255로 나눔\n",
    "    # 50간격으로 sampling\n",
    "    current_vector = (frame.reshape(-1) / 255)[::50]\n",
    "    \n",
    "    if prev_frame is not None:\n",
    "        similarity = cos_sim(prev_vector, current_vector)\n",
    "        similarity_list.append(similarity)\n",
    "            \n",
    "    prev_frame = frame.copy()\n",
    "    prev_vector = current_vector.copy()\n",
    "\n",
    "print('vector size : ',current_vector.shape)\n",
    "print('similarity_list : ',similarity_list)"
   ]
  },
  {
   "cell_type": "markdown",
   "metadata": {},
   "source": [
    "### 따라 해보기 #1. pandas를 사용하여 ndarray 정보를 csv파일에 저장하기"
   ]
  },
  {
   "cell_type": "markdown",
   "metadata": {},
   "source": [
    "- 2차원 이하의 array만 pandas DataFrame으로 변환될 수 있다. video array는 4차원이므로 불가"
   ]
  },
  {
   "cell_type": "code",
   "execution_count": 47,
   "metadata": {},
   "outputs": [
    {
     "ename": "ValueError",
     "evalue": "Must pass 2-d input. shape=(489, 368, 640, 3)",
     "output_type": "error",
     "traceback": [
      "\u001b[0;31m---------------------------------------------------------------------------\u001b[0m",
      "\u001b[0;31mValueError\u001b[0m                                Traceback (most recent call last)",
      "Cell \u001b[0;32mIn[47], line 4\u001b[0m\n\u001b[1;32m      1\u001b[0m \u001b[38;5;28;01mimport\u001b[39;00m \u001b[38;5;21;01mpandas\u001b[39;00m \u001b[38;5;28;01mas\u001b[39;00m \u001b[38;5;21;01mpd\u001b[39;00m\n\u001b[1;32m      3\u001b[0m \u001b[38;5;66;03m# DataFrame 생성\u001b[39;00m\n\u001b[0;32m----> 4\u001b[0m video_df \u001b[38;5;241m=\u001b[39m \u001b[43mpd\u001b[49m\u001b[38;5;241;43m.\u001b[39;49m\u001b[43mDataFrame\u001b[49m\u001b[43m(\u001b[49m\u001b[43mvideo_array\u001b[49m\u001b[43m)\u001b[49m\n",
      "File \u001b[0;32m/usr/local/lib/python3.10/dist-packages/pandas/core/frame.py:816\u001b[0m, in \u001b[0;36mDataFrame.__init__\u001b[0;34m(self, data, index, columns, dtype, copy)\u001b[0m\n\u001b[1;32m    805\u001b[0m         mgr \u001b[38;5;241m=\u001b[39m dict_to_mgr(\n\u001b[1;32m    806\u001b[0m             \u001b[38;5;66;03m# error: Item \"ndarray\" of \"Union[ndarray, Series, Index]\" has no\u001b[39;00m\n\u001b[1;32m    807\u001b[0m             \u001b[38;5;66;03m# attribute \"name\"\u001b[39;00m\n\u001b[0;32m   (...)\u001b[0m\n\u001b[1;32m    813\u001b[0m             copy\u001b[38;5;241m=\u001b[39m_copy,\n\u001b[1;32m    814\u001b[0m         )\n\u001b[1;32m    815\u001b[0m     \u001b[38;5;28;01melse\u001b[39;00m:\n\u001b[0;32m--> 816\u001b[0m         mgr \u001b[38;5;241m=\u001b[39m \u001b[43mndarray_to_mgr\u001b[49m\u001b[43m(\u001b[49m\n\u001b[1;32m    817\u001b[0m \u001b[43m            \u001b[49m\u001b[43mdata\u001b[49m\u001b[43m,\u001b[49m\n\u001b[1;32m    818\u001b[0m \u001b[43m            \u001b[49m\u001b[43mindex\u001b[49m\u001b[43m,\u001b[49m\n\u001b[1;32m    819\u001b[0m \u001b[43m            \u001b[49m\u001b[43mcolumns\u001b[49m\u001b[43m,\u001b[49m\n\u001b[1;32m    820\u001b[0m \u001b[43m            \u001b[49m\u001b[43mdtype\u001b[49m\u001b[38;5;241;43m=\u001b[39;49m\u001b[43mdtype\u001b[49m\u001b[43m,\u001b[49m\n\u001b[1;32m    821\u001b[0m \u001b[43m            \u001b[49m\u001b[43mcopy\u001b[49m\u001b[38;5;241;43m=\u001b[39;49m\u001b[43mcopy\u001b[49m\u001b[43m,\u001b[49m\n\u001b[1;32m    822\u001b[0m \u001b[43m            \u001b[49m\u001b[43mtyp\u001b[49m\u001b[38;5;241;43m=\u001b[39;49m\u001b[43mmanager\u001b[49m\u001b[43m,\u001b[49m\n\u001b[1;32m    823\u001b[0m \u001b[43m        \u001b[49m\u001b[43m)\u001b[49m\n\u001b[1;32m    825\u001b[0m \u001b[38;5;66;03m# For data is list-like, or Iterable (will consume into list)\u001b[39;00m\n\u001b[1;32m    826\u001b[0m \u001b[38;5;28;01melif\u001b[39;00m is_list_like(data):\n",
      "File \u001b[0;32m/usr/local/lib/python3.10/dist-packages/pandas/core/internals/construction.py:314\u001b[0m, in \u001b[0;36mndarray_to_mgr\u001b[0;34m(values, index, columns, dtype, copy, typ)\u001b[0m\n\u001b[1;32m    308\u001b[0m     _copy \u001b[38;5;241m=\u001b[39m (\n\u001b[1;32m    309\u001b[0m         copy_on_sanitize\n\u001b[1;32m    310\u001b[0m         \u001b[38;5;28;01mif\u001b[39;00m (dtype \u001b[38;5;129;01mis\u001b[39;00m \u001b[38;5;28;01mNone\u001b[39;00m \u001b[38;5;129;01mor\u001b[39;00m astype_is_view(values\u001b[38;5;241m.\u001b[39mdtype, dtype))\n\u001b[1;32m    311\u001b[0m         \u001b[38;5;28;01melse\u001b[39;00m \u001b[38;5;28;01mFalse\u001b[39;00m\n\u001b[1;32m    312\u001b[0m     )\n\u001b[1;32m    313\u001b[0m     values \u001b[38;5;241m=\u001b[39m np\u001b[38;5;241m.\u001b[39marray(values, copy\u001b[38;5;241m=\u001b[39m_copy)\n\u001b[0;32m--> 314\u001b[0m     values \u001b[38;5;241m=\u001b[39m \u001b[43m_ensure_2d\u001b[49m\u001b[43m(\u001b[49m\u001b[43mvalues\u001b[49m\u001b[43m)\u001b[49m\n\u001b[1;32m    316\u001b[0m \u001b[38;5;28;01melse\u001b[39;00m:\n\u001b[1;32m    317\u001b[0m     \u001b[38;5;66;03m# by definition an array here\u001b[39;00m\n\u001b[1;32m    318\u001b[0m     \u001b[38;5;66;03m# the dtypes will be coerced to a single dtype\u001b[39;00m\n\u001b[1;32m    319\u001b[0m     values \u001b[38;5;241m=\u001b[39m _prep_ndarraylike(values, copy\u001b[38;5;241m=\u001b[39mcopy_on_sanitize)\n",
      "File \u001b[0;32m/usr/local/lib/python3.10/dist-packages/pandas/core/internals/construction.py:592\u001b[0m, in \u001b[0;36m_ensure_2d\u001b[0;34m(values)\u001b[0m\n\u001b[1;32m    590\u001b[0m     values \u001b[38;5;241m=\u001b[39m values\u001b[38;5;241m.\u001b[39mreshape((values\u001b[38;5;241m.\u001b[39mshape[\u001b[38;5;241m0\u001b[39m], \u001b[38;5;241m1\u001b[39m))\n\u001b[1;32m    591\u001b[0m \u001b[38;5;28;01melif\u001b[39;00m values\u001b[38;5;241m.\u001b[39mndim \u001b[38;5;241m!=\u001b[39m \u001b[38;5;241m2\u001b[39m:\n\u001b[0;32m--> 592\u001b[0m     \u001b[38;5;28;01mraise\u001b[39;00m \u001b[38;5;167;01mValueError\u001b[39;00m(\u001b[38;5;124mf\u001b[39m\u001b[38;5;124m\"\u001b[39m\u001b[38;5;124mMust pass 2-d input. shape=\u001b[39m\u001b[38;5;132;01m{\u001b[39;00mvalues\u001b[38;5;241m.\u001b[39mshape\u001b[38;5;132;01m}\u001b[39;00m\u001b[38;5;124m\"\u001b[39m)\n\u001b[1;32m    593\u001b[0m \u001b[38;5;28;01mreturn\u001b[39;00m values\n",
      "\u001b[0;31mValueError\u001b[0m: Must pass 2-d input. shape=(489, 368, 640, 3)"
     ]
    }
   ],
   "source": [
    "import pandas as pd\n",
    "\n",
    "# DataFrame 생성\n",
    "video_df = pd.DataFrame(video_array)"
   ]
  },
  {
   "cell_type": "markdown",
   "metadata": {},
   "source": [
    "- 4차원인 video array를 (height, width) = (0, 0)를 고정하여(2차원으로 변환하여) DataFrame 생성"
   ]
  },
  {
   "cell_type": "code",
   "execution_count": 53,
   "metadata": {},
   "outputs": [
    {
     "name": "stdout",
     "output_type": "stream",
     "text": [
      "first_pixels의 차원 :  2\n",
      "     R  G  B\n",
      "0    3  1  0\n",
      "1    3  1  0\n",
      "2    3  1  0\n",
      "3    3  1  0\n",
      "4    3  1  0\n",
      "..  .. .. ..\n",
      "484  2  3  6\n",
      "485  2  3  6\n",
      "486  2  1  4\n",
      "487  1  0  2\n",
      "488  1  0  2\n",
      "\n",
      "[489 rows x 3 columns]\n"
     ]
    }
   ],
   "source": [
    "# 첫 번째 픽셀의 RGB 값 가져오기\n",
    "first_pixels = video_array[:, 0, 0, :]\n",
    "print('first_pixels의 차원 : ', first_pixels.ndim)\n",
    "\n",
    "np_df = pd.DataFrame(first_pixels, columns=['R', 'G', 'B'])\n",
    "\n",
    "print(np_df)"
   ]
  },
  {
   "cell_type": "code",
   "execution_count": 54,
   "metadata": {},
   "outputs": [
    {
     "data": {
      "text/plain": [
       "<Axes: >"
      ]
     },
     "execution_count": 54,
     "metadata": {},
     "output_type": "execute_result"
    },
    {
     "data": {
      "image/png": "[encoded data removed]",
      "text/plain": [
       "<Figure size 640x480 with 1 Axes>"
      ]
     },
     "metadata": {},
     "output_type": "display_data"
    }
   ],
   "source": [
    "np_df.plot()"
   ]
  },
  {
   "cell_type": "markdown",
   "metadata": {},
   "source": [
    "- DataFrame을 csv 파일로 내려 받기"
   ]
  },
  {
   "cell_type": "code",
   "execution_count": 55,
   "metadata": {},
   "outputs": [],
   "source": [
    "csv = np_df.to_csv(path_or_buf = \"first_pixels.csv\", index=True)"
   ]
  },
  {
   "cell_type": "markdown",
   "metadata": {},
   "source": [
    "### 따라 해보기 #2. pandas를 사용하여 영상 grouping 하기\n",
    "- 유사도가 낮아지는 지점을 기준으로 grouping 하기"
   ]
  },
  {
   "cell_type": "markdown",
   "metadata": {},
   "source": [
    "- 유사도 DataFrame 생성"
   ]
  },
  {
   "cell_type": "code",
   "execution_count": null,
   "metadata": {},
   "outputs": [],
   "source": [
    "import pandas as pd\n",
    "\n",
    "# DataFrame 생성\n",
    "df = pd.DataFrame(similarity_list, columns=['similarity'])\n",
    "\n",
    "print(df)"
   ]
  },
  {
   "cell_type": "code",
   "execution_count": null,
   "metadata": {},
   "outputs": [],
   "source": [
    "df.plot()"
   ]
  },
  {
   "cell_type": "markdown",
   "metadata": {},
   "source": [
    "- 특정 유사도 값을 기준으로 '낮은 유사도'와 '높은 유사도' 두그룹으로 분할해보기"
   ]
  },
  {
   "cell_type": "code",
   "execution_count": null,
   "metadata": {},
   "outputs": [],
   "source": [
    "# 유사도 임계치 설정\n",
    "lower_sim_threshold = 0.95"
   ]
  },
  {
   "cell_type": "code",
   "execution_count": null,
   "metadata": {},
   "outputs": [],
   "source": [
    "# groupby 기준이 조건식이면 True와 False 두개로 grouping 된다.\n",
    "dfg = df.groupby((df['similarity'] < lower_sim_threshold))\n",
    "\n",
    "for group_number, group_df in dfg:\n",
    "    print('Group Name : ', group_number)\n",
    "    print('Group Members : ', group_df)"
   ]
  },
  {
   "cell_type": "code",
   "execution_count": null,
   "metadata": {},
   "outputs": [],
   "source": [
    "dfg.plot()"
   ]
  },
  {
   "cell_type": "markdown",
   "metadata": {},
   "source": [
    "- 유사도 DataFrame에 2개 칼럼 추가\n",
    "\t- lower_sim : 유사도 임계치 이하 여부\n",
    "\t- cumsum : lower_sim의 누적 합계"
   ]
  },
  {
   "cell_type": "code",
   "execution_count": null,
   "metadata": {},
   "outputs": [],
   "source": [
    "# 출력 시 '...' 없이 전체 출력\n",
    "pd.set_option('display.max_rows', None)\n",
    "\n",
    "# 유사도가 임계치 이하면 True(1) 아니면 False(0)\n",
    "df['lower_sim'] = (df['similarity'] < lower_sim_threshold)\n",
    "\n",
    "#lower_sim의 누적합(Cumulative Sum)을 구함\n",
    "df['cumsum'] = df['lower_sim'].cumsum()\n",
    "\n",
    "# df 출력\n",
    "print(df)\n",
    "\n",
    "# 출력 시 30 rows 출력 후 '...' 처리\n",
    "pd.set_option('display.max_rows', 30)"
   ]
  },
  {
   "cell_type": "code",
   "execution_count": null,
   "metadata": {},
   "outputs": [],
   "source": [
    "df.plot()"
   ]
  },
  {
   "cell_type": "markdown",
   "metadata": {},
   "source": [
    "- cumsum 을 기준으로 grouping\n",
    "    - 결과적으로 유사도가 낮은 순간(lower_sim_threshold 보다 작은 순간) group이 분할됨"
   ]
  },
  {
   "cell_type": "code",
   "execution_count": null,
   "metadata": {},
   "outputs": [],
   "source": [
    "dfg = df.groupby(df['cumsum'])\n",
    "\n",
    "for group_number, group_df in dfg:\n",
    "    print('Group Name : ', group_number)\n",
    "    print('Group Members : ', group_df)"
   ]
  },
  {
   "cell_type": "code",
   "execution_count": null,
   "metadata": {},
   "outputs": [],
   "source": [
    "dfg.plot()"
   ]
  },
  {
   "cell_type": "markdown",
   "metadata": {},
   "source": [
    "- Group별 시작 frame 번호, 종료 frame 번호, group 분할 시점의 유사도 조회"
   ]
  },
  {
   "cell_type": "code",
   "execution_count": 34,
   "metadata": {},
   "outputs": [
    {
     "name": "stdout",
     "output_type": "stream",
     "text": [
      "0 1 30 0.9770964243246925\n",
      "1 31 121 0.804662909689668\n",
      "2 122 183 0.9375795879362757\n",
      "3 184 286 0.8453070395907233\n",
      "4 287 296 0.9473107266428288\n",
      "5 297 334 0.8589918794939202\n",
      "6 335 377 0.7406269448657592\n",
      "7 378 418 0.6808655525334377\n",
      "8 419 488 0.7718479796650425\n"
     ]
    }
   ],
   "source": [
    "for group_number, group_df in dfg:\n",
    "    min_frame_number = group_df.index.min()+1\n",
    "    max_frame_number = group_df.index.max()+1\n",
    "    min_similarity = group_df['similarity'].min()\n",
    "    print(group_number, min_frame_number, max_frame_number, min_similarity)"
   ]
  },
  {
   "cell_type": "markdown",
   "metadata": {},
   "source": [
    "- Group 정보 DataFrame 생성\n",
    "    - 사전준비 단계에서 구했던 tot_duration(재생시간), tot_frames(frame 개수) 사용하여 frame개수, 시작시간, 재생시간 항목 추가"
   ]
  },
  {
   "cell_type": "code",
   "execution_count": 40,
   "metadata": {},
   "outputs": [
    {
     "name": "stdout",
     "output_type": "stream",
     "text": [
      "   group_number group_name  min_frame_number  max_frame_number  frame_count  \\\n",
      "0             0    Take #0                 1                30           30   \n",
      "1             1    Take #1                31               121           91   \n",
      "2             2    Take #2               122               183           62   \n",
      "3             3    Take #3               184               286          103   \n",
      "4             4    Take #4               287               296           10   \n",
      "5             5    Take #5               297               334           38   \n",
      "6             6    Take #6               335               377           43   \n",
      "7             7    Take #7               378               418           41   \n",
      "8             8    Take #8               419               488           70   \n",
      "\n",
      "   start duration  min_similarity  \n",
      "0   0.05     1.50        0.977096  \n",
      "1   1.55     4.55        0.804663  \n",
      "2   6.10     3.10        0.937580  \n",
      "3   9.20     5.15        0.845307  \n",
      "4  14.35     0.50        0.947311  \n",
      "5  14.85     1.90        0.858992  \n",
      "6  16.75     2.15        0.740627  \n",
      "7  18.90     2.05        0.680866  \n",
      "8  20.95     3.50        0.771848  \n"
     ]
    }
   ],
   "source": [
    "# 사전준비 단계에 구했던 tot_duration(재생시간), tot_frames(frame 개수) 사용\n",
    "\n",
    "groups = []\n",
    "\n",
    "for group_number, group_df in dfg:\n",
    "\n",
    "    min_frame_number = group_df.index.min()+1\n",
    "    max_frame_number = group_df.index.max()+1\n",
    "    min_similarity = group_df['similarity'].min()\n",
    "\n",
    "    frame_count = max_frame_number - min_frame_number + 1\n",
    "    start = tot_duration*(min_frame_number/tot_frames)\n",
    "    duration = tot_duration*(frame_count/tot_frames)\n",
    "\n",
    "    groups.append({\n",
    "        'group_number': group_number,\n",
    "        'group_name': f\"Take #{group_number}\",\n",
    "        'min_frame_number': min_frame_number,\n",
    "        'max_frame_number': max_frame_number,\n",
    "        'frame_count' : frame_count,\n",
    "        'start' : \"{:.2f}\".format(start),\n",
    "        'duration' : \"{:.2f}\".format(duration),\n",
    "        'min_similarity': min_similarity\n",
    "    })\n",
    "\n",
    "# group 정보로 DataFrame 생성\n",
    "group_df = pd.DataFrame(groups)\n",
    "\n",
    "print(group_df)"
   ]
  },
  {
   "cell_type": "markdown",
   "metadata": {},
   "source": [
    "- (선택) Group 정보 DataFrame 생성 - column 이름 나중에 지정"
   ]
  },
  {
   "cell_type": "code",
   "execution_count": 38,
   "metadata": {},
   "outputs": [
    {
     "name": "stdout",
     "output_type": "stream",
     "text": [
      "   Seq     장면이름  시작 frame 번호  종료 frame 번호  frame개수   시작시간  재생시간  Take 전환 시 유사도\n",
      "0    0  Take #0            1           30       30   0.05  1.50       0.977096\n",
      "1    1  Take #1           31          121       91   1.55  4.55       0.804663\n",
      "2    2  Take #2          122          183       62   6.10  3.10       0.937580\n",
      "3    3  Take #3          184          286      103   9.20  5.15       0.845307\n",
      "4    4  Take #4          287          296       10  14.35  0.50       0.947311\n",
      "5    5  Take #5          297          334       38  14.85  1.90       0.858992\n",
      "6    6  Take #6          335          377       43  16.75  2.15       0.740627\n",
      "7    7  Take #7          378          418       41  18.90  2.05       0.680866\n",
      "8    8  Take #8          419          488       70  20.95  3.50       0.771848\n"
     ]
    }
   ],
   "source": [
    "# 사전준비 단계에 구했던 tot_duration(재생시간), tot_frames(frame 개수) 사용\n",
    "\n",
    "groups = []\n",
    "\n",
    "for group_number, group_df in dfg:\n",
    "\n",
    "    min_frame_number = group_df.index.min()+1\n",
    "    max_frame_number = group_df.index.max()+1\n",
    "    min_similarity = group_df['similarity'].min()\n",
    "\n",
    "    frame_count = max_frame_number - min_frame_number + 1\n",
    "    start = tot_duration*(min_frame_number/tot_frames)\n",
    "    duration = tot_duration*(frame_count/tot_frames)\n",
    "\n",
    "    groups.append([\n",
    "        group_number,\n",
    "        f\"Take #{group_number}\",\n",
    "        min_frame_number,\n",
    "        max_frame_number,\n",
    "        frame_count,\n",
    "        \"{:.2f}\".format(start),\n",
    "        \"{:.2f}\".format(duration),\n",
    "        min_similarity\n",
    "    ])\n",
    "\n",
    "# group 정보로 DataFrame 생성\n",
    "columns=['Seq','장면이름','시작 frame 번호','종료 frame 번호','frame개수','시작시간','재생시간','Take 전환 시 유사도']\n",
    "\n",
    "group_df2 = pd.DataFrame(groups, columns=columns)\n",
    "\n",
    "print(group_df2)"
   ]
  },
  {
   "cell_type": "markdown",
   "metadata": {},
   "source": [
    "- DataFrame을 csv파일에 저장"
   ]
  },
  {
   "cell_type": "code",
   "execution_count": 42,
   "metadata": {},
   "outputs": [],
   "source": [
    "csv = group_df.to_csv(path_or_buf = \"video_grouping.csv\", \n",
    "                      columns=['group_name', 'frame_count', 'start', 'duration', 'min_frame_number', 'max_frame_number', 'min_similarity'], \n",
    "                      index=False)"
   ]
  },
  {
   "cell_type": "markdown",
   "metadata": {},
   "source": []
  }
 ],
 "metadata": {
  "kernelspec": {
   "display_name": "Python 3",
   "language": "python",
   "name": "python3"
  },
  "language_info": {
   "codemirror_mode": {
    "name": "ipython",
    "version": 3
   },
   "file_extension": ".py",
   "mimetype": "text/x-python",
   "name": "python",
   "nbconvert_exporter": "python",
   "pygments_lexer": "ipython3",
   "version": "3.10.12"
  }
 },
 "nbformat": 4,
 "nbformat_minor": 2
}
