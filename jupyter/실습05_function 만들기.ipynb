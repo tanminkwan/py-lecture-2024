{
 "cells": [
  {
   "cell_type": "markdown",
   "metadata": {},
   "source": [
    "### 사전준비\n",
    "- parent directory 를 python library path에 추가하기\n",
    "- mp4 file의 video data를 numpy array 변수에 저장하기"
   ]
  },
  {
   "cell_type": "code",
   "execution_count": 1,
   "metadata": {},
   "outputs": [
    {
     "name": "stdout",
     "output_type": "stream",
     "text": [
      "Current Directory: /home/hennry/GitHub/py-lecture-2024/jupyter\n",
      "Parent Directory: /home/hennry/GitHub/py-lecture-2024\n",
      "System PATH : /bin:/usr/local/lib/nodejs/node-v18.15.0-linux-x64/bin:/home/hennry/.local/bin:/usr/local/sbin:/usr/local/bin:/usr/sbin:/usr/bin:/sbin:/bin:/usr/games:/usr/local/games:/snap/bin:/usr/local/lib/nodejs/node-v18.15.0-linux-x64/bin:/home/hennry/.local/bin:/usr/local/sbin:/usr/local/bin:/usr/sbin:/usr/bin:/sbin:/bin:/usr/games:/usr/local/games:/snap/bin\n",
      "Python Library PATH : ['/home/hennry/GitHub/py-lecture-2024/jupyter', '/usr/lib/python310.zip', '/usr/lib/python3.10', '/usr/lib/python3.10/lib-dynload', '', '/home/hennry/.local/lib/python3.10/site-packages', '/usr/local/lib/python3.10/dist-packages', '/usr/lib/python3/dist-packages', '/home/hennry/GitHub/py-lecture-2024']\n"
     ]
    }
   ],
   "source": [
    "# Parent directory의 .py 파일에 정의된 함수들를 import 하여 사용하기 위해 parent directory 를 python path에 추가합니다.\n",
    "\n",
    "import sys\n",
    "import os\n",
    "\n",
    "current_dir = os.getcwd()\n",
    "print(\"Current Directory:\", current_dir)\n",
    "\n",
    "parent_dir = os.path.abspath(os.path.join(current_dir, '..'))\n",
    "print(\"Parent Directory:\", parent_dir)\n",
    "\n",
    "sys.path.append(parent_dir)\n",
    "\n",
    "# System Path 와는 다름\n",
    "print(\"System PATH :\", os.environ['PATH'])\n",
    "print(\"Python Library PATH :\", sys.path)"
   ]
  },
  {
   "cell_type": "code",
   "execution_count": 2,
   "metadata": {},
   "outputs": [
    {
     "name": "stderr",
     "output_type": "stream",
     "text": [
      "ffmpeg version 4.4.2-0ubuntu0.22.04.1 Copyright (c) 2000-2021 the FFmpeg developers\n",
      "  built with gcc 11 (Ubuntu 11.2.0-19ubuntu1)\n",
      "  configuration: --prefix=/usr --extra-version=0ubuntu0.22.04.1 --toolchain=hardened --libdir=/usr/lib/x86_64-linux-gnu --incdir=/usr/include/x86_64-linux-gnu --arch=amd64 --enable-gpl --disable-stripping --enable-gnutls --enable-ladspa --enable-libaom --enable-libass --enable-libbluray --enable-libbs2b --enable-libcaca --enable-libcdio --enable-libcodec2 --enable-libdav1d --enable-libflite --enable-libfontconfig --enable-libfreetype --enable-libfribidi --enable-libgme --enable-libgsm --enable-libjack --enable-libmp3lame --enable-libmysofa --enable-libopenjpeg --enable-libopenmpt --enable-libopus --enable-libpulse --enable-librabbitmq --enable-librubberband --enable-libshine --enable-libsnappy --enable-libsoxr --enable-libspeex --enable-libsrt --enable-libssh --enable-libtheora --enable-libtwolame --enable-libvidstab --enable-libvorbis --enable-libvpx --enable-libwebp --enable-libx265 --enable-libxml2 --enable-libxvid --enable-libzimg --enable-libzmq --enable-libzvbi --enable-lv2 --enable-omx --enable-openal --enable-opencl --enable-opengl --enable-sdl2 --enable-pocketsphinx --enable-librsvg --enable-libmfx --enable-libdc1394 --enable-libdrm --enable-libiec61883 --enable-chromaprint --enable-frei0r --enable-libx264 --enable-shared\n",
      "  libavutil      56. 70.100 / 56. 70.100\n",
      "  libavcodec     58.134.100 / 58.134.100\n",
      "  libavformat    58. 76.100 / 58. 76.100\n",
      "  libavdevice    58. 13.100 / 58. 13.100\n",
      "  libavfilter     7.110.100 /  7.110.100\n",
      "  libswscale      5.  9.100 /  5.  9.100\n",
      "  libswresample   3.  9.100 /  3.  9.100\n",
      "  libpostproc    55.  9.100 / 55.  9.100\n",
      "Input #0, mov,mp4,m4a,3gp,3g2,mj2, from '../media/SampleVideo_640x360_5mb.mp4':\n",
      "  Metadata:\n",
      "    major_brand     : isom\n",
      "    minor_version   : 512\n",
      "    compatible_brands: isomiso2avc1mp41\n",
      "    encoder         : Lavf58.76.100\n",
      "  Duration: 00:00:24.45, start: 0.000000, bitrate: 385 kb/s\n",
      "  Stream #0:0(und): Video: h264 (High) (avc1 / 0x31637661), yuv420p, 640x368, 383 kb/s, 20 fps, 20 tbr, 10240 tbn, 40 tbc (default)\n",
      "    Metadata:\n",
      "      handler_name    : VideoHandler\n",
      "      vendor_id       : [0][0][0][0]\n",
      "Stream mapping:\n",
      "  Stream #0:0 -> #0:0 (h264 (native) -> rawvideo (native))\n",
      "Press [q] to stop, [?] for help\n",
      "Output #0, rawvideo, to 'pipe:':\n",
      "  Metadata:\n",
      "    major_brand     : isom\n",
      "    minor_version   : 512\n",
      "    compatible_brands: isomiso2avc1mp41\n",
      "    encoder         : Lavf58.76.100\n",
      "  Stream #0:0(und): Video: rawvideo (RGB[24] / 0x18424752), rgb24(pc, gbr/unknown/unknown, progressive), 640x368, q=2-31, 113049 kb/s, 20 fps, 20 tbn (default)\n",
      "    Metadata:\n",
      "      handler_name    : VideoHandler\n",
      "      vendor_id       : [0][0][0][0]\n",
      "      encoder         : Lavc58.134.100 rawvideo\n",
      "frame=  489 fps=169 q=-0.0 Lsize=  337410kB time=00:00:24.45 bitrate=113049.6kbits/s speed=8.43x    \n",
      "video:337410kB audio:0kB subtitle:0kB other streams:0kB global headers:0kB muxing overhead: 0.000000%\n"
     ]
    }
   ],
   "source": [
    "# ../functions.py 에 미리 정의된 함수들을 import 한다\n",
    "from functions import video_2_ndarray, ndarray_2_video\n",
    "\n",
    "# 함수 video_2_ndarray 를 사용하여 ../media/SampleVideo_640x360_5mb.mp4 의 video data를 ndarray 에 저장한다.\n",
    "video_array, _, _ = video_2_ndarray('../media/SampleVideo_640x360_5mb.mp4')"
   ]
  },
  {
   "cell_type": "code",
   "execution_count": 3,
   "metadata": {},
   "outputs": [
    {
     "name": "stdout",
     "output_type": "stream",
     "text": [
      "차원(dimension) : 4\n",
      "형태(shape) : (489, 368, 640, 3)\n",
      "값의 Type :  uint8\n",
      "일부 값 확인하기 (frame #0, height #0, width #0~9) :  [[[[3 1 0]\n",
      "   [3 1 0]\n",
      "   [3 1 0]\n",
      "   [3 1 0]\n",
      "   [3 1 0]\n",
      "   [3 1 0]\n",
      "   [3 1 0]\n",
      "   [3 1 0]\n",
      "   [3 1 0]\n",
      "   [3 1 0]]]]\n"
     ]
    }
   ],
   "source": [
    "# video_array 의 형식과 내용을 확인한다.\n",
    "print(f'차원(dimension) : {video_array.ndim}')\n",
    "print(f'형태(shape) : {video_array.shape}')\n",
    "print('값의 Type : ' ,video_array.dtype)\n",
    "print('일부 값 확인하기 (frame #0, height #0, width #0~9) : ', video_array[:1,:1,:10,:])"
   ]
  },
  {
   "cell_type": "code",
   "execution_count": null,
   "metadata": {},
   "outputs": [],
   "source": [
    "# numpy를 import 한다\n",
    "import numpy as np"
   ]
  },
  {
   "cell_type": "markdown",
   "metadata": {},
   "source": [
    "### 따라 해보기 #1. 이전 실습에서 작성한 code를 함수로 만들기\n",
    "- 함수 이름 정의\n",
    "- doc string 작성\n",
    "- 경우에 따라 test code와 return 구문 작성\n"
   ]
  },
  {
   "cell_type": "code",
   "execution_count": null,
   "metadata": {},
   "outputs": [],
   "source": [
    "# function 을 정의\n",
    "def cut_n_append(video_array):\n",
    "    \"\"\"\n",
    "    numpy array type의 video data 를 wight 기준으로 반으로 자르고,\n",
    "    잘린 오른쪽 array를 왼쪽 array의 밑에 붙이는 함수\n",
    "\n",
    "    함수 이름 : cut_n_append\n",
    "    parameters :\n",
    "        - video_array : 가공 이전의 원본 video array, numpy.ndarray\n",
    "    return :\n",
    "        - modified_video_array : 가공된 video array, numpy.ndarray\n",
    "    \"\"\"\n",
    "    # modified_video_array 값 초기화\n",
    "    modified_video_array = np.array([], dtype=np.uint8)\n",
    "    print(modified_video_array)\n",
    "\n",
    "    return modified_video_array\n",
    "\n",
    "# docstring 출력\n",
    "print(cut_n_append.__doc__)\n",
    "\n",
    "# function 실행 test\n",
    "cut_n_append(video_array)"
   ]
  },
  {
   "cell_type": "markdown",
   "metadata": {},
   "source": [
    "- 함수 안에 video array 를 변형하는 code 붙이기"
   ]
  },
  {
   "cell_type": "code",
   "execution_count": null,
   "metadata": {},
   "outputs": [],
   "source": [
    "# function 에 code 붙이기\n",
    "def cut_n_append(video_array):\n",
    "    \"\"\"\n",
    "    numpy array type의 video data 를 wight 기준으로 반으로 자르고,\n",
    "    잘린 오른쪽 array를 왼쪽 array의 밑에 붙이는 함수\n",
    "\n",
    "    함수 이름 : cut_n_append\n",
    "    parameters :\n",
    "        - video_array : 가공 이전의 원본 video array, numpy.ndarray\n",
    "    return :\n",
    "        - modified_video_array : 가공된 video array, numpy.ndarray\n",
    "    \"\"\"\n",
    "    # 삭제된 test code (the 2 lines below)\n",
    "    #modified_video_array = np.array([], dtype=np.uint8)\n",
    "    #print(modified_video_array)\n",
    "\n",
    "    # 여기부터 붙인 code\n",
    "    # 3번째 차원인 width를 둘로 나누기 위해 너비를 절반으로 나눕니다.\n",
    "    width_half = video_array.shape[2] // 2\n",
    "\n",
    "    # 3번째 차원을 둘로 나누어 left_array, right_array를 만듭니다.\n",
    "    left_array = video_array[:, :, :width_half, :]\n",
    "    right_array = video_array[:, :, width_half:, :]\n",
    "\n",
    "    # left_array의 height 차원의 아래쪽에 right_array를 append합니다.\n",
    "    modified_video_array = np.append(left_array, right_array, axis=1)\n",
    "\n",
    "    return modified_video_array"
   ]
  },
  {
   "cell_type": "markdown",
   "metadata": {},
   "source": [
    "- function 실행하고 return 값(변형된 video data)을 변수에 저장"
   ]
  },
  {
   "cell_type": "code",
   "execution_count": null,
   "metadata": {},
   "outputs": [],
   "source": [
    "# function 실행하고 return 값을 변수 new_video_array에 저장\n",
    "new_video_array = cut_n_append(video_array)"
   ]
  },
  {
   "cell_type": "markdown",
   "metadata": {},
   "source": [
    "- 변형된 video data를 mp4 파일로 변환"
   ]
  },
  {
   "cell_type": "code",
   "execution_count": null,
   "metadata": {},
   "outputs": [],
   "source": [
    "# new_video_array(변형된 video data)을 mp4 파일로 변환\n",
    "ndarray_2_video(new_video_array, 'new_video.mp4')\n",
    "\n",
    "# code 실행 후 생성된 동영상 파일을 실행한다."
   ]
  },
  {
   "cell_type": "markdown",
   "metadata": {},
   "source": [
    "### 혼자 해보기 #1. 위 실습에서 만든 video 파일을 변형하여 새로운 video 파일을 만든다.\n",
    "- video data를 변형하는 function을 작성하기\n",
    "    - 하고 싶은 작업을 정리해서 genAI에게 질의하자\n",
    "    - 추천 : 변형한 동영상을 원래대로 되돌리기 해보자"
   ]
  },
  {
   "cell_type": "code",
   "execution_count": null,
   "metadata": {},
   "outputs": [],
   "source": [
    "# function 에 code 붙이기\n",
    "def cut_n_append2(video_array):\n",
    "    \"\"\"\n",
    "    numpy array type의 video data 를 height 기준으로 반으로 자르고,\n",
    "    잘린 아래쪽 array를 외쪽 array의 왼쪽에 붙이는 함수\n",
    "\n",
    "    함수 이름 : cut_n_append2\n",
    "    parameters :\n",
    "        - video_array : 가공 이전의 원본 video array, numpy.ndarray\n",
    "    return :\n",
    "        - modified_video_array : 가공된 video array, numpy.ndarray\n",
    "    \"\"\"\n",
    "    # 여기부터 붙인 code\n",
    "    # 3번째 차원인 width를 둘로 나누기 위해 너비를 절반으로 나눕니다.\n",
    "    height_half = video_array.shape[1] // 2\n",
    "\n",
    "    # 3번째 차원을 둘로 나누어 upper_array, lower_array를 만듭니다.\n",
    "    upper_array = video_array[:, :height_half, :, :]\n",
    "    lower_array = video_array[:, height_half:, :, :]\n",
    "\n",
    "    # upper_array의 width 차원의 왼쪽에 lower_array를 append합니다.\n",
    "    modified_video_array = np.append(upper_array, lower_array, axis=2)\n",
    "\n",
    "    return modified_video_array"
   ]
  },
  {
   "cell_type": "markdown",
   "metadata": {},
   "source": [
    "- mp4 file의 video data를 numpy array 변수에 저장하기\n",
    "- function을 실행하고 변경된 numpy array type의 video data를 return 값으로 받기\n",
    "- return 값을 mp4 파일로 변환"
   ]
  },
  {
   "cell_type": "code",
   "execution_count": null,
   "metadata": {},
   "outputs": [],
   "source": [
    "video_array, _, _ = video_2_ndarray('new_video.mp4')\n",
    "new_video_array = cut_n_append2(video_array)\n",
    "ndarray_2_video(new_video_array, 'new2_video.mp4')\n",
    "\n",
    "# code 실행 후 생성된 동영상 파일을 실행한다."
   ]
  },
  {
   "cell_type": "markdown",
   "metadata": {},
   "source": [
    "### 따라 해보기 #2. decorator함수를 사용하여 내가 굳이 알 필요없는 부분을 은닉하자\n",
    "- decorator함수를 작성한다."
   ]
  },
  {
   "cell_type": "code",
   "execution_count": null,
   "metadata": {},
   "outputs": [],
   "source": [
    "def modify_video(func):\n",
    "    def wrapper(video_file, output_file):\n",
    "        video_array, _, _ = video_2_ndarray(video_file)\n",
    "        new_video_array = func(video_array)\n",
    "        ndarray_2_video(new_video_array, output_file)\n",
    "\n",
    "    return wrapper"
   ]
  },
  {
   "cell_type": "markdown",
   "metadata": {},
   "source": [
    "- decorator함수를 사용하는 함수를 작성한다."
   ]
  },
  {
   "cell_type": "code",
   "execution_count": null,
   "metadata": {},
   "outputs": [],
   "source": [
    "@modify_video\n",
    "def exchange_red_n_blue(video):\n",
    "    \n",
    "    new_video = video.copy()\n",
    "    # R(빨간색) 값과 B(파란색) 값 바꾸기\n",
    "    new_video[:, :, :, 0], new_video[:, :, :, 1] = video[:, :, :, 2], video[:, :, :, 0]\n",
    "\n",
    "    return new_video"
   ]
  },
  {
   "cell_type": "markdown",
   "metadata": {},
   "source": [
    "- decorator함수를 사용하는 함수를 실행한다.\n",
    "    - parameter는 decorator 함수 안의 closure 함수(여기서는 wrapper) parameter를 사용해야 하는 것에 주의  "
   ]
  },
  {
   "cell_type": "code",
   "execution_count": null,
   "metadata": {},
   "outputs": [],
   "source": [
    "exchange_red_n_blue('../media/SampleVideo_640x360_5mb.mp4', 'exchange_red_n_blue_video.mp4')\n",
    "\n",
    "# code 실행 후 생성된 동영상 파일을 실행한다."
   ]
  },
  {
   "cell_type": "markdown",
   "metadata": {},
   "source": [
    "### 마음대로 해보기 #1. genAI를 사용하여 decorator함수를 만들고 실행해 보자"
   ]
  },
  {
   "cell_type": "markdown",
   "metadata": {},
   "source": [
    "- (참고) ChatGPT 3.5에 사용한 질의와 답변"
   ]
  },
  {
   "cell_type": "code",
   "execution_count": null,
   "metadata": {},
   "outputs": [],
   "source": [
    "\"\"\"\n",
    "prompt :\n",
    "\n",
    "다음은 python code 다.\n",
    "\n",
    "video_array, _, _ = video_2_ndarray('video.mp4')\n",
    "new_video_array = cut_n_append(video_array)\n",
    "ndarray_2_video(new_video_array, 'new_video.mp4')\n",
    "---\n",
    "위의 code를 아래와 같이 바꾸도록 decorator 함수를 만들어줘\n",
    "\n",
    "@modify_video\n",
    "def function1(video_array)\n",
    "    # 나의 code\n",
    "    return new_video_array\n",
    "\n",
    "# 아래 함수가 처음 3 line과 내용이 동일\n",
    "function1('video.mp4', 'new_video.mp4')\n",
    "\"\"\"\n",
    "\n",
    "# ChatGPT 3.5 답변\n",
    "import numpy as np\n",
    "\n",
    "def modify_video(func):\n",
    "    def wrapper(video_file, output_file):\n",
    "        video_array, _, _ = video_2_ndarray(video_file)\n",
    "        new_video_array = func(video_array)\n",
    "        ndarray_2_video(new_video_array, output_file)\n",
    "\n",
    "    return wrapper\n",
    "\n",
    "@modify_video\n",
    "def function1(video_array):\n",
    "    # 나의 code\n",
    "    return new_video_array\n",
    "\n",
    "# 실행 예시\n",
    "function1('video.mp4', 'new_video.mp4')"
   ]
  },
  {
   "cell_type": "markdown",
   "metadata": {},
   "source": []
  }
 ],
 "metadata": {
  "kernelspec": {
   "display_name": "Python 3",
   "language": "python",
   "name": "python3"
  },
  "language_info": {
   "codemirror_mode": {
    "name": "ipython",
    "version": 3
   },
   "file_extension": ".py",
   "mimetype": "text/x-python",
   "name": "python",
   "nbconvert_exporter": "python",
   "pygments_lexer": "ipython3",
   "version": "3.10.12"
  }
 },
 "nbformat": 4,
 "nbformat_minor": 2
}
