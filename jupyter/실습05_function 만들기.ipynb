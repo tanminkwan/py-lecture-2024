{
 "cells": [
  {
   "cell_type": "markdown",
   "metadata": {},
   "source": [
    "### 사전준비\n",
    "    - mp4 file의 video data를 numpy array 변수에 저장하기"
   ]
  },
  {
   "cell_type": "code",
   "execution_count": 1,
   "metadata": {},
   "outputs": [
    {
     "name": "stdout",
     "output_type": "stream",
     "text": [
      "Current Directory: /home/hennry/GitHub/py-lecture-2024/jupyter\n",
      "Parent Directory: /home/hennry/GitHub/py-lecture-2024\n",
      "System PATH : /bin:/usr/local/lib/nodejs/node-v18.15.0-linux-x64/bin:/home/hennry/.local/bin:/usr/local/sbin:/usr/local/bin:/usr/sbin:/usr/bin:/sbin:/bin:/usr/games:/usr/local/games:/snap/bin:/usr/local/lib/nodejs/node-v18.15.0-linux-x64/bin:/home/hennry/.local/bin:/usr/local/sbin:/usr/local/bin:/usr/sbin:/usr/bin:/sbin:/bin:/usr/games:/usr/local/games:/snap/bin\n",
      "Python Library PATH : ['/home/hennry/GitHub/py-lecture-2024/jupyter', '/usr/lib/python310.zip', '/usr/lib/python3.10', '/usr/lib/python3.10/lib-dynload', '', '/home/hennry/.local/lib/python3.10/site-packages', '/usr/local/lib/python3.10/dist-packages', '/usr/lib/python3/dist-packages', '/home/hennry/GitHub/py-lecture-2024']\n"
     ]
    }
   ],
   "source": [
    "# Parent directory의 .py 파일에 정의된 함수들를 import 하여 사용하기 위해 parent directory 를 python path에 추가합니다.\n",
    "\n",
    "import sys\n",
    "import os\n",
    "\n",
    "current_dir = os.getcwd()\n",
    "print(\"Current Directory:\", current_dir)\n",
    "\n",
    "parent_dir = os.path.abspath(os.path.join(current_dir, '..'))\n",
    "print(\"Parent Directory:\", parent_dir)\n",
    "\n",
    "sys.path.append(parent_dir)\n",
    "\n",
    "# System Path 와는 다름\n",
    "print(\"System PATH :\", os.environ['PATH'])\n",
    "print(\"Python Library PATH :\", sys.path)"
   ]
  },
  {
   "cell_type": "code",
   "execution_count": 3,
   "metadata": {},
   "outputs": [],
   "source": [
    "# ../functions.py 에 미리 정의된 함수들을 import 한다\n",
    "from functions import video_2_ndarray, ndarray_2_video\n",
    "\n",
    "# numpy를 import 한다\n",
    "import numpy as np"
   ]
  },
  {
   "cell_type": "code",
   "execution_count": 4,
   "metadata": {},
   "outputs": [
    {
     "name": "stderr",
     "output_type": "stream",
     "text": [
      "ffmpeg version 4.4.2-0ubuntu0.22.04.1 Copyright (c) 2000-2021 the FFmpeg developers\n",
      "  built with gcc 11 (Ubuntu 11.2.0-19ubuntu1)\n",
      "  configuration: --prefix=/usr --extra-version=0ubuntu0.22.04.1 --toolchain=hardened --libdir=/usr/lib/x86_64-linux-gnu --incdir=/usr/include/x86_64-linux-gnu --arch=amd64 --enable-gpl --disable-stripping --enable-gnutls --enable-ladspa --enable-libaom --enable-libass --enable-libbluray --enable-libbs2b --enable-libcaca --enable-libcdio --enable-libcodec2 --enable-libdav1d --enable-libflite --enable-libfontconfig --enable-libfreetype --enable-libfribidi --enable-libgme --enable-libgsm --enable-libjack --enable-libmp3lame --enable-libmysofa --enable-libopenjpeg --enable-libopenmpt --enable-libopus --enable-libpulse --enable-librabbitmq --enable-librubberband --enable-libshine --enable-libsnappy --enable-libsoxr --enable-libspeex --enable-libsrt --enable-libssh --enable-libtheora --enable-libtwolame --enable-libvidstab --enable-libvorbis --enable-libvpx --enable-libwebp --enable-libx265 --enable-libxml2 --enable-libxvid --enable-libzimg --enable-libzmq --enable-libzvbi --enable-lv2 --enable-omx --enable-openal --enable-opencl --enable-opengl --enable-sdl2 --enable-pocketsphinx --enable-librsvg --enable-libmfx --enable-libdc1394 --enable-libdrm --enable-libiec61883 --enable-chromaprint --enable-frei0r --enable-libx264 --enable-shared\n",
      "  libavutil      56. 70.100 / 56. 70.100\n",
      "  libavcodec     58.134.100 / 58.134.100\n",
      "  libavformat    58. 76.100 / 58. 76.100\n",
      "  libavdevice    58. 13.100 / 58. 13.100\n",
      "  libavfilter     7.110.100 /  7.110.100\n",
      "  libswscale      5.  9.100 /  5.  9.100\n",
      "  libswresample   3.  9.100 /  3.  9.100\n",
      "  libpostproc    55.  9.100 / 55.  9.100\n",
      "Input #0, mov,mp4,m4a,3gp,3g2,mj2, from '../media/SampleVideo_640x360_5mb.mp4':\n",
      "  Metadata:\n",
      "    major_brand     : isom\n",
      "    minor_version   : 512\n",
      "    compatible_brands: isomiso2mp41\n",
      "    creation_time   : 1970-01-01T00:00:00.000000Z\n",
      "    encoder         : Lavf53.24.2\n",
      "  Duration: 00:00:30.38, start: 0.000000, bitrate: 1380 kb/s\n",
      "  Stream #0:0(und): Video: mpeg4 (Simple Profile) (mp4v / 0x7634706D), yuv420p, 640x368 [SAR 1:1 DAR 40:23], 993 kb/s, 25 fps, 25 tbr, 12800 tbn, 25 tbc (default)\n",
      "    Metadata:\n",
      "      creation_time   : 1970-01-01T00:00:00.000000Z\n",
      "      handler_name    : VideoHandler\n",
      "      vendor_id       : [0][0][0][0]\n",
      "  Stream #0:1(und): Audio: aac (LC) (mp4a / 0x6134706D), 48000 Hz, 5.1, fltp, 383 kb/s (default)\n",
      "    Metadata:\n",
      "      creation_time   : 1970-01-01T00:00:00.000000Z\n",
      "      handler_name    : SoundHandler\n",
      "      vendor_id       : [0][0][0][0]\n",
      "Stream mapping:\n",
      "  Stream #0:0 -> #0:0 (mpeg4 (native) -> rawvideo (native))\n",
      "Press [q] to stop, [?] for help\n",
      "Output #0, rawvideo, to 'pipe:':\n",
      "  Metadata:\n",
      "    major_brand     : isom\n",
      "    minor_version   : 512\n",
      "    compatible_brands: isomiso2mp41\n",
      "    encoder         : Lavf58.76.100\n",
      "  Stream #0:0(und): Video: rawvideo (RGB[24] / 0x18424752), rgb24(pc, gbr/unknown/unknown, progressive), 640x368 [SAR 1:1 DAR 40:23], q=2-31, 141312 kb/s, 25 fps, 25 tbn (default)\n",
      "    Metadata:\n",
      "      creation_time   : 1970-01-01T00:00:00.000000Z\n",
      "      handler_name    : VideoHandler\n",
      "      vendor_id       : [0][0][0][0]\n",
      "      encoder         : Lavc58.134.100 rawvideo\n",
      "frame=  759 fps=199 q=-0.0 Lsize=  523710kB time=00:00:30.36 bitrate=141312.0kbits/s speed=7.98x    \n",
      "video:523710kB audio:0kB subtitle:0kB other streams:0kB global headers:0kB muxing overhead: 0.000000%\n"
     ]
    }
   ],
   "source": [
    "# 함수 video_2_ndarray 를 사용하여 ../media/SampleVideo_640x360_5mb.mp4 의 video data를 ndarray 에 저장한다.\n",
    "video_array, _, _ = video_2_ndarray('../media/SampleVideo_640x360_5mb.mp4')"
   ]
  },
  {
   "cell_type": "code",
   "execution_count": 5,
   "metadata": {},
   "outputs": [
    {
     "name": "stdout",
     "output_type": "stream",
     "text": [
      "차원(dimension) : 4\n",
      "형태(shape) : (759, 368, 640, 3)\n",
      "값의 Type :  uint8\n",
      "일부 값 (frame #0, height #0, width #0~9) :  [[[[5 0 0]\n",
      "   [1 0 0]\n",
      "   [0 0 0]\n",
      "   [0 0 0]\n",
      "   [3 0 4]\n",
      "   [3 0 4]\n",
      "   [0 0 0]\n",
      "   [3 0 0]\n",
      "   [0 0 0]\n",
      "   [0 0 0]]]]\n"
     ]
    }
   ],
   "source": [
    "# video_array 의 형식과 내용을 확인한다.\n",
    "print(f'차원(dimension) : {video_array.ndim}')\n",
    "print(f'형태(shape) : {video_array.shape}')\n",
    "print('값의 Type : ' ,video_array.dtype)\n",
    "print('일부 값 (frame #0, height #0, width #0~9) : ', video_array[:1,:1,:10,:])"
   ]
  },
  {
   "cell_type": "markdown",
   "metadata": {},
   "source": [
    "### 따라 해보기 #1. 이전 실습에서 작성한 video array 편집 code를 함수로 만들기"
   ]
  },
  {
   "cell_type": "code",
   "execution_count": 18,
   "metadata": {},
   "outputs": [
    {
     "name": "stdout",
     "output_type": "stream",
     "text": [
      "\n",
      "    numpy array type의 video data 를 wight 기준으로 반으로 자르고,\n",
      "    잘린 오른쪽 array를 왼쪽 array의 밑에 붙이는 함수\n",
      "\n",
      "    함수 이름 : cut_n_append\n",
      "    parameters :\n",
      "        - video_array : 가공 이전의 원본 video array, numpy.ndarray\n",
      "    return :\n",
      "        - modified_video_array : 가공된 video array, numpy.ndarray\n",
      "    \n",
      "[]\n"
     ]
    },
    {
     "data": {
      "text/plain": [
       "array([], dtype=float64)"
      ]
     },
     "execution_count": 18,
     "metadata": {},
     "output_type": "execute_result"
    }
   ],
   "source": [
    "# function 을 정의\n",
    "def cut_n_append(video_array):\n",
    "    \"\"\"\n",
    "    numpy array type의 video data 를 wight 기준으로 반으로 자르고,\n",
    "    잘린 오른쪽 array를 왼쪽 array의 밑에 붙이는 함수\n",
    "\n",
    "    함수 이름 : cut_n_append\n",
    "    parameters :\n",
    "        - video_array : 가공 이전의 원본 video array, numpy.ndarray\n",
    "    return :\n",
    "        - modified_video_array : 가공된 video array, numpy.ndarray\n",
    "    \"\"\"\n",
    "    # modified_video_array 값 초기화\n",
    "    modified_video_array = np.array([], dtype=np.uint8)\n",
    "    print(modified_video_array)\n",
    "\n",
    "    return modified_video_array\n",
    "\n",
    "# docstring 출력\n",
    "print(cut_n_append.__doc__)\n",
    "\n",
    "# function 실행 test\n",
    "cut_n_append(video_array)"
   ]
  },
  {
   "cell_type": "code",
   "execution_count": 19,
   "metadata": {},
   "outputs": [],
   "source": [
    "# function 에 code 붙이기\n",
    "def cut_n_append(video_array):\n",
    "    \"\"\"\n",
    "    numpy array type의 video data 를 wight 기준으로 반으로 자르고,\n",
    "    잘린 오른쪽 array를 왼쪽 array의 밑에 붙이는 함수\n",
    "\n",
    "    함수 이름 : cut_n_append\n",
    "    parameters :\n",
    "        - video_array : 가공 이전의 원본 video array, numpy.ndarray\n",
    "    return :\n",
    "        - modified_video_array : 가공된 video array, numpy.ndarray\n",
    "    \"\"\"\n",
    "    # 여기부터 붙인 code\n",
    "    # 3번째 차원인 width를 둘로 나누기 위해 너비를 절반으로 나눕니다.\n",
    "    width_half = video_array.shape[2] // 2\n",
    "\n",
    "    # 3번째 차원을 둘로 나누어 left_array, right_array를 만듭니다.\n",
    "    left_array = video_array[:, :, :width_half, :]\n",
    "    right_array = video_array[:, :, width_half:, :]\n",
    "\n",
    "    # left_array의 height 차원의 아래쪽에 right_array를 append합니다.\n",
    "    modified_video_array = np.append(left_array, right_array, axis=1)\n",
    "\n",
    "    return modified_video_array"
   ]
  },
  {
   "cell_type": "code",
   "execution_count": 20,
   "metadata": {},
   "outputs": [],
   "source": [
    "# function 실행\n",
    "new_video_array = cut_n_append(video_array)"
   ]
  },
  {
   "cell_type": "code",
   "execution_count": 21,
   "metadata": {},
   "outputs": [
    {
     "name": "stderr",
     "output_type": "stream",
     "text": [
      "ffmpeg version 4.4.2-0ubuntu0.22.04.1 Copyright (c) 2000-2021 the FFmpeg developers\n",
      "  built with gcc 11 (Ubuntu 11.2.0-19ubuntu1)\n",
      "  configuration: --prefix=/usr --extra-version=0ubuntu0.22.04.1 --toolchain=hardened --libdir=/usr/lib/x86_64-linux-gnu --incdir=/usr/include/x86_64-linux-gnu --arch=amd64 --enable-gpl --disable-stripping --enable-gnutls --enable-ladspa --enable-libaom --enable-libass --enable-libbluray --enable-libbs2b --enable-libcaca --enable-libcdio --enable-libcodec2 --enable-libdav1d --enable-libflite --enable-libfontconfig --enable-libfreetype --enable-libfribidi --enable-libgme --enable-libgsm --enable-libjack --enable-libmp3lame --enable-libmysofa --enable-libopenjpeg --enable-libopenmpt --enable-libopus --enable-libpulse --enable-librabbitmq --enable-librubberband --enable-libshine --enable-libsnappy --enable-libsoxr --enable-libspeex --enable-libsrt --enable-libssh --enable-libtheora --enable-libtwolame --enable-libvidstab --enable-libvorbis --enable-libvpx --enable-libwebp --enable-libx265 --enable-libxml2 --enable-libxvid --enable-libzimg --enable-libzmq --enable-libzvbi --enable-lv2 --enable-omx --enable-openal --enable-opencl --enable-opengl --enable-sdl2 --enable-pocketsphinx --enable-librsvg --enable-libmfx --enable-libdc1394 --enable-libdrm --enable-libiec61883 --enable-chromaprint --enable-frei0r --enable-libx264 --enable-shared\n",
      "  libavutil      56. 70.100 / 56. 70.100\n",
      "  libavcodec     58.134.100 / 58.134.100\n",
      "  libavformat    58. 76.100 / 58. 76.100\n",
      "  libavdevice    58. 13.100 / 58. 13.100\n",
      "  libavfilter     7.110.100 /  7.110.100\n",
      "  libswscale      5.  9.100 /  5.  9.100\n",
      "  libswresample   3.  9.100 /  3.  9.100\n",
      "  libpostproc    55.  9.100 / 55.  9.100\n",
      "Input #0, rawvideo, from 'pipe:':\n",
      "  Duration: N/A, start: 0.000000, bitrate: 141312 kb/s\n",
      "  Stream #0:0: Video: rawvideo (RGB[24] / 0x18424752), rgb24, 320x736, 141312 kb/s, 25 tbr, 25 tbn, 25 tbc\n",
      "Stream mapping:\n",
      "  Stream #0:0 -> #0:0 (rawvideo (native) -> h264 (libx264))\n",
      "[libx264 @ 0x6206df600b00] using cpu capabilities: MMX2 SSE2Fast SSSE3 SSE4.2\n",
      "[libx264 @ 0x6206df600b00] profile High, level 3.0, 4:2:0, 8-bit\n",
      "[libx264 @ 0x6206df600b00] 264 - core 163 r3060 5db6aa6 - H.264/MPEG-4 AVC codec - Copyleft 2003-2021 - http://www.videolan.org/x264.html - options: cabac=1 ref=3 deblock=1:0:0 analyse=0x3:0x113 me=hex subme=7 psy=1 psy_rd=1.00:0.00 mixed_ref=1 me_range=16 chroma_me=1 trellis=1 8x8dct=1 cqm=0 deadzone=21,11 fast_pskip=1 chroma_qp_offset=-2 threads=3 lookahead_threads=1 sliced_threads=0 nr=0 decimate=1 interlaced=0 bluray_compat=0 constrained_intra=0 bframes=3 b_pyramid=2 b_adapt=1 b_bias=0 direct=1 weightb=1 open_gop=0 weightp=2 keyint=250 keyint_min=25 scenecut=40 intra_refresh=0 rc_lookahead=40 rc=crf mbtree=1 crf=23.0 qcomp=0.60 qpmin=0 qpmax=69 qpstep=4 ip_ratio=1.40 aq=1:1.00\n",
      "Output #0, mp4, to 'new_video.mp4':\n",
      "  Metadata:\n",
      "    encoder         : Lavf58.76.100\n",
      "  Stream #0:0: Video: h264 (avc1 / 0x31637661), yuv420p(tv, progressive), 320x736, q=2-31, 30 fps, 15360 tbn\n",
      "    Metadata:\n",
      "      encoder         : Lavc58.134.100 libx264\n",
      "    Side data:\n",
      "      cpb: bitrate max/min/avg: 0/0/0 buffer size: 0 vbv_delay: N/A\n",
      "frame=  911 fps= 53 q=-1.0 Lsize=    1748kB time=00:00:30.26 bitrate= 473.2kbits/s dup=152 drop=0 speed=1.75x    \n",
      "video:1738kB audio:0kB subtitle:0kB other streams:0kB global headers:0kB muxing overhead: 0.579516%\n",
      "[libx264 @ 0x6206df600b00] frame I:8     Avg QP:18.54  size: 27330\n",
      "[libx264 @ 0x6206df600b00] frame P:470   Avg QP:23.66  size:  2907\n",
      "[libx264 @ 0x6206df600b00] frame B:433   Avg QP:29.72  size:   449\n",
      "[libx264 @ 0x6206df600b00] consecutive B-frames: 27.4% 23.7% 11.5% 37.3%\n",
      "[libx264 @ 0x6206df600b00] mb I  I16..4: 16.5% 73.2% 10.3%\n",
      "[libx264 @ 0x6206df600b00] mb P  I16..4:  0.4%  1.9%  0.2%  P16..4: 30.6% 11.8%  6.9%  0.0%  0.0%    skip:48.1%\n",
      "[libx264 @ 0x6206df600b00] mb B  I16..4:  0.1%  0.3%  0.0%  B16..8: 16.6%  1.4%  0.3%  direct: 0.5%  skip:80.9%  L0:42.8% L1:50.9% BI: 6.4%\n",
      "[libx264 @ 0x6206df600b00] 8x8 transform intra:73.8% inter:75.1%\n",
      "[libx264 @ 0x6206df600b00] coded y,uvDC,uvAC intra: 70.7% 83.8% 42.5% inter: 10.5% 11.7% 0.9%\n",
      "[libx264 @ 0x6206df600b00] i16 v,h,dc,p: 17% 38%  8% 36%\n",
      "[libx264 @ 0x6206df600b00] i8 v,h,dc,ddl,ddr,vr,hd,vl,hu: 18% 18% 18%  6%  7%  8%  8%  8%  8%\n",
      "[libx264 @ 0x6206df600b00] i4 v,h,dc,ddl,ddr,vr,hd,vl,hu: 16% 24% 13%  7% 10%  8%  9%  7%  7%\n",
      "[libx264 @ 0x6206df600b00] i8c dc,h,v,p: 41% 24% 23% 12%\n",
      "[libx264 @ 0x6206df600b00] Weighted P-Frames: Y:0.0% UV:0.0%\n",
      "[libx264 @ 0x6206df600b00] ref P L0: 71.8% 17.5%  8.2%  2.4%\n",
      "[libx264 @ 0x6206df600b00] ref B L0: 89.6%  8.6%  1.8%\n",
      "[libx264 @ 0x6206df600b00] ref B L1: 98.2%  1.8%\n",
      "[libx264 @ 0x6206df600b00] kb/s:468.74\n"
     ]
    }
   ],
   "source": [
    "# video data 로 mp4 파일 생성\n",
    "ndarray_2_video(new_video_array, 'new_video.mp4')"
   ]
  }
 ],
 "metadata": {
  "kernelspec": {
   "display_name": "Python 3",
   "language": "python",
   "name": "python3"
  },
  "language_info": {
   "codemirror_mode": {
    "name": "ipython",
    "version": 3
   },
   "file_extension": ".py",
   "mimetype": "text/x-python",
   "name": "python",
   "nbconvert_exporter": "python",
   "pygments_lexer": "ipython3",
   "version": "3.10.12"
  }
 },
 "nbformat": 4,
 "nbformat_minor": 2
}
