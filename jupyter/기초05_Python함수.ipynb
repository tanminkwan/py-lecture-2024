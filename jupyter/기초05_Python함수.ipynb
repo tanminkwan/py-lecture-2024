{
 "cells": [
  {
   "cell_type": "markdown",
   "metadata": {},
   "source": [
    "# Python 함수(Function)\n",
    "\n",
    "- 함수는 특정 작업을 수행하는 코드 블록으로, 재사용 가능한 독립적인 단위입니다.\n",
    "- 함수는 필요할 때마다 호출되어 실행되며, 필요한 매개변수를 전달하여 작업을 수행할 수 있습니다.\n",
    "\n",
    "### 1. 함수의 구조"
   ]
  },
  {
   "cell_type": "code",
   "execution_count": null,
   "metadata": {},
   "outputs": [],
   "source": [
    "def function_name(parameters):\n",
    "    \"\"\"함수 설명(문서화 문자열)\"\"\"\n",
    "    # 함수의 기능을 수행하는 코드\n",
    "    return value"
   ]
  },
  {
   "cell_type": "markdown",
   "metadata": {},
   "source": [
    "  - def: 함수를 정의하는 키워드\n",
    "  - function_name: 함수의 이름으로, 호출할 때 사용됩니다.\n",
    "  - parameters: 함수가 필요로 하는 입력 값으로, 생략 가능합니다.\n",
    "  - return: 함수의 결과를 반환하는 키워드로, 생략 가능합니다."
   ]
  },
  {
   "cell_type": "markdown",
   "metadata": {},
   "source": [
    "### 2. 함수의 예제\n",
    "#### 2-1. 기본적인 함수 정의와 호출"
   ]
  },
  {
   "cell_type": "code",
   "execution_count": null,
   "metadata": {},
   "outputs": [],
   "source": [
    "def greet(name):\n",
    "    \"\"\"인사하는 함수\"\"\"\n",
    "    print(\"Hello,\", name)\n",
    "\n",
    "# 함수 호출\n",
    "greet(\"Alice\")  # 출력: Hello, Alice"
   ]
  },
  {
   "cell_type": "markdown",
   "metadata": {},
   "source": [
    "#### 2-2. 매개변수와 반환 값이 있는 함수"
   ]
  },
  {
   "cell_type": "code",
   "execution_count": null,
   "metadata": {},
   "outputs": [],
   "source": [
    "def add(a, b):\n",
    "    \"\"\"두 수를 더하는 함수\"\"\"\n",
    "    return a + b\n",
    "\n",
    "# 함수 호출\n",
    "result = add(3, 5)\n",
    "print(result)  # 출력: 8"
   ]
  },
  {
   "cell_type": "markdown",
   "metadata": {},
   "source": [
    "#### 2-3. 명시적인 매개변수에 기본값(default value)을 가진 함수"
   ]
  },
  {
   "cell_type": "code",
   "execution_count": null,
   "metadata": {},
   "outputs": [],
   "source": [
    "def greet_with_default(name=\"Anonymous\"):\n",
    "    \"\"\"기본 값이 있는 인사하는 함수\"\"\"\n",
    "    print(\"Hello,\", name)\n",
    "\n",
    "# 함수 호출\n",
    "greet_with_default()       # 출력: Hello, Anonymous\n",
    "greet_with_default(\"Bob\")  # 출력: Hello, Bob\n",
    "greet_with_default(name=\"Tom\")  # 출력: Hello, Tom"
   ]
  },
  {
   "cell_type": "markdown",
   "metadata": {},
   "source": [
    "#### 2-4. 임의의 개수의 인자를 받는 함수"
   ]
  },
  {
   "cell_type": "code",
   "execution_count": null,
   "metadata": {},
   "outputs": [],
   "source": [
    "def multiply(*args):\n",
    "    \"\"\"여러 수를 곱하는 함수\"\"\"\n",
    "    result = 1\n",
    "    for num in args:\n",
    "        result *= num\n",
    "    return result\n",
    "\n",
    "# 함수 호출\n",
    "result = multiply(2, 3, 4)\n",
    "print(result)  # 출력: 24"
   ]
  },
  {
   "cell_type": "markdown",
   "metadata": {},
   "source": [
    "#### 2-5. 키워드 인자를 받는 함수"
   ]
  },
  {
   "cell_type": "code",
   "execution_count": null,
   "metadata": {},
   "outputs": [],
   "source": [
    "def person_info(name, age):\n",
    "    \"\"\"사람 정보 출력 함수\"\"\"\n",
    "    print(\"Name:\", name)\n",
    "    print(\"Age:\", age)\n",
    "\n",
    "# 함수 호출\n",
    "person_info(name=\"Alice\", age=30)"
   ]
  },
  {
   "cell_type": "markdown",
   "metadata": {},
   "source": [
    "#### 2-6. 람다(lambda) 함수(익명 함수)"
   ]
  },
  {
   "cell_type": "code",
   "execution_count": null,
   "metadata": {},
   "outputs": [],
   "source": [
    "double = lambda x: x * 2\n",
    "\n",
    "# 람다 함수 호출\n",
    "print(double(5))  # 출력: 10"
   ]
  },
  {
   "cell_type": "code",
   "execution_count": null,
   "metadata": {},
   "outputs": [],
   "source": [
    "# 변수 할달 없이 바로 실행\n",
    "print((lambda x: x * 2)(5))"
   ]
  },
  {
   "cell_type": "markdown",
   "metadata": {},
   "source": [
    "### 3. Python 함수 특징\n",
    "#### 3-1. Unpacked Argument(언팩된 인자)\n",
    "- 함수에 여러 개의 인자를 전달할 때, 리스트나 튜플 등의 컨테이너를 언팩하여 전달할 수 있습니다."
   ]
  },
  {
   "cell_type": "code",
   "execution_count": null,
   "metadata": {},
   "outputs": [],
   "source": [
    "def sum_of_numbers(*args):\n",
    "    \"\"\"인자를 받아서 합을 계산하는 함수\"\"\"\n",
    "    total = 0\n",
    "    for num in args:\n",
    "        total += num\n",
    "    return total\n",
    "\n",
    "numbers = [1, 2, 3, 4, 5]\n",
    "\n",
    "# 리스트의 요소를 언팩하여 함수에 전달\n",
    "result = sum_of_numbers(*numbers)\n",
    "print(result)  # 출력: 15"
   ]
  },
  {
   "cell_type": "code",
   "execution_count": null,
   "metadata": {},
   "outputs": [],
   "source": [
    "def sum_of_numbers(**kwargs):\n",
    "    \"\"\"인자를 받아서 합을 계산하는 함수\"\"\"\n",
    "    total = 0\n",
    "    for num in kwargs:\n",
    "        total += kwargs[num]\n",
    "    return total\n",
    "\n",
    "numbers = {\"a\":1, \"b\":2, \"c\":3, \"d\":4, \"e\":5}\n",
    "\n",
    "# 리스트의 요소를 언팩하여 함수에 전달\n",
    "result = sum_of_numbers(**numbers)\n",
    "print(result)  # 출력: 15"
   ]
  },
  {
   "cell_type": "markdown",
   "metadata": {},
   "source": [
    "#### 3-2. First-Class Object (일급 객체)\n",
    "\n",
    "- 일급 객체(First-class object)란 프로그래밍 언어에서 다음과 같은 조건을 만족하는 객체를 말합니다.\n",
    "    - 변수에 할당할 수 있어야 합니다.\n",
    "    - 함수의 매개변수로 전달할 수 있어야 합니다.\n",
    "    - 함수의 반환 값으로 사용할 수 있어야 합니다.\n",
    "    - 자료 구조에 저장할 수 있어야 합니다.\n",
    "- Python에서 함수는 일급 객체(First-class object)입니다."
   ]
  },
  {
   "cell_type": "code",
   "execution_count": null,
   "metadata": {},
   "outputs": [],
   "source": [
    "def person_info(name, age):\n",
    "    \"\"\"사람 정보 출력 함수\"\"\"\n",
    "    return f\"Name:{name} Age:{age}\"\n",
    "\n",
    "# 1. 함수가 다른 함수의 인자로 전달\n",
    "def function_arg(f, name, age):\n",
    "    profile = f(name, age)\n",
    "    return profile\n",
    "\n",
    "print(function_arg(person_info, \"Tom\", 20))\n",
    "\n",
    "# 2. 함수가 함수의 반환 값으로 사용\n",
    "def function_return():\n",
    "    return person_info\n",
    "    \n",
    "print(function_return()(\"Tom\", 20))"
   ]
  },
  {
   "cell_type": "markdown",
   "metadata": {},
   "source": [
    "#### 3-3. Inner Function (내부 함수)\n",
    "- 다른 함수 내부에 정의된 함수로, 해당 함수가 속한 함수의 지역 범위에서만 사용할 수 있습니다."
   ]
  },
  {
   "cell_type": "code",
   "execution_count": null,
   "metadata": {},
   "outputs": [],
   "source": [
    "def outer_function():\n",
    "    \"\"\"외부 함수\"\"\"\n",
    "    def inner_function():\n",
    "        \"\"\"내부 함수\"\"\"\n",
    "        return \"This is inner function\"\n",
    "    return inner_function\n",
    "\n",
    "# 외부 함수 호출\n",
    "print(outer_function()())  # 출력: This is inner function"
   ]
  },
  {
   "cell_type": "markdown",
   "metadata": {},
   "source": [
    "#### 3-4. Closure (클로저)\n",
    "- 외부 함수가 종료되더라도 내부 함수가 외부 함수의 변수에 접근할 수 있는 함수를 말합니다."
   ]
  },
  {
   "cell_type": "code",
   "execution_count": null,
   "metadata": {},
   "outputs": [],
   "source": [
    "def outer_function(x):\n",
    "    \"\"\"외부 함수\"\"\"\n",
    "    def inner_function(y):\n",
    "        \"\"\"내부 함수\"\"\"\n",
    "        return x + y\n",
    "    return inner_function\n",
    "\n",
    "# 클로저 생성\n",
    "closure = outer_function(5)\n",
    "\n",
    "# 클로저 호출 ()\n",
    "# outer_function의 return 동작 이후에도 outer_function에서 정의된 변수 x가 inner_function에 의해 사용됨\n",
    "result = closure(3)\n",
    "print(result)  # 출력: 8"
   ]
  },
  {
   "cell_type": "markdown",
   "metadata": {},
   "source": [
    "#### 3-5. Decorator (데코레이터)\n",
    "- 다른 함수의 기능을 확장하기 위해 사용되는 함수로, 함수를 인자로 받아 새로운 기능을 추가한 후 해당 함수를 반환합니다."
   ]
  },
  {
   "cell_type": "code",
   "execution_count": null,
   "metadata": {},
   "outputs": [],
   "source": [
    "def my_decorator(func):\n",
    "    \"\"\"데코레이터 함수\"\"\"\n",
    "    def wrapper():\n",
    "        \"\"\"내부 함수\"\"\"\n",
    "        print(\"여러분과 함께 Python 공부하기를 희망하는\")\n",
    "        func()\n",
    "        print(\"장례희망은 화장 후 우주에 뼛까루를 뿌리는 것 입니다.\")\n",
    "    return wrapper\n",
    "\n",
    "@my_decorator\n",
    "def who_am_i():\n",
    "    \"\"\"자기 소개 함수\"\"\"\n",
    "    print(\"김형기 입니다.\")\n",
    "\n",
    "# 함수 호출\n",
    "who_am_i()\n"
   ]
  },
  {
   "cell_type": "markdown",
   "metadata": {},
   "source": [
    "- who_am_i를 호출하면 실제로는 my_decorator의 inner함수 wrapper가 실행됩니다."
   ]
  },
  {
   "cell_type": "code",
   "execution_count": null,
   "metadata": {},
   "outputs": [],
   "source": [
    "print(\"who_am_i ? : \", who_am_i.__name__)"
   ]
  },
  {
   "cell_type": "markdown",
   "metadata": {},
   "source": [
    "- my_decorator의 inner 함수 wrapper와 who_am_i에 인자를 추가한 경우"
   ]
  },
  {
   "cell_type": "code",
   "execution_count": null,
   "metadata": {},
   "outputs": [],
   "source": [
    "def my_decorator(func):\n",
    "    \"\"\"데코레이터 함수\"\"\"\n",
    "    def wrapper(prefix, name, hope):\n",
    "        \"\"\"내부 함수\"\"\"\n",
    "        print(f\"여러분과 함께 {prefix}하게 된\")\n",
    "        func(name)\n",
    "        print(f\"장래희망은 {hope} 입니다.\")\n",
    "    return wrapper\n",
    "\n",
    "@my_decorator\n",
    "def who_am_i(name):\n",
    "    \"\"\"자기 소개 함수\"\"\"\n",
    "    print(f\"{name} 입니다.\")\n",
    "\n",
    "# 함수 호출\n",
    "# 주의:함수 who_am_i의 인자가 아닌 데코레이터의 inner함수인 wrapper의 인자를 입력해야 한다.\n",
    "who_am_i(\n",
    "    \"Python 공부\",\n",
    "    \"김형기\",\n",
    "    \"우주비행사\"\n",
    ")"
   ]
  },
  {
   "cell_type": "markdown",
   "metadata": {},
   "source": [
    "### 문제 #1\n",
    "- 주어진 num_list 를 인자로 받아 num_list 의 합을 구하는 함수 sum_all 을 완성하세요"
   ]
  },
  {
   "cell_type": "code",
   "execution_count": null,
   "metadata": {},
   "outputs": [],
   "source": [
    "nums_list = [1, 3, 5, -1, 8]\n",
    "\n",
    "# to-do : 함수 sum_all 을 정의하시오\n",
    "# def sum_all\n",
    "\n",
    "print(sum_all(nums_list))\n",
    "# 예상결과 : \n",
    "# ---\n",
    "# 16"
   ]
  },
  {
   "cell_type": "markdown",
   "metadata": {},
   "source": [
    "### 문제 #2\n",
    "- 주어진 send_myinfo 함수는 입력받은 인자들 중에 name, age, city 3개만 취해서 차례로 return 하는 함수입니다.\n",
    "- 인자로 받은 name, age, city 값들을 가공없이 차례로 return 하도록 to-do 영역을 완성하세요."
   ]
  },
  {
   "cell_type": "code",
   "execution_count": 2,
   "metadata": {},
   "outputs": [
    {
     "name": "stdout",
     "output_type": "stream",
     "text": [
      "내이름은 None, 나이는 None, 사는 곳은 None 입니다.\n"
     ]
    }
   ],
   "source": [
    "me = {\"name\":\"Tom\", \"age\":23, \"city\":\"seoul\"}\n",
    "\n",
    "def send_myinfo(**kwargs):\n",
    "    name = None\n",
    "    age = None\n",
    "    city = None\n",
    "    #to-do\n",
    "    return name, age, city\n",
    "\n",
    "name, age, city = send_myinfo(**me)\n",
    "print(f\"내이름은 {name}, 나이는 {age}, 사는 곳은 {city} 입니다.\")\n",
    "\n",
    "# 예상결과 : \n",
    "# ---\n",
    "# 내이름은 Tom, 나이는 23, 사는 곳은 seoul 입니다.\n"
   ]
  },
  {
   "cell_type": "markdown",
   "metadata": {},
   "source": [
    "### Wrap up\n",
    "1. **Python 함수(Function)**\n",
    "\n",
    "    함수는 코드의 재사용 가능한 독립적 단위입니다. 매개변수를 통해 입력을 받고, `return`으로 결과를 반환할 수 있습니다.\n",
    "2. **함수의 구조**\n",
    "\n",
    "    `def` 키워드로 시작하며, 함수의 이름, 매개변수, 문서화 문자열, 실행 코드, 반환 값으로 구성됩니다.\n",
    "3. **함수의 예제**\n",
    "\n",
    "    기본적인 함수, 매개변수와 반환 값이 있는 함수, 기본값을 가진 매개변수, 임의의 개수의 인자, 키워드 인자, 람다 함수 등 다양한 예제를 포함합니다.\n",
    "\n",
    "4. **Python 함수 특징**\n",
    "  - Unpacked Argument(언팩된 인자) : 리스트나 튜플을 언팩하여 함수에 인자로 전달할 수 있습니다.\n",
    "  - First-Class Object (일급 객체) : 변수에 할당, 함수의 매개변수로 전달, 반환 값으로 사용, 자료 구조에 저장 가능합니다.\n",
    "  - Inner Function (내부 함수) : 다른 함수 내부에 정의된 함수로, 해당 함수 범위 내에서만 사용할 수 있습니다.\n",
    "  - Closure (클로저) : 외부 함수가 종료된 후에도 내부 함수가 외부 함수의 변수에 접근할 수 있습니다.\n",
    "  - Decorator (데코레이터) : 다른 함수의 기능을 확장하기 위해 사용되는 함수입니다."
   ]
  }
 ],
 "metadata": {
  "kernelspec": {
   "display_name": "Python 3",
   "language": "python",
   "name": "python3"
  },
  "language_info": {
   "codemirror_mode": {
    "name": "ipython",
    "version": 3
   },
   "file_extension": ".py",
   "mimetype": "text/x-python",
   "name": "python",
   "nbconvert_exporter": "python",
   "pygments_lexer": "ipython3",
   "version": "3.10.12"
  }
 },
 "nbformat": 4,
 "nbformat_minor": 2
}
