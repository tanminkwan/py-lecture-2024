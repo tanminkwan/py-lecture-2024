{
 "cells": [
  {
   "cell_type": "markdown",
   "metadata": {},
   "source": [
    "### 사전준비\n",
    "- python library path에 parent directory 를 추가"
   ]
  },
  {
   "cell_type": "code",
   "execution_count": null,
   "metadata": {},
   "outputs": [],
   "source": [
    "# Parent directory의 .py 파일에 정의된 함수들를 import 하여 사용하기 위해 python library path에 parent directory 를 추가합니다.\n",
    "import os\n",
    "import sys\n",
    "\n",
    "current_dir = os.getcwd()\n",
    "print(\"Current Directory:\", current_dir)\n",
    "\n",
    "parent_dir = os.path.abspath(os.path.join(current_dir, '..'))\n",
    "print(\"Parent Directory:\", parent_dir)\n",
    "\n",
    "sys.path.append(parent_dir)\n",
    "\n",
    "# System Path 와는 다름\n",
    "print(\"System PATH :\", os.environ['PATH'])\n",
    "print(\"Python Library PATH :\", sys.path)"
   ]
  },
  {
   "cell_type": "markdown",
   "metadata": {},
   "source": [
    "- functions.py 에 미리 정의된 함수들을 import 한다\n",
    "- numpy를 import 한다"
   ]
  },
  {
   "cell_type": "code",
   "execution_count": null,
   "metadata": {},
   "outputs": [],
   "source": [
    "# ../functions.py 에 미리 정의된 함수들을 import 한다\n",
    "from functions import video_2_ndarray, ndarray_2_video\n",
    "\n",
    "# numpy를 import 한다\n",
    "import numpy as np\n"
   ]
  },
  {
   "cell_type": "markdown",
   "metadata": {},
   "source": [
    "- mp4 file의 video data를 ndarray(N-dimensional Array) 변수에 저장하기"
   ]
  },
  {
   "cell_type": "code",
   "execution_count": null,
   "metadata": {},
   "outputs": [],
   "source": [
    "# 함수 video_2_ndarray 를 사용하여 ../media/SampleVideo_640x360_5mb.mp4 의 video data를 ndarray 에 저장한다.\n",
    "video_array, _, _ = video_2_ndarray('../media/SampleVideo_640x360_5mb.mp4')"
   ]
  },
  {
   "cell_type": "markdown",
   "metadata": {},
   "source": [
    "- video_array 이해\n",
    "    - (frame 순번, height, width, 3) 4차원 구조\n",
    "    - subpixel값은 0~255 사이 정수값으로 빛의 밝기(값이 클수록 더 밝음)를 나타냄"
   ]
  },
  {
   "cell_type": "markdown",
   "metadata": {},
   "source": [
    "![Alt text for broken image link](../resources/video.jpg)"
   ]
  },
  {
   "cell_type": "markdown",
   "metadata": {},
   "source": [
    "- 생성된 video_array 의 형식과 내용 확인"
   ]
  },
  {
   "cell_type": "code",
   "execution_count": null,
   "metadata": {},
   "outputs": [],
   "source": [
    "# video_array 의 형식과 내용을 확인한다.\n",
    "print(f'차원(dimension) : {video_array.ndim}')\n",
    "print(f'형태(shape) : {video_array.shape}')\n",
    "print('값의 Type : ' ,video_array.dtype)\n",
    "print('일부 값 확인하기(frame #10, height #25, width #0~9, RGB) : ', video_array[10,25,:10,:])"
   ]
  },
  {
   "cell_type": "markdown",
   "metadata": {},
   "source": [
    "### 따라 해보기 #1. 꺼꾸로 play 되는 동영상 만들기"
   ]
  },
  {
   "cell_type": "code",
   "execution_count": null,
   "metadata": {},
   "outputs": [],
   "source": [
    "# 1. genAI 에게 아래와 같이 요청한다.\n",
    "\n",
    "\"\"\"\n",
    "prompt : \n",
    "꺼꾸로 play 되는 동영상 만들기\n",
    "아래와 같은 구조를 가진 numpy array 변수 vedio_array 이 있다\n",
    "\n",
    "dimension : 4\n",
    "shape : (frames, height, width, 3(rgb))\n",
    "data type :  uint8\n",
    "---\n",
    "vedio_array 의 frame 들을 역순으로 재배치하여\n",
    "변수 backwards_video_array 에 저장하는 code를 작성하라\n",
    "\"\"\"\n",
    "\n",
    "# 2. genAI 의 답변 중 필요한 부분만 잘라 paste 한다.\n",
    "backwards_video_array = video_array[::-1]"
   ]
  },
  {
   "cell_type": "code",
   "execution_count": null,
   "metadata": {},
   "outputs": [],
   "source": [
    "# video_array 의 형식과 내용을 확인한다.\n",
    "print(f'차원(dimension) : {backwards_video_array.ndim}')\n",
    "print(f'형태(shape) : {backwards_video_array.shape}')\n",
    "print('값의 Type : ' ,backwards_video_array.dtype)\n",
    "print('일부 값 (frame #0, height #0, width #0~9) : ', backwards_video_array[:1,:1,:10,:])"
   ]
  },
  {
   "cell_type": "code",
   "execution_count": null,
   "metadata": {},
   "outputs": [],
   "source": [
    "# 함수 ndarray_2_video 를 사용하여 backwards_video_arr를 mp4에 저장한다.\n",
    "ndarray_2_video(backwards_video_array, 'backwards_video.mp4')"
   ]
  },
  {
   "cell_type": "markdown",
   "metadata": {},
   "source": [
    "### 혼자 해보기 #1. 동영상의 색상을 반전시켜라\n",
    "- genAI 에게 질의할 prompt 를 작성한다.\n",
    "- genAI 의 답변을 참고하여 code를 완성한다"
   ]
  },
  {
   "cell_type": "code",
   "execution_count": null,
   "metadata": {},
   "outputs": [],
   "source": [
    "\"\"\"\n",
    "prompt : \n",
    "to-do\n",
    "\"\"\"\n",
    "\n",
    "# 동영상의 색상을 반전시키는 code\n",
    "# - genAI 가 알려준 code\n",
    "reversed_video_array = 255 - video_array\n",
    "\n",
    "# video data 로 mp4 파일 생성\n",
    "ndarray_2_video(reversed_video_array, 'reversed_video.mp4')\n"
   ]
  },
  {
   "cell_type": "markdown",
   "metadata": {},
   "source": [
    "### 따라 해보기 #2. 하나의 복잡한 문제를 여러 개의 서브 문제들로 분할 후 각각을 해결해서 종합(Least to Most 방식)\n",
    "- 문제를 분할 한다.\n",
    "- 분할된 문제들을 차례로 genAI로 하여금 해결하도록 한다.\n",
    "    - 이전 문제와 해결된 내용은 다음 문제 해결에 참고하도록 한다.(prompt chaining)\n",
    "- genAI 의 최종 답변을 참고하여 code를 완성한다."
   ]
  },
  {
   "cell_type": "code",
   "execution_count": null,
   "metadata": {},
   "outputs": [],
   "source": [
    "# 여기에 code 를 작성\n",
    "\"\"\"\n",
    "질의 #1)\n",
    "prompt :\n",
    "vedio_array의 3번째 차원 width를 반으로 나누어 두개의 numpy ndarray value left_array, right_array 를 만드는 code를 작성하라\n",
    "\n",
    "질의 #2)\n",
    "prompt :\n",
    "left_array 의 height 차원의 아래쪽에 right_array 를 append 하도록 code를 작성하라\n",
    "\"\"\"\n",
    "# 3번째 차원인 width를 둘로 나누기 위해 너비를 절반으로 나눕니다.\n",
    "width_half = video_array.shape[2] // 2\n",
    "\n",
    "# 3번째 차원을 둘로 나누어 left_array, right_array를 만듭니다.\n",
    "left_array = video_array[:, :, :width_half, :]\n",
    "right_array = video_array[:, :, width_half:, :]\n",
    "\n",
    "# left_array의 height 차원의 아래쪽에 right_array를 append합니다.\n",
    "combined_array = np.append(left_array, right_array, axis=1)"
   ]
  },
  {
   "cell_type": "code",
   "execution_count": null,
   "metadata": {},
   "outputs": [],
   "source": [
    "# video_array 의 형식과 내용을 확인한다.\n",
    "print(f'차원(dimension) : {combined_array.ndim}')\n",
    "print(f'형태(shape) : {combined_array.shape}')\n",
    "print('값의 Type : ' ,combined_array.dtype)\n",
    "print('일부 값 (frame #0, height #0, width #0~9) : ', combined_array[:1,:1,:10,:])"
   ]
  },
  {
   "cell_type": "code",
   "execution_count": null,
   "metadata": {},
   "outputs": [],
   "source": [
    "# video data 로 mp4 파일 생성\n",
    "ndarray_2_video(combined_array, 'cut_n_combined_video.mp4')"
   ]
  },
  {
   "cell_type": "markdown",
   "metadata": {},
   "source": [
    "### 마음대로 해보기 #1. 원본을 가공하여 새로운 동영상을 만들자"
   ]
  },
  {
   "cell_type": "code",
   "execution_count": null,
   "metadata": {},
   "outputs": [],
   "source": [
    "# to-do"
   ]
  }
 ],
 "metadata": {
  "kernelspec": {
   "display_name": "Python 3",
   "language": "python",
   "name": "python3"
  },
  "language_info": {
   "codemirror_mode": {
    "name": "ipython",
    "version": 3
   },
   "file_extension": ".py",
   "mimetype": "text/x-python",
   "name": "python",
   "nbconvert_exporter": "python",
   "pygments_lexer": "ipython3",
   "version": "3.10.12"
  }
 },
 "nbformat": 4,
 "nbformat_minor": 2
}
