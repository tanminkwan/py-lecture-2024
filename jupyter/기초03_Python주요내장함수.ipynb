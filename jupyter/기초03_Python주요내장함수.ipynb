{
 "cells": [
  {
   "cell_type": "markdown",
   "metadata": {},
   "source": [
    "## Python 주요 내장 함수\n",
    "- 많이 사용되는 Python 내장 함수들을 알아봅니다.\n",
    "\n",
    "### 1. `print()`\n",
    "- 값을 출력하는 함수입니다."
   ]
  },
  {
   "cell_type": "code",
   "execution_count": null,
   "metadata": {},
   "outputs": [],
   "source": [
    "print(\"Hello, World!\")"
   ]
  },
  {
   "cell_type": "markdown",
   "metadata": {},
   "source": [
    "### 2. `len()`\n",
    "- 시퀀스(문자열, 리스트, 딕셔너리, 튜플 등)의 길이를 반환합니다."
   ]
  },
  {
   "cell_type": "code",
   "execution_count": null,
   "metadata": {},
   "outputs": [],
   "source": [
    "my_list = [1, 2, 3, 4, 5]\n",
    "print(len(my_list))  # 출력: \n",
    "\n",
    "my_string = 'Hello Hello'\n",
    "print(len(my_string))  # 출력:"
   ]
  },
  {
   "cell_type": "markdown",
   "metadata": {},
   "source": [
    "### 3. `type()`\n",
    "- 객체의 타입을 반환합니다."
   ]
  },
  {
   "cell_type": "code",
   "execution_count": null,
   "metadata": {},
   "outputs": [],
   "source": [
    "print(type(\"Hello\"))  # 출력: <class 'str'>\n",
    "\n",
    "print(type(3))  # 출력: <class 'int'>"
   ]
  },
  {
   "cell_type": "markdown",
   "metadata": {},
   "source": [
    "### 4. `int()` `float()` `str()`\n",
    "- 값을 각각 정수, 부동소수점 수, 문자열로 변환합니다."
   ]
  },
  {
   "cell_type": "code",
   "execution_count": null,
   "metadata": {},
   "outputs": [],
   "source": [
    "num_str = \"10\"\n",
    "num_int = int(num_str)\n",
    "\n",
    "print(type(num_int), num_int)\n",
    "\n",
    "num_str = \"3.14\"\n",
    "num_float = float(num_str)\n",
    "\n",
    "print(type(num_float), num_float)\n",
    "\n",
    "str_float = 3.141592\n",
    "str_str = str(str_float)\n",
    "\n",
    "print(type(str_str), str_str)\n"
   ]
  },
  {
   "cell_type": "markdown",
   "metadata": {},
   "source": [
    "### 5. `range()`\n",
    "- 정수 범위의 순차적인 값을 생성합니다."
   ]
  },
  {
   "cell_type": "code",
   "execution_count": null,
   "metadata": {},
   "outputs": [],
   "source": [
    "# 0 ~ 4\n",
    "for i in range(5):\n",
    "    print('1st loop :', i)\n",
    "\n",
    "# 3 ~ 9\n",
    "for i in range(3,10):\n",
    "    print('2nd loop :', i)"
   ]
  },
  {
   "cell_type": "code",
   "execution_count": null,
   "metadata": {},
   "outputs": [],
   "source": [
    "# list type으로 변환\n",
    "print(list(range(5)))"
   ]
  },
  {
   "cell_type": "markdown",
   "metadata": {},
   "source": [
    "### 6. `sum()` `max()` `min()`\n",
    "- 집계, 그룹 함수를 재공합니다."
   ]
  },
  {
   "cell_type": "code",
   "execution_count": null,
   "metadata": {},
   "outputs": [],
   "source": [
    "# 입력 파라메터로 List, Set, Tuple 가능\n",
    "numbers = [1, 2, 3, 4, 5]\n",
    "total, largest, smallest = sum(numbers), max(numbers), min(numbers)\n",
    "print(total, largest, smallest)"
   ]
  },
  {
   "cell_type": "markdown",
   "metadata": {},
   "source": [
    "### 7. `round()`\n",
    "- 숫자를 반올림합니다."
   ]
  },
  {
   "cell_type": "code",
   "execution_count": null,
   "metadata": {},
   "outputs": [],
   "source": [
    "num = 3.14159\n",
    "rounded = round(num, 2)  # 소수점 두 자리까지 반올림\n",
    "print(rounded)"
   ]
  },
  {
   "cell_type": "markdown",
   "metadata": {},
   "source": [
    "### 8. `sorted()`\n",
    "\n",
    "- 정렬된 리스트를 반환합니다."
   ]
  },
  {
   "cell_type": "code",
   "execution_count": null,
   "metadata": {},
   "outputs": [],
   "source": [
    "# 입력 파라메터로 List, Tuple 가능\n",
    "numbers = [3, 1, 4, 1, 5, 9, 2]\n",
    "sorted_numbers = sorted(numbers)\n",
    "print(sorted_numbers)"
   ]
  },
  {
   "cell_type": "markdown",
   "metadata": {},
   "source": [
    "### 9. `any()` `all()`\n",
    "- any : 하나 이상의 요소가 참인지 확인합니다.\n",
    "- all : 모든 요소가 참인지 확인합니다."
   ]
  },
  {
   "cell_type": "code",
   "execution_count": null,
   "metadata": {},
   "outputs": [],
   "source": [
    "bool_list1 = [1==2, 1, 3 in [1,2,3]]\n",
    "print('bool_list1 : ', bool_list1)\n",
    "\n",
    "bool_list2 = [False, False, False]\n",
    "bool_list3 = [True, True, True]\n",
    "\n",
    "print('any : ', any(bool_list1), any(bool_list2), any(bool_list3))\n",
    "print('all : ', all(bool_list1), all(bool_list2), all(bool_list3))"
   ]
  },
  {
   "cell_type": "markdown",
   "metadata": {},
   "source": [
    "### 10. `zip()`\n",
    "- 여러 개의 iterable을 병렬로 묶습니다."
   ]
  },
  {
   "cell_type": "code",
   "execution_count": null,
   "metadata": {},
   "outputs": [],
   "source": [
    "list1 = ['a', 'b', 'c']\n",
    "list2 = [1, 2, 3]\n",
    "\n",
    "for z1, z2 in zip(list1, list2):\n",
    "    print(z1, z2)\n",
    "\n",
    "for z in zip(list1, list2):\n",
    "    print(z)\n",
    "\n",
    "for [*z] in zip(list1, list2):\n",
    "    print(z)"
   ]
  },
  {
   "cell_type": "markdown",
   "metadata": {},
   "source": [
    "### 11. `enumerate()`\n",
    "- 순서와 값을 함께 반환합니다."
   ]
  },
  {
   "cell_type": "code",
   "execution_count": null,
   "metadata": {},
   "outputs": [],
   "source": [
    "for index, value in enumerate(['a', 'b', 'c']):\n",
    "    print(index, value)"
   ]
  },
  {
   "cell_type": "markdown",
   "metadata": {},
   "source": [
    "### 문제 #1\n",
    "- 주어진 두 리스트 list_1과 list_2가 있습니다. 이 두 리스트는 같은 길이를 가지며, 각각의 요소는 True 또는 False 값만을 포함합니다. 두 리스트에서 값이 같은(둘다 True 또는 둘다 False) 위치(인덱스)를 찾고, 그 인덱스들을 새로운 리스트 same_list에 저장하도록 to-do를 완성하세요."
   ]
  },
  {
   "cell_type": "code",
   "execution_count": null,
   "metadata": {},
   "outputs": [],
   "source": [
    "list_1 = [False, True, True, True, False, False, True]\n",
    "list_2 = [True, True, False, False, True, False, True]\n",
    "\n",
    "same_list = []\n",
    "\n",
    "# to-do\n",
    "\n",
    "print(same_list)\n",
    "\n",
    "# 예상결과 : \n",
    "# ---\n",
    "# [1, 5, 6]\n"
   ]
  },
  {
   "cell_type": "markdown",
   "metadata": {},
   "source": [
    "### Wrap up\n",
    "1. **다양한 데이터 타입과 구조를 다루는 함수들**: \n",
    "\n",
    "    len(), type(), int(), float(), str() 등의 함수를 사용하여 데이터 타입을 조회하거나 변환할 수 있어야 합니다.\n",
    "\n",
    "2. **집계 함수들의 활용**: \n",
    "\n",
    "    sum(), max(), min()와 같은 함수들을 통해 데이터 집계를 할 수 있어야 합니다.\n",
    "\n",
    "3. **순회를 돕는 함수들의 활용**: \n",
    "\n",
    "    range(), enumerate(), zip()과 같은 함수들을 통해 데이터 대한 순회 및 변환 작업을 효과적으로 수행할 수 있어야 합니다.\n",
    "\n",
    "4. **조건 평가를 위한 함수의 사용**:\n",
    "\n",
    "    any()와 all() 함수를 활용하여 주어진 조건에 대한 데이터 평가를 간소화하는 방법을 알아야 합니다."
   ]
  }
 ],
 "metadata": {
  "kernelspec": {
   "display_name": "Python 3",
   "language": "python",
   "name": "python3"
  },
  "language_info": {
   "codemirror_mode": {
    "name": "ipython",
    "version": 3
   },
   "file_extension": ".py",
   "mimetype": "text/x-python",
   "name": "python",
   "nbconvert_exporter": "python",
   "pygments_lexer": "ipython3",
   "version": "3.10.12"
  }
 },
 "nbformat": 4,
 "nbformat_minor": 2
}
