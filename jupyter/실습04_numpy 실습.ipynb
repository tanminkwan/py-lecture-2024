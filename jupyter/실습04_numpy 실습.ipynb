{
 "cells": [
  {
   "cell_type": "markdown",
   "metadata": {},
   "source": [
    "### 사전준비\n",
    "    - mp4 file의 video data를 numpy array 변수에 저장하기"
   ]
  },
  {
   "cell_type": "code",
   "execution_count": 13,
   "metadata": {},
   "outputs": [
    {
     "name": "stdout",
     "output_type": "stream",
     "text": [
      "Current Directory: /home/hennry/GitHub/py-lecture-2024/jupyter\n",
      "Parent Directory: /home/hennry/GitHub/py-lecture-2024\n",
      "System PATH : /bin:/usr/local/lib/nodejs/node-v18.15.0-linux-x64/bin:/home/hennry/.local/bin:/usr/local/sbin:/usr/local/bin:/usr/sbin:/usr/bin:/sbin:/bin:/usr/games:/usr/local/games:/snap/bin:/usr/local/lib/nodejs/node-v18.15.0-linux-x64/bin:/home/hennry/.local/bin:/usr/local/sbin:/usr/local/bin:/usr/sbin:/usr/bin:/sbin:/bin:/usr/games:/usr/local/games:/snap/bin\n",
      "Python Library PATH : ['/home/hennry/GitHub/py-lecture-2024/jupyter', '/usr/lib/python310.zip', '/usr/lib/python3.10', '/usr/lib/python3.10/lib-dynload', '', '/home/hennry/.local/lib/python3.10/site-packages', '/usr/local/lib/python3.10/dist-packages', '/usr/lib/python3/dist-packages', '/home/hennry/GitHub/py-lecture-2024', '/home/hennry/GitHub/py-lecture-2024']\n"
     ]
    }
   ],
   "source": [
    "# Parent directory의 .py 파일에 정의된 함수들를 import 하여 사용하기 위해 parent directory 를 python path에 추가합니다.\n",
    "\n",
    "import sys\n",
    "import os\n",
    "\n",
    "current_dir = os.getcwd()\n",
    "print(\"Current Directory:\", current_dir)\n",
    "\n",
    "parent_dir = os.path.abspath(os.path.join(current_dir, '..'))\n",
    "print(\"Parent Directory:\", parent_dir)\n",
    "\n",
    "sys.path.append(parent_dir)\n",
    "\n",
    "# System Path 와는 다름\n",
    "print(\"System PATH :\", os.environ['PATH'])\n",
    "print(\"Python Library PATH :\", sys.path)"
   ]
  },
  {
   "cell_type": "code",
   "execution_count": 2,
   "metadata": {},
   "outputs": [],
   "source": [
    "# ../functions.py 에 미리 정의된 함수들을 import 한다\n",
    "from functions import video_2_ndarray, ndarray_2_video\n",
    "\n",
    "# numpy를 import 한다\n",
    "import numpy as np\n"
   ]
  },
  {
   "cell_type": "code",
   "execution_count": 3,
   "metadata": {},
   "outputs": [
    {
     "name": "stderr",
     "output_type": "stream",
     "text": [
      "ffmpeg version 4.4.2-0ubuntu0.22.04.1 Copyright (c) 2000-2021 the FFmpeg developers\n",
      "  built with gcc 11 (Ubuntu 11.2.0-19ubuntu1)\n",
      "  configuration: --prefix=/usr --extra-version=0ubuntu0.22.04.1 --toolchain=hardened --libdir=/usr/lib/x86_64-linux-gnu --incdir=/usr/include/x86_64-linux-gnu --arch=amd64 --enable-gpl --disable-stripping --enable-gnutls --enable-ladspa --enable-libaom --enable-libass --enable-libbluray --enable-libbs2b --enable-libcaca --enable-libcdio --enable-libcodec2 --enable-libdav1d --enable-libflite --enable-libfontconfig --enable-libfreetype --enable-libfribidi --enable-libgme --enable-libgsm --enable-libjack --enable-libmp3lame --enable-libmysofa --enable-libopenjpeg --enable-libopenmpt --enable-libopus --enable-libpulse --enable-librabbitmq --enable-librubberband --enable-libshine --enable-libsnappy --enable-libsoxr --enable-libspeex --enable-libsrt --enable-libssh --enable-libtheora --enable-libtwolame --enable-libvidstab --enable-libvorbis --enable-libvpx --enable-libwebp --enable-libx265 --enable-libxml2 --enable-libxvid --enable-libzimg --enable-libzmq --enable-libzvbi --enable-lv2 --enable-omx --enable-openal --enable-opencl --enable-opengl --enable-sdl2 --enable-pocketsphinx --enable-librsvg --enable-libmfx --enable-libdc1394 --enable-libdrm --enable-libiec61883 --enable-chromaprint --enable-frei0r --enable-libx264 --enable-shared\n",
      "  libavutil      56. 70.100 / 56. 70.100\n",
      "  libavcodec     58.134.100 / 58.134.100\n",
      "  libavformat    58. 76.100 / 58. 76.100\n",
      "  libavdevice    58. 13.100 / 58. 13.100\n",
      "  libavfilter     7.110.100 /  7.110.100\n",
      "  libswscale      5.  9.100 /  5.  9.100\n",
      "  libswresample   3.  9.100 /  3.  9.100\n",
      "  libpostproc    55.  9.100 / 55.  9.100\n",
      "Input #0, mov,mp4,m4a,3gp,3g2,mj2, from '../media/SampleVideo_640x360_5mb.mp4':\n",
      "  Metadata:\n",
      "    major_brand     : isom\n",
      "    minor_version   : 512\n",
      "    compatible_brands: isomiso2mp41\n",
      "    creation_time   : 1970-01-01T00:00:00.000000Z\n",
      "    encoder         : Lavf53.24.2\n",
      "  Duration: 00:00:30.38, start: 0.000000, bitrate: 1380 kb/s\n",
      "  Stream #0:0(und): Video: mpeg4 (Simple Profile) (mp4v / 0x7634706D), yuv420p, 640x368 [SAR 1:1 DAR 40:23], 993 kb/s, 25 fps, 25 tbr, 12800 tbn, 25 tbc (default)\n",
      "    Metadata:\n",
      "      creation_time   : 1970-01-01T00:00:00.000000Z\n",
      "      handler_name    : VideoHandler\n",
      "      vendor_id       : [0][0][0][0]\n",
      "  Stream #0:1(und): Audio: aac (LC) (mp4a / 0x6134706D), 48000 Hz, 5.1, fltp, 383 kb/s (default)\n",
      "    Metadata:\n",
      "      creation_time   : 1970-01-01T00:00:00.000000Z\n",
      "      handler_name    : SoundHandler\n",
      "      vendor_id       : [0][0][0][0]\n",
      "Stream mapping:\n",
      "  Stream #0:0 -> #0:0 (mpeg4 (native) -> rawvideo (native))\n",
      "Press [q] to stop, [?] for help\n",
      "Output #0, rawvideo, to 'pipe:':\n",
      "  Metadata:\n",
      "    major_brand     : isom\n",
      "    minor_version   : 512\n",
      "    compatible_brands: isomiso2mp41\n",
      "    encoder         : Lavf58.76.100\n",
      "  Stream #0:0(und): Video: rawvideo (RGB[24] / 0x18424752), rgb24(pc, gbr/unknown/unknown, progressive), 640x368 [SAR 1:1 DAR 40:23], q=2-31, 141312 kb/s, 25 fps, 25 tbn (default)\n",
      "    Metadata:\n",
      "      creation_time   : 1970-01-01T00:00:00.000000Z\n",
      "      handler_name    : VideoHandler\n",
      "      vendor_id       : [0][0][0][0]\n",
      "      encoder         : Lavc58.134.100 rawvideo\n",
      "frame=  759 fps=241 q=-0.0 Lsize=  523710kB time=00:00:30.36 bitrate=141312.0kbits/s speed=9.65x    \n",
      "video:523710kB audio:0kB subtitle:0kB other streams:0kB global headers:0kB muxing overhead: 0.000000%\n"
     ]
    }
   ],
   "source": [
    "# 함수 video_2_ndarray 를 사용하여 ../media/SampleVideo_640x360_5mb.mp4 의 video data를 ndarray 에 저장한다.\n",
    "video_array, _, _ = video_2_ndarray('../media/SampleVideo_640x360_5mb.mp4')"
   ]
  },
  {
   "cell_type": "code",
   "execution_count": 4,
   "metadata": {},
   "outputs": [
    {
     "name": "stdout",
     "output_type": "stream",
     "text": [
      "차원(dimension) : 4\n",
      "형태(shape) : (759, 368, 640, 3)\n",
      "값의 Type :  uint8\n",
      "일부 값 (frame #0, height #0, width #0~9) :  [[[[5 0 0]\n",
      "   [1 0 0]\n",
      "   [0 0 0]\n",
      "   [0 0 0]\n",
      "   [3 0 4]\n",
      "   [3 0 4]\n",
      "   [0 0 0]\n",
      "   [3 0 0]\n",
      "   [0 0 0]\n",
      "   [0 0 0]]]]\n"
     ]
    }
   ],
   "source": [
    "# video_array 의 형식과 내용을 확인한다.\n",
    "print(f'차원(dimension) : {video_array.ndim}')\n",
    "print(f'형태(shape) : {video_array.shape}')\n",
    "print('값의 Type : ' ,video_array.dtype)\n",
    "print('일부 값 (frame #0, height #0, width #0~9) : ', video_array[:1,:1,:10,:])"
   ]
  },
  {
   "cell_type": "markdown",
   "metadata": {},
   "source": [
    "### 따라 해보기 #1. 꺼꾸로 play 되는 동영상 만들기"
   ]
  },
  {
   "cell_type": "code",
   "execution_count": 5,
   "metadata": {},
   "outputs": [],
   "source": [
    "# 1. genAI 에게 아래와 같이 요청한다.\n",
    "\n",
    "\"\"\"\n",
    "prompt : \n",
    "꺼꾸로 play 되는 동영상 만들기\n",
    "아래와 같은 구조를 가진 numpy array 변수 vedio_array 이 있다\n",
    "\n",
    "dimension : 4\n",
    "shape : (frames, height, width, 3(rgb))\n",
    "data type :  uint8\n",
    "---\n",
    "vedio_array 의 frame 들을 역순으로 재배치하여\n",
    "변수 backwards_video_array 에 저장하는 code를 작성하라\n",
    "\"\"\"\n",
    "\n",
    "# 2. genAI 의 답변 중 필요한 부분만 잘라 아래 paste 한다.\n",
    "backwards_video_array = video_array[::-1]"
   ]
  },
  {
   "cell_type": "code",
   "execution_count": 6,
   "metadata": {},
   "outputs": [
    {
     "name": "stdout",
     "output_type": "stream",
     "text": [
      "차원(dimension) : 4\n",
      "형태(shape) : (759, 368, 640, 3)\n",
      "값의 Type :  uint8\n",
      "일부 값 (frame #0, height #0, width #0~9) :  [[[[0 0 0]\n",
      "   [0 0 0]\n",
      "   [0 0 0]\n",
      "   [0 0 0]\n",
      "   [0 0 0]\n",
      "   [0 0 0]\n",
      "   [1 1 1]\n",
      "   [4 4 4]\n",
      "   [0 0 0]\n",
      "   [0 0 0]]]]\n"
     ]
    }
   ],
   "source": [
    "# video_array 의 형식과 내용을 확인한다.\n",
    "print(f'차원(dimension) : {backwards_video_array.ndim}')\n",
    "print(f'형태(shape) : {backwards_video_array.shape}')\n",
    "print('값의 Type : ' ,backwards_video_array.dtype)\n",
    "print('일부 값 (frame #0, height #0, width #0~9) : ', backwards_video_array[:1,:1,:10,:])"
   ]
  },
  {
   "cell_type": "code",
   "execution_count": 7,
   "metadata": {},
   "outputs": [
    {
     "name": "stderr",
     "output_type": "stream",
     "text": [
      "ffmpeg version 4.4.2-0ubuntu0.22.04.1 Copyright (c) 2000-2021 the FFmpeg developers\n",
      "  built with gcc 11 (Ubuntu 11.2.0-19ubuntu1)\n",
      "  configuration: --prefix=/usr --extra-version=0ubuntu0.22.04.1 --toolchain=hardened --libdir=/usr/lib/x86_64-linux-gnu --incdir=/usr/include/x86_64-linux-gnu --arch=amd64 --enable-gpl --disable-stripping --enable-gnutls --enable-ladspa --enable-libaom --enable-libass --enable-libbluray --enable-libbs2b --enable-libcaca --enable-libcdio --enable-libcodec2 --enable-libdav1d --enable-libflite --enable-libfontconfig --enable-libfreetype --enable-libfribidi --enable-libgme --enable-libgsm --enable-libjack --enable-libmp3lame --enable-libmysofa --enable-libopenjpeg --enable-libopenmpt --enable-libopus --enable-libpulse --enable-librabbitmq --enable-librubberband --enable-libshine --enable-libsnappy --enable-libsoxr --enable-libspeex --enable-libsrt --enable-libssh --enable-libtheora --enable-libtwolame --enable-libvidstab --enable-libvorbis --enable-libvpx --enable-libwebp --enable-libx265 --enable-libxml2 --enable-libxvid --enable-libzimg --enable-libzmq --enable-libzvbi --enable-lv2 --enable-omx --enable-openal --enable-opencl --enable-opengl --enable-sdl2 --enable-pocketsphinx --enable-librsvg --enable-libmfx --enable-libdc1394 --enable-libdrm --enable-libiec61883 --enable-chromaprint --enable-frei0r --enable-libx264 --enable-shared\n",
      "  libavutil      56. 70.100 / 56. 70.100\n",
      "  libavcodec     58.134.100 / 58.134.100\n",
      "  libavformat    58. 76.100 / 58. 76.100\n",
      "  libavdevice    58. 13.100 / 58. 13.100\n",
      "  libavfilter     7.110.100 /  7.110.100\n",
      "  libswscale      5.  9.100 /  5.  9.100\n",
      "  libswresample   3.  9.100 /  3.  9.100\n",
      "  libpostproc    55.  9.100 / 55.  9.100\n",
      "Input #0, rawvideo, from 'pipe:':\n",
      "  Duration: N/A, start: 0.000000, bitrate: 141312 kb/s\n",
      "  Stream #0:0: Video: rawvideo (RGB[24] / 0x18424752), rgb24, 640x368, 141312 kb/s, 25 tbr, 25 tbn, 25 tbc\n",
      "Stream mapping:\n",
      "  Stream #0:0 -> #0:0 (rawvideo (native) -> h264 (libx264))\n",
      "[libx264 @ 0x57e3c03efb00] using cpu capabilities: MMX2 SSE2Fast SSSE3 SSE4.2\n",
      "[libx264 @ 0x57e3c03efb00] profile High, level 3.0, 4:2:0, 8-bit\n",
      "[libx264 @ 0x57e3c03efb00] 264 - core 163 r3060 5db6aa6 - H.264/MPEG-4 AVC codec - Copyleft 2003-2021 - http://www.videolan.org/x264.html - options: cabac=1 ref=3 deblock=1:0:0 analyse=0x3:0x113 me=hex subme=7 psy=1 psy_rd=1.00:0.00 mixed_ref=1 me_range=16 chroma_me=1 trellis=1 8x8dct=1 cqm=0 deadzone=21,11 fast_pskip=1 chroma_qp_offset=-2 threads=3 lookahead_threads=1 sliced_threads=0 nr=0 decimate=1 interlaced=0 bluray_compat=0 constrained_intra=0 bframes=3 b_pyramid=2 b_adapt=1 b_bias=0 direct=1 weightb=1 open_gop=0 weightp=2 keyint=250 keyint_min=25 scenecut=40 intra_refresh=0 rc_lookahead=40 rc=crf mbtree=1 crf=23.0 qcomp=0.60 qpmin=0 qpmax=69 qpstep=4 ip_ratio=1.40 aq=1:1.00\n",
      "Output #0, mp4, to 'backwards_video.mp4':\n",
      "  Metadata:\n",
      "    encoder         : Lavf58.76.100\n",
      "  Stream #0:0: Video: h264 (avc1 / 0x31637661), yuv420p(tv, progressive), 640x368, q=2-31, 30 fps, 15360 tbn\n",
      "    Metadata:\n",
      "      encoder         : Lavc58.134.100 libx264\n",
      "    Side data:\n",
      "      cpb: bitrate max/min/avg: 0/0/0 buffer size: 0 vbv_delay: N/A\n",
      "frame=  911 fps= 41 q=-1.0 Lsize=    1652kB time=00:00:30.26 bitrate= 447.1kbits/s dup=152 drop=0 speed=1.37x     \n",
      "video:1641kB audio:0kB subtitle:0kB other streams:0kB global headers:0kB muxing overhead: 0.675331%\n",
      "[libx264 @ 0x57e3c03efb00] frame I:8     Avg QP:19.08  size: 25483\n",
      "[libx264 @ 0x57e3c03efb00] frame P:327   Avg QP:22.83  size:  3549\n",
      "[libx264 @ 0x57e3c03efb00] frame B:576   Avg QP:29.97  size:   547\n",
      "[libx264 @ 0x57e3c03efb00] consecutive B-frames:  7.6% 21.5%  8.6% 62.3%\n",
      "[libx264 @ 0x57e3c03efb00] mb I  I16..4: 12.4% 71.8% 15.8%\n",
      "[libx264 @ 0x57e3c03efb00] mb P  I16..4:  0.8%  4.0%  0.5%  P16..4: 27.5% 12.5%  7.5%  0.0%  0.0%    skip:47.2%\n",
      "[libx264 @ 0x57e3c03efb00] mb B  I16..4:  0.1%  0.3%  0.0%  B16..8: 19.7%  1.9%  0.4%  direct: 0.6%  skip:77.1%  L0:37.6% L1:54.4% BI: 8.0%\n",
      "[libx264 @ 0x57e3c03efb00] 8x8 transform intra:74.2% inter:74.9%\n",
      "[libx264 @ 0x57e3c03efb00] coded y,uvDC,uvAC intra: 71.7% 83.8% 43.9% inter: 8.7% 9.6% 0.8%\n",
      "[libx264 @ 0x57e3c03efb00] i16 v,h,dc,p: 13% 31%  8% 48%\n",
      "[libx264 @ 0x57e3c03efb00] i8 v,h,dc,ddl,ddr,vr,hd,vl,hu: 17% 17% 15%  7%  8%  9%  9%  9%  9%\n",
      "[libx264 @ 0x57e3c03efb00] i4 v,h,dc,ddl,ddr,vr,hd,vl,hu: 17% 22% 12%  7% 10%  8%  9%  8%  7%\n",
      "[libx264 @ 0x57e3c03efb00] i8c dc,h,v,p: 41% 23% 22% 14%\n",
      "[libx264 @ 0x57e3c03efb00] Weighted P-Frames: Y:0.3% UV:0.0%\n",
      "[libx264 @ 0x57e3c03efb00] ref P L0: 67.8% 17.3% 10.9%  4.0%  0.0%\n",
      "[libx264 @ 0x57e3c03efb00] ref B L0: 92.8%  5.8%  1.4%\n",
      "[libx264 @ 0x57e3c03efb00] ref B L1: 98.5%  1.5%\n",
      "[libx264 @ 0x57e3c03efb00] kb/s:442.46\n"
     ]
    }
   ],
   "source": [
    "# 함수 ndarray_2_video 를 사용하여 backwards_video_arr 를 ../media/.mp4 의 video data를 ndarray 에 저장한다.\n",
    "ndarray_2_video(backwards_video_array, 'backwards_video.mp4')"
   ]
  },
  {
   "cell_type": "markdown",
   "metadata": {},
   "source": [
    "### 혼자 해보기 #1. 동영상의 색상을 반전시켜라\n",
    "    - genAI 에게 질의할 prompt 를 작성한다.\n",
    "    - genAI 의 답변을 참조하여 code를 완성한다"
   ]
  },
  {
   "cell_type": "code",
   "execution_count": 9,
   "metadata": {},
   "outputs": [
    {
     "name": "stderr",
     "output_type": "stream",
     "text": [
      "ffmpeg version 4.4.2-0ubuntu0.22.04.1 Copyright (c) 2000-2021 the FFmpeg developers\n",
      "  built with gcc 11 (Ubuntu 11.2.0-19ubuntu1)\n",
      "  configuration: --prefix=/usr --extra-version=0ubuntu0.22.04.1 --toolchain=hardened --libdir=/usr/lib/x86_64-linux-gnu --incdir=/usr/include/x86_64-linux-gnu --arch=amd64 --enable-gpl --disable-stripping --enable-gnutls --enable-ladspa --enable-libaom --enable-libass --enable-libbluray --enable-libbs2b --enable-libcaca --enable-libcdio --enable-libcodec2 --enable-libdav1d --enable-libflite --enable-libfontconfig --enable-libfreetype --enable-libfribidi --enable-libgme --enable-libgsm --enable-libjack --enable-libmp3lame --enable-libmysofa --enable-libopenjpeg --enable-libopenmpt --enable-libopus --enable-libpulse --enable-librabbitmq --enable-librubberband --enable-libshine --enable-libsnappy --enable-libsoxr --enable-libspeex --enable-libsrt --enable-libssh --enable-libtheora --enable-libtwolame --enable-libvidstab --enable-libvorbis --enable-libvpx --enable-libwebp --enable-libx265 --enable-libxml2 --enable-libxvid --enable-libzimg --enable-libzmq --enable-libzvbi --enable-lv2 --enable-omx --enable-openal --enable-opencl --enable-opengl --enable-sdl2 --enable-pocketsphinx --enable-librsvg --enable-libmfx --enable-libdc1394 --enable-libdrm --enable-libiec61883 --enable-chromaprint --enable-frei0r --enable-libx264 --enable-shared\n",
      "  libavutil      56. 70.100 / 56. 70.100\n",
      "  libavcodec     58.134.100 / 58.134.100\n",
      "  libavformat    58. 76.100 / 58. 76.100\n",
      "  libavdevice    58. 13.100 / 58. 13.100\n",
      "  libavfilter     7.110.100 /  7.110.100\n",
      "  libswscale      5.  9.100 /  5.  9.100\n",
      "  libswresample   3.  9.100 /  3.  9.100\n",
      "  libpostproc    55.  9.100 / 55.  9.100\n",
      "Input #0, rawvideo, from 'pipe:':\n",
      "  Duration: N/A, start: 0.000000, bitrate: 141312 kb/s\n",
      "  Stream #0:0: Video: rawvideo (RGB[24] / 0x18424752), rgb24, 640x368, 141312 kb/s, 25 tbr, 25 tbn, 25 tbc\n",
      "Stream mapping:\n",
      "  Stream #0:0 -> #0:0 (rawvideo (native) -> h264 (libx264))\n",
      "[libx264 @ 0x58fc5647ab00] using cpu capabilities: MMX2 SSE2Fast SSSE3 SSE4.2\n",
      "[libx264 @ 0x58fc5647ab00] profile High, level 3.0, 4:2:0, 8-bit\n",
      "[libx264 @ 0x58fc5647ab00] 264 - core 163 r3060 5db6aa6 - H.264/MPEG-4 AVC codec - Copyleft 2003-2021 - http://www.videolan.org/x264.html - options: cabac=1 ref=3 deblock=1:0:0 analyse=0x3:0x113 me=hex subme=7 psy=1 psy_rd=1.00:0.00 mixed_ref=1 me_range=16 chroma_me=1 trellis=1 8x8dct=1 cqm=0 deadzone=21,11 fast_pskip=1 chroma_qp_offset=-2 threads=3 lookahead_threads=1 sliced_threads=0 nr=0 decimate=1 interlaced=0 bluray_compat=0 constrained_intra=0 bframes=3 b_pyramid=2 b_adapt=1 b_bias=0 direct=1 weightb=1 open_gop=0 weightp=2 keyint=250 keyint_min=25 scenecut=40 intra_refresh=0 rc_lookahead=40 rc=crf mbtree=1 crf=23.0 qcomp=0.60 qpmin=0 qpmax=69 qpstep=4 ip_ratio=1.40 aq=1:1.00\n",
      "Output #0, mp4, to 'reversed_video.mp4':\n",
      "  Metadata:\n",
      "    encoder         : Lavf58.76.100\n",
      "  Stream #0:0: Video: h264 (avc1 / 0x31637661), yuv420p(tv, progressive), 640x368, q=2-31, 30 fps, 15360 tbn\n",
      "    Metadata:\n",
      "      encoder         : Lavc58.134.100 libx264\n",
      "    Side data:\n",
      "      cpb: bitrate max/min/avg: 0/0/0 buffer size: 0 vbv_delay: N/A\n",
      "frame=  911 fps= 48 q=-1.0 Lsize=    1727kB time=00:00:30.26 bitrate= 467.5kbits/s dup=152 drop=0 speed= 1.6x    \n",
      "video:1717kB audio:0kB subtitle:0kB other streams:0kB global headers:0kB muxing overhead: 0.584297%\n",
      "[libx264 @ 0x58fc5647ab00] frame I:8     Avg QP:18.43  size: 27615\n",
      "[libx264 @ 0x58fc5647ab00] frame P:464   Avg QP:23.31  size:  2873\n",
      "[libx264 @ 0x58fc5647ab00] frame B:439   Avg QP:29.93  size:   464\n",
      "[libx264 @ 0x58fc5647ab00] consecutive B-frames: 26.7% 21.7% 16.5% 35.1%\n",
      "[libx264 @ 0x58fc5647ab00] mb I  I16..4: 18.1% 71.6% 10.2%\n",
      "[libx264 @ 0x58fc5647ab00] mb P  I16..4:  0.5%  2.0%  0.2%  P16..4: 29.8% 11.6%  7.0%  0.0%  0.0%    skip:49.0%\n",
      "[libx264 @ 0x58fc5647ab00] mb B  I16..4:  0.1%  0.3%  0.0%  B16..8: 16.4%  1.5%  0.3%  direct: 0.5%  skip:80.9%  L0:42.7% L1:49.6% BI: 7.6%\n",
      "[libx264 @ 0x58fc5647ab00] 8x8 transform intra:73.4% inter:74.9%\n",
      "[libx264 @ 0x58fc5647ab00] coded y,uvDC,uvAC intra: 70.8% 83.9% 42.7% inter: 10.2% 11.6% 0.9%\n",
      "[libx264 @ 0x58fc5647ab00] i16 v,h,dc,p: 16% 41%  8% 36%\n",
      "[libx264 @ 0x58fc5647ab00] i8 v,h,dc,ddl,ddr,vr,hd,vl,hu: 17% 18% 18%  6%  8%  8%  8%  8%  8%\n",
      "[libx264 @ 0x58fc5647ab00] i4 v,h,dc,ddl,ddr,vr,hd,vl,hu: 17% 24% 13%  6%  9%  8%  9%  7%  7%\n",
      "[libx264 @ 0x58fc5647ab00] i8c dc,h,v,p: 40% 25% 23% 13%\n",
      "[libx264 @ 0x58fc5647ab00] Weighted P-Frames: Y:0.0% UV:0.0%\n",
      "[libx264 @ 0x58fc5647ab00] ref P L0: 71.6% 17.6%  8.3%  2.5%\n",
      "[libx264 @ 0x58fc5647ab00] ref B L0: 90.5%  7.7%  1.8%\n",
      "[libx264 @ 0x58fc5647ab00] ref B L1: 98.5%  1.5%\n",
      "[libx264 @ 0x58fc5647ab00] kb/s:463.10\n"
     ]
    }
   ],
   "source": [
    "# 동영상의 색상을 반전시키는 code\n",
    "reversed_video_array = 255 - video_array\n",
    "# video data 로 mp4 파일 생성\n",
    "ndarray_2_video(reversed_video_array, 'reversed_video.mp4')\n"
   ]
  },
  {
   "cell_type": "markdown",
   "metadata": {},
   "source": [
    "### 따라 해보기 #2. 하나의 복잡한 문제를 여러 개의 서브 문제들로 분할 후 각각을 해결해서 종합(Least to Most 방식)\n",
    "    - 문제를 분할 한다.\n",
    "    - 분할된 문제를 하나씩 genAI 에게 질의한다.\n",
    "        - 답변이 정확해진 후 genAI 에게 다음 질의을 한다.\n",
    "    - genAI 의 전체 답변을 참조하여 code를 완성한다"
   ]
  },
  {
   "cell_type": "code",
   "execution_count": 10,
   "metadata": {},
   "outputs": [
    {
     "name": "stdout",
     "output_type": "stream",
     "text": [
      "차원(dimension) : 4\n",
      "형태(shape) : (759, 736, 320, 3)\n",
      "값의 Type :  uint8\n",
      "일부 값 (frame #0, height #0, width #0~9) :  [[[[5 0 0]\n",
      "   [1 0 0]\n",
      "   [0 0 0]\n",
      "   [0 0 0]\n",
      "   [3 0 4]\n",
      "   [3 0 4]\n",
      "   [0 0 0]\n",
      "   [3 0 0]\n",
      "   [0 0 0]\n",
      "   [0 0 0]]]]\n"
     ]
    }
   ],
   "source": [
    "# 여기에 code 를 작성\n",
    "\"\"\"\n",
    "질의 #1)\n",
    "prompt :\n",
    "vedio_array의 3번째 차원 width를 둘로 나누어 두개의 numpy ndarray value left_array, right_array 를 만드는 code를 작성하라\n",
    "\n",
    "질의 #2)\n",
    "prompt :\n",
    "left_array 의 height 차원의 아래쪽에 right_array 를 append 하도록 code를 작성하라\n",
    "\"\"\"\n",
    "# 3번째 차원인 width를 둘로 나누기 위해 너비를 절반으로 나눕니다.\n",
    "width_half = video_array.shape[2] // 2\n",
    "\n",
    "# 3번째 차원을 둘로 나누어 left_array, right_array를 만듭니다.\n",
    "left_array = video_array[:, :, :width_half, :]\n",
    "right_array = video_array[:, :, width_half:, :]\n",
    "\n",
    "# left_array의 height 차원의 아래쪽에 right_array를 append합니다.\n",
    "combined_array = np.append(left_array, right_array, axis=1)"
   ]
  },
  {
   "cell_type": "code",
   "execution_count": 11,
   "metadata": {},
   "outputs": [
    {
     "name": "stdout",
     "output_type": "stream",
     "text": [
      "차원(dimension) : 4\n",
      "형태(shape) : (759, 736, 320, 3)\n",
      "값의 Type :  uint8\n",
      "일부 값 (frame #0, height #0, width #0~9) :  [[[[5 0 0]\n",
      "   [1 0 0]\n",
      "   [0 0 0]\n",
      "   [0 0 0]\n",
      "   [3 0 4]\n",
      "   [3 0 4]\n",
      "   [0 0 0]\n",
      "   [3 0 0]\n",
      "   [0 0 0]\n",
      "   [0 0 0]]]]\n"
     ]
    }
   ],
   "source": [
    "# video_array 의 형식과 내용을 확인한다.\n",
    "print(f'차원(dimension) : {combined_array.ndim}')\n",
    "print(f'형태(shape) : {combined_array.shape}')\n",
    "print('값의 Type : ' ,combined_array.dtype)\n",
    "print('일부 값 (frame #0, height #0, width #0~9) : ', combined_array[:1,:1,:10,:])"
   ]
  },
  {
   "cell_type": "code",
   "execution_count": 12,
   "metadata": {},
   "outputs": [
    {
     "name": "stderr",
     "output_type": "stream",
     "text": [
      "ffmpeg version 4.4.2-0ubuntu0.22.04.1 Copyright (c) 2000-2021 the FFmpeg developers\n",
      "  built with gcc 11 (Ubuntu 11.2.0-19ubuntu1)\n",
      "  configuration: --prefix=/usr --extra-version=0ubuntu0.22.04.1 --toolchain=hardened --libdir=/usr/lib/x86_64-linux-gnu --incdir=/usr/include/x86_64-linux-gnu --arch=amd64 --enable-gpl --disable-stripping --enable-gnutls --enable-ladspa --enable-libaom --enable-libass --enable-libbluray --enable-libbs2b --enable-libcaca --enable-libcdio --enable-libcodec2 --enable-libdav1d --enable-libflite --enable-libfontconfig --enable-libfreetype --enable-libfribidi --enable-libgme --enable-libgsm --enable-libjack --enable-libmp3lame --enable-libmysofa --enable-libopenjpeg --enable-libopenmpt --enable-libopus --enable-libpulse --enable-librabbitmq --enable-librubberband --enable-libshine --enable-libsnappy --enable-libsoxr --enable-libspeex --enable-libsrt --enable-libssh --enable-libtheora --enable-libtwolame --enable-libvidstab --enable-libvorbis --enable-libvpx --enable-libwebp --enable-libx265 --enable-libxml2 --enable-libxvid --enable-libzimg --enable-libzmq --enable-libzvbi --enable-lv2 --enable-omx --enable-openal --enable-opencl --enable-opengl --enable-sdl2 --enable-pocketsphinx --enable-librsvg --enable-libmfx --enable-libdc1394 --enable-libdrm --enable-libiec61883 --enable-chromaprint --enable-frei0r --enable-libx264 --enable-shared\n",
      "  libavutil      56. 70.100 / 56. 70.100\n",
      "  libavcodec     58.134.100 / 58.134.100\n",
      "  libavformat    58. 76.100 / 58. 76.100\n",
      "  libavdevice    58. 13.100 / 58. 13.100\n",
      "  libavfilter     7.110.100 /  7.110.100\n",
      "  libswscale      5.  9.100 /  5.  9.100\n",
      "  libswresample   3.  9.100 /  3.  9.100\n",
      "  libpostproc    55.  9.100 / 55.  9.100\n",
      "Input #0, rawvideo, from 'pipe:':\n",
      "  Duration: N/A, start: 0.000000, bitrate: 141312 kb/s\n",
      "  Stream #0:0: Video: rawvideo (RGB[24] / 0x18424752), rgb24, 320x736, 141312 kb/s, 25 tbr, 25 tbn, 25 tbc\n",
      "Stream mapping:\n",
      "  Stream #0:0 -> #0:0 (rawvideo (native) -> h264 (libx264))\n",
      "[libx264 @ 0x5ce61fea0b00] using cpu capabilities: MMX2 SSE2Fast SSSE3 SSE4.2\n",
      "[libx264 @ 0x5ce61fea0b00] profile High, level 3.0, 4:2:0, 8-bit\n",
      "[libx264 @ 0x5ce61fea0b00] 264 - core 163 r3060 5db6aa6 - H.264/MPEG-4 AVC codec - Copyleft 2003-2021 - http://www.videolan.org/x264.html - options: cabac=1 ref=3 deblock=1:0:0 analyse=0x3:0x113 me=hex subme=7 psy=1 psy_rd=1.00:0.00 mixed_ref=1 me_range=16 chroma_me=1 trellis=1 8x8dct=1 cqm=0 deadzone=21,11 fast_pskip=1 chroma_qp_offset=-2 threads=3 lookahead_threads=1 sliced_threads=0 nr=0 decimate=1 interlaced=0 bluray_compat=0 constrained_intra=0 bframes=3 b_pyramid=2 b_adapt=1 b_bias=0 direct=1 weightb=1 open_gop=0 weightp=2 keyint=250 keyint_min=25 scenecut=40 intra_refresh=0 rc_lookahead=40 rc=crf mbtree=1 crf=23.0 qcomp=0.60 qpmin=0 qpmax=69 qpstep=4 ip_ratio=1.40 aq=1:1.00\n",
      "Output #0, mp4, to 'cut_n_combined_video.mp4':\n",
      "  Metadata:\n",
      "    encoder         : Lavf58.76.100\n",
      "  Stream #0:0: Video: h264 (avc1 / 0x31637661), yuv420p(tv, progressive), 320x736, q=2-31, 30 fps, 15360 tbn\n",
      "    Metadata:\n",
      "      encoder         : Lavc58.134.100 libx264\n",
      "    Side data:\n",
      "      cpb: bitrate max/min/avg: 0/0/0 buffer size: 0 vbv_delay: N/A\n",
      "frame=  911 fps= 48 q=-1.0 Lsize=    1748kB time=00:00:30.26 bitrate= 473.2kbits/s dup=152 drop=0 speed=1.58x    \n",
      "video:1738kB audio:0kB subtitle:0kB other streams:0kB global headers:0kB muxing overhead: 0.579516%\n",
      "[libx264 @ 0x5ce61fea0b00] frame I:8     Avg QP:18.54  size: 27330\n",
      "[libx264 @ 0x5ce61fea0b00] frame P:470   Avg QP:23.66  size:  2907\n",
      "[libx264 @ 0x5ce61fea0b00] frame B:433   Avg QP:29.72  size:   449\n",
      "[libx264 @ 0x5ce61fea0b00] consecutive B-frames: 27.4% 23.7% 11.5% 37.3%\n",
      "[libx264 @ 0x5ce61fea0b00] mb I  I16..4: 16.5% 73.2% 10.3%\n",
      "[libx264 @ 0x5ce61fea0b00] mb P  I16..4:  0.4%  1.9%  0.2%  P16..4: 30.6% 11.8%  6.9%  0.0%  0.0%    skip:48.1%\n",
      "[libx264 @ 0x5ce61fea0b00] mb B  I16..4:  0.1%  0.3%  0.0%  B16..8: 16.6%  1.4%  0.3%  direct: 0.5%  skip:80.9%  L0:42.8% L1:50.9% BI: 6.4%\n",
      "[libx264 @ 0x5ce61fea0b00] 8x8 transform intra:73.8% inter:75.1%\n",
      "[libx264 @ 0x5ce61fea0b00] coded y,uvDC,uvAC intra: 70.7% 83.8% 42.5% inter: 10.5% 11.7% 0.9%\n",
      "[libx264 @ 0x5ce61fea0b00] i16 v,h,dc,p: 17% 38%  8% 36%\n",
      "[libx264 @ 0x5ce61fea0b00] i8 v,h,dc,ddl,ddr,vr,hd,vl,hu: 18% 18% 18%  6%  7%  8%  8%  8%  8%\n",
      "[libx264 @ 0x5ce61fea0b00] i4 v,h,dc,ddl,ddr,vr,hd,vl,hu: 16% 24% 13%  7% 10%  8%  9%  7%  7%\n",
      "[libx264 @ 0x5ce61fea0b00] i8c dc,h,v,p: 41% 24% 23% 12%\n",
      "[libx264 @ 0x5ce61fea0b00] Weighted P-Frames: Y:0.0% UV:0.0%\n",
      "[libx264 @ 0x5ce61fea0b00] ref P L0: 71.8% 17.5%  8.2%  2.4%\n",
      "[libx264 @ 0x5ce61fea0b00] ref B L0: 89.6%  8.6%  1.8%\n",
      "[libx264 @ 0x5ce61fea0b00] ref B L1: 98.2%  1.8%\n",
      "[libx264 @ 0x5ce61fea0b00] kb/s:468.74\n"
     ]
    }
   ],
   "source": [
    "# video data 로 mp4 파일 생성\n",
    "ndarray_2_video(combined_array, 'cut_n_combined_video.mp4')"
   ]
  },
  {
   "cell_type": "markdown",
   "metadata": {},
   "source": [
    "### 마음대로 해보기 #1. 원본을 가공하여 새로운 동영상을 만들자"
   ]
  }
 ],
 "metadata": {
  "kernelspec": {
   "display_name": "Python 3",
   "language": "python",
   "name": "python3"
  },
  "language_info": {
   "codemirror_mode": {
    "name": "ipython",
    "version": 3
   },
   "file_extension": ".py",
   "mimetype": "text/x-python",
   "name": "python",
   "nbconvert_exporter": "python",
   "pygments_lexer": "ipython3",
   "version": "3.10.12"
  }
 },
 "nbformat": 4,
 "nbformat_minor": 2
}
