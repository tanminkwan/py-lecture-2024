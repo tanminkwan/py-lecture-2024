{
 "cells": [
  {
   "cell_type": "markdown",
   "metadata": {},
   "source": [
    "### 사전준비\n",
    "- python library path에 parent directory 를 추가"
   ]
  },
  {
   "cell_type": "code",
   "execution_count": 1,
   "metadata": {},
   "outputs": [
    {
     "name": "stdout",
     "output_type": "stream",
     "text": [
      "Current Directory: /home/hennry/GitHub/py-lecture-2024/jupyter\n",
      "Parent Directory: /home/hennry/GitHub/py-lecture-2024\n",
      "System PATH : /bin:/usr/local/lib/nodejs/node-v18.15.0-linux-x64/bin:/home/hennry/.local/bin:/usr/local/sbin:/usr/local/bin:/usr/sbin:/usr/bin:/sbin:/bin:/usr/games:/usr/local/games:/snap/bin:/usr/local/lib/nodejs/node-v18.15.0-linux-x64/bin:/home/hennry/.local/bin:/usr/local/sbin:/usr/local/bin:/usr/sbin:/usr/bin:/sbin:/bin:/usr/games:/usr/local/games:/snap/bin\n",
      "Python Library PATH : ['/home/hennry/GitHub/py-lecture-2024/jupyter', '/usr/lib/python310.zip', '/usr/lib/python3.10', '/usr/lib/python3.10/lib-dynload', '', '/home/hennry/.local/lib/python3.10/site-packages', '/usr/local/lib/python3.10/dist-packages', '/usr/lib/python3/dist-packages', '/home/hennry/GitHub/py-lecture-2024']\n"
     ]
    }
   ],
   "source": [
    "# Parent directory의 .py 파일에 정의된 함수들를 import 하여 사용하기 위해 python library path에 parent directory 를 추가합니다.\n",
    "\n",
    "import sys\n",
    "import os\n",
    "\n",
    "current_dir = os.getcwd()\n",
    "print(\"Current Directory:\", current_dir)\n",
    "\n",
    "parent_dir = os.path.abspath(os.path.join(current_dir, '..'))\n",
    "print(\"Parent Directory:\", parent_dir)\n",
    "\n",
    "sys.path.append(parent_dir)\n",
    "\n",
    "# System Path 와는 다름\n",
    "print(\"System PATH :\", os.environ['PATH'])\n",
    "print(\"Python Library PATH :\", sys.path)"
   ]
  },
  {
   "cell_type": "markdown",
   "metadata": {},
   "source": [
    "- functions.py 에 미리 정의된 함수들을 import 한다\n",
    "- numpy를 import 한다"
   ]
  },
  {
   "cell_type": "code",
   "execution_count": 2,
   "metadata": {},
   "outputs": [],
   "source": [
    "# ../functions.py 에 미리 정의된 함수들을 import 한다\n",
    "from functions import video_2_ndarray, ndarray_2_video\n",
    "\n",
    "# numpy를 import 한다\n",
    "import numpy as np\n"
   ]
  },
  {
   "cell_type": "markdown",
   "metadata": {},
   "source": [
    "- mp4 file의 video data를 ndarray(N-dimensional Array) 변수에 저장하기"
   ]
  },
  {
   "cell_type": "code",
   "execution_count": 3,
   "metadata": {},
   "outputs": [
    {
     "name": "stderr",
     "output_type": "stream",
     "text": [
      "ffmpeg version 4.4.2-0ubuntu0.22.04.1 Copyright (c) 2000-2021 the FFmpeg developers\n",
      "  built with gcc 11 (Ubuntu 11.2.0-19ubuntu1)\n",
      "  configuration: --prefix=/usr --extra-version=0ubuntu0.22.04.1 --toolchain=hardened --libdir=/usr/lib/x86_64-linux-gnu --incdir=/usr/include/x86_64-linux-gnu --arch=amd64 --enable-gpl --disable-stripping --enable-gnutls --enable-ladspa --enable-libaom --enable-libass --enable-libbluray --enable-libbs2b --enable-libcaca --enable-libcdio --enable-libcodec2 --enable-libdav1d --enable-libflite --enable-libfontconfig --enable-libfreetype --enable-libfribidi --enable-libgme --enable-libgsm --enable-libjack --enable-libmp3lame --enable-libmysofa --enable-libopenjpeg --enable-libopenmpt --enable-libopus --enable-libpulse --enable-librabbitmq --enable-librubberband --enable-libshine --enable-libsnappy --enable-libsoxr --enable-libspeex --enable-libsrt --enable-libssh --enable-libtheora --enable-libtwolame --enable-libvidstab --enable-libvorbis --enable-libvpx --enable-libwebp --enable-libx265 --enable-libxml2 --enable-libxvid --enable-libzimg --enable-libzmq --enable-libzvbi --enable-lv2 --enable-omx --enable-openal --enable-opencl --enable-opengl --enable-sdl2 --enable-pocketsphinx --enable-librsvg --enable-libmfx --enable-libdc1394 --enable-libdrm --enable-libiec61883 --enable-chromaprint --enable-frei0r --enable-libx264 --enable-shared\n",
      "  libavutil      56. 70.100 / 56. 70.100\n",
      "  libavcodec     58.134.100 / 58.134.100\n",
      "  libavformat    58. 76.100 / 58. 76.100\n",
      "  libavdevice    58. 13.100 / 58. 13.100\n",
      "  libavfilter     7.110.100 /  7.110.100\n",
      "  libswscale      5.  9.100 /  5.  9.100\n",
      "  libswresample   3.  9.100 /  3.  9.100\n",
      "  libpostproc    55.  9.100 / 55.  9.100\n",
      "Input #0, mov,mp4,m4a,3gp,3g2,mj2, from '../media/SampleVideo_640x360_5mb.mp4':\n",
      "  Metadata:\n",
      "    major_brand     : isom\n",
      "    minor_version   : 512\n",
      "    compatible_brands: isomiso2mp41\n",
      "    creation_time   : 1970-01-01T00:00:00.000000Z\n",
      "    encoder         : Lavf53.24.2\n",
      "  Duration: 00:00:30.38, start: 0.000000, bitrate: 1380 kb/s\n",
      "  Stream #0:0(und): Video: mpeg4 (Simple Profile) (mp4v / 0x7634706D), yuv420p, 640x368 [SAR 1:1 DAR 40:23], 993 kb/s, 25 fps, 25 tbr, 12800 tbn, 25 tbc (default)\n",
      "    Metadata:\n",
      "      creation_time   : 1970-01-01T00:00:00.000000Z\n",
      "      handler_name    : VideoHandler\n",
      "      vendor_id       : [0][0][0][0]\n",
      "  Stream #0:1(und): Audio: aac (LC) (mp4a / 0x6134706D), 48000 Hz, 5.1, fltp, 383 kb/s (default)\n",
      "    Metadata:\n",
      "      creation_time   : 1970-01-01T00:00:00.000000Z\n",
      "      handler_name    : SoundHandler\n",
      "      vendor_id       : [0][0][0][0]\n",
      "Stream mapping:\n",
      "  Stream #0:0 -> #0:0 (mpeg4 (native) -> rawvideo (native))\n",
      "Press [q] to stop, [?] for help\n",
      "Output #0, rawvideo, to 'pipe:':\n",
      "  Metadata:\n",
      "    major_brand     : isom\n",
      "    minor_version   : 512\n",
      "    compatible_brands: isomiso2mp41\n",
      "    encoder         : Lavf58.76.100\n",
      "  Stream #0:0(und): Video: rawvideo (RGB[24] / 0x18424752), rgb24(pc, gbr/unknown/unknown, progressive), 640x368 [SAR 1:1 DAR 40:23], q=2-31, 141312 kb/s, 25 fps, 25 tbn (default)\n",
      "    Metadata:\n",
      "      creation_time   : 1970-01-01T00:00:00.000000Z\n",
      "      handler_name    : VideoHandler\n",
      "      vendor_id       : [0][0][0][0]\n",
      "      encoder         : Lavc58.134.100 rawvideo\n",
      "frame=  759 fps=337 q=-0.0 Lsize=  523710kB time=00:00:30.36 bitrate=141312.0kbits/s speed=13.5x    \n",
      "video:523710kB audio:0kB subtitle:0kB other streams:0kB global headers:0kB muxing overhead: 0.000000%\n"
     ]
    }
   ],
   "source": [
    "# 함수 video_2_ndarray 를 사용하여 ../media/SampleVideo_640x360_5mb.mp4 의 video data를 ndarray 에 저장한다.\n",
    "video_array, _, _ = video_2_ndarray('../media/SampleVideo_640x360_5mb.mp4')"
   ]
  },
  {
   "cell_type": "markdown",
   "metadata": {},
   "source": [
    "- 생성된 video_array 의 형식과 내용 확인"
   ]
  },
  {
   "cell_type": "code",
   "execution_count": 4,
   "metadata": {},
   "outputs": [
    {
     "name": "stdout",
     "output_type": "stream",
     "text": [
      "차원(dimension) : 4\n",
      "형태(shape) : (759, 368, 640, 3)\n",
      "값의 Type :  uint8\n",
      "일부 값 확인하기(frame #0, height #0, width #0~9) :  [[[[5 0 0]\n",
      "   [1 0 0]\n",
      "   [0 0 0]\n",
      "   [0 0 0]\n",
      "   [3 0 4]\n",
      "   [3 0 4]\n",
      "   [0 0 0]\n",
      "   [3 0 0]\n",
      "   [0 0 0]\n",
      "   [0 0 0]]]]\n"
     ]
    }
   ],
   "source": [
    "# video_array 의 형식과 내용을 확인한다.\n",
    "print(f'차원(dimension) : {video_array.ndim}')\n",
    "print(f'형태(shape) : {video_array.shape}')\n",
    "print('값의 Type : ' ,video_array.dtype)\n",
    "print('일부 값 확인하기(frame #0, height #0, width #0~9) : ', video_array[:1,:1,:10,:])"
   ]
  },
  {
   "cell_type": "markdown",
   "metadata": {},
   "source": [
    "### 따라 해보기 #1. 꺼꾸로 play 되는 동영상 만들기"
   ]
  },
  {
   "cell_type": "code",
   "execution_count": 5,
   "metadata": {},
   "outputs": [],
   "source": [
    "# 1. genAI 에게 아래와 같이 요청한다.\n",
    "\n",
    "\"\"\"\n",
    "prompt : \n",
    "꺼꾸로 play 되는 동영상 만들기\n",
    "아래와 같은 구조를 가진 numpy array 변수 vedio_array 이 있다\n",
    "\n",
    "dimension : 4\n",
    "shape : (frames, height, width, 3(rgb))\n",
    "data type :  uint8\n",
    "---\n",
    "vedio_array 의 frame 들을 역순으로 재배치하여\n",
    "변수 backwards_video_array 에 저장하는 code를 작성하라\n",
    "\"\"\"\n",
    "\n",
    "# 2. genAI 의 답변 중 필요한 부분만 잘라 paste 한다.\n",
    "backwards_video_array = video_array[::-1]"
   ]
  },
  {
   "cell_type": "code",
   "execution_count": 6,
   "metadata": {},
   "outputs": [
    {
     "name": "stdout",
     "output_type": "stream",
     "text": [
      "차원(dimension) : 4\n",
      "형태(shape) : (759, 368, 640, 3)\n",
      "값의 Type :  uint8\n",
      "일부 값 (frame #0, height #0, width #0~9) :  [[[[0 0 0]\n",
      "   [0 0 0]\n",
      "   [0 0 0]\n",
      "   [0 0 0]\n",
      "   [0 0 0]\n",
      "   [0 0 0]\n",
      "   [1 1 1]\n",
      "   [4 4 4]\n",
      "   [0 0 0]\n",
      "   [0 0 0]]]]\n"
     ]
    }
   ],
   "source": [
    "# video_array 의 형식과 내용을 확인한다.\n",
    "print(f'차원(dimension) : {backwards_video_array.ndim}')\n",
    "print(f'형태(shape) : {backwards_video_array.shape}')\n",
    "print('값의 Type : ' ,backwards_video_array.dtype)\n",
    "print('일부 값 (frame #0, height #0, width #0~9) : ', backwards_video_array[:1,:1,:10,:])"
   ]
  },
  {
   "cell_type": "code",
   "execution_count": null,
   "metadata": {},
   "outputs": [],
   "source": [
    "# 함수 ndarray_2_video 를 사용하여 backwards_video_arr를 mp4에 저장한다.\n",
    "ndarray_2_video(backwards_video_array, 'backwards_video.mp4')"
   ]
  },
  {
   "cell_type": "markdown",
   "metadata": {},
   "source": [
    "### 혼자 해보기 #1. 동영상의 색상을 반전시켜라\n",
    "- genAI 에게 질의할 prompt 를 작성한다.\n",
    "- genAI 의 답변을 참조하여 code를 완성한다"
   ]
  },
  {
   "cell_type": "code",
   "execution_count": null,
   "metadata": {},
   "outputs": [],
   "source": [
    "\"\"\"\n",
    "prompt : \n",
    "to-do\n",
    "\"\"\"\n",
    "\n",
    "# 동영상의 색상을 반전시키는 code\n",
    "# - genAI 가 알려준 code\n",
    "reversed_video_array = 255 - video_array\n",
    "\n",
    "# video data 로 mp4 파일 생성\n",
    "ndarray_2_video(reversed_video_array, 'reversed_video.mp4')\n"
   ]
  },
  {
   "cell_type": "markdown",
   "metadata": {},
   "source": [
    "### 따라 해보기 #2. 하나의 복잡한 문제를 여러 개의 서브 문제들로 분할 후 각각을 해결해서 종합(Least to Most 방식)\n",
    "- 문제를 분할 한다.\n",
    "- 분할된 문제를 하나씩 genAI 에게 질의한다.\n",
    "    - 답변이 정확해진 후 genAI 에게 다음 질의을 한다.\n",
    "- genAI 의 전체 답변을 참조하여 code를 완성한다"
   ]
  },
  {
   "cell_type": "code",
   "execution_count": null,
   "metadata": {},
   "outputs": [],
   "source": [
    "# 여기에 code 를 작성\n",
    "\"\"\"\n",
    "질의 #1)\n",
    "prompt :\n",
    "vedio_array의 3번째 차원 width를 반으로 나누어 두개의 numpy ndarray value left_array, right_array 를 만드는 code를 작성하라\n",
    "\n",
    "질의 #2)\n",
    "prompt :\n",
    "left_array 의 height 차원의 아래쪽에 right_array 를 append 하도록 code를 작성하라\n",
    "\"\"\"\n",
    "# 3번째 차원인 width를 둘로 나누기 위해 너비를 절반으로 나눕니다.\n",
    "width_half = video_array.shape[2] // 2\n",
    "\n",
    "# 3번째 차원을 둘로 나누어 left_array, right_array를 만듭니다.\n",
    "left_array = video_array[:, :, :width_half, :]\n",
    "right_array = video_array[:, :, width_half:, :]\n",
    "\n",
    "# left_array의 height 차원의 아래쪽에 right_array를 append합니다.\n",
    "combined_array = np.append(left_array, right_array, axis=1)"
   ]
  },
  {
   "cell_type": "code",
   "execution_count": null,
   "metadata": {},
   "outputs": [],
   "source": [
    "# video_array 의 형식과 내용을 확인한다.\n",
    "print(f'차원(dimension) : {combined_array.ndim}')\n",
    "print(f'형태(shape) : {combined_array.shape}')\n",
    "print('값의 Type : ' ,combined_array.dtype)\n",
    "print('일부 값 (frame #0, height #0, width #0~9) : ', combined_array[:1,:1,:10,:])"
   ]
  },
  {
   "cell_type": "code",
   "execution_count": null,
   "metadata": {},
   "outputs": [],
   "source": [
    "# video data 로 mp4 파일 생성\n",
    "ndarray_2_video(combined_array, 'cut_n_combined_video.mp4')"
   ]
  },
  {
   "cell_type": "markdown",
   "metadata": {},
   "source": [
    "### 마음대로 해보기 #1. 원본을 가공하여 새로운 동영상을 만들자"
   ]
  },
  {
   "cell_type": "code",
   "execution_count": null,
   "metadata": {},
   "outputs": [],
   "source": [
    "# to-do"
   ]
  }
 ],
 "metadata": {
  "kernelspec": {
   "display_name": "Python 3",
   "language": "python",
   "name": "python3"
  },
  "language_info": {
   "codemirror_mode": {
    "name": "ipython",
    "version": 3
   },
   "file_extension": ".py",
   "mimetype": "text/x-python",
   "name": "python",
   "nbconvert_exporter": "python",
   "pygments_lexer": "ipython3",
   "version": "3.10.12"
  }
 },
 "nbformat": 4,
 "nbformat_minor": 2
}
