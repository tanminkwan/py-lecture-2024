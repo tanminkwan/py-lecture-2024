{
 "cells": [
  {
   "cell_type": "markdown",
   "metadata": {},
   "source": [
    "### 1. sqlalchemy 란\n",
    "\n",
    "- SQLAlchemy는 파이썬에서 사용할 수 있는 ORM(Object-Relational Mapping) 라이브러리로, 데이터베이스와의 상호작용을 추상화하여 데이터베이스를 쉽게 다룰 수 있게 해줍니다. ORM을 통해 데이터베이스 테이블을 파이썬 클래스로 매핑하고, 파이썬 코드를 사용하여 데이터를 쿼리하고 조작할 수 있습니다. 이를 통해 개발자는 SQL 쿼리를 직접 작성하는 대신 객체 지향적인 방식으로 데이터베이스를 다룰 수 있습니다."
   ]
  },
  {
   "cell_type": "markdown",
   "metadata": {},
   "source": [
    "- sqlalchemy 구성"
   ]
  },
  {
   "cell_type": "markdown",
   "metadata": {},
   "source": [
    "![Alt text for broken image link](../resources/sqlalchemy.jpg)"
   ]
  },
  {
   "cell_type": "markdown",
   "metadata": {},
   "source": [
    "- 데이터베이스와 상호 작용하는 방식은 추상화 수준에 따라  SQL 방식, Core 방식, ORM 방식 3가지로 나뉘어 집니다."
   ]
  },
  {
   "cell_type": "markdown",
   "metadata": {},
   "source": [
    "### 2. 데이터베이스 접속\n",
    "- sqlalchemy 설치"
   ]
  },
  {
   "cell_type": "code",
   "execution_count": null,
   "metadata": {},
   "outputs": [],
   "source": [
    "%pip install SQLAlchemy"
   ]
  },
  {
   "cell_type": "markdown",
   "metadata": {},
   "source": [
    "- sqlite db 접속 engine 생성"
   ]
  },
  {
   "cell_type": "code",
   "execution_count": null,
   "metadata": {},
   "outputs": [],
   "source": [
    "from sqlalchemy import create_engine\n",
    "\n",
    "# sqlite:///mydb.db : dialect로 sqlite를 사용하고 db(파일)은 현재 directory의 mydb.db를 사용\n",
    "# echo=True : 실행되는 SQL을 출력\n",
    "engine = create_engine('sqlite:///mydb.db', echo=True)"
   ]
  },
  {
   "cell_type": "markdown",
   "metadata": {},
   "source": [
    "### 3. SQL 방식\n",
    "- SQLAlchemy의 가장 기본적인 사용 방식으로, 순수한 SQL 쿼리를 사용하여 데이터베이스와 상호 작용합니다.\n",
    "- 사용자가 직접 SQL 쿼리를 작성하고 실행할 수 있습니다.\n",
    "- 데이터베이스와 직접적으로 상호 작용하는 경우나 복잡한 쿼리를 사용해야 하는 경우에 유용합니다.\n"
   ]
  },
  {
   "cell_type": "markdown",
   "metadata": {},
   "source": [
    "#### 3-1. 데이터베이스 connection 획득\n",
    "- engine으로 부터 데이터베이스 connection을 바로 획득합니다."
   ]
  },
  {
   "cell_type": "code",
   "execution_count": null,
   "metadata": {},
   "outputs": [],
   "source": [
    "conn = engine.connect()\n",
    "\n",
    "# db file 생성 확인 "
   ]
  },
  {
   "cell_type": "markdown",
   "metadata": {},
   "source": [
    "#### 3-2. DDL 실행 - Create Table"
   ]
  },
  {
   "cell_type": "code",
   "execution_count": null,
   "metadata": {},
   "outputs": [],
   "source": [
    "from sqlalchemy import text\n",
    "conn.execute(text(\"CREATE TABLE TEST (name text PRIMARY KEY, age int, location text)\")) "
   ]
  },
  {
   "cell_type": "markdown",
   "metadata": {},
   "source": [
    "#### 3-3. Insert 실행"
   ]
  },
  {
   "cell_type": "code",
   "execution_count": null,
   "metadata": {},
   "outputs": [],
   "source": [
    "insert_statement = \"INSERT INTO TEST (name, age, location) \\\n",
    "    VALUES (:name, :age, :location)\"\n",
    "\n",
    "test_data = [\n",
    "    {\"name\": \"Alice\", \"age\": 25, \"location\":\"New York\"},\n",
    "    {\"name\": \"Bob\", \"age\": 30, \"location\":\"Los Angeles\"},\n",
    "    {\"name\": \"Charlie\", \"age\": 35, \"location\":\"Chicago\"},\n",
    "]\n",
    "\n",
    "conn.execute(text(insert_statement), test_data)\n",
    "conn.commit()"
   ]
  },
  {
   "cell_type": "markdown",
   "metadata": {},
   "source": [
    "#### 3-4. Select 실행"
   ]
  },
  {
   "cell_type": "code",
   "execution_count": null,
   "metadata": {},
   "outputs": [],
   "source": [
    "select_statement = \"SELECT x, y FROM TEST\"\n",
    "result = conn.execute(text(select_statement))\n",
    "for row in result:\n",
    "    print(row)"
   ]
  },
  {
   "cell_type": "markdown",
   "metadata": {},
   "source": [
    "#### 3-5. DDL 실행 - Drop Table"
   ]
  },
  {
   "cell_type": "code",
   "execution_count": null,
   "metadata": {},
   "outputs": [],
   "source": [
    "conn.execute(text(\"DROP TABLE TEST\")) "
   ]
  },
  {
   "cell_type": "markdown",
   "metadata": {},
   "source": [
    "### 4. ORM 방식\n",
    "- SQLAlchemy의 ORM(Object-Relational Mapping)은 파이썬 클래스와 데이터베이스 테이블을 매핑하여 객체지향 프로그래밍 스타일로 데이터베이스와 상호 작용하는 방법을 제공합니다.\n",
    "- 데이터베이스 테이블을 파이썬 클래스로 나타내고, 이러한 클래스를 사용하여 데이터를 쿼리하고 조작할 수 있습니다.\n",
    "- ORM은 데이터베이스와의 상호 작용을 추상화하여 데이터베이스와의 상호 작용을 보다 객체지향적으로 만들어줍니다.\n",
    "- SQLAlchemy ORM을 사용하면 SQL 쿼리를 직접 작성할 필요 없이 파이썬 객체를 통해 데이터베이스를 조작할 수 있습니다.\n",
    "#### 4-1. Model기본 Meta정보를 획득\n",
    "- Dialect로부터 데이터베이스 engine(여기서는 sqlite)에 해당하는 Model(데이터베이스 Table에 매핑되는 Class 객체) 기본 Class를 획득합니다. "
   ]
  },
  {
   "cell_type": "code",
   "execution_count": null,
   "metadata": {},
   "outputs": [],
   "source": [
    "from sqlalchemy.orm import declarative_base\n",
    "Base = declarative_base() # Model 기본 Class 획득"
   ]
  },
  {
   "cell_type": "markdown",
   "metadata": {},
   "source": [
    "#### 4-2. Model 정의\n",
    "- Model 기본 Class를 상속받아 Model(Table Layout)을 정의합니다."
   ]
  },
  {
   "cell_type": "code",
   "execution_count": null,
   "metadata": {},
   "outputs": [],
   "source": [
    "\"\"\"\n",
    "prompt :\n",
    "\n",
    "sqlalchemy.orm.declarative_base 의 결과를 상속 받은 data model 두개를 아래 조건에 맞게 선언하는 code를 작성하라\n",
    "---\n",
    "1. \n",
    "class 이름 : User\n",
    "table 이름 : user_account\n",
    "칼럼들 :\n",
    "    nickname (type:string)\n",
    "    real_name  (type:string)\n",
    "2. \n",
    "class 이름 : Asset\n",
    "table 이름 : user_asset\n",
    "칼럼들 :\n",
    "    asset_name (type:string)\n",
    "    owner_id  (type:integer, user_account.id를 참조하는 foreign key)\n",
    "\n",
    "기타조건 : \n",
    "- user_account table 한 row 가 삭제되면 user_asset.owner_id로 연결된 row들도 삭제\n",
    "- table 객체를 print하면 table의 column과 값을 출력한다.\n",
    "===\n",
    "results from ChatGPT-3.5\n",
    "\"\"\"\n",
    "from sqlalchemy import Column, Integer, String, ForeignKey\n",
    "from sqlalchemy.orm import relationship\n",
    "\n",
    "class User(Base):\n",
    "    __tablename__ = 'user_account'  # 데이터베이스에서 사용할 테이블 이름입니다.\n",
    "\n",
    "    id = Column(Integer, primary_key=True)\n",
    "    nickname = Column(String(30))\n",
    "    real_name = Column(String)\n",
    "\n",
    "    # User와 Asset의 관계를 설정합니다.\n",
    "    assets = relationship(\"Asset\", cascade=\"all, delete-orphan\")\n",
    "\n",
    "    # 객체를 print 하면 호출됨\n",
    "    def __repr__(self):\n",
    "        return f\"User(id={self.id}, nickname={self.nickname}, real_name={self.real_name})\"\n",
    "    \n",
    "class Asset(Base):\n",
    "    __tablename__ = 'user_asset'\n",
    "    id = Column(Integer, primary_key=True)\n",
    "    asset_name = Column(String(30))\n",
    "    \n",
    "    # User 테이블의 id를 외래키로 설정하여 User와의 관계를 맺습니다.\n",
    "    owner_id = Column(Integer, ForeignKey('user_account.id'))\n",
    "\n",
    "    # 객체를 print 하면 호출됨\n",
    "    def __repr__(self):\n",
    "        return f\"Asset(id={self.id}, asset_name={self.asset_name}, owner_id={self.owner_id})\"\n"
   ]
  },
  {
   "cell_type": "markdown",
   "metadata": {},
   "source": [
    "- Model 기본 Class(Base)에 Model의 정의된 내용이 등록된 것을 확인합니다."
   ]
  },
  {
   "cell_type": "code",
   "execution_count": null,
   "metadata": {},
   "outputs": [],
   "source": [
    "print('tables : ', Base.metadata.tables)"
   ]
  },
  {
   "cell_type": "markdown",
   "metadata": {},
   "source": [
    "#### 4-3. Table들 일괄 Create\n",
    "- 데이터베이스에 Base 객체에 등록된 Model정보들을 Create Table 명령으로 전환하여 일괄 실행합니다."
   ]
  },
  {
   "cell_type": "code",
   "execution_count": null,
   "metadata": {},
   "outputs": [],
   "source": [
    "Base.metadata.create_all(engine)"
   ]
  },
  {
   "cell_type": "markdown",
   "metadata": {},
   "source": [
    "- 전체 Table들 Drop 시에는 아래 code를 실행합니다."
   ]
  },
  {
   "cell_type": "code",
   "execution_count": null,
   "metadata": {},
   "outputs": [],
   "source": [
    "#Base.metadata.drop_all(engine)"
   ]
  },
  {
   "cell_type": "markdown",
   "metadata": {},
   "source": [
    "#### 4-4. 데이터베이스 세션(session) 획득\n",
    "- Session 객체를 통해 Connection Pooling으로부터 데이터베이스 session을 하나 획득합니다."
   ]
  },
  {
   "cell_type": "code",
   "execution_count": null,
   "metadata": {},
   "outputs": [],
   "source": [
    "from sqlalchemy.orm import Session\n",
    "\n",
    "session = Session(engine)"
   ]
  },
  {
   "cell_type": "markdown",
   "metadata": {},
   "source": [
    "#### 4-5. Insert 실행"
   ]
  },
  {
   "cell_type": "code",
   "execution_count": null,
   "metadata": {},
   "outputs": [],
   "source": [
    "me = User(nickname='hennry', real_name='김형기')\n",
    "\n",
    "session.add(me)"
   ]
  },
  {
   "cell_type": "code",
   "execution_count": null,
   "metadata": {},
   "outputs": [],
   "source": [
    "session.commit()"
   ]
  },
  {
   "cell_type": "code",
   "execution_count": null,
   "metadata": {},
   "outputs": [],
   "source": [
    "next_one = User(nickname='sunsiny', real_name='이순신')\n",
    "\n",
    "session.add(next_one)\n",
    "\n",
    "session.rollback()"
   ]
  },
  {
   "cell_type": "markdown",
   "metadata": {},
   "source": [
    "#### 4-6. Select 실행"
   ]
  },
  {
   "cell_type": "code",
   "execution_count": null,
   "metadata": {},
   "outputs": [],
   "source": [
    "users = session.query(User).all()\n",
    "\n",
    "for user in users:\n",
    "    print(user)"
   ]
  },
  {
   "cell_type": "code",
   "execution_count": null,
   "metadata": {},
   "outputs": [],
   "source": [
    "user = session.query(User).first()\n",
    "\n",
    "print(user)"
   ]
  },
  {
   "cell_type": "code",
   "execution_count": null,
   "metadata": {},
   "outputs": [],
   "source": [
    "user = session.query(User).filter(User.nickname=='hennry')\n",
    "\n",
    "for user in users:\n",
    "    print(user)"
   ]
  },
  {
   "cell_type": "markdown",
   "metadata": {},
   "source": [
    "#### 4-7. Update 실행"
   ]
  },
  {
   "cell_type": "code",
   "execution_count": null,
   "metadata": {},
   "outputs": [],
   "source": [
    "user.real_name = '김형기2'\n",
    "user.nickname = 'hennry2'\n",
    "print('Before commit : Is the session dirty?',user in session.dirty)\n",
    "session.commit()\n",
    "print('After commit : Is the session dirty?',user in session.dirty)"
   ]
  },
  {
   "cell_type": "markdown",
   "metadata": {},
   "source": [
    "#### 4-8. Delete 실행"
   ]
  },
  {
   "cell_type": "code",
   "execution_count": null,
   "metadata": {},
   "outputs": [],
   "source": [
    "session.delete(user)\n",
    "session.commit()"
   ]
  },
  {
   "cell_type": "markdown",
   "metadata": {},
   "source": [
    "#### 4-9. Child Table Insert 실행"
   ]
  },
  {
   "cell_type": "code",
   "execution_count": null,
   "metadata": {},
   "outputs": [],
   "source": [
    "me = User(nickname='tiffanie', real_name='김형기')\n",
    "me.assets.append(Asset(asset_name=\"Car\"))\n",
    "me.assets.append(Asset(asset_name=\"House\"))\n",
    "session.add(me)\n",
    "session.commit()"
   ]
  },
  {
   "cell_type": "code",
   "execution_count": null,
   "metadata": {},
   "outputs": [],
   "source": [
    "me.assets.append(Asset(asset_name=\"Wife\"))\n",
    "me.assets.append(Asset(asset_name=\"Son1\"))\n",
    "me.assets.append(Asset(asset_name=\"Son2\"))\n",
    "session.commit()"
   ]
  },
  {
   "cell_type": "code",
   "execution_count": null,
   "metadata": {},
   "outputs": [],
   "source": [
    "for asset in me.assets:\n",
    "    print(asset)"
   ]
  },
  {
   "cell_type": "markdown",
   "metadata": {},
   "source": [
    "#### 4-10. Child Table로부터 Select 실행"
   ]
  },
  {
   "cell_type": "markdown",
   "metadata": {},
   "source": [
    "-    - Asset Table을 직접 Select"
   ]
  },
  {
   "cell_type": "code",
   "execution_count": null,
   "metadata": {},
   "outputs": [],
   "source": [
    "assets = session.query(Asset).filter(Asset.owner_id==me.id, Asset.asset_name=='Car')\n",
    "\n",
    "for asset in assets:\n",
    "    print(asset)"
   ]
  },
  {
   "cell_type": "markdown",
   "metadata": {},
   "source": [
    "-    - Table Join 방식으로 Select"
   ]
  },
  {
   "cell_type": "code",
   "execution_count": null,
   "metadata": {},
   "outputs": [],
   "source": [
    "rows = session.query(User, Asset).join(Asset, Asset.owner_id==User.id).filter(User.id==me.id)\n",
    "\n",
    "for row in rows:\n",
    "    print(row[0], row[1])"
   ]
  },
  {
   "cell_type": "markdown",
   "metadata": {},
   "source": [
    "-    - Comprehention을 사용해 me 객체에서 Select"
   ]
  },
  {
   "cell_type": "code",
   "execution_count": null,
   "metadata": {},
   "outputs": [],
   "source": [
    "# asset_name으로 검색이 가능하도록 key=asset_name, value=Asset instance인 dictionary 생성\n",
    "assets_in_me = { asset.asset_name:asset for asset in me.assets }\n",
    "\n",
    "print('Assets : ', assets_in_me)\n",
    "print('asset_name이 Car인 Asset  : ', assets_in_me['Car'])\n",
    "print('asset_name이 Car인 Asset의 id  : ', assets_in_me['Car'].id)"
   ]
  },
  {
   "cell_type": "code",
   "execution_count": null,
   "metadata": {},
   "outputs": [],
   "source": [
    "asset = next( a for a in me.assets if a.asset_name==\"Car\" )\n",
    "\n",
    "print('asset_name이 Car인 Asset  : ', asset)\n",
    "print('asset_name이 Car인 Asset의 id  : ', asset.id)"
   ]
  },
  {
   "cell_type": "markdown",
   "metadata": {},
   "source": [
    "#### 4-11. Child Table Update 실행"
   ]
  },
  {
   "cell_type": "code",
   "execution_count": null,
   "metadata": {},
   "outputs": [],
   "source": [
    "asset.asset_name = \"비싼 Car\""
   ]
  },
  {
   "cell_type": "code",
   "execution_count": null,
   "metadata": {},
   "outputs": [],
   "source": [
    "session.commit()"
   ]
  },
  {
   "cell_type": "markdown",
   "metadata": {},
   "source": [
    "#### 4-12. Child Table Delete 실행"
   ]
  },
  {
   "cell_type": "code",
   "execution_count": null,
   "metadata": {},
   "outputs": [],
   "source": [
    "me.assets.remove(asset)"
   ]
  },
  {
   "cell_type": "code",
   "execution_count": null,
   "metadata": {},
   "outputs": [],
   "source": [
    "session.commit()"
   ]
  },
  {
   "cell_type": "markdown",
   "metadata": {},
   "source": [
    "### 5. Core 방식\n",
    "- SQLAlchemy Core는 SQL 표현식과 SQL 문을 생성하는 파이썬의 저수준 API입니다.\n",
    "- 파이썬 코드를 사용하여 SQL 쿼리를 생성하고 실행할 수 있습니다.\n",
    "- SQL 쿼리를 직접 작성하는 것보다는 추상화된 수준에서 데이터베이스와 상호 작용할 수 있습니다."
   ]
  },
  {
   "cell_type": "markdown",
   "metadata": {},
   "source": [
    "#### 5-1. Insert 실행"
   ]
  },
  {
   "cell_type": "code",
   "execution_count": null,
   "metadata": {},
   "outputs": [],
   "source": [
    "from sqlalchemy import insert\n",
    "\n",
    "stmt = insert(User).values(nickname='kang', real_name=\"강인모\")\n",
    "\n",
    "session.execute(stmt)\n",
    "session.commit()"
   ]
  },
  {
   "cell_type": "markdown",
   "metadata": {},
   "source": [
    "#### 5-2. Select 실행"
   ]
  },
  {
   "cell_type": "code",
   "execution_count": null,
   "metadata": {},
   "outputs": [],
   "source": [
    "from sqlalchemy import select\n",
    "\n",
    "stmt = select(User).where(User.nickname == 'kang')\n",
    "\n",
    "cursor = session.execute(stmt)\n",
    "\n",
    "for row in cursor:\n",
    "    print(row)"
   ]
  },
  {
   "cell_type": "markdown",
   "metadata": {},
   "source": [
    "#### 5-3. Update 실행"
   ]
  },
  {
   "cell_type": "code",
   "execution_count": null,
   "metadata": {},
   "outputs": [],
   "source": [
    "from sqlalchemy import update\n",
    "\n",
    "stmt = update(User).where(User.nickname == 'kang').\\\n",
    "    values(real_name='강감찬')\n",
    "\n",
    "session.execute(stmt)\n",
    "session.commit()"
   ]
  },
  {
   "cell_type": "markdown",
   "metadata": {},
   "source": [
    "#### 5-4. Delete 실행"
   ]
  },
  {
   "cell_type": "code",
   "execution_count": null,
   "metadata": {},
   "outputs": [],
   "source": [
    "from sqlalchemy import delete\n",
    "\n",
    "stmt = delete(User).where(User.nickname == 'kang')\n",
    "\n",
    "session.execute(stmt)\n",
    "session.commit()"
   ]
  },
  {
   "cell_type": "markdown",
   "metadata": {},
   "source": [
    "#### 5-5. Child Table Insert 실행"
   ]
  },
  {
   "cell_type": "code",
   "execution_count": null,
   "metadata": {},
   "outputs": [],
   "source": [
    "# Insert User\n",
    "user_insert = insert(User).values(nickname='mansour', real_name='만수르')\n",
    "result = session.execute(user_insert)\n",
    "\n",
    "user_id = result.lastrowid\n",
    "\n",
    "# Insert Asset\n",
    "asset1_insert = insert(Asset).values(asset_name=\"맨체스터 시티 FC\", owner_id=user_id)\n",
    "asset2_insert = insert(Asset).values(asset_name=\"돈\", owner_id=user_id)\n",
    "\n",
    "asset1_id = session.execute(asset1_insert).lastrowid\n",
    "asset2_id = session.execute(asset2_insert).lastrowid\n",
    "\n",
    "session.commit()"
   ]
  },
  {
   "cell_type": "markdown",
   "metadata": {},
   "source": [
    "#### 5-6. Select join tables 실행"
   ]
  },
  {
   "cell_type": "code",
   "execution_count": null,
   "metadata": {},
   "outputs": [],
   "source": [
    "stmt = select(User, Asset).where(User.id == user_id, User.id == Asset.owner_id)\n",
    "\n",
    "rows = session.execute(stmt)\n",
    "\n",
    "# 결과 출력\n",
    "for row in rows:\n",
    "    print(\"User ID:\", row[0].id, \"Nickname:\", row[0].nickname, \"Asset ID:\", row[1].id, \"Asset Name:\", row[1].asset_name)"
   ]
  }
 ],
 "metadata": {
  "kernelspec": {
   "display_name": "Python 3",
   "language": "python",
   "name": "python3"
  },
  "language_info": {
   "codemirror_mode": {
    "name": "ipython",
    "version": 3
   },
   "file_extension": ".py",
   "mimetype": "text/x-python",
   "name": "python",
   "nbconvert_exporter": "python",
   "pygments_lexer": "ipython3",
   "version": "3.10.12"
  }
 },
 "nbformat": 4,
 "nbformat_minor": 2
}
