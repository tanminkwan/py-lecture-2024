{
 "cells": [
  {
   "cell_type": "markdown",
   "metadata": {},
   "source": [
    "## Pythonic 이란 \n",
    "\"Pythonic\"은 파이썬의 철학과 가이드라인을 따르며, 파이썬의 강력한 기능과 문법을 최대한 활용하여 코드를 간결하고 가독성 있게 작성하는 것을 의미합니다. 이는 파이썬의 고유한 기능을 활용하고 파이썬스러운 스타일을 따르며, 코드를 적절하게 작성하여 효율성을 높이고 유지 보수를 용이하게 하는 것을 지향합니다. 코드를 작성할 때 파이썬의 특징과 철학을 잘 이해하고 적용하여 \"Pythonic\"한 코드를 작성하는 것이 중요합니다."
   ]
  },
  {
   "cell_type": "code",
   "execution_count": null,
   "metadata": {},
   "outputs": [],
   "source": [
    "# 파이썬의 철학\n",
    "# The Zen of Python\n",
    "import this"
   ]
  },
  {
   "cell_type": "markdown",
   "metadata": {},
   "source": [
    "## Python coding 가이드 라인 (PEP 8) 주요 내용"
   ]
  },
  {
   "cell_type": "markdown",
   "metadata": {},
   "source": [
    "### 1. 들여쓰기(Indentation):\n",
    "\n",
    "- 들여쓰기는 파이썬에서 매우 중요합니다. 코드 블록은 반드시 동일한 들여쓰기를 사용해야 합니다. 스페이스 4칸을 권장합니다."
   ]
  },
  {
   "cell_type": "code",
   "execution_count": null,
   "metadata": {},
   "outputs": [],
   "source": [
    "# 올바른 들여쓰기\n",
    "if True:\n",
    "    print(\"Hello, World!\")\n",
    "\n",
    "# 잘못된 들여쓰기 (에러 발생)\n",
    "# if True:\n",
    "# print(\"Hello, World!\")"
   ]
  },
  {
   "cell_type": "markdown",
   "metadata": {},
   "source": [
    "### 2. 명명 규칙(Naming Conventions):\n",
    "\n",
    "- 변수, 함수, 클래스 등의 이름을 명확하고 의미있게 지어야 합니다. 스네이크 케이스(snake_case)와 카멜 케이스(CamelCase)를 사용합니다."
   ]
  },
  {
   "cell_type": "code",
   "execution_count": null,
   "metadata": {},
   "outputs": [],
   "source": [
    "# 스네이크 케이스 (snake_case)\n",
    "my_variable = 10\n",
    "def my_function():\n",
    "    pass\n",
    "\n",
    "# 카멜 케이스 (CamelCase) - 클래스 이름에 사용\n",
    "class MyClass:\n",
    "    pass\n"
   ]
  },
  {
   "cell_type": "markdown",
   "metadata": {},
   "source": [
    "### 3. 코드 레이아웃(Code Layout):\n",
    "\n",
    "- 코드를 읽기 쉽게 구조화해야 합니다. 각 함수나 클래스 사이에는 빈 줄을 넣어 구분합니다."
   ]
  },
  {
   "cell_type": "code",
   "execution_count": null,
   "metadata": {},
   "outputs": [],
   "source": [
    "def func1():\n",
    "    print(\"Function 1\")\n",
    "\n",
    "# 빈 줄을 사용하여 코드 구조화\n",
    "def func2():\n",
    "    print(\"Function 2\")\n",
    "\n",
    "# 빈 줄을 사용하여 코드 구조화\n",
    "def func3():\n",
    "    print(\"Function 3\")\n"
   ]
  },
  {
   "cell_type": "markdown",
   "metadata": {},
   "source": [
    "### 4. 코드 길이(Code Length):\n",
    "\n",
    "- 한 줄에는 79자 이내로 작성하는 것을 권장하며, 너무 긴 줄은 여러 줄로 나누어 작성합니다."
   ]
  },
  {
   "cell_type": "code",
   "execution_count": null,
   "metadata": {},
   "outputs": [],
   "source": [
    "# 한 줄에 79자 이내로 작성\n",
    "long_text = \"Lorem ipsum dolor sit amet, consectetur adipiscing elit, sed do eiusmod tempor incididunt ut labore et dolore magna aliqua.\"\n",
    "\n",
    "# 여러 줄로 나누어 작성\n",
    "long_text = (\"Lorem ipsum dolor sit amet, consectetur \"\n",
    "             \"adipiscing elit, sed do eiusmod tempor \"\n",
    "             \"incididunt ut labore et dolore magna aliqua.\")\n"
   ]
  },
  {
   "cell_type": "markdown",
   "metadata": {},
   "source": [
    "### 5. 주석(Comments):\n",
    "\n",
    "- 코드에는 명확하고 이해하기 쉬운 주석을 추가해야 합니다. 한 줄 주석과 여러 줄 주석을 사용할 수 있습니다."
   ]
  },
  {
   "cell_type": "code",
   "execution_count": null,
   "metadata": {},
   "outputs": [],
   "source": [
    "# 단일 줄 주석\n",
    "# 이 부분은 더하기 연산을 수행합니다.\n",
    "\n",
    "result = 10 + 5  # 이 부분은 더하기 연산을 수행합니다.\n",
    "\n",
    "\"\"\"\n",
    "여러 줄 주석\n",
    "이 부분은 곱하기 연산을 수행합니다.\n",
    "\"\"\"\n",
    "\n",
    "result = 10 * 5\n"
   ]
  },
  {
   "cell_type": "markdown",
   "metadata": {},
   "source": [
    "### 6. 공백(Spaces):\n",
    "\n",
    "- 연산자 주변에 공백을 추가하여 가독성을 높이고, 문장 끝의 불필요한 공백을 제거합니다."
   ]
  },
  {
   "cell_type": "code",
   "execution_count": null,
   "metadata": {},
   "outputs": [],
   "source": [
    "# 연산자 주변에 공백 추가\n",
    "result = 10 + 5\n",
    "result = 10*5  # 공백이 없는 경우\n",
    "\n",
    "# 문장 끝의 불필요한 공백 제거\n",
    "text = \"Hello, World!  \"  # 불필요한 공백이 포함된 경우\n",
    "text = \"Hello, World!\"    # 공백이 제거된 경우\n"
   ]
  },
  {
   "cell_type": "markdown",
   "metadata": {},
   "source": [
    "### 7. 예외 처리(Exception Handling):\n",
    "\n",
    "- try-except를 사용하여 예외 처리를 하며, 불필요한 예외 처리는 피합니다."
   ]
  },
  {
   "cell_type": "code",
   "execution_count": null,
   "metadata": {},
   "outputs": [],
   "source": [
    "# try-except를 사용한 예외 처리\n",
    "try:\n",
    "    result = 10 / 0\n",
    "except ZeroDivisionError:\n",
    "    print(\"Error: Division by zero!\")\n",
    "\n",
    "# 아래와 같이 불필요한 예외 처리는 피함\n",
    "try:\n",
    "    result = 10 / 2\n",
    "except Exception:\n",
    "    print(\"Error occurred!\")"
   ]
  },
  {
   "cell_type": "markdown",
   "metadata": {},
   "source": [
    "## Python 다운(Pythoic) 코드 맛보기\n",
    "\n",
    "- 출처 : ChatGPT 3.5\n",
    "- prompt : pythonic 함을 느낄 수 있는 간단한 python code 예시 들어줘"
   ]
  },
  {
   "cell_type": "markdown",
   "metadata": {},
   "source": [
    "### 1. List Comprehension (리스트 컴프리헨션)\n",
    "\n",
    "- 리스트 컴프리헨션은 리스트를 간단하고 간결하게 생성하는 방법 중 하나입니다.\n",
    "\n",
    "예시 1: 1부터 10까지의 제곱을 담은 리스트 생성"
   ]
  },
  {
   "cell_type": "code",
   "execution_count": null,
   "metadata": {},
   "outputs": [],
   "source": [
    "# 일반적인 방법\n",
    "squares = []\n",
    "for i in range(1, 11):\n",
    "    squares.append(i**2)\n",
    "\n",
    "# 파이썬답게(Pythonic) 리스트 컴프리헨션\n",
    "squares = [i**2 for i in range(1, 11)]\n",
    "print(squares)\n"
   ]
  },
  {
   "cell_type": "markdown",
   "metadata": {},
   "source": [
    "### 2. unpacking (언패킹)\n",
    "\n",
    "- 튜플이나 리스트의 요소를 변수에 한 번에 할당하는 방법입니다.\n",
    "\n",
    "예시 2: 튜플을 언패킹하여 변수에 할당"
   ]
  },
  {
   "cell_type": "code",
   "execution_count": null,
   "metadata": {},
   "outputs": [],
   "source": [
    "# 일반적인 방법\n",
    "t = (1, 2, 3)\n",
    "a = t[0]\n",
    "b = t[1]\n",
    "c = t[2]\n",
    "\n",
    "# 파이썬답게(Pythonic) 언패킹\n",
    "a, b, c = (1, 2, 3)\n",
    "print(a, b, c)\n"
   ]
  },
  {
   "cell_type": "markdown",
   "metadata": {},
   "source": [
    "### 3. Context Managers (with 문을 이용한)\n",
    "\n",
    "- 파일을 다룰 때 with 문을 사용하여 파일을 자동으로 닫는 코드를 작성할 수 있습니다.\n",
    "\n",
    "예시 3: 파일을 열고 닫기"
   ]
  },
  {
   "cell_type": "code",
   "execution_count": null,
   "metadata": {},
   "outputs": [],
   "source": [
    "# 일반적인 방법\n",
    "file = open('example.txt', 'r')\n",
    "try:\n",
    "    data = file.read()\n",
    "finally:\n",
    "    file.close()\n",
    "\n",
    "# 파이썬답게(Pythonic) with 문 사용\n",
    "with open('example.txt', 'r') as file:\n",
    "    data = file.read()\n"
   ]
  },
  {
   "cell_type": "markdown",
   "metadata": {},
   "source": [
    "### 4. enumerate() 함수\n",
    "\n",
    "- 리스트나 튜플 등의 자료형을 순회하면서 인덱스 값도 함께 얻을 수 있는 함수입니다.\n",
    "\n",
    "예시 4: 리스트의 값과 인덱스 출력"
   ]
  },
  {
   "cell_type": "code",
   "execution_count": null,
   "metadata": {},
   "outputs": [],
   "source": [
    "# 일반적인 방법\n",
    "fruits = ['apple', 'banana', 'cherry']\n",
    "for i in range(len(fruits)):\n",
    "    print(i, fruits[i])\n",
    "\n",
    "# 파이썬답게(Pythonic) enumerate() 사용\n",
    "for i, fruit in enumerate(fruits):\n",
    "    print(i, fruit)"
   ]
  },
  {
   "cell_type": "markdown",
   "metadata": {},
   "source": [
    "### 5. 파이썬의 내장(In-Built)함수 활용\n",
    "\n",
    "- 파이썬은 많은 내장 함수를 제공합니다. 이를 활용하면 코드를 간결하게 만들 수 있습니다.\n",
    "\n",
    "예시 5: 리스트에서 짝수만 추출하기"
   ]
  },
  {
   "cell_type": "code",
   "execution_count": 1,
   "metadata": {},
   "outputs": [
    {
     "name": "stdout",
     "output_type": "stream",
     "text": [
      "[2, 4, 6, 8, 10]\n",
      "[2, 4, 6, 8, 10]\n",
      "[2, 4, 6, 8, 10]\n"
     ]
    }
   ],
   "source": [
    "# 일반적인 방법\n",
    "numbers = [1, 2, 3, 4, 5, 6, 7, 8, 9, 10]\n",
    "evens = []\n",
    "for num in numbers:\n",
    "    if num % 2 == 0:\n",
    "        evens.append(num)\n",
    "\n",
    "print(evens)\n",
    "\n",
    "# 파이썬답게(Pythonic) 내장 함수 filter()와 lambda 함수 사용\n",
    "evens = list(filter(lambda x: x % 2 == 0, numbers))\n",
    "print(evens)\n",
    "\n",
    "# 더 파이썬답게(More Pythonic) 리스트 컴프리헨션\n",
    "evens = [ x for x in numbers if x % 2 == 0 ]\n",
    "print(evens)"
   ]
  },
  {
   "cell_type": "markdown",
   "metadata": {},
   "source": [
    "### 6. 짧은 조건식 (Ternary Conditional Operator)\n",
    "\n",
    "- 한 줄로 간단한 조건문을 작성할 수 있습니다.\n",
    "\n",
    "예시 6: 조건에 따라 값 설정하기"
   ]
  },
  {
   "cell_type": "code",
   "execution_count": null,
   "metadata": {},
   "outputs": [],
   "source": [
    "# 일반적인 방법\n",
    "x = 10\n",
    "if x > 5:\n",
    "    message = \"Greater than 5\"\n",
    "else:\n",
    "    message = \"Less than or equal to 5\"\n",
    "\n",
    "# 파이썬답게(Pythonic) 짧은 조건식\n",
    "message = \"Greater than 5\" if x > 5 else \"Less than or equal to 5\"\n",
    "print(message)\n"
   ]
  },
  {
   "cell_type": "markdown",
   "metadata": {},
   "source": [
    "### 7. f-문자열 (f-strings)\n",
    "\n",
    "- 파이썬 3.6부터 도입된 f-문자열을 사용하면 변수를 문자열 안에 간편하게 삽입할 수 있습니다.\n",
    "\n",
    "예시 7: 변수 값 포매팅"
   ]
  },
  {
   "cell_type": "code",
   "execution_count": null,
   "metadata": {},
   "outputs": [],
   "source": [
    "name = \"Alice\"\n",
    "age = 30\n",
    "\n",
    "# 일반적인 방법\n",
    "message = \"My name is {} and I am {} years old.\".format(name, age)\n",
    "\n",
    "# 파이썬답게(Pythonic) f-문자열 사용\n",
    "message = f\"My name is {name} and I am {age} years old.\"\n",
    "print(message)\n"
   ]
  },
  {
   "cell_type": "markdown",
   "metadata": {},
   "source": [
    "### 8.변수 Swap\n",
    "\n",
    "- 파이썬에서 두 변수의 값을 서로 바꾸는 방법 중 가장 pythonic한 방법은 다음과 같습니다."
   ]
  },
  {
   "cell_type": "code",
   "execution_count": null,
   "metadata": {},
   "outputs": [],
   "source": [
    "# 변수 할당\n",
    "a = 10\n",
    "b = 20\n",
    "\n",
    "# Pythonic한 Swap\n",
    "a, b = b, a\n",
    "\n",
    "print(\"a:\", a)\n",
    "print(\"b:\", b)"
   ]
  }
 ],
 "metadata": {
  "kernelspec": {
   "display_name": "Python 3",
   "language": "python",
   "name": "python3"
  },
  "language_info": {
   "codemirror_mode": {
    "name": "ipython",
    "version": 3
   },
   "file_extension": ".py",
   "mimetype": "text/x-python",
   "name": "python",
   "nbconvert_exporter": "python",
   "pygments_lexer": "ipython3",
   "version": "3.10.12"
  }
 },
 "nbformat": 4,
 "nbformat_minor": 2
}
