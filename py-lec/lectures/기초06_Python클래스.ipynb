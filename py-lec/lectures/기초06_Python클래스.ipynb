{
 "cells": [
  {
   "cell_type": "markdown",
   "metadata": {},
   "source": [
    "# Python 클래스(Class)\n",
    "\n",
    "- 클래스는 객체를 생성하기 위한 구조이며, 파이썬에서는 모든 것이 객체입니다.\n",
    "- 클래스를 사용하면 데이터와 함수를 하나의 재사용 가능한 컴포넌트에 묶을 수 있습니다.\n",
    "- 클래스 내에 정의된 함수를 메서드(method)라고 하며, 데이터 요소를 속성(attribute)이라고 합니다.\n",
    "\n",
    "### 1. 클래스의 구조\n",
    "\n",
    "- 클래스는 `class` 키워드를 사용하여 정의하며, 클래스 내부에서 다양한 메서드를 정의할 수 있습니다."
   ]
  },
  {
   "cell_type": "code",
   "execution_count": null,
   "metadata": {},
   "outputs": [],
   "source": [
    "class Person:\n",
    "    def __init__(self, name, age):\n",
    "        self.name = name\n",
    "        self.age = age\n",
    "    \n",
    "    def greet(self):\n",
    "        return f\"Hello, my name is {self.name} and I am {self.age} years old!\""
   ]
  },
  {
   "cell_type": "markdown",
   "metadata": {},
   "source": [
    "- 위 예시에서 `Person` 클래스는 `name`과 `age`라는 속성을 가지며, `__init__` 메서드(생성자)를 통해 이 속성들을 초기화합니다. `greet` 메서드는 인사말을 반환합니다."
   ]
  },
  {
   "cell_type": "code",
   "execution_count": null,
   "metadata": {},
   "outputs": [],
   "source": [
    "# 클래스 생성과 메서드 호출 예\n",
    "me = Person(\"Tom\", 25)\n",
    "me.greet()"
   ]
  },
  {
   "cell_type": "markdown",
   "metadata": {},
   "source": [
    "\n",
    "### 2. 상속\n",
    "\n",
    "- 상속은 기존 클래스의 모든 기능을 물려받아 새 클래스를 생성하는 방법입니다.\n",
    "- 이를 통해 코드의 재사용성을 높이고, 복잡성을 관리할 수 있습니다."
   ]
  },
  {
   "cell_type": "code",
   "execution_count": null,
   "metadata": {},
   "outputs": [],
   "source": [
    "class Student(Person):\n",
    "    def __init__(self, name, age, student_id):\n",
    "        super().__init__(name, age)\n",
    "        self.student_id = student_id\n",
    "\n",
    "    def study(self):\n",
    "        return \"I'm studying!\""
   ]
  },
  {
   "cell_type": "markdown",
   "metadata": {},
   "source": [
    "- 위 예시에서 `Student` 클래스는 `Person` 클래스에서 이름과 나이 정보를 상속받아 추가로 `student_id` 속성을 갖습니다.\n",
    "- `super()` 함수는 부모 클래스의 메서드를 호출합니다."
   ]
  },
  {
   "cell_type": "code",
   "execution_count": null,
   "metadata": {},
   "outputs": [],
   "source": [
    "# 클래스 생성 후 부모로 부터 상속받은 메서드와 새로 정의한 메서드 호출 예\n",
    "me = Student(\"Tom\", 25, 33333)\n",
    "print(me.greet())\n",
    "print(me.study())"
   ]
  },
  {
   "cell_type": "markdown",
   "metadata": {},
   "source": [
    "### 3. `staticmethod`와 `classmethod`\n",
    "\n",
    "- `staticmethod`와 `classmethod`는 파이썬에서 클래스 설계 시 흔히 사용되는 두 가지 유형의 메서드입니다.\n",
    "- 이들은 일반 인스턴스 메서드와 달리 특정 상황에서 클래스 또는 인스턴스에 종속되지 않고 사용할 수 있습니다."
   ]
  },
  {
   "cell_type": "markdown",
   "metadata": {},
   "source": [
    "#### 3-1. `staticmethod`\n",
    "- staticmethod는 클래스에 대한 어떠한 참조도 전달받지 않습니다. 즉, 클래스의 상태나 인스턴스의 상태에 접근할 수 없습니다.\n",
    "- 이 메서드는 클래스의 유틸리티 함수로 사용되며, 클래스 내부에서 동작하지만 클래스나 인스턴스의 어떤 속성에도 접근하지 않을 때 유용합니다.\n",
    "- staticmethod는 데코레이터 @staticmethod를 사용하여 정의됩니다."
   ]
  },
  {
   "cell_type": "code",
   "execution_count": null,
   "metadata": {},
   "outputs": [],
   "source": [
    "class Math:\n",
    "    @staticmethod\n",
    "    def add(x, y):\n",
    "        return x + y\n",
    "\n",
    "# 사용 예시\n",
    "print(Math.add(5, 7))  # 12"
   ]
  },
  {
   "cell_type": "markdown",
   "metadata": {},
   "source": [
    "#### 3-2. `classmethod`\n",
    "- `classmethod`는 클래스 메서드로, 메서드에 클래스 자신의 참조인 `cls`가 전달됩니다. 이를 통해 메서드는 클래스 변수와 다른 클래스 메서드에 접근할 수 있습니다.\n",
    "- `classmethod`는 인스턴스를 생성하지 않고 클래스의 상태를 수정하거나 다룰 때 사용됩니다. 또한 상속받은 클래스에서 부모 클래스의 메서드를 호출할 수 있는 용도로도 쓰입니다.\n",
    "- `classmethod`는 데코레이터 `@classmethod`를 사용하여 정의됩니다."
   ]
  },
  {
   "cell_type": "code",
   "execution_count": null,
   "metadata": {},
   "outputs": [],
   "source": [
    "class Person:\n",
    "    count = 0\n",
    "\n",
    "    @classmethod\n",
    "    def increment_count(cls):\n",
    "        cls.count += 1\n",
    "\n",
    "    @classmethod\n",
    "    def show_count(cls):\n",
    "        print(f\"Number of instances created: {cls.count}\")\n",
    "\n",
    "# 사용 예시\n",
    "Person.increment_count()\n",
    "Person.increment_count()\n",
    "Person.show_count()  # 출력: Number of instances created: 2"
   ]
  },
  {
   "cell_type": "markdown",
   "metadata": {},
   "source": [
    "#### 3-3. 언제 어떤 메서드를 사용할까?\n",
    "- `staticmethod` 사용:\n",
    "\n",
    "    객체나 클래스 상태에 영향을 받지 않는, 독립적인 함수를 클래스 내부에 정의할 때 사용합니다. 이는 로직상 클래스 내부에 포함되어야 하지만 클래스나 인스턴스의 어떤 속성도 사용하지 않는 경우 적합합니다.\n",
    "- `classmethod` 사용: \n",
    "\n",
    "    메서드가 클래스 상태에 접근해야 하거나 수정해야 할 때 사용합니다. 클래스 메서드는 클래스의 생성자를 대체하는 팩토리 메서드로 사용될 수 있으며, 상속 구조에서 부모 클래스의 메서드를 호출하고 싶을 때 유용합니다."
   ]
  },
  {
   "cell_type": "markdown",
   "metadata": {},
   "source": [
    "### 4. 매직 메서드\n",
    "\n",
    "- 매직 메서드는 더블 언더스코어(`__`)로 시작하고 종료되는 특별한 메서드로, 파이썬의 내장 동작을 사용자 정의 객체에 적용할 수 있게 해줍니다.\n",
    "- 주요 매직 메서드들에 대해 알아보겠습니다."
   ]
  },
  {
   "cell_type": "markdown",
   "metadata": {},
   "source": [
    "#### 4-1. `__init__(self, ...)`\n",
    "- 클래스의 인스턴스를 생성할 때 자동으로 호출되는 생성자 메서드입니다.\n",
    "- 객체 초기화에 필요한 인자를 받아 객체의 상태를 설정합니다."
   ]
  },
  {
   "cell_type": "code",
   "execution_count": null,
   "metadata": {},
   "outputs": [],
   "source": [
    "class Person:\n",
    "    def __init__(self, name, age):\n",
    "        self.name = name\n",
    "        self.age = age\n",
    "\n",
    "# 사용 예시\n",
    "person = Person(\"John Doe\", 30)"
   ]
  },
  {
   "cell_type": "markdown",
   "metadata": {},
   "source": [
    "#### 4-2. `__call__(self, ...)`\n",
    "- 객체를 함수처럼 호출할 수 있게 해주는 메서드입니다.\n",
    "- 이 메서드를 정의하면 객체 뒤에 괄호를 붙여 호출할 수 있습니다."
   ]
  },
  {
   "cell_type": "code",
   "execution_count": null,
   "metadata": {},
   "outputs": [],
   "source": [
    "class Adder:\n",
    "    def __call__(self, x, y):\n",
    "        return x + y\n",
    "\n",
    "# 사용 예시\n",
    "add = Adder()\n",
    "print(add(2, 3))  # 출력: 5"
   ]
  },
  {
   "cell_type": "markdown",
   "metadata": {},
   "source": [
    "#### 4-3. `__str__(self)`\n",
    "- print() 함수가 호출될 때 사람이 읽기 쉬운 형태로 정보를 제공합니다."
   ]
  },
  {
   "cell_type": "code",
   "execution_count": null,
   "metadata": {},
   "outputs": [],
   "source": [
    "class Person:\n",
    "    def __init__(self, name, age):\n",
    "        self.name = name\n",
    "        self.age = age\n",
    "\n",
    "    def __str__(self):\n",
    "        return f\"{self.name}, {self.age} years old\"\n",
    "\n",
    "# 사용 예시\n",
    "person = Person(\"Jane Doe\", 28)\n",
    "print(person)  # 출력: Jane Doe, 28 years old"
   ]
  },
  {
   "cell_type": "markdown",
   "metadata": {},
   "source": [
    "#### 4-4. `__len__(self)`\n",
    "- `len()` 함수가 객체에 적용될 때 호출되는 메서드로, 컨테이너의 크기를 반환합니다."
   ]
  },
  {
   "cell_type": "code",
   "execution_count": null,
   "metadata": {},
   "outputs": [],
   "source": [
    "class Group:\n",
    "    def __init__(self, members):\n",
    "        self.members = members\n",
    "\n",
    "    def __len__(self):\n",
    "        return len(self.members)\n",
    "\n",
    "# 사용 예시\n",
    "group = Group([\"John\", \"Jane\", \"Doe\"])\n",
    "print(len(group))  # 출력: 3"
   ]
  },
  {
   "cell_type": "markdown",
   "metadata": {},
   "source": [
    "#### 4-5. `__repr__(self)`\n",
    "- 개발자가 이해하기 쉬운 형태로 정보를 제공합니다.\n",
    "- 주로 디버깅과 로깅에서 사용됩니다."
   ]
  },
  {
   "cell_type": "code",
   "execution_count": null,
   "metadata": {},
   "outputs": [],
   "source": [
    "class Person:\n",
    "    def __init__(self, name, age):\n",
    "        self.name = name\n",
    "        self.age = age\n",
    "\n",
    "    def __repr__(self):\n",
    "        return f\"Person({self.name}, {self.age})\"\n",
    "\n",
    "# 사용 예시\n",
    "person = Person(\"John Doe\", 30)\n",
    "person  # 출력: Person(John Doe, 30)"
   ]
  },
  {
   "cell_type": "markdown",
   "metadata": {},
   "source": [
    "#### 4-6. `__iter__(self)와 __next__(self)`\n",
    "- 객체가 반복자를 제공할 수 있도록 합니다."
   ]
  },
  {
   "cell_type": "code",
   "execution_count": null,
   "metadata": {},
   "outputs": [],
   "source": [
    "class Countdown:\n",
    "    def __init__(self, start):\n",
    "        self.current = start\n",
    "\n",
    "    def __iter__(self):\n",
    "        return self\n",
    "\n",
    "    def __next__(self):\n",
    "        num = self.current\n",
    "        if num <= 0:\n",
    "            raise StopIteration\n",
    "        self.current -= 1\n",
    "        return num\n",
    "\n",
    "# 사용 예시\n",
    "countdown = Countdown(5)\n",
    "for number in countdown:\n",
    "    print(number)  # 출력: 5, 4, 3, 2, 1"
   ]
  },
  {
   "cell_type": "markdown",
   "metadata": {},
   "source": [
    "#### 4-7. `__contains__(self, item)`\n",
    "- `in` 연산자를 사용할 때 호출되는 메서드로, 특정 항목이 객체 내에 있는지 여부를 반환합니다."
   ]
  },
  {
   "cell_type": "code",
   "execution_count": null,
   "metadata": {},
   "outputs": [],
   "source": [
    "class Inventory:\n",
    "    def __init__(self, items):\n",
    "        self.items = items\n",
    "\n",
    "    def __contains__(self, item):\n",
    "        return item in self.items\n",
    "\n",
    "# 사용 예시\n",
    "inventory = Inventory([\"apple\", \"banana\", \"cherry\"])\n",
    "print(\"banana\" in inventory)  # 출력: True"
   ]
  },
  {
   "cell_type": "markdown",
   "metadata": {},
   "source": [
    "#### 4-8. `__enter__(self)`와 `__exit__(self, exc_type, exc_val, exc_tb)`\n",
    "- 객체를 컨텍스트 매니저로 사용할 수 있도록 합니다. `with` 블록을 시작할 때 `__enter__`가 호출되고 블록이 종료될 때 `__exit__`가 호출됩니다."
   ]
  },
  {
   "cell_type": "code",
   "execution_count": null,
   "metadata": {},
   "outputs": [],
   "source": [
    "class ManagedFile:\n",
    "    def __init__(self, name):\n",
    "        self.name = name\n",
    "\n",
    "    def __enter__(self):\n",
    "        self.file = open(self.name, 'w')\n",
    "        return self.file\n",
    "\n",
    "    def __exit__(self, exc_type, exc_val, exc_tb):\n",
    "        if self.file:\n",
    "            self.file.close()\n",
    "\n",
    "# 사용 예시\n",
    "with ManagedFile('../resources/test.txt') as f:\n",
    "    f.write(\"Hello, World!\")\n",
    "\n",
    "# 파일이 자동으로 닫힙니다."
   ]
  },
  {
   "cell_type": "markdown",
   "metadata": {},
   "source": [
    "#### 4-9. `__eq__(self, other)`\n",
    "- 두 객체가 동등한지 비교할 때 사용됩니다.\n",
    "- `==` 연산자가 객체에 적용될 때 호출됩니다."
   ]
  },
  {
   "cell_type": "code",
   "execution_count": null,
   "metadata": {},
   "outputs": [],
   "source": [
    "class Product:\n",
    "    def __init__(self, name, price):\n",
    "        self.name = name\n",
    "        self.price = price\n",
    "\n",
    "    def __eq__(self, other):\n",
    "        return (self.name == other.name) and (self.price == other.price)\n",
    "\n",
    "# 사용 예시\n",
    "product1 = Product(\"Apple\", 1.50)\n",
    "product2 = Product(\"Apple\", 1.50)\n",
    "product3 = Product(\"Banana\", 1.20)\n",
    "\n",
    "print(product1 == product2)  # 출력: True\n",
    "print(product1 == product3)  # 출력: False"
   ]
  },
  {
   "cell_type": "markdown",
   "metadata": {},
   "source": [
    "#### 4-10. 산술 연산자(Arithmetic Operator)\n",
    "- 두 객체간 산술연산을 정의할 때 사용됩니다.\n",
    "- 각기 아래 표에 해당하는 연산자가 객체에 적용될 때 호출됩니다.\n",
    "\n",
    "|연산자(Operator)|매직 메서드|\n",
    "|:---:|---|\n",
    "|`+`|`.__add__(self, other)`|\n",
    "|`-`|`.__sub__(self, other)`|\n",
    "|`*`|`.__mul__(self, other)`|\n",
    "|`/`|`.__truediv__(self, other)`|\n",
    "|`//`|`.__floordiv__(self, other)`|\n",
    "|`%`|`.__mod__(self, other)`|\n",
    "|`**`|`.__pow__(self, other[, modulo])`|"
   ]
  },
  {
   "cell_type": "code",
   "execution_count": null,
   "metadata": {},
   "outputs": [],
   "source": [
    "class Time:\n",
    "    def __init__(self, hours, minutes):\n",
    "        self.hours = hours\n",
    "        self.minutes = minutes\n",
    "\n",
    "    def __add__(self, other):\n",
    "        total_minutes = self.minutes + other.minutes\n",
    "        total_hours = self.hours + other.hours + total_minutes // 60\n",
    "        total_minutes = total_minutes % 60\n",
    "        return Time(total_hours, total_minutes)\n",
    "\n",
    "    def __str__(self):\n",
    "        return f\"{self.hours}h {self.minutes}m\"\n",
    "\n",
    "# 사용 예시\n",
    "time1 = Time(2, 45)\n",
    "time2 = Time(1, 30)\n",
    "total_time = time1 + time2\n",
    "print(total_time)  # 출력: 4h 15m"
   ]
  },
  {
   "cell_type": "markdown",
   "metadata": {},
   "source": [
    "### Wrap up\n",
    "1. **클래스의 정의와 용도**\n",
    "\n",
    "    클래스는 객체를 생성하기 위한 구조로서, 데이터와 함수를 하나의 컴포넌트에 묶어 재사용 가능하게 만듭니다. 함수는 메서드(method)라고 하며, 데이터 요소는 속성(attribute)이라고 합니다.\n",
    "\n",
    "2. **상속의 개념**\n",
    "\n",
    "    상속은 기존 클래스의 기능을 물려받아 새로운 클래스를 생성하는 프로세스로, 코드의 재사용성을 높이고 복잡성을 관리하는 데 도움을 줍니다.\n",
    "\n",
    "3. **`staticmethod`와 `classmethod`**\n",
    "\n",
    "    `staticmethod`와 `classmethod`는 클래스 설계 시 일반 인스턴스 메서드와는 다르게 특정 상황에서 클래스 또는 인스턴스에 종속되지 않고 사용됩니다. `staticmethod`는 클래스나 인스턴스의 상태에 접근하지 않는 유틸리티 함수로, `classmethod`는 클래스 자체의 참조를 받아 클래스 변수와 메서드에 접근합니다.\n",
    "\n",
    "4. **매직 메서드의 사용**\n",
    "\n",
    "    매직 메서드는 특별한 용도로 사용되며, 객체의 생성, 문자열 변환, 길이 측정 등 다양한 내장 동작을 사용자 정의 객체에 적용할 수 있게 해줍니다. 이들은 객체와 파이썬 내장 함수들과의 상호작용을 정의하는 데 중요한 역할을 합니다."
   ]
  }
 ],
 "metadata": {
  "kernelspec": {
   "display_name": "Python 3",
   "language": "python",
   "name": "python3"
  },
  "language_info": {
   "codemirror_mode": {
    "name": "ipython",
    "version": 3
   },
   "file_extension": ".py",
   "mimetype": "text/x-python",
   "name": "python",
   "nbconvert_exporter": "python",
   "pygments_lexer": "ipython3",
   "version": "3.10.12"
  }
 },
 "nbformat": 4,
 "nbformat_minor": 2
}
