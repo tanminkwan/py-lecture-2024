{
 "cells": [
  {
   "cell_type": "markdown",
   "metadata": {},
   "source": [
    "# 파이썬 소개!"
   ]
  },
  {
   "cell_type": "markdown",
   "metadata": {},
   "source": [
    "![python-logo.png](../resources/python-logo.png)"
   ]
  },
  {
   "cell_type": "markdown",
   "metadata": {},
   "source": [
    "파이썬(Python)은 <span style=\"color:yellow\"><string>인터프리터 방식</string></span>의  <span style=\"color:yellow\"><string>객체지향</string></span> 프로그래밍 언어입니다. 파이썬은 <span style=\"color:yellow\"><string>간결하고 읽기 쉬운 문법</string></span>을 갖추고 있으며, <span style=\"color:yellow\"><string>다양한 라이브러리와 프레임워크를 풍부하게 지원</string></span>하여 <span style=\"color:yellow\"><string>빠르고 효율적인 개발</string></span>을 할 수 있습니다. 이 언어는 여러 운영 체제에서 동작하며, 오픈 소스이기 때문에 무료로 사용할 수 있습니다.\n",
    "\n",
    "파이썬의 특장점은 다음과 같습니다:\n",
    "1. 간결하고 읽기 쉬운 문법\n",
    "\n",
    "    파이썬은 간결하고 가독성이 좋은 문법을 갖추고 있어, 코드를 작성하고 이해하기 쉽습니다.\n",
    "\n",
    "2. 다양한 용도로 사용 가능\n",
    "\n",
    "    웹 개발, 데이터 분석, 인공지능, 기계 학습, 과학 계산, 자동화, 게임 개발 등 다양한 분야에서 사용됩니다.\n",
    "\n",
    "3. 풍부한 라이브러리와 프레임워크\n",
    "\n",
    "    파이썬은 다양한 라이브러리와 프레임워크가 풍부하여 개발 시간을 단축하고, 높은 생산성을 제공합니다. 예를 들어, 데이터 분석에는 <span style=\"color:yellow\"><string>NumPy, pandas, matplotlib</string></span>, scikit-learn 등이 있으며, 웹 개발에는 Django, <span style=\"color:yellow\"><string>Flask</string></span> 등이 있습니다.\n",
    "\n",
    "4. 빠른 개발 속도와 생산성\n",
    "    \n",
    "    파이썬은 빠른 프로토타이핑과 실험을 가능하게 합니다. 개발 생산성을 높여주는 다양한 툴과 기능들이 있습니다.\n",
    "\n",
    "5. 크로스 플랫폼\n",
    "\n",
    "    <span style=\"color:yellow\"><string>Windows</string></span>, macOS, Linux 등 다양한 운영 체제에서 동작합니다.\n",
    "\n",
    "6. 커뮤니티와 지원\n",
    "\n",
    "    파이썬은 거대한 커뮤니티를 가지고 있어, 문제 해결에 도움을 받을 수 있고, 다른 개발자들과 정보를 공유할 수 있습니다.\n",
    "\n",
    "파이썬의 단점은 다음과 같습니다:\n",
    "1. 성능:\n",
    "        \n",
    "    C나 C++ 같은 컴파일 언어에 비해 <span style=\"color:yellow\"><string>실행 속도가 느릴</string></span> 수 있습니다. 특히 대규모 계산이나 높은 성능이 요구되는 작업에서는 성능이 중요한 문제가 될 수 있습니다.\n",
    "\n",
    "2. GIL(Global Interpreter Lock):\n",
    "    \n",
    "    멀티 스레드 환경에서 <span style=\"color:yellow\"><string>GIL</string></span>로 인해 한 번에 하나의 스레드만이 파이썬 바이트 코드를 실행할 수 있습니다.\n",
    "\n",
    "3. 모바일 개발:\n",
    "    \n",
    "    모바일 앱 개발에는 적합하지 않을 수 있습니다. 네이티브 앱을 개발하는 경우 Java/Kotlin(Android) 또는 Swift/Objective-C(iOS)와 같은 언어를 사용하는 것이 보편적입니다.\n",
    "\n",
    "4. 데이터 타입 제한:\n",
    "    \n",
    "    파이썬의 동적 타이핑(dynamic typing)은 유연성을 제공하지만, 때로는 <span style=\"color:yellow\"><string>예기치 못한 버그</string></span>를 발생시킬 수 있습니다. 또한 정적 타입 언어와 비교하여 컴파일러가 제공하는 타입 검사를 받지 않습니다.\n",
    "\n",
    "5. 설계 문제:\n",
    "    \n",
    "    언어의 동적인 특성으로 인해 큰 프로젝트의 경우 코드의 구조를 유지하기 어려울 수 있습니다. 좋은 설계와 관리가 필요합니다.\n",
    "\n",
    "종합적으로 파이썬은 다양한 분야에서 활용할 수 있는 강력한 언어이며, 장단점을 고려하여 적절히 활용하는 것이 중요합니다.\n",
    "\n",
    "출처 : ChatGPT 3.5"
   ]
  }
 ],
 "metadata": {
  "kernelspec": {
   "display_name": "Python 3",
   "language": "python",
   "name": "python3"
  },
  "language_info": {
   "codemirror_mode": {
    "name": "ipython",
    "version": 3
   },
   "file_extension": ".py",
   "mimetype": "text/x-python",
   "name": "python",
   "nbconvert_exporter": "python",
   "pygments_lexer": "ipython3",
   "version": "3.10.12"
  }
 },
 "nbformat": 4,
 "nbformat_minor": 2
}
