{
 "cells": [
  {
   "cell_type": "markdown",
   "metadata": {},
   "source": [
    "# NumPy 란\n",
    "- Numpy는 파이썬의 고성능 과학 계산을 위한 라이브러리로, 다차원 배열을 효율적으로 처리합니다. \n",
    "- 주로 데이터 분석, 머신러닝, 과학 연구, 엔지니어링 분야에서 활용됩니다."
   ]
  },
  {
   "cell_type": "markdown",
   "metadata": {},
   "source": [
    "# NumPy 기본 사용법\n",
    "### 1. NumPy 라이브러리 가져오기\n",
    "\n",
    "- NumPy를 사용하기 위해서는 먼저 라이브러리를 import 해야 합니다."
   ]
  },
  {
   "cell_type": "code",
   "execution_count": null,
   "metadata": {},
   "outputs": [],
   "source": [
    "import numpy as np"
   ]
  },
  {
   "cell_type": "markdown",
   "metadata": {},
   "source": [
    "### 2. NumPy 배열 생성\n",
    "- NumPy의 핵심은 다차원 배열(ndarray)입니다. 이 배열은 모두 같은 유형의 데이터를 가지며, 배열의 차원을 표현하는데 사용됩니다.\n",
    "\n",
    "#### 2-1. 1차원 배열 생성"
   ]
  },
  {
   "cell_type": "code",
   "execution_count": null,
   "metadata": {},
   "outputs": [],
   "source": [
    "arr_1d = np.array([1, 2, 3, 4, 5])\n",
    "print(arr_1d)\n",
    "# 출력: [1 2 3 4 5]"
   ]
  },
  {
   "cell_type": "markdown",
   "metadata": {},
   "source": [
    "#### 2-2. 2차원 배열 생성"
   ]
  },
  {
   "cell_type": "code",
   "execution_count": null,
   "metadata": {},
   "outputs": [],
   "source": [
    "arr_2d = np.array([[1, 2, 3], [4, 5, 6], [7, 8, 9]])\n",
    "print(arr_2d)\n",
    "# 출력:\n",
    "# [[1 2 3]\n",
    "#  [4 5 6]\n",
    "#  [7 8 9]]"
   ]
  },
  {
   "cell_type": "markdown",
   "metadata": {},
   "source": [
    "#### 2-3. 배열 값의 타입(Type) 확인 또는 지정\n",
    "- NumPy 배열 값의 타입을 확인하거나 지정할 수 있습니다."
   ]
  },
  {
   "cell_type": "code",
   "execution_count": null,
   "metadata": {},
   "outputs": [],
   "source": [
    "print(arr_2d.dtype)  # 배열 요소의 데이터 타입 반환\n",
    "# 출력: int64 (integer 64bit)\n",
    "\n",
    "arr_2d_uint8 = np.array([[1, 2, 3], [4, 5, 6], [7, 8, 9]], dtype='uint8')\n",
    "print(arr_2d_uint8.dtype)  # 배열 요소의 데이터 타입 반환\n",
    "# 출력: uint8 (unsigned integer 8bit)\n"
   ]
  },
  {
   "cell_type": "markdown",
   "metadata": {},
   "source": [
    "### 3. 배열 속성 확인\n",
    "\n",
    "- NumPy 배열의 다양한 속성을 확인할 수 있습니다."
   ]
  },
  {
   "cell_type": "code",
   "execution_count": null,
   "metadata": {},
   "outputs": [],
   "source": [
    "print(arr_2d.shape)  # 배열의 형태를 튜플로 반환\n",
    "# 출력: (3, 3)\n",
    "\n",
    "print(arr_2d.ndim)   # 배열의 차원 수 반환\n",
    "# 출력: 2\n",
    "\n",
    "print(arr_2d.size)   # 배열의 요소 개수 반환\n",
    "# 출력: 9\n",
    "\n",
    "print(arr_2d.dtype)  # 배열 요소의 데이터 타입 반환\n",
    "# 출력: int64"
   ]
  },
  {
   "cell_type": "markdown",
   "metadata": {},
   "source": [
    "### 4. 같은 형태(Shape) 배열 연산\n",
    "- 같은 형태(Shape)를 가진 NumPy 배열간 요소별 연산이 가능합니다."
   ]
  },
  {
   "cell_type": "code",
   "execution_count": null,
   "metadata": {},
   "outputs": [],
   "source": [
    "arr1 = np.array([1, 2, 3, 4])\n",
    "arr2 = np.array([5, 6, 7, 8])\n",
    "print(f\"arr1 : {arr1}, arr2 : {arr2}\")\n",
    "\n",
    "# 덧셈\n",
    "result_add = arr1 + arr2\n",
    "print('add : ', result_add)\n",
    "# 출력: [ 6  8 10 12]\n",
    "\n",
    "# 곱셈\n",
    "result_mul = arr1 * arr2\n",
    "print('mul : ', result_mul)\n",
    "# 출력: [ 5 12 21 32]\n",
    "\n",
    "# 제곱\n",
    "result_pow = arr1 ** 2\n",
    "print('pow : ', result_pow)\n",
    "# 출력: [ 1  4  9 16]"
   ]
  },
  {
   "cell_type": "markdown",
   "metadata": {},
   "source": [
    "### 5. 배열과 스칼라(Scala)간 연산\n",
    "- NumPy 배열과 스칼라(Scala)간 연산이 가능합니다."
   ]
  },
  {
   "cell_type": "code",
   "execution_count": null,
   "metadata": {},
   "outputs": [],
   "source": [
    "import numpy as np\n",
    "\n",
    "# 1차원 배열 생성\n",
    "arr = np.array([1, 2, 3, 4, 5])\n",
    "\n",
    "# 스칼라 값\n",
    "scalar = 10\n",
    "\n",
    "# 배열과 스칼라 덧셈\n",
    "result_add = arr + scalar\n",
    "\n",
    "print(\"배열과 스칼라 덧셈:\")\n",
    "print(result_add)\n",
    "# 출력: [11 12 13 14 15]\n",
    "\n",
    "# 배열과 스칼라 뺄셈\n",
    "result_sub = arr - scalar\n",
    "\n",
    "print(\"배열과 스칼라 뺄셈:\")\n",
    "print(result_sub)\n",
    "# 출력: [-9 -8 -7 -6 -5]\n",
    "\n",
    "# 배열과 스칼라 곱셈\n",
    "result_mul = arr * scalar\n",
    "\n",
    "print(\"배열과 스칼라 곱셈:\")\n",
    "print(result_mul)\n",
    "# 출력: [10 20 30 40 50]\n",
    "\n",
    "# 배열과 스칼라 나눗셈\n",
    "result_div = arr / scalar\n",
    "\n",
    "print(\"배열과 스칼라 나눗셈:\")\n",
    "print(result_div)\n",
    "# 출력: [0.1 0.2 0.3 0.4 0.5]\n",
    "\n",
    "# 배열과 스칼라 지수 연산\n",
    "result_pow = arr ** scalar\n",
    "\n",
    "print(\"배열과 스칼라 지수 연산:\")\n",
    "print(result_pow)\n",
    "# 출력: [    1   100  1000 10000 100000]\n",
    "\n",
    "# 배열과 스칼라 제곱근\n",
    "result_sqrt = arr ** 0.5\n",
    "\n",
    "print(\"배열 요소의 제곱근:\")\n",
    "print(result_sqrt)\n",
    "# 출력: [1.         1.41421356 1.73205081 2.         2.23606798]\n"
   ]
  },
  {
   "cell_type": "markdown",
   "metadata": {},
   "source": [
    "### 6. 인덱싱과 슬라이싱\n",
    "- NumPy 배열은 파이썬 리스트와 마찬가지로 인덱싱과 슬라이싱이 가능합니다."
   ]
  },
  {
   "cell_type": "code",
   "execution_count": null,
   "metadata": {},
   "outputs": [],
   "source": [
    "arr = np.array([1, 2, 3, 4, 5])\n",
    "\n",
    "# 인덱싱\n",
    "print(arr[0])\n",
    "# 출력: 1\n",
    "\n",
    "# 슬라이싱\n",
    "print(arr[1:4])\n",
    "# 출력: [2 3 4]"
   ]
  },
  {
   "cell_type": "code",
   "execution_count": null,
   "metadata": {},
   "outputs": [],
   "source": [
    "# 2차원 배열에서의 인덱싱과 슬라이싱\n",
    "arr_2d = np.array([[1, 2, 3], [4, 5, 6], [7, 8, 9]])\n",
    "print(arr_2d[1, 2])  # 1행 2열 요소\n",
    "# 출력: 6\n",
    "\n",
    "print(arr_2d[:2, 1:])  # 0~1행, 1~2열 슬라이싱\n",
    "# 출력:\n",
    "# [[2 3]\n",
    "#  [5 6]]"
   ]
  },
  {
   "cell_type": "markdown",
   "metadata": {},
   "source": [
    "### 7. 배열 생성 시 값 지정\n",
    "#### 7-1. 고정값 지정"
   ]
  },
  {
   "cell_type": "code",
   "execution_count": null,
   "metadata": {},
   "outputs": [],
   "source": [
    "# 0으로 채워진 배열 생성\n",
    "zeros_arr = np.zeros((2, 3))\n",
    "print(zeros_arr)\n",
    "# 출력:\n",
    "# [[0. 0. 0.]\n",
    "#  [0. 0. 0.]]\n",
    "\n",
    "ones_arr = np.ones((3, 2))\n",
    "print(ones_arr)\n",
    "# 출력:\n",
    "# [[1. 1.]\n",
    "#  [1. 1.]\n",
    "#  [1. 1.]]\n",
    "\n",
    "# 2x3 형태의 2차원 배열을 5로 채움\n",
    "arr_2d_five = np.full((2, 3), 5)\n",
    "print(arr_2d_five)\n",
    "# 출력:\n",
    "# [[5 5 5]\n",
    "#  [5 5 5]]"
   ]
  },
  {
   "cell_type": "markdown",
   "metadata": {},
   "source": [
    "#### 7-2.  랜덤(random)값 지정"
   ]
  },
  {
   "cell_type": "code",
   "execution_count": null,
   "metadata": {},
   "outputs": [],
   "source": [
    "# 1. 정수 난수 생성\n",
    "# 0에서 9 사이의 정수로 이루어진 1차원 배열\n",
    "random_ints = np.random.randint(0, 10, size=5)\n",
    "print(random_ints)\n",
    "# 출력: [6 0 4 9 6]\n",
    "\n",
    "# 1에서 20 사이의 정수로 이루어진 2x3 형태의 2차원 배열\n",
    "random_ints_2d = np.random.randint(1, 21, size=(2, 3))\n",
    "print(random_ints_2d)\n",
    "# 출력:\n",
    "# [[ 5  4  8]\n",
    "#  [16 10 11]]\n",
    "\n",
    "# 2. 실수 난수 생성\n",
    "# 0부터 1 사이의 실수로 이루어진 1차원 배열\n",
    "random_floats = np.random.rand(5)\n",
    "print(random_floats)\n",
    "# 출력: [0.48772369 0.32645563 0.93481944 0.60790383 0.19452714]\n",
    "\n",
    "# 2x3 형태의 2차원 배열\n",
    "random_floats_2d = np.random.rand(2, 3)\n",
    "print(random_floats_2d)\n",
    "# 출력:\n",
    "# [[0.42448742 0.75828409 0.83611169]\n",
    "#  [0.54386223 0.81086794 0.81912079]]"
   ]
  },
  {
   "cell_type": "markdown",
   "metadata": {},
   "source": [
    "### 8. 배열 형태 변경(reshape)\n",
    "- reshape 함수는 NumPy 배열의 형태(모양)를 변경할 때 사용됩니다. 즉, 배열의 차원을 바꾸거나, 행과 열의 개수를 조절할 수 있습니다.\n",
    "#### 8-1. 차원 변경"
   ]
  },
  {
   "cell_type": "code",
   "execution_count": null,
   "metadata": {},
   "outputs": [],
   "source": [
    "arr_1d = np.array([1, 2, 3, 4, 5, 6])\n",
    "arr_2d = arr_1d.reshape(2, 3)\n",
    "\n",
    "print(\"2차원 배열:\")\n",
    "print(arr_2d)\n",
    "# 출력:\n",
    "# [[1 2 3]\n",
    "#  [4 5 6]]"
   ]
  },
  {
   "cell_type": "code",
   "execution_count": null,
   "metadata": {},
   "outputs": [],
   "source": [
    "# shape (2, 3, 2)\n",
    "arr_3d = np.array([[[1, 2],\n",
    "                    [3, 4],\n",
    "                    [5, 6]],\n",
    "                   \n",
    "                   [[7, 8],\n",
    "                    [9, 10],\n",
    "                    [11, 12]]])\n",
    "\n",
    "arr_2d_reshaped = arr_3d.reshape(3, 4)\n",
    "\n",
    "print(\"arr_2d_reshaped shape:\", arr_2d_reshaped.shape)\n",
    "print(arr_2d_reshaped)\n",
    "# 출력:\n",
    "# [[ 1  2  3  4]\n",
    "#  [ 5  6  7  8]\n",
    "#  [ 9 10 11 12]]"
   ]
  },
  {
   "cell_type": "markdown",
   "metadata": {},
   "source": [
    "#### 8-2. `-1`을 사용한 자동 계산"
   ]
  },
  {
   "cell_type": "code",
   "execution_count": null,
   "metadata": {},
   "outputs": [],
   "source": [
    "arr = np.array([1, 2, 3, 4, 5, 6, 7, 8, 9, 10, 11, 12])\n",
    "arr_reshaped = arr.reshape(2, -1, 3)\n",
    "# arr_reshaped의 shape 항목들의 곱(2 * x * 3) = arr의 shape 항목들의 곱(12)\n",
    "# => x = 2\n",
    "\n",
    "print(\"3차원 배열:\")\n",
    "print(arr_reshaped)\n",
    "# 출력:\n",
    "#[[[ 1  2  3]\n",
    "#  [ 4  5  6]]\n",
    "# [[ 7  8  9]\n",
    "#  [10 11 12]]]\n"
   ]
  },
  {
   "cell_type": "code",
   "execution_count": null,
   "metadata": {},
   "outputs": [],
   "source": [
    "arr.shape"
   ]
  },
  {
   "cell_type": "markdown",
   "metadata": {},
   "source": [
    "#### 8-3. 다차원 배열을 1차원 배열로 변경(vectorization)"
   ]
  },
  {
   "cell_type": "code",
   "execution_count": null,
   "metadata": {},
   "outputs": [],
   "source": [
    "arr = np.array([[1, 2, 3],\n",
    "                [4, 5, 6],\n",
    "                [7, 8, 9]])\n",
    "\n",
    "arr_flattened = arr.reshape(-1)\n",
    "# arr_flattened의 shape 항목들의 곱(x) = arr의 shape 항목들의 곱(3 * 3)\n",
    "# => x = 9\n",
    "\n",
    "print(\"원래 배열:\")\n",
    "print(arr)\n",
    "# 출력:\n",
    "# [[1 2 3]\n",
    "#  [4 5 6]\n",
    "#  [7 8 9]]\n",
    "\n",
    "print(\"1차원 배열:\")\n",
    "print(arr_flattened)\n",
    "# 출력: [1 2 3 4 5 6 7 8 9]"
   ]
  },
  {
   "cell_type": "markdown",
   "metadata": {},
   "source": [
    "### 9. 배열 자르기(split)\n",
    "#### 9-1. `split` 함수\n",
    "- 배열을 지정된 위치나 축(axis)을 기준으로 여러 개의 하위 배열로 분할"
   ]
  },
  {
   "cell_type": "code",
   "execution_count": null,
   "metadata": {},
   "outputs": [],
   "source": [
    "arr_2d = np.array([[1, 2, 3, 4],\n",
    "                   [5, 6, 7, 8]])\n",
    "\n",
    "# 행을 기준으로 배열을 2개의 부분 배열로 분할\n",
    "result_2d_row = np.split(arr_2d, 2, axis=0)\n",
    "print(result_2d_row)\n",
    "# 출력: [array([[1, 2, 3, 4]]), array([[5, 6, 7, 8]])]\n",
    "\n",
    "# 열을 기준으로 배열을 2개의 부분 배열로 분할\n",
    "result_2d_col = np.split(arr_2d, 2, axis=1)\n",
    "print(result_2d_col)\n",
    "# 출력: [array([[1, 2], [5, 6]]), array([[3, 4], [7, 8]])]\n"
   ]
  },
  {
   "cell_type": "markdown",
   "metadata": {},
   "source": [
    "#### 9-2. 배열 스라이싱(slicing)를 이용한 분할(split)"
   ]
  },
  {
   "cell_type": "code",
   "execution_count": null,
   "metadata": {},
   "outputs": [],
   "source": [
    "arr_2d = np.array([[1, 2, 3, 4],\n",
    "                   [5, 6, 7, 8]])\n",
    "\n",
    "# 행을 기준으로 배열을 2개의 부분 배열로 분할\n",
    "result_2d_row = [ arr_2d[:1, :], arr_2d[1:, :] ]\n",
    "print(result_2d_row)\n",
    "# 출력: [array([[1, 2, 3, 4]]), array([[5, 6, 7, 8]])]\n",
    "\n",
    "# 열을 기준으로 배열을 2개의 부분 배열로 분할\n",
    "result_2d_col = [ arr_2d[:, :2], arr_2d[:, 2:] ]\n",
    "print(result_2d_col)\n",
    "# 출력: [array([[1, 2], [5, 6]]), array([[3, 4], [7, 8]])]"
   ]
  },
  {
   "cell_type": "markdown",
   "metadata": {},
   "source": [
    "### 10. 배열 붙이기(append)\n",
    "- `append`는 배열에 새로운 요소를 추가한 복사본을 반환합니다. 원본 배열은 변경되지 않습니다.\n",
    "- 추가하려는 요소의 형태와 배열의 형태(shape)가 일치해야 합니다. 열을 추가할 때는 차원이 맞아야 합니다.\n",
    "\n",
    "#### 10-1. 1차원 배열에 요소 추가"
   ]
  },
  {
   "cell_type": "code",
   "execution_count": null,
   "metadata": {},
   "outputs": [],
   "source": [
    "arr = np.array([1, 2, 3])\n",
    "\n",
    "# 요소 4를 배열에 추가\n",
    "arr_appended = np.append(arr, 4)\n",
    "print(arr_appended)\n",
    "# 출력: [1 2 3 4]\n",
    "\n",
    "# 요소 5, 6, 7을 배열에 추가\n",
    "arr_appended_multiple = np.append(arr, [5, 6, 7])\n",
    "print(arr_appended_multiple)\n",
    "# 출력: [1 2 3 5 6 7]"
   ]
  },
  {
   "cell_type": "markdown",
   "metadata": {},
   "source": [
    "#### 10-2. 다차원 배열 붙이기"
   ]
  },
  {
   "cell_type": "code",
   "execution_count": null,
   "metadata": {},
   "outputs": [],
   "source": [
    "arr_2d_1 = np.array([[1, 2, 3],\n",
    "                   [4, 5, 6]])\n",
    "\n",
    "arr_2d_2 = np.array([[7, 8, 9],\n",
    "                    [10, 11, 12]])\n",
    "\n",
    "# 첫번째 차원에 붙이기\n",
    "appended_row = np.append(arr_2d_1, arr_2d_2, axis=0)\n",
    "print(appended_row)\n",
    "# 출력:\n",
    "# [[1 2 3]\n",
    "#  [4 5 6]\n",
    "#  [7 8 9]\n",
    "#  [10 11 12]]\n",
    "\n",
    "# 두번째 차원에 붙이기\n",
    "appended_col = np.append(arr_2d_1, arr_2d_2, axis=1)\n",
    "print(appended_col)\n",
    "# 출력:\n",
    "# [[ 1  2  3  7  8  9]\n",
    "# [ 4  5  6 10 11 12]]\n",
    "\n",
    "# shape 출력\n",
    "print('arr_2d_1 arr_2d_2 형태 : ', arr_2d_1.shape, arr_2d_2.shape)\n",
    "print('appended_row 형태 : ', appended_row.shape)\n",
    "print('appended_col 형태 : ', appended_col.shape)"
   ]
  },
  {
   "cell_type": "markdown",
   "metadata": {},
   "source": [
    "### 문제 #1\n",
    "- dim_1 은 0 ~ 999 1씩 증가하는 1차원 array입니다.\n",
    "- `reshape` 함수를 사용하여 dim_1을 (? 2 4 5) 형태를 가지는 4차원 array로 변형하도록 to-do 영역을 완성하세요."
   ]
  },
  {
   "cell_type": "code",
   "execution_count": null,
   "metadata": {},
   "outputs": [],
   "source": [
    "import numpy as np\n",
    "\n",
    "dim_1 = np.array([ i for i in range(1000) ])\n",
    "dim_4 = None\n",
    "\n",
    "# to-do\n",
    "\n",
    "print(dim_4)\n",
    "\n",
    "# 예상결과 : \n",
    "# ---\n",
    "# [[[[  0   1   2   3   4]\n",
    "#    [  5   6   7   8   9]\n",
    "#    [ 10  11  12  13  14]\n",
    "#    [ 15  16  17  18  19]]\n",
    "# \n",
    "#   [[ 20  21  22  23  24]\n",
    "#    [ 25  26  27  28  29]\n",
    "#    [ 30  31  32  33  34]\n",
    "#    [ 35  36  37  38  39]]]\n",
    "#    ...\n"
   ]
  },
  {
   "cell_type": "markdown",
   "metadata": {},
   "source": [
    "### 문제 #2\n",
    "- dim_4는 문제 #1 의 결과값입니다.\n",
    "- `slicing` 사용하여 dim_4의 마지막 차원(4번째 차원) 첫번째 항목들을 모두 제거하도록 to-do 영역을 완성하세요."
   ]
  },
  {
   "cell_type": "code",
   "execution_count": null,
   "metadata": {},
   "outputs": [],
   "source": [
    "import numpy as np\n",
    "\n",
    "dim_1 = np.array([ i for i in range(1000) ])\n",
    "dim_4 = dim_1.reshape(-1, 2, 4, 5)\n",
    "removed_4 = None\n",
    "\n",
    "# to-do\n",
    "\n",
    "print(removed_4)\n",
    "\n",
    "# 예상결과 : \n",
    "# ---\n",
    "# [[[[  1   2   3   4]\n",
    "#    [  6   7   8   9]\n",
    "#    [ 11  12  13  14]\n",
    "#    [ 16  17  18  19]]\n",
    "# \n",
    "#   [[ 21  22  23  24]\n",
    "#    [ 26  27  28  29]\n",
    "#    [ 31  32  33  34]\n",
    "#    [ 36  37  38  39]]]\n",
    "#    ...\n"
   ]
  },
  {
   "cell_type": "markdown",
   "metadata": {},
   "source": [
    "## Wrap up\n",
    "1. **NumPy의 핵심 기능**:\n",
    "\n",
    "\tNumPy는 고성능의 다차원 배열 객체와 이를 다루기 위한 다양한 도구와 함수를 제공합니다. 특히, 다차원 배열(ndarray)의 효율적인 생성과 조작에 초점을 맞춥니다.\n",
    "2. **배열 연산의 기본**:\n",
    "\n",
    "\tNumPy를 사용하면 큰 데이터 집합에 대해 기본적인 수학 연산을 빠르고 효율적으로 수행할 수 있습니다. 이는 NumPy 배열 간의 연산뿐만 아니라 배열과 스칼라 간의 연산도 포함합니다.\n",
    "3. **배열의 인덱싱과 슬라이싱**:\n",
    "\n",
    "\tNumPy 배열은 파이썬의 내장 리스트와 유사한 방식으로 인덱싱과 슬라이싱이 가능하며, 이를 통해 배열의 특정 부분을 선택하거나 조작할 수 있습니다.\n",
    "4. **배열 형태 변경 및 데이터 처리**:\n",
    "\n",
    "\tNumPy는 배열의 형태를 변경하는 다양한 방법을 제공하며, 데이터를 분석하고 처리하는 데 필요한 다양한 함수(예: `reshape`, `split`, `append`)를 포함합니다. "
   ]
  }
 ],
 "metadata": {
  "kernelspec": {
   "display_name": "Python 3",
   "language": "python",
   "name": "python3"
  },
  "language_info": {
   "codemirror_mode": {
    "name": "ipython",
    "version": 3
   },
   "file_extension": ".py",
   "mimetype": "text/x-python",
   "name": "python",
   "nbconvert_exporter": "python",
   "pygments_lexer": "ipython3",
   "version": "3.10.12"
  }
 },
 "nbformat": 4,
 "nbformat_minor": 2
}
