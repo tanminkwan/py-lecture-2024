{
 "cells": [
  {
   "cell_type": "markdown",
   "metadata": {},
   "source": [
    "# sqlalchemy 란\n",
    "\n",
    "- SQLAlchemy는 파이썬에서 사용할 수 있는 ORM(Object-Relational Mapping) 라이브러리로, 데이터베이스와의 상호작용을 추상화하여 데이터베이스를 쉽게 다룰 수 있게 해줍니다. ORM을 통해 데이터베이스 테이블을 파이썬 클래스로 매핑하고, 파이썬 코드를 사용하여 데이터를 쿼리하고 조작할 수 있습니다. 이를 통해 개발자는 SQL 쿼리를 직접 작성하는 대신 객체 지향적인 방식으로 데이터베이스를 다룰 수 있습니다."
   ]
  },
  {
   "cell_type": "markdown",
   "metadata": {},
   "source": [
    "- sqlalchemy 구성"
   ]
  },
  {
   "cell_type": "markdown",
   "metadata": {},
   "source": [
    "![Alt text for broken image link](../resources/sqlalchemy.jpg)"
   ]
  },
  {
   "cell_type": "markdown",
   "metadata": {},
   "source": [
    "- 데이터베이스와 상호 작용하는 방식은 추상화 수준에 따라  SQL 방식, Core 방식, ORM 방식 3가지로 나뉘어 집니다."
   ]
  },
  {
   "cell_type": "markdown",
   "metadata": {},
   "source": [
    "# 데이터베이스 접속\n",
    "### 1. sqlalchemy 설치"
   ]
  },
  {
   "cell_type": "code",
   "execution_count": null,
   "metadata": {},
   "outputs": [],
   "source": [
    "%pip install SQLAlchemy"
   ]
  },
  {
   "cell_type": "markdown",
   "metadata": {},
   "source": [
    "### 2. sqlite db 접속 engine 생성"
   ]
  },
  {
   "cell_type": "code",
   "execution_count": null,
   "metadata": {},
   "outputs": [],
   "source": [
    "from sqlalchemy import create_engine\n",
    "\n",
    "# sqlite:///mydb.db : dialect로 sqlite를 사용하고 db(파일)은 현재 directory의 mydb.db를 사용\n",
    "# echo=True : 실행되는 SQL을 출력\n",
    "engine = create_engine('sqlite:///mydb.db', echo=True)"
   ]
  },
  {
   "cell_type": "markdown",
   "metadata": {},
   "source": [
    "# 데이터베이스와 상호 작용"
   ]
  },
  {
   "cell_type": "markdown",
   "metadata": {},
   "source": [
    "### 1. SQL 방식\n",
    "- SQLAlchemy의 가장 기본적인 사용 방식으로, 순수한 SQL 쿼리를 사용하여 데이터베이스와 상호 작용합니다.\n",
    "- 사용자가 직접 SQL 쿼리를 작성하고 실행할 수 있습니다.\n",
    "- 데이터베이스와 직접적으로 상호 작용하는 경우나 복잡한 쿼리를 사용해야 하는 경우에 유용합니다.\n"
   ]
  },
  {
   "cell_type": "markdown",
   "metadata": {},
   "source": [
    "#### 1-1. 데이터베이스 connection 획득\n",
    "- engine으로 부터 데이터베이스 connection을 바로 획득합니다."
   ]
  },
  {
   "cell_type": "code",
   "execution_count": null,
   "metadata": {},
   "outputs": [],
   "source": [
    "conn = engine.connect()\n",
    "\n",
    "# db file 생성 확인 "
   ]
  },
  {
   "cell_type": "markdown",
   "metadata": {},
   "source": [
    "#### 1-2. DDL 실행 - Create Table"
   ]
  },
  {
   "cell_type": "code",
   "execution_count": null,
   "metadata": {},
   "outputs": [],
   "source": [
    "from sqlalchemy import text\n",
    "conn.execute(text(\"CREATE TABLE TEST (name text PRIMARY KEY, age int, location text)\")) "
   ]
  },
  {
   "cell_type": "markdown",
   "metadata": {},
   "source": [
    "#### 1-3. Insert 실행"
   ]
  },
  {
   "cell_type": "code",
   "execution_count": null,
   "metadata": {},
   "outputs": [],
   "source": [
    "insert_statement = \"INSERT INTO TEST (name, age, location) \\\n",
    "    VALUES (:name, :age, :location)\"\n",
    "\n",
    "test_data = [\n",
    "    {\"name\": \"Alice\", \"age\": 25, \"location\":\"New York\"},\n",
    "    {\"name\": \"Bob\", \"age\": 30, \"location\":\"Los Angeles\"},\n",
    "    {\"name\": \"Charlie\", \"age\": 35, \"location\":\"Chicago\"},\n",
    "]\n",
    "\n",
    "conn.execute(text(insert_statement), test_data)\n",
    "conn.commit()"
   ]
  },
  {
   "cell_type": "markdown",
   "metadata": {},
   "source": [
    "#### 1-4. Select 실행"
   ]
  },
  {
   "cell_type": "code",
   "execution_count": null,
   "metadata": {},
   "outputs": [],
   "source": [
    "select_statement = \"SELECT x, y FROM TEST\"\n",
    "result = conn.execute(text(select_statement))\n",
    "for row in result:\n",
    "    print(row)"
   ]
  },
  {
   "cell_type": "markdown",
   "metadata": {},
   "source": [
    "#### 1-5. DDL 실행 - Drop Table"
   ]
  },
  {
   "cell_type": "code",
   "execution_count": null,
   "metadata": {},
   "outputs": [],
   "source": [
    "conn.execute(text(\"DROP TABLE TEST\")) "
   ]
  },
  {
   "cell_type": "markdown",
   "metadata": {},
   "source": [
    "### 2. ORM 방식\n",
    "- SQLAlchemy의 ORM(Object-Relational Mapping)은 파이썬 클래스와 데이터베이스 테이블을 매핑하여 객체지향 프로그래밍 스타일로 데이터베이스와 상호 작용하는 방법을 제공합니다.\n",
    "- 데이터베이스 테이블을 파이썬 클래스로 나타내고, 이러한 클래스를 사용하여 데이터를 쿼리하고 조작할 수 있습니다.\n",
    "- ORM은 데이터베이스와의 상호 작용을 추상화하여 데이터베이스와의 상호 작용을 보다 객체지향적으로 만들어줍니다.\n",
    "- SQLAlchemy ORM을 사용하면 SQL 쿼리를 직접 작성할 필요 없이 파이썬 객체를 통해 데이터베이스를 조작할 수 있습니다.\n",
    "#### 2-1. Model기본 Meta정보를 획득\n",
    "- Dialect로부터 데이터베이스 engine(여기서는 sqlite)에 해당하는 Model(데이터베이스 Table에 매핑되는 Class 객체) 기본 Class를 획득합니다. "
   ]
  },
  {
   "cell_type": "code",
   "execution_count": null,
   "metadata": {},
   "outputs": [],
   "source": [
    "from sqlalchemy.orm import declarative_base\n",
    "Base = declarative_base() # Model 기본 Class 획득"
   ]
  },
  {
   "cell_type": "markdown",
   "metadata": {},
   "source": [
    "#### 2-2. Model 정의\n",
    "- Model 기본 Class를 상속받아 Model(Table Layout)을 정의합니다."
   ]
  },
  {
   "cell_type": "code",
   "execution_count": null,
   "metadata": {},
   "outputs": [],
   "source": [
    "\"\"\"\n",
    "prompt :\n",
    "\n",
    "sqlalchemy.orm.declarative_base 의 결과를 상속 받은 data model 두개를 아래 조건에 맞게 선언하는 code를 작성하라\n",
    "---\n",
    "1. \n",
    "class 이름 : UserAccount\n",
    "table 이름 : user_account\n",
    "칼럼들 :\n",
    "    nickname (type:string)\n",
    "    real_name  (type:string)\n",
    "2. \n",
    "class 이름 : Asset\n",
    "table 이름 : asset\n",
    "칼럼들 :\n",
    "    asset_name (type:string)\n",
    "    owner_id  (type:integer, user_account.id를 참조하는 foreign key)\n",
    "\n",
    "기타조건 : \n",
    "- user_account table 한 row 가 삭제되면 user_asset.owner_id로 연결된 row들도 삭제\n",
    "- table 객체를 print하면 table의 column과 값을 출력한다.\n",
    "===\n",
    "results from ChatGPT-3.5\n",
    "\"\"\"\n",
    "from sqlalchemy import Column, Integer, String, ForeignKey\n",
    "from sqlalchemy.orm import relationship\n",
    "\n",
    "class UserAccount(Base):\n",
    "    __tablename__ = 'user_account'  # 데이터베이스에서 사용할 테이블 이름입니다.\n",
    "\n",
    "    id = Column(Integer, primary_key=True)\n",
    "    nickname = Column(String(30))\n",
    "    real_name = Column(String)\n",
    "\n",
    "    # User와 Asset의 관계를 설정합니다.\n",
    "    assets = relationship(\"Asset\", cascade=\"all, delete-orphan\")\n",
    "\n",
    "    # 객체를 print 하면 호출됨\n",
    "    def __repr__(self):\n",
    "        return f\"UserAccount(id={self.id}, nickname={self.nickname}, real_name={self.real_name})\"\n",
    "    \n",
    "class Asset(Base):\n",
    "    __tablename__ = 'asset'\n",
    "    id = Column(Integer, primary_key=True)\n",
    "    asset_name = Column(String(30))\n",
    "    \n",
    "    # User 테이블의 id를 외래키로 설정하여 User와의 관계를 맺습니다.\n",
    "    owner_id = Column(Integer, ForeignKey('user_account.id'))\n",
    "\n",
    "    # 객체를 print 하면 호출됨\n",
    "    def __repr__(self):\n",
    "        return f\"Asset(id={self.id}, asset_name={self.asset_name}, owner_id={self.owner_id})\"\n"
   ]
  },
  {
   "cell_type": "markdown",
   "metadata": {},
   "source": [
    "- Model 기본 Class(Base)에 Model의 정의된 내용이 등록된 것을 확인합니다."
   ]
  },
  {
   "cell_type": "code",
   "execution_count": null,
   "metadata": {},
   "outputs": [],
   "source": [
    "print('tables : ', Base.metadata.tables)"
   ]
  },
  {
   "cell_type": "markdown",
   "metadata": {},
   "source": [
    "#### 2-3. Table들 일괄 Create\n",
    "- 데이터베이스에 Base 객체에 등록된 Model정보들을 Create Table 명령으로 전환하여 일괄 실행합니다."
   ]
  },
  {
   "cell_type": "code",
   "execution_count": null,
   "metadata": {},
   "outputs": [],
   "source": [
    "Base.metadata.create_all(engine)"
   ]
  },
  {
   "cell_type": "markdown",
   "metadata": {},
   "source": [
    "- 전체 Table들 Drop 시에는 아래 code를 실행합니다."
   ]
  },
  {
   "cell_type": "code",
   "execution_count": null,
   "metadata": {},
   "outputs": [],
   "source": [
    "#Base.metadata.drop_all(engine)"
   ]
  },
  {
   "cell_type": "markdown",
   "metadata": {},
   "source": [
    "#### 2-4. 데이터베이스 세션(session) 획득\n",
    "- Session 객체를 통해 Connection Pooling으로부터 데이터베이스 session을 하나 획득합니다."
   ]
  },
  {
   "cell_type": "code",
   "execution_count": 6,
   "metadata": {},
   "outputs": [],
   "source": [
    "from sqlalchemy.orm import Session\n",
    "\n",
    "session = Session(engine)"
   ]
  },
  {
   "cell_type": "markdown",
   "metadata": {},
   "source": [
    "#### 2-5. Insert 실행"
   ]
  },
  {
   "cell_type": "code",
   "execution_count": 7,
   "metadata": {},
   "outputs": [],
   "source": [
    "me = UserAccount(nickname='hennry', real_name='김형기')\n",
    "\n",
    "session.add(me)"
   ]
  },
  {
   "cell_type": "code",
   "execution_count": 8,
   "metadata": {},
   "outputs": [
    {
     "name": "stdout",
     "output_type": "stream",
     "text": [
      "2024-04-12 21:51:01,521 INFO sqlalchemy.engine.Engine BEGIN (implicit)\n",
      "2024-04-12 21:51:01,522 INFO sqlalchemy.engine.Engine INSERT INTO user_account (nickname, real_name) VALUES (?, ?)\n",
      "2024-04-12 21:51:01,522 INFO sqlalchemy.engine.Engine [generated in 0.00076s] ('hennry', '김형기')\n",
      "2024-04-12 21:51:01,522 INFO sqlalchemy.engine.Engine COMMIT\n"
     ]
    }
   ],
   "source": [
    "session.commit()"
   ]
  },
  {
   "cell_type": "code",
   "execution_count": 9,
   "metadata": {},
   "outputs": [],
   "source": [
    "next_one = UserAccount(nickname='sunsiny', real_name='이순신')\n",
    "\n",
    "session.add(next_one)\n",
    "\n",
    "session.rollback()"
   ]
  },
  {
   "cell_type": "markdown",
   "metadata": {},
   "source": [
    "#### 2-6. Select 실행\n",
    "- 결과 전체를 Fetch 합니다."
   ]
  },
  {
   "cell_type": "code",
   "execution_count": 10,
   "metadata": {},
   "outputs": [
    {
     "name": "stdout",
     "output_type": "stream",
     "text": [
      "2024-04-12 21:51:29,140 INFO sqlalchemy.engine.Engine BEGIN (implicit)\n",
      "2024-04-12 21:51:29,142 INFO sqlalchemy.engine.Engine SELECT user_account.id AS user_account_id, user_account.nickname AS user_account_nickname, user_account.real_name AS user_account_real_name \n",
      "FROM user_account\n",
      "2024-04-12 21:51:29,142 INFO sqlalchemy.engine.Engine [generated in 0.00092s] ()\n",
      "UserAccount(id=1, nickname=hennry, real_name=김형기)\n"
     ]
    }
   ],
   "source": [
    "users = session.query(UserAccount).all()\n",
    "\n",
    "for user in users:\n",
    "    print(user)"
   ]
  },
  {
   "cell_type": "markdown",
   "metadata": {},
   "source": [
    "- 첫번째 행만 Fetch 합니다."
   ]
  },
  {
   "cell_type": "code",
   "execution_count": 11,
   "metadata": {},
   "outputs": [
    {
     "name": "stdout",
     "output_type": "stream",
     "text": [
      "2024-04-12 21:51:42,221 INFO sqlalchemy.engine.Engine SELECT user_account.id AS user_account_id, user_account.nickname AS user_account_nickname, user_account.real_name AS user_account_real_name \n",
      "FROM user_account\n",
      " LIMIT ? OFFSET ?\n",
      "2024-04-12 21:51:42,221 INFO sqlalchemy.engine.Engine [generated in 0.00088s] (1, 0)\n",
      "UserAccount(id=1, nickname=hennry, real_name=김형기)\n"
     ]
    }
   ],
   "source": [
    "user = session.query(UserAccount).first()\n",
    "\n",
    "print(user)"
   ]
  },
  {
   "cell_type": "markdown",
   "metadata": {},
   "source": [
    "- 조건에 만족하는 행들만 Fetch 합니다."
   ]
  },
  {
   "cell_type": "code",
   "execution_count": 12,
   "metadata": {},
   "outputs": [
    {
     "name": "stdout",
     "output_type": "stream",
     "text": [
      "2024-04-12 21:51:55,009 INFO sqlalchemy.engine.Engine SELECT user_account.id AS user_account_id, user_account.nickname AS user_account_nickname, user_account.real_name AS user_account_real_name \n",
      "FROM user_account \n",
      "WHERE user_account.nickname = ?\n",
      "2024-04-12 21:51:55,009 INFO sqlalchemy.engine.Engine [generated in 0.00105s] ('hennry',)\n",
      "UserAccount(id=1, nickname=hennry, real_name=김형기)\n"
     ]
    }
   ],
   "source": [
    "users = session.query(UserAccount).filter(UserAccount.nickname=='hennry')\n",
    "\n",
    "for user in users:\n",
    "    print(user)"
   ]
  },
  {
   "cell_type": "markdown",
   "metadata": {},
   "source": [
    "#### 2-7. Update 실행"
   ]
  },
  {
   "cell_type": "code",
   "execution_count": 13,
   "metadata": {},
   "outputs": [
    {
     "name": "stdout",
     "output_type": "stream",
     "text": [
      "Before commit : Is the session dirty? True\n",
      "2024-04-12 21:52:08,018 INFO sqlalchemy.engine.Engine UPDATE user_account SET nickname=?, real_name=? WHERE user_account.id = ?\n",
      "2024-04-12 21:52:08,018 INFO sqlalchemy.engine.Engine [generated in 0.00104s] ('hennry2', '김형기2', 1)\n",
      "2024-04-12 21:52:08,018 INFO sqlalchemy.engine.Engine COMMIT\n",
      "After commit : Is the session dirty? False\n"
     ]
    }
   ],
   "source": [
    "user.real_name = '김형기2'\n",
    "user.nickname = 'hennry2'\n",
    "print('Before commit : Is the session dirty?',user in session.dirty)\n",
    "session.commit()\n",
    "print('After commit : Is the session dirty?',user in session.dirty)"
   ]
  },
  {
   "cell_type": "markdown",
   "metadata": {},
   "source": [
    "#### 2-8. Delete 실행"
   ]
  },
  {
   "cell_type": "code",
   "execution_count": 14,
   "metadata": {},
   "outputs": [
    {
     "name": "stdout",
     "output_type": "stream",
     "text": [
      "2024-04-12 21:52:30,833 INFO sqlalchemy.engine.Engine BEGIN (implicit)\n",
      "2024-04-12 21:52:30,833 INFO sqlalchemy.engine.Engine SELECT user_account.id AS user_account_id, user_account.nickname AS user_account_nickname, user_account.real_name AS user_account_real_name \n",
      "FROM user_account \n",
      "WHERE user_account.id = ?\n",
      "2024-04-12 21:52:30,833 INFO sqlalchemy.engine.Engine [generated in 0.00074s] (1,)\n",
      "2024-04-12 21:52:30,833 INFO sqlalchemy.engine.Engine SELECT asset.id AS asset_id, asset.asset_name AS asset_asset_name, asset.owner_id AS asset_owner_id \n",
      "FROM asset \n",
      "WHERE ? = asset.owner_id\n",
      "2024-04-12 21:52:30,833 INFO sqlalchemy.engine.Engine [generated in 0.00065s] (1,)\n",
      "2024-04-12 21:52:30,833 INFO sqlalchemy.engine.Engine DELETE FROM user_account WHERE user_account.id = ?\n",
      "2024-04-12 21:52:30,833 INFO sqlalchemy.engine.Engine [generated in 0.00050s] (1,)\n",
      "2024-04-12 21:52:30,833 INFO sqlalchemy.engine.Engine COMMIT\n"
     ]
    }
   ],
   "source": [
    "session.delete(user)\n",
    "session.commit()"
   ]
  },
  {
   "cell_type": "markdown",
   "metadata": {},
   "source": [
    "#### 2-9. Child Table Insert 실행"
   ]
  },
  {
   "cell_type": "code",
   "execution_count": 15,
   "metadata": {},
   "outputs": [
    {
     "name": "stdout",
     "output_type": "stream",
     "text": [
      "2024-04-12 21:52:54,364 INFO sqlalchemy.engine.Engine BEGIN (implicit)\n",
      "2024-04-12 21:52:54,365 INFO sqlalchemy.engine.Engine INSERT INTO user_account (nickname, real_name) VALUES (?, ?)\n",
      "2024-04-12 21:52:54,365 INFO sqlalchemy.engine.Engine [cached since 112.8s ago] ('tiffanie', '김형기')\n",
      "2024-04-12 21:52:54,365 INFO sqlalchemy.engine.Engine INSERT INTO asset (asset_name, owner_id) VALUES (?, ?) RETURNING id\n",
      "2024-04-12 21:52:54,365 INFO sqlalchemy.engine.Engine [generated in 0.00019s (insertmanyvalues) 1/2 (ordered; batch not supported)] ('Car', 1)\n",
      "2024-04-12 21:52:54,365 INFO sqlalchemy.engine.Engine INSERT INTO asset (asset_name, owner_id) VALUES (?, ?) RETURNING id\n",
      "2024-04-12 21:52:54,365 INFO sqlalchemy.engine.Engine [insertmanyvalues 2/2 (ordered; batch not supported)] ('House', 1)\n",
      "2024-04-12 21:52:54,365 INFO sqlalchemy.engine.Engine COMMIT\n"
     ]
    }
   ],
   "source": [
    "me = UserAccount(nickname='tiffanie', real_name='김형기')\n",
    "me.assets.append(Asset(asset_name=\"Car\"))\n",
    "me.assets.append(Asset(asset_name=\"House\"))\n",
    "session.add(me)\n",
    "session.commit()"
   ]
  },
  {
   "cell_type": "code",
   "execution_count": 16,
   "metadata": {},
   "outputs": [
    {
     "name": "stdout",
     "output_type": "stream",
     "text": [
      "2024-04-12 21:58:20,153 INFO sqlalchemy.engine.Engine BEGIN (implicit)\n",
      "2024-04-12 21:58:20,154 INFO sqlalchemy.engine.Engine SELECT user_account.id AS user_account_id, user_account.nickname AS user_account_nickname, user_account.real_name AS user_account_real_name \n",
      "FROM user_account \n",
      "WHERE user_account.id = ?\n",
      "2024-04-12 21:58:20,154 INFO sqlalchemy.engine.Engine [cached since 349.3s ago] (1,)\n",
      "2024-04-12 21:58:20,154 INFO sqlalchemy.engine.Engine SELECT asset.id AS asset_id, asset.asset_name AS asset_asset_name, asset.owner_id AS asset_owner_id \n",
      "FROM asset \n",
      "WHERE ? = asset.owner_id\n",
      "2024-04-12 21:58:20,154 INFO sqlalchemy.engine.Engine [cached since 349.3s ago] (1,)\n",
      "2024-04-12 21:58:20,154 INFO sqlalchemy.engine.Engine INSERT INTO asset (asset_name, owner_id) VALUES (?, ?) RETURNING id\n",
      "2024-04-12 21:58:20,154 INFO sqlalchemy.engine.Engine [cached since 325.8s ago (insertmanyvalues) 1/2 (ordered; batch not supported)] ('PC', 1)\n",
      "2024-04-12 21:58:20,154 INFO sqlalchemy.engine.Engine INSERT INTO asset (asset_name, owner_id) VALUES (?, ?) RETURNING id\n",
      "2024-04-12 21:58:20,154 INFO sqlalchemy.engine.Engine [insertmanyvalues 2/2 (ordered; batch not supported)] ('Phone', 1)\n",
      "2024-04-12 21:58:20,154 INFO sqlalchemy.engine.Engine COMMIT\n"
     ]
    }
   ],
   "source": [
    "me.assets.append(Asset(asset_name=\"PC\"))\n",
    "me.assets.append(Asset(asset_name=\"Phone\"))\n",
    "session.commit()"
   ]
  },
  {
   "cell_type": "code",
   "execution_count": 17,
   "metadata": {},
   "outputs": [
    {
     "name": "stdout",
     "output_type": "stream",
     "text": [
      "2024-04-12 21:58:23,232 INFO sqlalchemy.engine.Engine BEGIN (implicit)\n",
      "2024-04-12 21:58:23,233 INFO sqlalchemy.engine.Engine SELECT user_account.id AS user_account_id, user_account.nickname AS user_account_nickname, user_account.real_name AS user_account_real_name \n",
      "FROM user_account \n",
      "WHERE user_account.id = ?\n",
      "2024-04-12 21:58:23,233 INFO sqlalchemy.engine.Engine [cached since 352.4s ago] (1,)\n",
      "2024-04-12 21:58:23,233 INFO sqlalchemy.engine.Engine SELECT asset.id AS asset_id, asset.asset_name AS asset_asset_name, asset.owner_id AS asset_owner_id \n",
      "FROM asset \n",
      "WHERE ? = asset.owner_id\n",
      "2024-04-12 21:58:23,233 INFO sqlalchemy.engine.Engine [cached since 352.4s ago] (1,)\n",
      "Asset(id=1, asset_name=Car, owner_id=1)\n",
      "Asset(id=2, asset_name=House, owner_id=1)\n",
      "Asset(id=3, asset_name=PC, owner_id=1)\n",
      "Asset(id=4, asset_name=Phone, owner_id=1)\n"
     ]
    }
   ],
   "source": [
    "for asset in me.assets:\n",
    "    print(asset)"
   ]
  },
  {
   "cell_type": "markdown",
   "metadata": {},
   "source": [
    "#### 2-10. Child Table로부터 Select 실행"
   ]
  },
  {
   "cell_type": "markdown",
   "metadata": {},
   "source": [
    "- Asset Table을 직접 Select"
   ]
  },
  {
   "cell_type": "code",
   "execution_count": 18,
   "metadata": {},
   "outputs": [
    {
     "name": "stdout",
     "output_type": "stream",
     "text": [
      "2024-04-12 21:58:50,091 INFO sqlalchemy.engine.Engine SELECT asset.id AS asset_id, asset.asset_name AS asset_asset_name, asset.owner_id AS asset_owner_id \n",
      "FROM asset \n",
      "WHERE asset.owner_id = ? AND asset.asset_name = ?\n",
      "2024-04-12 21:58:50,091 INFO sqlalchemy.engine.Engine [generated in 0.00071s] (1, 'Car')\n",
      "Asset(id=1, asset_name=Car, owner_id=1)\n"
     ]
    }
   ],
   "source": [
    "assets = session.query(Asset).filter(Asset.owner_id==me.id, Asset.asset_name=='Car')\n",
    "\n",
    "for asset in assets:\n",
    "    print(asset)"
   ]
  },
  {
   "cell_type": "markdown",
   "metadata": {},
   "source": [
    "- Table Join 방식으로 Select"
   ]
  },
  {
   "cell_type": "code",
   "execution_count": 19,
   "metadata": {},
   "outputs": [
    {
     "name": "stdout",
     "output_type": "stream",
     "text": [
      "2024-04-12 21:59:45,475 INFO sqlalchemy.engine.Engine SELECT user_account.id AS user_account_id, user_account.nickname AS user_account_nickname, user_account.real_name AS user_account_real_name, asset.id AS asset_id, asset.asset_name AS asset_asset_name, asset.owner_id AS asset_owner_id \n",
      "FROM user_account JOIN asset ON asset.owner_id = user_account.id \n",
      "WHERE user_account.id = ?\n",
      "2024-04-12 21:59:45,475 INFO sqlalchemy.engine.Engine [generated in 0.00102s] (1,)\n",
      "UserAccount(id=1, nickname=tiffanie, real_name=김형기) Asset(id=1, asset_name=Car, owner_id=1)\n",
      "UserAccount(id=1, nickname=tiffanie, real_name=김형기) Asset(id=2, asset_name=House, owner_id=1)\n",
      "UserAccount(id=1, nickname=tiffanie, real_name=김형기) Asset(id=3, asset_name=PC, owner_id=1)\n",
      "UserAccount(id=1, nickname=tiffanie, real_name=김형기) Asset(id=4, asset_name=Phone, owner_id=1)\n"
     ]
    }
   ],
   "source": [
    "rows = session.query(UserAccount, Asset).join(Asset, Asset.owner_id==UserAccount.id)\\\n",
    "    .filter(UserAccount.id==me.id)\n",
    "\n",
    "for row in rows:\n",
    "    print(row[0], row[1])"
   ]
  },
  {
   "cell_type": "markdown",
   "metadata": {},
   "source": [
    "#### 2-11. Child Table Update 실행"
   ]
  },
  {
   "cell_type": "code",
   "execution_count": null,
   "metadata": {},
   "outputs": [],
   "source": [
    "asset.asset_name = \"스포츠 Car\""
   ]
  },
  {
   "cell_type": "code",
   "execution_count": null,
   "metadata": {},
   "outputs": [],
   "source": [
    "session.commit()"
   ]
  },
  {
   "cell_type": "markdown",
   "metadata": {},
   "source": [
    "#### 2-12. Child Table Delete 실행"
   ]
  },
  {
   "cell_type": "code",
   "execution_count": null,
   "metadata": {},
   "outputs": [],
   "source": [
    "me.assets.remove(asset)"
   ]
  },
  {
   "cell_type": "code",
   "execution_count": null,
   "metadata": {},
   "outputs": [],
   "source": [
    "session.commit()"
   ]
  },
  {
   "cell_type": "markdown",
   "metadata": {},
   "source": [
    "### 3. Core 방식\n",
    "- SQLAlchemy Core는 SQL 표현식과 SQL 문을 생성하는 파이썬의 저수준 API입니다.\n",
    "- 파이썬 코드를 사용하여 SQL 쿼리를 생성하고 실행할 수 있습니다.\n",
    "- SQL 쿼리를 직접 작성하는 것보다는 추상화된 수준에서 데이터베이스와 상호 작용할 수 있습니다."
   ]
  },
  {
   "cell_type": "markdown",
   "metadata": {},
   "source": [
    "#### 3-1. Insert 실행"
   ]
  },
  {
   "cell_type": "code",
   "execution_count": null,
   "metadata": {},
   "outputs": [],
   "source": [
    "from sqlalchemy import insert\n",
    "\n",
    "stmt = insert(UserAccount).values(nickname='kang', real_name=\"강인모\")\n",
    "\n",
    "session.execute(stmt)\n",
    "session.commit()"
   ]
  },
  {
   "cell_type": "markdown",
   "metadata": {},
   "source": [
    "#### 3-2. Select 실행"
   ]
  },
  {
   "cell_type": "code",
   "execution_count": null,
   "metadata": {},
   "outputs": [],
   "source": [
    "from sqlalchemy import select\n",
    "\n",
    "stmt = select(UserAccount).where(UserAccount.nickname == 'kang')\n",
    "\n",
    "cursor = session.execute(stmt)\n",
    "\n",
    "for row in cursor:\n",
    "    print(row)"
   ]
  },
  {
   "cell_type": "markdown",
   "metadata": {},
   "source": [
    "#### 3-3. Update 실행"
   ]
  },
  {
   "cell_type": "code",
   "execution_count": null,
   "metadata": {},
   "outputs": [],
   "source": [
    "from sqlalchemy import update\n",
    "\n",
    "stmt = update(UserAccount).where(UserAccount.nickname == 'kang').\\\n",
    "    values(real_name='강감찬')\n",
    "\n",
    "session.execute(stmt)\n",
    "session.commit()"
   ]
  },
  {
   "cell_type": "markdown",
   "metadata": {},
   "source": [
    "#### 3-4. Delete 실행"
   ]
  },
  {
   "cell_type": "code",
   "execution_count": null,
   "metadata": {},
   "outputs": [],
   "source": [
    "from sqlalchemy import delete\n",
    "\n",
    "stmt = delete(UserAccount).where(UserAccount.nickname == 'kang')\n",
    "\n",
    "session.execute(stmt)\n",
    "session.commit()"
   ]
  },
  {
   "cell_type": "markdown",
   "metadata": {},
   "source": [
    "#### 3-5. Child Table Insert 실행"
   ]
  },
  {
   "cell_type": "code",
   "execution_count": null,
   "metadata": {},
   "outputs": [],
   "source": [
    "# Insert User\n",
    "user_insert = insert(UserAccount).values(nickname='mansour', real_name='만수르')\n",
    "result = session.execute(user_insert)\n",
    "\n",
    "user_id = result.lastrowid\n",
    "\n",
    "# Insert Asset\n",
    "asset1_insert = insert(Asset).values(asset_name=\"맨체스터 시티 FC\", owner_id=user_id)\n",
    "asset2_insert = insert(Asset).values(asset_name=\"돈\", owner_id=user_id)\n",
    "\n",
    "asset1_id = session.execute(asset1_insert).lastrowid\n",
    "asset2_id = session.execute(asset2_insert).lastrowid\n",
    "\n",
    "session.commit()"
   ]
  },
  {
   "cell_type": "markdown",
   "metadata": {},
   "source": [
    "#### 3-6. Select join tables 실행"
   ]
  },
  {
   "cell_type": "code",
   "execution_count": null,
   "metadata": {},
   "outputs": [],
   "source": [
    "stmt = select(UserAccount, Asset).where(UserAccount.id == user_id, UserAccount.id == Asset.owner_id)\n",
    "\n",
    "rows = session.execute(stmt)\n",
    "\n",
    "# 결과 출력\n",
    "for row in rows:\n",
    "    print(\"User ID:\", row[0].id, \"Nickname:\", row[0].nickname, \"Asset ID:\", row[1].id, \"Asset Name:\", row[1].asset_name)"
   ]
  },
  {
   "cell_type": "markdown",
   "metadata": {},
   "source": [
    "## Wrap up\n",
    "1. **SQLAlchemy**: \n",
    "\n",
    "    SQLAlchemy는 ORM 라이브러리로, 파이썬 코드를 통해 데이터베이스 테이블을 클래스로 매핑하고, 데이터를 쿼리하고 조작할 수 있습니다.\n",
    "2. **설치 및 데이터베이스 접속**:\n",
    "\n",
    "    SQLAlchemy를 설치하고, SQLite 데이터베이스에 연결하는 방법을 배웠습니다.\n",
    "\n",
    "3. **데이터베이스와의 상호 작용 방법**:\n",
    "- SQL 방식: 순수 SQL 쿼리를 사용하여 데이터베이스와 상호 작용합니다.\n",
    "- ORM 방식: 파이썬 클래스와 데이터베이스 테이블을 매핑하여, 객체 지향 프로그래밍 방식으로 데이터베이스와 상호 작용합니다.\n",
    "- Core 방식: SQLAlchemy Core를 사용하여, 저수준 API를 통해 데이터베이스와 상호 작용합니다.\n",
    "\n",
    "4. **CRUD 작업**:\n",
    "\n",
    "    데이터베이스에서 Create, Read, Update, Delete (CRUD) 작업을 수행하는 방법을 ORM 방식과 Core 방식을 통해 배웠습니다.\n",
    "\n",
    "5. **관계 설정 및 조작**:\n",
    " \n",
    "    사용자(User)와 자산(Asset) 사이의 관계를 설정하고, 관계에 있는 데이터를 조작하는 방법을 배웠습니다. 이 과정에서, 한 사용자가 삭제되면 해당 사용자와 연결된 자산도 함께 삭제되도록 설정하는 방법을 포함합니다.\n",
    "\n",
    "6. **세션 관리**:\n",
    "\n",
    "    SQLAlchemy에서 세션을 통해 데이터베이스와의 상호 작용을 관리하는 방법을 배웠습니다. 이를 통해 데이터베이스 작업을 효율적으로 커밋하고, 필요한 경우 롤백할 수 있습니다."
   ]
  }
 ],
 "metadata": {
  "kernelspec": {
   "display_name": "Python 3",
   "language": "python",
   "name": "python3"
  },
  "language_info": {
   "codemirror_mode": {
    "name": "ipython",
    "version": 3
   },
   "file_extension": ".py",
   "mimetype": "text/x-python",
   "name": "python",
   "nbconvert_exporter": "python",
   "pygments_lexer": "ipython3",
   "version": "3.10.10"
  }
 },
 "nbformat": 4,
 "nbformat_minor": 2
}
