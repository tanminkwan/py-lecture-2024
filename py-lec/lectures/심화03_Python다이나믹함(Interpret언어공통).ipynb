{
 "cells": [
  {
   "cell_type": "markdown",
   "metadata": {},
   "source": [
    "## Python 의 다이나믹함\n",
    "\n",
    "- Python 등 인터프리터 언어는 런타임에 코드를 해석하고 실행하여 동적으로 메서드/속성 추가, 타입 변환, 모듈 로딩 등을 지원합니다. 이는 코드 작성 중에도 프로그램 구조를 유연하게 변경하고 확장할 수 있어 개발 속도와 유지보수성을 높입니다.\n",
    "\n",
    "### 1. 동적 타이핑(Typing)\n",
    "#### 1-1. 동적으로 타입 변환\n",
    "- Python은 변수의 타입을 동적으로 변환할 수 있습니다. 같은 변수가 다른 타입의 값을 가질 수 있습니다."
   ]
  },
  {
   "cell_type": "code",
   "execution_count": null,
   "metadata": {},
   "outputs": [],
   "source": [
    "x = 10  # 정수\n",
    "print(type(x))  # 출력: <class 'int'>\n",
    "\n",
    "x = \"Hello\"  # 문자열로 재할당\n",
    "print(type(x))  # 출력: <class 'str'>\n",
    "\n",
    "x = [1, 2, 3]  # 리스트로 재할당\n",
    "print(type(x))  # 출력: <class 'list'>"
   ]
  },
  {
   "cell_type": "markdown",
   "metadata": {},
   "source": [
    "#### 1-2. 함수 매개변수의 다양한 타입\n",
    "- Python 함수의 매개변수는 호출 시점에서 타입이 결정됩니다. 같은 함수에 다양한 타입의 인자를 넘길 수 있습니다.\n",
    "- 참고 : 그래서 Python은 오버로딩(Overloading)이 없습니다."
   ]
  },
  {
   "cell_type": "code",
   "execution_count": null,
   "metadata": {},
   "outputs": [],
   "source": [
    "def greet(message):\n",
    "    print(message)\n",
    "\n",
    "# 문자열을 넘겨줌\n",
    "greet(\"Hello, World!\")  # 출력: Hello, World!\n",
    "\n",
    "# 정수를 넘겨줌\n",
    "greet(123)  # 출력: 123\n",
    "\n",
    "# 리스트를 넘겨줌\n",
    "greet([1, 2, 3])  # 출력: [1, 2, 3]"
   ]
  },
  {
   "cell_type": "markdown",
   "metadata": {},
   "source": [
    "### 2. 함수가 일등급 객체(first-class object)\n",
    "#### 2-1. 변수에 할당될 수 있다.\n",
    "- 함수를 변수에 할당하여 그 변수를 통해 함수를 호출할 수 있습니다."
   ]
  },
  {
   "cell_type": "code",
   "execution_count": null,
   "metadata": {},
   "outputs": [],
   "source": [
    "def greet(name):\n",
    "    return \"Hello, \" + name\n",
    "\n",
    "greeting = greet\n",
    "print(greeting(\"Alice\"))  # \"Hello, Alice\" 출력"
   ]
  },
  {
   "cell_type": "markdown",
   "metadata": {},
   "source": [
    "#### 2-2. 다른 함수의 인자로 전달될 수 있다.\n",
    "- 다른 함수의 매개변수로 함수를 전달할 수 있습니다."
   ]
  },
  {
   "cell_type": "code",
   "execution_count": null,
   "metadata": {},
   "outputs": [],
   "source": [
    "def square(x):\n",
    "    return x * x\n",
    "\n",
    "def apply_func(func, arg):\n",
    "    return func(arg)\n",
    "\n",
    "result = apply_func(square, 5)\n",
    "print(result)  # 25 출력\n"
   ]
  },
  {
   "cell_type": "markdown",
   "metadata": {},
   "source": [
    "#### 2-3. 다른 함수의 반환값이 될 수 있다.\n",
    "- 함수가 다른 함수의 반환값이 될 수 있습니다."
   ]
  },
  {
   "cell_type": "code",
   "execution_count": null,
   "metadata": {},
   "outputs": [],
   "source": [
    "def add(a, b):\n",
    "    return a + b\n",
    "\n",
    "def subtract(a, b):\n",
    "    return a - b\n",
    "\n",
    "def get_math_func(operation):\n",
    "    if operation == \"add\":\n",
    "        return add\n",
    "    elif operation == \"subtract\":\n",
    "        return subtract\n",
    "\n",
    "add_func = get_math_func(\"add\")\n",
    "result = add_func(3, 4)\n",
    "print(result)  # 7 출력\n"
   ]
  },
  {
   "cell_type": "markdown",
   "metadata": {},
   "source": [
    "### 3. 동적 메서드/속성 추가"
   ]
  },
  {
   "cell_type": "code",
   "execution_count": null,
   "metadata": {},
   "outputs": [],
   "source": [
    "class MyClass:\n",
    "    def __init__(self, value):\n",
    "        self.value = value\n",
    "\n",
    "obj = MyClass(10)\n",
    "\n",
    "# 동적으로 메서드 추가\n",
    "def greet(self):\n",
    "    print(\"Hello!\")\n",
    "    \n",
    "MyClass.greet = greet\n",
    "\n",
    "obj.greet()  # 출력: Hello!"
   ]
  },
  {
   "cell_type": "markdown",
   "metadata": {},
   "source": [
    "### 4. 동적으로 모듈/라이브러리 로딩"
   ]
  },
  {
   "cell_type": "code",
   "execution_count": null,
   "metadata": {},
   "outputs": [],
   "source": [
    "# 동적으로 모듈 로딩\n",
    "import importlib\n",
    "\n",
    "module_name = \"math\"\n",
    "math_module = importlib.import_module(module_name)\n",
    "\n",
    "print(math_module.sqrt(25))  # 출력: 5.0"
   ]
  },
  {
   "cell_type": "markdown",
   "metadata": {},
   "source": [
    "### 5. 동적 코드 실행\n",
    "#### 5-1. eval\n",
    "- Python은 코드 문자열을 동적으로 실행하는 eval 함수를 제공합니다. 이를 통해 문자열로 표현된 코드를 실행하고 결과를 얻을 수 있습니다."
   ]
  },
  {
   "cell_type": "code",
   "execution_count": null,
   "metadata": {},
   "outputs": [],
   "source": [
    "code = 'print(\"Hello from eval!\")'\n",
    "eval(code)  # 출력: Hello from eval!"
   ]
  },
  {
   "cell_type": "markdown",
   "metadata": {},
   "source": [
    "#### 5-2. exec\n",
    "- exec() 함수는 Python에서 문자열로 표현된 코드를 실행하는 내장 함수입니다. 문자열에 포함된 파이썬 코드를 동적으로 실행하여 변수를 정의하거나 함수를 만들고 실행할 수 있습니다."
   ]
  },
  {
   "cell_type": "code",
   "execution_count": null,
   "metadata": {},
   "outputs": [],
   "source": [
    "# 문자열 형태의 함수 내용\n",
    "func_string = '''\n",
    "def greet(name):\n",
    "    return f\"Hello, {name}!\"\n",
    "'''\n",
    "\n",
    "# exec() 함수를 사용하여 문자열을 함수로 변환\n",
    "exec(func_string)\n",
    "\n",
    "# greet 함수를 호출\n",
    "result = greet(\"Alice\")\n",
    "print(result)  # 출력: Hello, Alice"
   ]
  },
  {
   "cell_type": "markdown",
   "metadata": {},
   "source": [
    "### 6. Monkey Patching\n",
    "- Python에서는 Monkey Patching이라는 기법을 통해 런타임에 클래스나 모듈의 기능을 동적으로 변경할 수 있습니다.\n",
    "- Monkey Patching은 테스트 코드에서 다른 모듈이나 클래스를 가짜(mock)로 대체하여 원하는 동작을 시뮬레이션할 때 유용합니다. 예를 들어, 외부 API 호출을 대체하여 실제 네트워크 통신을 하지 않고 테스트를 수행할 수 있습니다."
   ]
  },
  {
   "cell_type": "code",
   "execution_count": null,
   "metadata": {},
   "outputs": [],
   "source": [
    "class MyClass:\n",
    "    def greet(self):\n",
    "        return \"Hello from MyClass\"\n",
    "\n",
    "obj = MyClass()\n",
    "\n",
    "print(obj.greet())  # 출력: Hello from MyClass\n",
    "\n",
    "# Monkey Patching: 동적으로 메서드 변경\n",
    "def new_greet(self):\n",
    "    return \"Hello from Monkey Patched MyClass\"\n",
    "\n",
    "MyClass.greet = new_greet\n",
    "\n",
    "print(obj.greet())  # 출력: Hello from Monkey Patched MyClass"
   ]
  },
  {
   "cell_type": "markdown",
   "metadata": {},
   "source": [
    "### 7. Reflection (리플렉션)\n",
    "- Reflection은 프로그램이 자기 자신의 구조와 속성을 검사하고 조작할 수 있는 기능을 의미합니다. 인터프리터 언어는 Reflection을 통해 런타임에 객체의 정보를 확인하고 수정할 수 있습니다."
   ]
  },
  {
   "cell_type": "code",
   "execution_count": null,
   "metadata": {},
   "outputs": [],
   "source": [
    "class MyClass:\n",
    "    def __init__(self, age, name):\n",
    "        self.age = age\n",
    "        self.name = name\n",
    "\n",
    "    def set_height(self, height):\n",
    "        self.height = height\n",
    "\n",
    "# class 정의 객체\n",
    "mycls = MyClass\n",
    "\n",
    "# 객체의 속성 정보 확인\n",
    "for attr in dir(mycls):\n",
    "    print(attr)"
   ]
  },
  {
   "cell_type": "code",
   "execution_count": null,
   "metadata": {},
   "outputs": [],
   "source": [
    "# instance화된 class 객체\n",
    "# __init__ 실행 후 age, name 두개의 속성이 추가됨\n",
    "obj = MyClass(10, \"Tom\")\n",
    "\n",
    "# 객체의 속성 정보 확인\n",
    "for attr in dir(obj):\n",
    "    print(attr)"
   ]
  },
  {
   "cell_type": "code",
   "execution_count": null,
   "metadata": {},
   "outputs": [],
   "source": [
    "# set_height() 실행 이후 멤버 height 가 obj의 attribute로 추가됨\n",
    "obj.set_height(173)\n",
    "\n",
    "# 객체의 속성 정보 확인\n",
    "for attr in dir(obj):\n",
    "    print(attr)"
   ]
  },
  {
   "cell_type": "markdown",
   "metadata": {},
   "source": [
    "## Wrap up\n",
    "1. **동적 타이핑**:\n",
    "\n",
    "    변수에 여러 타입의 값이 할당될 수 있으며, 함수 매개변수도 다양한 타입을 받을 수 있습니다.\n",
    "2. **일등급 함수**:\n",
    "\n",
    "    함수를 변수에 할당하거나 다른 함수의 인자 또는 반환값으로 사용할 수 있고, 속성을 동적으로 추가할 수 있습니다.\n",
    "3. **동적 멤버 추가**: \n",
    "\n",
    "    클래스 인스턴스에 동적으로 메서드나 속성을 추가할 수 있습니다.\n",
    "\n",
    "4. **모듈/라이브러리 동적 로딩**:\n",
    "\n",
    "    `importlib`을 사용해 런타임에 모듈을 로드할 수 있습니다.\n",
    "5. **동적 코드 실행**: \n",
    "\n",
    "    `eval`과 `exec` 함수를 사용해 문자열로 표현된 파이썬 코드를 실행할 수 있습니다.\n",
    "6. **리플렉션**: \n",
    "\n",
    "    객체의 구조와 속성을 런타임에 검사하고 조작할 수 있습니다."
   ]
  }
 ],
 "metadata": {
  "kernelspec": {
   "display_name": "Python 3",
   "language": "python",
   "name": "python3"
  },
  "language_info": {
   "codemirror_mode": {
    "name": "ipython",
    "version": 3
   },
   "file_extension": ".py",
   "mimetype": "text/x-python",
   "name": "python",
   "nbconvert_exporter": "python",
   "pygments_lexer": "ipython3",
   "version": "3.10.12"
  }
 },
 "nbformat": 4,
 "nbformat_minor": 2
}
