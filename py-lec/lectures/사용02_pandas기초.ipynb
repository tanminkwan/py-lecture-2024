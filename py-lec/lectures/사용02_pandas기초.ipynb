{
 "cells": [
  {
   "cell_type": "markdown",
   "metadata": {},
   "source": [
    "# Pandas 란\n",
    "- 테이블 데이터를 효율적으로 조작 및 분석할 수 있는 라이브러리입니다.\n",
    "- 금융 데이터 분석, 통계 데이터 분석, 데이터 전처리 및 데이터 클린징 작업에 활용됩니다."
   ]
  },
  {
   "cell_type": "markdown",
   "metadata": {},
   "source": [
    "# Pandas 기본 사용법"
   ]
  },
  {
   "cell_type": "markdown",
   "metadata": {},
   "source": [
    "### 1. Pandas 라이브러리 가져오기\n",
    "\n",
    "- Pandas를 사용하기 위해서는 먼저 라이브러리를 import 해야 합니다."
   ]
  },
  {
   "cell_type": "code",
   "execution_count": null,
   "metadata": {},
   "outputs": [],
   "source": [
    "import pandas as pd"
   ]
  },
  {
   "cell_type": "markdown",
   "metadata": {},
   "source": [
    "### 2. 데이터 구조\n",
    "\n",
    "- Pandas에서는 두 가지 주요 데이터 구조를 사용합니다: Series와 DataFrame.\n",
    "#### 2.1. Series\n",
    "\n",
    "- Series는 1차원 데이터 배열입니다. 인덱스를 가지고 있습니다."
   ]
  },
  {
   "cell_type": "code",
   "execution_count": null,
   "metadata": {},
   "outputs": [],
   "source": [
    "# Series 생성\n",
    "s = pd.Series([1, 3, 5, 6, 8])\n",
    "print(s)\n",
    "\n",
    "# Series 생성\n",
    "s = pd.Series([1, 3, 5, None, 6, 8])\n",
    "print(s)\n",
    "\n",
    "# Series 생성\n",
    "s = pd.Series([1, 3, 5, None, \"6\", 8])\n",
    "print(s)"
   ]
  },
  {
   "cell_type": "markdown",
   "metadata": {},
   "source": [
    "#### 2.2. DataFrame\n",
    "\n",
    "- DataFrame은 2차원 데이터 배열이며, 여러 개의 Series를 모아서 테이블 형태로 만든 것입니다."
   ]
  },
  {
   "cell_type": "code",
   "execution_count": null,
   "metadata": {},
   "outputs": [],
   "source": [
    "# DataFrame 생성\n",
    "df = pd.DataFrame({\n",
    "    'Name': ['group1', 'Alice', 'Bob', 'Charlie', 'group2', 'Tom', 'Jane', 'Nobody'],\n",
    "    'Age': [None, 35, 30, 25, None, 101, 7, 29],\n",
    "    'Location': ['Nowhere', 'New York', 'Los Angeles', 'Los Angeles', 'Nowhere', 'Seoul', 'Seoul', 'Nowhere']\n",
    "})\n",
    "print(df)"
   ]
  },
  {
   "cell_type": "markdown",
   "metadata": {},
   "source": [
    "- 그룹 식별용 깃발(flag) 다음에 해당 그룹에 소속된 사람들이 한줄로 서 있는 경우를 상상해주세요.\n",
    "  ![Alt text for broken image link](../resources/pandas_df.png)"
   ]
  },
  {
   "cell_type": "markdown",
   "metadata": {},
   "source": [
    "### 3. 데이터 접근하기\n",
    "\n",
    "- DataFrame 내의 데이터에 접근하고 조작할 수 있습니다.\n",
    "#### 3.1. 열(Columns) 선택"
   ]
  },
  {
   "cell_type": "code",
   "execution_count": null,
   "metadata": {},
   "outputs": [],
   "source": [
    "# 열 선택\n",
    "df['Name']"
   ]
  },
  {
   "cell_type": "markdown",
   "metadata": {},
   "source": [
    "#### 3.2. 행(Rows) 선택"
   ]
  },
  {
   "cell_type": "code",
   "execution_count": null,
   "metadata": {},
   "outputs": [],
   "source": [
    "# 행 선택 (인덱스로)\n",
    "df.loc[2]"
   ]
  },
  {
   "cell_type": "markdown",
   "metadata": {},
   "source": [
    "### 4. 데이터 필터링\n",
    "\n",
    "- 조건에 맞는 데이터를 추출할 수 있습니다."
   ]
  },
  {
   "cell_type": "code",
   "execution_count": null,
   "metadata": {},
   "outputs": [],
   "source": [
    "# 조건에 맞는 행 추출\n",
    "filtered_df = df[df['Age'] > 25]\n",
    "print(filtered_df)"
   ]
  },
  {
   "cell_type": "markdown",
   "metadata": {},
   "source": [
    "### 5. 데이터 정렬"
   ]
  },
  {
   "cell_type": "code",
   "execution_count": null,
   "metadata": {},
   "outputs": [],
   "source": [
    "# 나이를 기준으로 오름차순 정렬\n",
    "sorted_df = df.sort_values(by='Age')\n",
    "print(sorted_df)"
   ]
  },
  {
   "cell_type": "markdown",
   "metadata": {},
   "source": [
    "### 6. Data 추가\n",
    "#### 6-1. 열(column) 추가\n",
    "- 단일 값으로 새로운 열 추가"
   ]
  },
  {
   "cell_type": "code",
   "execution_count": null,
   "metadata": {},
   "outputs": [],
   "source": [
    "# 기존 데이터프레임 생성\n",
    "abc_df = pd.DataFrame({'A': [1, 2, 3],\n",
    "                   'B': [4, 5, 6]})\n",
    "\n",
    "print(f'열 추가 이전 :\\n{abc_df}')\n",
    "\n",
    "# 'C'라는 새로운 열 추가 (단일 값)\n",
    "abc_df['C'] = 10\n",
    "\n",
    "print(f'열 추가 이후 :\\n{abc_df}')\n"
   ]
  },
  {
   "cell_type": "markdown",
   "metadata": {},
   "source": [
    "- 리스트나 배열로 새로운 열 추가"
   ]
  },
  {
   "cell_type": "code",
   "execution_count": null,
   "metadata": {},
   "outputs": [],
   "source": [
    "# 리스트를 사용하여 'D'라는 새로운 열 추가\n",
    "abc_df['D'] = [7, 8, 9]\n",
    "print(abc_df)"
   ]
  },
  {
   "cell_type": "markdown",
   "metadata": {},
   "source": [
    "#### 6-2. 행(row) 추가\n",
    "- `concat`를 사용하여 다른 데이터프레임을 이어붙여 행 추가\n",
    "- `ignore_index=True`를 지정하면 기존 인덱스를 무시하고 새로운 인덱스를 부여합니다."
   ]
  },
  {
   "cell_type": "code",
   "execution_count": null,
   "metadata": {},
   "outputs": [],
   "source": [
    "# 데이터프레임 생성\n",
    "df1 = pd.DataFrame({'A': [1, 2, 3],\n",
    "                   'B': [4, 5, 6]})\n",
    "\n",
    "df2 = pd.DataFrame({'A': [20], 'B': [21], 'C': [22], 'D': [23]})\n",
    "\n",
    "# 다른 데이터프레임을 이어붙여 새로운 행 추가\n",
    "concat_df = pd.concat([df1, df2], ignore_index=True)\n",
    "print(concat_df)"
   ]
  },
  {
   "cell_type": "markdown",
   "metadata": {},
   "source": [
    "### 7. 결측값 다루기\n",
    "\n",
    "- 데이터에 결측값(누락된 값)이 있는 경우 다양한 방법으로 처리할 수 있습니다.\n",
    "#### 7.1. 결측값 제거"
   ]
  },
  {
   "cell_type": "code",
   "execution_count": null,
   "metadata": {},
   "outputs": [],
   "source": [
    "# 데이터프레임 생성\n",
    "na_df = pd.DataFrame({\n",
    "    'Name': ['group1', 'Alice', 'Bob', 'Charlie', 'group2', 'Tom', 'Jane', 'Nobody'],\n",
    "    'Age': [None, 35, 30, 25, None, 101, 7, 29],\n",
    "    'Location': ['Nowhere', 'New York', 'Los Angeles', 'Los Angeles', 'Nowhere', 'Seoul', 'Seoul', 'Nowhere']\n",
    "})\n",
    "print(na_df)"
   ]
  },
  {
   "cell_type": "code",
   "execution_count": null,
   "metadata": {},
   "outputs": [],
   "source": [
    "# 결측값이 있는 행 제거\n",
    "cleaned_df = na_df.dropna()\n",
    "print(cleaned_df)"
   ]
  },
  {
   "cell_type": "markdown",
   "metadata": {},
   "source": [
    "### 7.2. 결측값 채우기"
   ]
  },
  {
   "cell_type": "code",
   "execution_count": null,
   "metadata": {},
   "outputs": [],
   "source": [
    "# 결측값을 평균으로 채우기\n",
    "na_df['Age'] = na_df['Age'].fillna(na_df['Age'].mean())\n",
    "print(na_df)\n"
   ]
  },
  {
   "cell_type": "markdown",
   "metadata": {},
   "source": [
    "### 8. 집계 함수\n",
    "\n",
    "- DataFrame에서 데이터를 집계하고 요약할 수 있는 함수들이 있습니다."
   ]
  },
  {
   "cell_type": "code",
   "execution_count": null,
   "metadata": {},
   "outputs": [],
   "source": [
    "# 데이터프레임 생성\n",
    "df = pd.DataFrame({\n",
    "    'Name': ['group1', 'Alice', 'Bob', 'Charlie', 'group2', 'Tom', 'Jane', 'Nobody'],\n",
    "    'Age': [None, 35, 30, 25, None, 101, 7, 29],\n",
    "    'Location': ['Nowhere', 'New York', 'Los Angeles', 'Los Angeles', 'Nowhere', 'Seoul', 'Seoul', 'Nowhere']\n",
    "})\n",
    "\n",
    "# 평균, 최대값, 최소값 계산\n",
    "print(df['Age'].mean())\n",
    "print(df['Name'].max())\n",
    "print(df['Location'].min())\n"
   ]
  },
  {
   "cell_type": "markdown",
   "metadata": {},
   "source": [
    "### 9. 데이터 읽기와 쓰기\n",
    "\n",
    "- Pandas는 다양한 데이터 소스에서 데이터를 읽고 쓰는 기능을 제공합니다.\n",
    "#### 9.1. CSV 파일 읽기와 쓰기"
   ]
  },
  {
   "cell_type": "code",
   "execution_count": null,
   "metadata": {},
   "outputs": [],
   "source": [
    "# 데이터프레임 생성\n",
    "df = pd.DataFrame({\n",
    "    'Name': ['group1', 'Alice', 'Bob', 'Charlie', 'group2', 'Tom', 'Jane', 'Nobody'],\n",
    "    'Age': [None, 35, 30, 25, None, 101, 7, 29],\n",
    "    'Location': ['Nowhere', 'New York', 'Los Angeles', 'Los Angeles', 'Nowhere', 'Seoul', 'Seoul', 'Nowhere']\n",
    "})\n",
    "\n",
    "# CSV 파일 쓰기\n",
    "df.to_csv('output.csv', index=False)"
   ]
  },
  {
   "cell_type": "code",
   "execution_count": null,
   "metadata": {},
   "outputs": [],
   "source": [
    "# CSV 파일 읽기\n",
    "df_data = pd.read_csv('output.csv')\n",
    "print(df_data.head())  # 처음 5개 행 출력"
   ]
  },
  {
   "cell_type": "markdown",
   "metadata": {},
   "source": [
    "#### 9.2. html page 읽기와 쓰기"
   ]
  },
  {
   "cell_type": "code",
   "execution_count": null,
   "metadata": {},
   "outputs": [],
   "source": [
    "!pip install lxml"
   ]
  },
  {
   "cell_type": "code",
   "execution_count": null,
   "metadata": {},
   "outputs": [],
   "source": [
    "# HTML page 읽기\n",
    "# HTML 페이지에서 테이블을 가져와 데이터프레임으로 변환\n",
    "url = 'https://www.w3schools.com/html/html_tables.asp'\n",
    "tables = pd.read_html(url)\n",
    "\n",
    "print(tables)"
   ]
  },
  {
   "cell_type": "code",
   "execution_count": null,
   "metadata": {},
   "outputs": [],
   "source": [
    "# 원하는 테이블 선택\n",
    "df_table = tables[0]\n",
    "\n",
    "print(df_table) # 처음 5개 행 출력"
   ]
  },
  {
   "cell_type": "code",
   "execution_count": null,
   "metadata": {},
   "outputs": [],
   "source": [
    "# HTML page 쓰기\n",
    "df_html = df_table.to_html()\n",
    "print(df_html)"
   ]
  },
  {
   "cell_type": "markdown",
   "metadata": {},
   "source": [
    "#### 9.3. database 읽기와 쓰기"
   ]
  },
  {
   "cell_type": "code",
   "execution_count": null,
   "metadata": {},
   "outputs": [],
   "source": [
    "# database 쓰기\n",
    "\n",
    "import pandas as pd\n",
    "import sqlite3\n",
    "\n",
    "# 샘플 데이터프레임 생성\n",
    "data = {\n",
    "    'Name': ['Alice', 'Bob', 'Kim'],\n",
    "    'Age': [28, 30, 18],\n",
    "    'Location': ['New York', '나성', 'Seoul']\n",
    "}\n",
    "df_db = pd.DataFrame(data)\n",
    "\n",
    "# SQLite 데이터베이스 연결\n",
    "conn = sqlite3.connect('test.db')\n",
    "\n",
    "# 데이터프레임을 SQLite 테이블로 저장\n",
    "df_db.to_sql('test', conn, index=False, if_exists='replace')\n",
    "\n",
    "# 연결 종료\n",
    "conn.close()\n",
    "\n",
    "print(\"Data saved to SQLite database.\")"
   ]
  },
  {
   "cell_type": "code",
   "execution_count": null,
   "metadata": {},
   "outputs": [],
   "source": [
    "# database 읽기\n",
    "\n",
    "import pandas as pd\n",
    "import sqlite3\n",
    "\n",
    "# SQLite 데이터베이스 연결\n",
    "conn = sqlite3.connect('test.db')\n",
    "\n",
    "# SQL 쿼리를 사용하여 데이터프레임으로 읽어오기\n",
    "query = \"SELECT * FROM TEST\"\n",
    "df_sqlite = pd.read_sql_query(query, conn)\n",
    "\n",
    "print(df_sqlite.head())\n",
    "\n",
    "# 연결 종료\n",
    "conn.close()"
   ]
  },
  {
   "cell_type": "markdown",
   "metadata": {},
   "source": [
    "### 10. 그룹화(Grouping)\n",
    "\n",
    "- 데이터를 그룹화하여 통계나 집계를 수행할 수 있습니다.\n",
    "#### 10.1 Group by"
   ]
  },
  {
   "cell_type": "code",
   "execution_count": null,
   "metadata": {},
   "outputs": [],
   "source": [
    "# 데이터프레임 생성\n",
    "df = pd.DataFrame({\n",
    "    'Name': ['group1', 'Alice', 'Bob', 'Charlie', 'group2', 'Tom', 'Jane', 'Nobody'],\n",
    "    'Age': [None, 35, 30, 25, None, 101, 7, 29],\n",
    "    'Location': ['Nowhere', 'New York', 'Los Angeles', 'Los Angeles', 'Nowhere', 'Seoul', 'Seoul', 'Nowhere']\n",
    "})\n",
    "\n",
    "# 지역(Location)별 평균 나이 계산\n",
    "grouped_df = df.groupby('Location').mean('Age')\n",
    "print(grouped_df)\n"
   ]
  },
  {
   "cell_type": "markdown",
   "metadata": {},
   "source": [
    "#### 10.2 조건식에 의한 Group By"
   ]
  },
  {
   "cell_type": "code",
   "execution_count": null,
   "metadata": {},
   "outputs": [],
   "source": [
    "# 나이가 30 이상인 그룹과 30 미만인 그룹으로 나누기\n",
    "grouped_age = df.groupby(df['Age'] >= 30)\n",
    "\n",
    "for g in grouped_age:\n",
    "    print(g)\n"
   ]
  },
  {
   "cell_type": "markdown",
   "metadata": {},
   "source": [
    "#### 11. Cumulative Sum (누적 합)\n",
    "\n",
    "- 데이터의 누적 합을 구할 수 있습니다."
   ]
  },
  {
   "cell_type": "code",
   "execution_count": null,
   "metadata": {},
   "outputs": [],
   "source": [
    "# 데이터프레임 생성\n",
    "df = pd.DataFrame({\n",
    "    'Name': ['group1', 'Alice', 'Bob', 'Charlie', 'group2', 'Tom', 'Jane', 'Nobody'],\n",
    "    'Age': [None, 35, 30, 25, None, 101, 7, 29],\n",
    "    'Location': ['Nowhere', 'New York', 'Los Angeles', 'Los Angeles', 'Nowhere', 'Seoul', 'Seoul', 'Nowhere']\n",
    "})\n",
    "\n",
    "df['Cumulative Sum'] = df['Age'].cumsum()\n",
    "print(df)"
   ]
  },
  {
   "cell_type": "markdown",
   "metadata": {},
   "source": [
    "- DataFrame에 group 식별용 열이 존재할 때 group 식별자 칼럼 추가하기"
   ]
  },
  {
   "cell_type": "code",
   "execution_count": null,
   "metadata": {},
   "outputs": [],
   "source": [
    "# group 식별 행에 True(=1) 표식을 단다\n",
    "df['is_group_tag'] = df['Name'].str.contains('group')\n",
    "print(df)\n"
   ]
  },
  {
   "cell_type": "code",
   "execution_count": null,
   "metadata": {},
   "outputs": [],
   "source": [
    "# 현재 행 앞에 is_group_tag 값의 누적합계(cumsum)를 구한다.\n",
    "# 이 값은 group 순번과 일치한다.\n",
    "df['group_number'] = df['is_group_tag'].cumsum()\n",
    "print(df)"
   ]
  },
  {
   "cell_type": "markdown",
   "metadata": {},
   "source": [
    "### 12. Numpy 배열로 DataFrame 생성"
   ]
  },
  {
   "cell_type": "code",
   "execution_count": null,
   "metadata": {},
   "outputs": [],
   "source": [
    "import numpy as np\n",
    "import pandas as pd\n",
    "\n",
    "# NumPy 배열 생성\n",
    "np_arr = np.array([[1, 2, 3], [4, 5, 6], [7, 8, 9]])\n",
    "\n",
    "# NumPy 배열을 이용하여 Pandas DataFrame 생성\n",
    "np_df = pd.DataFrame(np_arr, columns=['A', 'B', 'C'])\n",
    "\n",
    "# DataFrame 출력\n",
    "print(\"DataFrame:\")\n",
    "print(np_df)\n",
    "\n",
    "# DataFrame에서 열 'B'의 평균 계산 (결측값은 무시됨)\n",
    "mean_b = np_df['B'].mean()\n",
    "\n",
    "print(\"\\n평균값 (열 'B'):\", mean_b)\n",
    "\n",
    "mean_1 = np_df.loc[1].mean()\n",
    "\n",
    "print(\"\\n평균값 (행 index=1):\", mean_1)\n"
   ]
  },
  {
   "cell_type": "markdown",
   "metadata": {},
   "source": [
    "### 문제 #1 ~ #4\n",
    "- 고객 데이터는 다음과 같습니다:"
   ]
  },
  {
   "cell_type": "code",
   "execution_count": null,
   "metadata": {},
   "outputs": [],
   "source": [
    "data = {\n",
    "    'Name': ['Alice', 'Bob', 'Charlie', 'David', 'Eve'],\n",
    "    'Age': [25, 30, 35, 40, 28],\n",
    "    'Location': ['New York', 'Los Angeles', 'New York', 'Chicago', 'Los Angeles']\n",
    "}"
   ]
  },
  {
   "cell_type": "markdown",
   "metadata": {},
   "source": [
    "- 문제 #1 : \n",
    "    \n",
    "    위 데이터를 이용해 Pandas DataFrame을 생성하세요.\n",
    "- 문제 #2 : \n",
    "\n",
    "    전체 고객의 평균 나이를 계산하세요.\n",
    "- 문제 #3 : \n",
    "\n",
    "    각 지역별로 몇 명의 고객이 있는지 계산하세요.\n",
    "- 문제 #4 : \n",
    "\n",
    "    나이가 30세 이상인 고객만을 포함하는 새로운 DataFrame을 생성하고 출력하세요."
   ]
  },
  {
   "cell_type": "code",
   "execution_count": null,
   "metadata": {},
   "outputs": [],
   "source": [
    "import pandas as pd\n",
    "\n",
    "# 데이터 생성\n",
    "data = {\n",
    "    'Name': ['Alice', 'Bob', 'Charlie', 'David', 'Eve'],\n",
    "    'Age': [25, 30, 35, 40, 28],\n",
    "    'Location': ['New York', 'Los Angeles', 'New York', 'Chicago', 'Los Angeles']\n",
    "}\n",
    "\n",
    "# 문제 #1. Pandas DataFrame 생성\n",
    "df = pd.DataFrame(data)\n",
    "\n",
    "# 문제 #2. 전체 고객의 평균 나이 계산\n",
    "average_age = None\n",
    "# to-do\n",
    "\n",
    "# 문제 #3. 각 지역별 고객 수 계산\n",
    "customer_by_location = None\n",
    "# to-do\n",
    "\n",
    "# 문제 #4. 나이가 30세 이상인 고객의 DataFrame 생성\n",
    "df_30_and_above = None\n",
    "# to-do\n",
    "\n",
    "# 결과 출력\n",
    "print(\"평균 나이:\", average_age)\n",
    "print(\"\\n지역별 고객 수:\")\n",
    "print(customer_by_location)\n",
    "print(\"\\n나이가 30세 이상인 고객:\")\n",
    "print(df_30_and_above)\n"
   ]
  },
  {
   "cell_type": "markdown",
   "metadata": {},
   "source": [
    "## Wrap up\n",
    "1. **Pandas의 핵심 구성요소**:\n",
    "\n",
    "\tPandas는 주로 Series와 DataFrame 두 가지 데이터 구조를 사용합니다. Series는 1차원 배열이고, DataFrame은 2차원 테이블 형태의 데이터를 다룹니다.\n",
    "2. **데이터 조작과 분석의 기본**:\n",
    "\n",
    "\t데이터의 선택, 필터링, 정렬, 추가, 결측값 처리 등 기본적인 데이터 조작과 분석 기법을 이해하고 있어야 합니다.\n",
    "3. **데이터 집계와 그룹화**:\n",
    "\n",
    "\tPandas는 데이터를 그룹화하고, 이를 기반으로 집계, 요약하는 기능을 제공합니다.\n",
    "4. **다양한 데이터 소스와의 상호작용**:\n",
    "\n",
    "\tPandas는 CSV, HTML, 데이터베이스 등 다양한 데이터 소스에서 데이터를 읽고 쓸 수 있는 기능을 제공합니다."
   ]
  }
 ],
 "metadata": {
  "kernelspec": {
   "display_name": "Python 3",
   "language": "python",
   "name": "python3"
  },
  "language_info": {
   "codemirror_mode": {
    "name": "ipython",
    "version": 3
   },
   "file_extension": ".py",
   "mimetype": "text/x-python",
   "name": "python",
   "nbconvert_exporter": "python",
   "pygments_lexer": "ipython3",
   "version": "3.10.10"
  }
 },
 "nbformat": 4,
 "nbformat_minor": 2
}
