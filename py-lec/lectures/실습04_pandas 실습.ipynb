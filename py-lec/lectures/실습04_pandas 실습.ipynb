{
 "cells": [
  {
   "cell_type": "markdown",
   "metadata": {},
   "source": [
    "### 실습 개요\n",
    "- 특정 유사도 수치를 기준으로 Video array를 분할하고 그룹화(Grouping)합니다.\n",
    "- 그룹별 평균 유사도를 활용하여 해당 그룹의 활동성을 분석합니다.\n",
    "- 분석 내용을 csv 파일에 저장합니다."
   ]
  },
  {
   "cell_type": "markdown",
   "metadata": {},
   "source": [
    "### 사전준비\n",
    "- functions.py 안에 mp4 파일 decoding 함수들을 import 한다\n",
    "- numpy를 import 한다"
   ]
  },
  {
   "cell_type": "code",
   "execution_count": null,
   "metadata": {},
   "outputs": [],
   "source": [
    "# ../my_flask/functions.py 에 미리 정의된 함수들을 import 한다\n",
    "from my_flask.functions import video_2_ndarray\n",
    "\n",
    "# numpy를 import 한다\n",
    "import numpy as np"
   ]
  },
  {
   "cell_type": "markdown",
   "metadata": {},
   "source": [
    "- mp4 file로부터 video array, 재생시간, frame개수 정보를 추출하기"
   ]
  },
  {
   "cell_type": "code",
   "execution_count": null,
   "metadata": {},
   "outputs": [],
   "source": [
    "\"\"\"\n",
    "함수 video_2_ndarray 를 사용하여 ../media/SampleVideo_640x360_5mb.mp4 의 video data를 ndarray 에 저장한다.\n",
    "video array, 재생시간, frame 개수를 저장\n",
    "\"\"\"\n",
    "video_array, tot_duration, tot_frames = video_2_ndarray('../media/SampleVideo_640x360_5mb.mp4')"
   ]
  },
  {
   "cell_type": "markdown",
   "metadata": {},
   "source": [
    "- 연속되는 두 frame들간의 유사도를 구해서 차례로 list에 저장"
   ]
  },
  {
   "cell_type": "code",
   "execution_count": null,
   "metadata": {},
   "outputs": [],
   "source": [
    "from numpy import dot\n",
    "from numpy.linalg import norm\n",
    "\n",
    "# cosine similatiry 함수\n",
    "def cos_sim(A, B):\n",
    "    return dot(A, B) / (norm(A) * norm(B))"
   ]
  },
  {
   "cell_type": "code",
   "execution_count": null,
   "metadata": {},
   "outputs": [],
   "source": [
    "prev_vector = None\n",
    "\n",
    "similarity_list = []\n",
    "\n",
    "for frame in video_array:\n",
    "\n",
    "    # 1차원으로 reshape\n",
    "    # 255로 나눔\n",
    "    # 50간격으로 sampling\n",
    "    current_vector = (frame.reshape(-1) / 255)[::50]\n",
    "    \n",
    "    if prev_vector is not None:\n",
    "        similarity = cos_sim(prev_vector, current_vector)\n",
    "        similarity_list.append(similarity)\n",
    "            \n",
    "    prev_vector = current_vector.copy()\n",
    "\n",
    "print('vector size : ',current_vector.shape)\n",
    "print('similarity_list : ',similarity_list)"
   ]
  },
  {
   "cell_type": "markdown",
   "metadata": {},
   "source": [
    "### 따라 해보기 #1. pandas를 사용하여 ndarray 정보를 csv파일에 저장하기"
   ]
  },
  {
   "cell_type": "markdown",
   "metadata": {},
   "source": [
    "- 2차원 이하의 array만 pandas DataFrame으로 변환될 수 있다. video array는 4차원이므로 불가"
   ]
  },
  {
   "cell_type": "code",
   "execution_count": null,
   "metadata": {},
   "outputs": [],
   "source": [
    "import pandas as pd\n",
    "\n",
    "# DataFrame 생성\n",
    "video_df = pd.DataFrame(video_array)"
   ]
  },
  {
   "cell_type": "markdown",
   "metadata": {},
   "source": [
    "- 4차원인 video array를 (height, width) = (200, 300)를 고정하여(2차원으로 변환하여) DataFrame 생성"
   ]
  },
  {
   "cell_type": "code",
   "execution_count": null,
   "metadata": {},
   "outputs": [],
   "source": [
    "# (height, width) = (200, 300) 번째 픽셀의 RGB 값 가져오기\n",
    "the_pixel = video_array[:, 200, 300, :]\n",
    "print('the_pixels의 차원 : ', the_pixel.ndim)"
   ]
  },
  {
   "cell_type": "code",
   "execution_count": null,
   "metadata": {},
   "outputs": [],
   "source": [
    "# 첫번째 차원은 행이되고 두번째 차원은 열이됨\n",
    "np_df = pd.DataFrame(the_pixel, columns=['R', 'G', 'B'])\n",
    "\n",
    "print(np_df)"
   ]
  },
  {
   "cell_type": "code",
   "execution_count": null,
   "metadata": {},
   "outputs": [],
   "source": [
    "np_df.plot()"
   ]
  },
  {
   "cell_type": "markdown",
   "metadata": {},
   "source": [
    "- DataFrame을 csv 파일로 내려 받기"
   ]
  },
  {
   "cell_type": "code",
   "execution_count": null,
   "metadata": {},
   "outputs": [],
   "source": [
    "csv = np_df.to_csv(path_or_buf = \"the_pixel.csv\", index=True)"
   ]
  },
  {
   "cell_type": "markdown",
   "metadata": {},
   "source": [
    "### 따라 해보기 #2. pandas를 사용하여 영상 grouping 하기\n",
    "- 유사도가 낮아지는 지점을 기준으로 grouping 하기"
   ]
  },
  {
   "cell_type": "markdown",
   "metadata": {},
   "source": [
    "- 유사도 DataFrame 생성"
   ]
  },
  {
   "cell_type": "code",
   "execution_count": null,
   "metadata": {},
   "outputs": [],
   "source": [
    "import pandas as pd\n",
    "\n",
    "# DataFrame 생성\n",
    "df = pd.DataFrame(similarity_list, columns=['similarity'])\n",
    "\n",
    "print(df)"
   ]
  },
  {
   "cell_type": "code",
   "execution_count": null,
   "metadata": {},
   "outputs": [],
   "source": [
    "df.plot()"
   ]
  },
  {
   "cell_type": "markdown",
   "metadata": {},
   "source": [
    "- 특정 유사도 값을 기준으로 '낮은 유사도'와 '높은 유사도' 두그룹으로 분할해보기"
   ]
  },
  {
   "cell_type": "code",
   "execution_count": null,
   "metadata": {},
   "outputs": [],
   "source": [
    "# 유사도 임계치 설정\n",
    "lower_sim_threshold = 0.9"
   ]
  },
  {
   "cell_type": "code",
   "execution_count": null,
   "metadata": {},
   "outputs": [],
   "source": [
    "# groupby 기준이 조건식이면 True와 False 두개로 grouping 된다.\n",
    "dfg = df.groupby((df['similarity'] < lower_sim_threshold))\n",
    "\n",
    "# 참고 : class 가 iterable인지 확인\n",
    "# print(hasattr(dfg, '__iter__'))\n",
    "\n",
    "# 참고 : iterable class의 첫번째 행보기\n",
    "# print(next(iter(dfg)))\n",
    "\n",
    "for group_number, group_df in dfg:\n",
    "    print('Group Name : ', group_number)\n",
    "    print(group_df)"
   ]
  },
  {
   "cell_type": "markdown",
   "metadata": {},
   "source": [
    "- 유사도 DataFrame에 2개 칼럼 추가\n",
    "\t- lower_sim : 유사도 임계치 이하 여부\n",
    "\t- cumsum : lower_sim의 누적 합계"
   ]
  },
  {
   "cell_type": "code",
   "execution_count": null,
   "metadata": {},
   "outputs": [],
   "source": [
    "# 출력 시 '...' 없이 전체 출력\n",
    "pd.set_option('display.max_rows', None)\n",
    "\n",
    "# 유사도가 임계치 이하면 True(1) 아니면 False(0)\n",
    "df['lower_sim'] = (df['similarity'] < lower_sim_threshold)\n",
    "\n",
    "#lower_sim의 누적합(Cumulative Sum)을 구함\n",
    "df['cumsum'] = df['lower_sim'].cumsum()\n",
    "\n",
    "# df 출력\n",
    "print(df)\n",
    "\n",
    "# 출력 시 30 rows 출력 후 '...' 처리\n",
    "pd.set_option('display.max_rows', 30)"
   ]
  },
  {
   "cell_type": "code",
   "execution_count": 25,
   "metadata": {},
   "outputs": [
    {
     "data": {
      "text/plain": [
       "<Axes: >"
      ]
     },
     "execution_count": 25,
     "metadata": {},
     "output_type": "execute_result"
    },
    {
     "data": {
      "image/png": "[encoded data removed]",
      "text/plain": [
       "<Figure size 640x480 with 1 Axes>"
      ]
     },
     "metadata": {},
     "output_type": "display_data"
    }
   ],
   "source": [
    "df.plot()"
   ]
  },
  {
   "cell_type": "markdown",
   "metadata": {},
   "source": [
    "- cumsum 을 기준으로 grouping\n",
    "    - 결과적으로 유사도가 낮은 순간(lower_sim_threshold 보다 작은 순간) group이 분할됨"
   ]
  },
  {
   "cell_type": "code",
   "execution_count": 26,
   "metadata": {},
   "outputs": [
    {
     "name": "stdout",
     "output_type": "stream",
     "text": [
      "Group Name :  0\n",
      "    similarity  lower_sim  cumsum\n",
      "0     0.996353      False       0\n",
      "1     0.996395      False       0\n",
      "2     0.995624      False       0\n",
      "3     0.994776      False       0\n",
      "4     0.993903      False       0\n",
      "5     0.993211      False       0\n",
      "6     0.992533      False       0\n",
      "7     0.999972      False       0\n",
      "8     0.991928      False       0\n",
      "9     0.991150      False       0\n",
      "10    0.977096      False       0\n",
      "11    0.990728      False       0\n",
      "12    0.992317      False       0\n",
      "13    0.992634      False       0\n",
      "14    0.983725      False       0\n",
      "15    0.991934      False       0\n",
      "16    0.992008      False       0\n",
      "17    0.991911      False       0\n",
      "18    0.982881      False       0\n",
      "19    0.994120      False       0\n",
      "20    0.995050      False       0\n",
      "21    0.994628      False       0\n",
      "22    0.978794      False       0\n",
      "23    0.989008      False       0\n",
      "24    0.989213      False       0\n",
      "25    0.991080      False       0\n",
      "26    0.984402      False       0\n",
      "27    0.999991      False       0\n",
      "28    0.993281      False       0\n",
      "29    0.993083      False       0\n",
      "Group Name :  1\n",
      "     similarity  lower_sim  cumsum\n",
      "30     0.804663       True       1\n",
      "31     0.999982      False       1\n",
      "32     0.999996      False       1\n",
      "33     0.999997      False       1\n",
      "34     0.999999      False       1\n",
      "..          ...        ...     ...\n",
      "178    0.999609      False       1\n",
      "179    0.999924      False       1\n",
      "180    0.999947      False       1\n",
      "181    0.999959      False       1\n",
      "182    0.999943      False       1\n",
      "\n",
      "[153 rows x 3 columns]\n",
      "Group Name :  2\n",
      "     similarity  lower_sim  cumsum\n",
      "183    0.845307       True       2\n",
      "184    0.999961      False       2\n",
      "185    0.999960      False       2\n",
      "186    0.999905      False       2\n",
      "187    0.999994      False       2\n",
      "..          ...        ...     ...\n",
      "291    0.986984      False       2\n",
      "292    0.986869      False       2\n",
      "293    0.986429      False       2\n",
      "294    0.977212      False       2\n",
      "295    0.994274      False       2\n",
      "\n",
      "[113 rows x 3 columns]\n",
      "Group Name :  3\n",
      "     similarity  lower_sim  cumsum\n",
      "296    0.858992       True       3\n",
      "297    0.999983      False       3\n",
      "298    0.999970      False       3\n",
      "299    0.999991      False       3\n",
      "300    0.999987      False       3\n",
      "..          ...        ...     ...\n",
      "329    0.999993      False       3\n",
      "330    0.999947      False       3\n",
      "331    0.999992      False       3\n",
      "332    0.999973      False       3\n",
      "333    0.999992      False       3\n",
      "\n",
      "[38 rows x 3 columns]\n",
      "Group Name :  4\n",
      "     similarity  lower_sim  cumsum\n",
      "334    0.740627       True       4\n",
      "335    0.999905      False       4\n",
      "336    0.999785      False       4\n",
      "337    0.999952      False       4\n",
      "338    0.999758      False       4\n",
      "..          ...        ...     ...\n",
      "372    0.999948      False       4\n",
      "373    0.999922      False       4\n",
      "374    0.999744      False       4\n",
      "375    0.999914      False       4\n",
      "376    0.999811      False       4\n",
      "\n",
      "[43 rows x 3 columns]\n",
      "Group Name :  5\n",
      "     similarity  lower_sim  cumsum\n",
      "377    0.680866       True       5\n",
      "378    0.998209      False       5\n",
      "379    0.999464      False       5\n",
      "380    0.999323      False       5\n",
      "381    0.999406      False       5\n",
      "..          ...        ...     ...\n",
      "413    0.996191      False       5\n",
      "414    0.990990      False       5\n",
      "415    0.997912      False       5\n",
      "416    0.998037      False       5\n",
      "417    0.998327      False       5\n",
      "\n",
      "[41 rows x 3 columns]\n",
      "Group Name :  6\n",
      "     similarity  lower_sim  cumsum\n",
      "418    0.771848       True       6\n",
      "419    0.988396      False       6\n",
      "420    0.987175      False       6\n",
      "421    0.985768      False       6\n",
      "422    0.972360      False       6\n",
      "..          ...        ...     ...\n",
      "483    0.988418      False       6\n",
      "484    0.988756      False       6\n",
      "485    0.989112      False       6\n",
      "486    0.974552      False       6\n",
      "487    0.999967      False       6\n",
      "\n",
      "[70 rows x 3 columns]\n"
     ]
    }
   ],
   "source": [
    "df_takes = df.groupby(df['cumsum'])\n",
    "\n",
    "for group_number, group_df in df_takes:\n",
    "    print('Group Name : ', group_number)\n",
    "    print(group_df)"
   ]
  },
  {
   "cell_type": "markdown",
   "metadata": {},
   "source": [
    "- Group별 시작 frame 번호, 종료 frame 번호, group 분할 시점의 유사도 조회"
   ]
  },
  {
   "cell_type": "code",
   "execution_count": 27,
   "metadata": {},
   "outputs": [
    {
     "name": "stdout",
     "output_type": "stream",
     "text": [
      "0 1 30 0.9770964243246925\n",
      "1 31 183 0.804662909689668\n",
      "2 184 296 0.8453070395907233\n",
      "3 297 334 0.8589918794939202\n",
      "4 335 377 0.7406269448657592\n",
      "5 378 418 0.6808655525334377\n",
      "6 419 488 0.7718479796650425\n"
     ]
    }
   ],
   "source": [
    "for group_number, group_df in df_takes:\n",
    "    min_frame_number = group_df.index.min()+1\n",
    "    max_frame_number = group_df.index.max()+1\n",
    "    min_similarity = group_df['similarity'].min()\n",
    "    print(group_number, min_frame_number, max_frame_number, min_similarity)"
   ]
  },
  {
   "cell_type": "markdown",
   "metadata": {},
   "source": [
    "- Group별 유사도 평균 계산\n",
    "    - 유사도 평균은 해당 Group의 영상이 얼마나 움직임이 많은지를 가늠함\n",
    "    - 좁은 범위에 조밀하게 분포한 값을 넓게 분포하도록 거듭제곱 변환 (Power Transformation)사용\n",
    "    - 1−x 변환을 이용해서 데이터의 범위를 [0, 1]로 유지하면서 값의 관점을 반대로 뒤집음"
   ]
  },
  {
   "cell_type": "code",
   "execution_count": 28,
   "metadata": {},
   "outputs": [
    {
     "name": "stdout",
     "output_type": "stream",
     "text": [
      "0.9919528601367872 0.8507866754367176 0.1492133245632824\n",
      "0.9990438849814886 0.9810503968891635 0.018949603110836488\n",
      "0.9923539087293849 0.8576926591372993 0.1423073408627007\n",
      "0.9999834293699692 0.9996686395654955 0.0003313604345045462\n",
      "0.9998346260059869 0.996697711193437 0.003302288806563025\n",
      "0.9917612768364581 0.8475063220058854 0.15249367799411462\n",
      "0.9892107511652373 0.8049641819961638 0.19503581800383618\n"
     ]
    }
   ],
   "source": [
    "for group_number, group_df in df_takes:\n",
    "\n",
    "    min_similarity = group_df['similarity'].min()\n",
    "\n",
    "    # 영상의 Take가 변경되는 지점의 similarity는 빼고 해당 Take(group DataFrame)의 similarity 평균을 구함\n",
    "    similarity_mean = group_df[group_df['similarity'] > min_similarity]['similarity'].mean()\n",
    "\n",
    "    # 1. 거듭제곱 변환 (Power Transformation)\n",
    "    # 좁은 범위에 조밀하게 분포한 값을 넓게 분포하도록 변환(20 거듭제곱)\n",
    "    # - data들이 0~1 사이 값이므로 거듭제곱 할수록 1에서 멀어지고 0 에 가까와짐. \n",
    "    # - data들이 1 근처에 조밀하게 분포하는 경우 효과적으로 분산시킴\n",
    "    # 2. 1−x 변환\n",
    "    # 데이터의 범위를 [0, 1]로 유지하면서 값의 관점을 반대로 뒤집음\n",
    "    # - 값이 클수록 동적인 영상, 작을수록 정적인 영상이됨\n",
    "    similarity_mean_power = similarity_mean**20\n",
    "    activity_intensity = 1 - similarity_mean_power\n",
    "    \n",
    "    print(similarity_mean, similarity_mean_power, activity_intensity)"
   ]
  },
  {
   "cell_type": "markdown",
   "metadata": {},
   "source": [
    "- Group별 frame개수, 시작시간, 재생시간 계산\n",
    "    - 사전준비 단계에서 구했던 tot_duration(재생시간), tot_frames(frame 개수) 사용하여 frame개수, 시작시간, 재생시간 항목 생성"
   ]
  },
  {
   "cell_type": "code",
   "execution_count": 29,
   "metadata": {},
   "outputs": [
    {
     "name": "stdout",
     "output_type": "stream",
     "text": [
      "30 0.05 1.5\n",
      "153 1.55 7.65\n",
      "113 9.2 5.65\n",
      "38 14.850000000000001 1.9000000000000001\n",
      "43 16.75 2.15\n",
      "41 18.9 2.05\n",
      "70 20.95 3.5\n"
     ]
    }
   ],
   "source": [
    "for group_number, group_df in df_takes:\n",
    "\n",
    "    min_frame_number = group_df.index.min()+1\n",
    "    max_frame_number = group_df.index.max()+1\n",
    "\n",
    "    frame_count = max_frame_number - min_frame_number + 1\n",
    "    start = tot_duration*(min_frame_number/tot_frames)\n",
    "    duration = tot_duration*(frame_count/tot_frames)\n",
    "\n",
    "    print(frame_count, start, duration)"
   ]
  },
  {
   "cell_type": "markdown",
   "metadata": {},
   "source": [
    "- Group DataFrame 생성"
   ]
  },
  {
   "cell_type": "code",
   "execution_count": 30,
   "metadata": {},
   "outputs": [
    {
     "name": "stdout",
     "output_type": "stream",
     "text": [
      "   group_number group_name  min_frame_number  max_frame_number  frame_count  \\\n",
      "0             0    Take #0                 1                30           30   \n",
      "1             1    Take #1                31               183          153   \n",
      "2             2    Take #2               184               296          113   \n",
      "3             3    Take #3               297               334           38   \n",
      "4             4    Take #4               335               377           43   \n",
      "5             5    Take #5               378               418           41   \n",
      "6             6    Take #6               419               488           70   \n",
      "\n",
      "   start duration  min_similarity  activity_intensity  \n",
      "0   0.05     1.50        0.977096            0.149213  \n",
      "1   1.55     7.65        0.804663            0.018950  \n",
      "2   9.20     5.65        0.845307            0.142307  \n",
      "3  14.85     1.90        0.858992            0.000331  \n",
      "4  16.75     2.15        0.740627            0.003302  \n",
      "5  18.90     2.05        0.680866            0.152494  \n",
      "6  20.95     3.50        0.771848            0.195036  \n"
     ]
    }
   ],
   "source": [
    "# 사전준비 단계에 구했던 tot_duration(재생시간), tot_frames(frame 개수) 사용\n",
    "\n",
    "groups = []\n",
    "\n",
    "for group_number, group_df in df_takes:\n",
    "\n",
    "    min_frame_number = group_df.index.min()+1\n",
    "    max_frame_number = group_df.index.max()+1\n",
    "    min_similarity = group_df['similarity'].min()\n",
    "\n",
    "    activity_intensity = 1 - group_df[group_df['similarity'] >\\\n",
    "                                min_similarity]['similarity'].mean()**20\n",
    "\n",
    "    frame_count = max_frame_number - min_frame_number + 1\n",
    "    start = tot_duration*(min_frame_number/tot_frames)\n",
    "    duration = tot_duration*(frame_count/tot_frames)\n",
    "\n",
    "    # dictionary를 append하는 경우 key값이 column명이 됨\n",
    "    groups.append({\n",
    "        'group_number': group_number,\n",
    "        'group_name': f\"Take #{group_number}\",\n",
    "        'min_frame_number': min_frame_number,\n",
    "        'max_frame_number': max_frame_number,\n",
    "        'frame_count' : frame_count,\n",
    "        'start' : \"{:.2f}\".format(start),\n",
    "        'duration' : \"{:.2f}\".format(duration),\n",
    "        'min_similarity': min_similarity,\n",
    "        'activity_intensity':activity_intensity\n",
    "    })\n",
    "\n",
    "# group 정보로 DataFrame 생성\n",
    "group_df = pd.DataFrame(groups)\n",
    "\n",
    "print(group_df)"
   ]
  },
  {
   "cell_type": "markdown",
   "metadata": {},
   "source": [
    "- DataFrame을 csv파일에 저장"
   ]
  },
  {
   "cell_type": "code",
   "execution_count": 31,
   "metadata": {},
   "outputs": [],
   "source": [
    "csv = group_df.to_csv(path_or_buf = \"video_grouping.csv\", \n",
    "                      columns=[\n",
    "                          'group_name', \n",
    "                          'frame_count', \n",
    "                          'start', \n",
    "                          'duration', \n",
    "                          'min_frame_number', \n",
    "                          'max_frame_number', \n",
    "                          'activity_intensity',\n",
    "                          'min_similarity', \n",
    "                          ], \n",
    "                      index=False)"
   ]
  },
  {
   "cell_type": "markdown",
   "metadata": {},
   "source": []
  }
 ],
 "metadata": {
  "kernelspec": {
   "display_name": "Python 3",
   "language": "python",
   "name": "python3"
  },
  "language_info": {
   "codemirror_mode": {
    "name": "ipython",
    "version": 3
   },
   "file_extension": ".py",
   "mimetype": "text/x-python",
   "name": "python",
   "nbconvert_exporter": "python",
   "pygments_lexer": "ipython3",
   "version": "3.10.12"
  }
 },
 "nbformat": 4,
 "nbformat_minor": 2
}
