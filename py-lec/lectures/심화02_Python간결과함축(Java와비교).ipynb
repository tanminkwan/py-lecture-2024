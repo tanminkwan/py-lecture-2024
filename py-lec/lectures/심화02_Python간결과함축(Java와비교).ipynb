{
 "cells": [
  {
   "cell_type": "markdown",
   "metadata": {},
   "source": [
    "## Python vs Java code 비교\n",
    "\n",
    "- Python와 Java 등 대부분의 Programming 언어가 간결, 함축, 높은 가독성을 위해 발전해 왔습니다. 이를 위한 coding 기법 별로 Python와 Java 둘의 code를 비교해보겠습니다.\n",
    "### 1. 리스트 컴프리헨션 (Java의 스트림 API 활용)"
   ]
  },
  {
   "cell_type": "markdown",
   "metadata": {},
   "source": [
    "- Java\n",
    "```java\n",
    "import java.util.Arrays;\n",
    "import java.util.List;\n",
    "import java.util.stream.Collectors;\n",
    "\n",
    "List<Integer> numbers = Arrays.asList(1, 2, 3, 4, 5);\n",
    "List<Integer> squaredNumbers = numbers.stream()\n",
    "                                    .map(x -> x * x)\n",
    "                                    .collect(Collectors.toList());\n",
    "```"
   ]
  },
  {
   "cell_type": "markdown",
   "metadata": {},
   "source": [
    "- Python"
   ]
  },
  {
   "cell_type": "code",
   "execution_count": null,
   "metadata": {},
   "outputs": [],
   "source": [
    "numbers = [1, 2, 3, 4, 5]\n",
    "squared_numbers = [x**2 for x in numbers]"
   ]
  },
  {
   "cell_type": "markdown",
   "metadata": {},
   "source": [
    "### 2. 문자열 포맷팅 (Java의 String.format)\n",
    "\n",
    "- Java\n",
    "```java\n",
    "String name = \"Alice\";\n",
    "int age = 30;\n",
    "String message = String.format(\"Hello, %s. You are %d years old.\", name, age);\n",
    "```"
   ]
  },
  {
   "cell_type": "markdown",
   "metadata": {},
   "source": [
    "- Python"
   ]
  },
  {
   "cell_type": "code",
   "execution_count": null,
   "metadata": {},
   "outputs": [],
   "source": [
    "name = \"Alice\"\n",
    "age = 30\n",
    "message = f\"Hello, {name}. You are {age} years old.\""
   ]
  },
  {
   "cell_type": "markdown",
   "metadata": {},
   "source": [
    "### 3. 딕셔너리 초기화 (Java의 Map.of)\n",
    "\n",
    "- Java\n",
    "```java\n",
    "import java.util.Map;\n",
    "\n",
    "Map<String, Integer> scores = Map.of(\n",
    "    \"Math\", 90,\n",
    "    \"English\", 85,\n",
    "    \"History\", 88\n",
    "    );\n",
    "```"
   ]
  },
  {
   "cell_type": "markdown",
   "metadata": {},
   "source": [
    "- Python"
   ]
  },
  {
   "cell_type": "code",
   "execution_count": null,
   "metadata": {},
   "outputs": [],
   "source": [
    "scores = {\n",
    "    \"Math\": 90,\n",
    "    \"English\": 85,\n",
    "    \"History\": 88\n",
    "}"
   ]
  },
  {
   "cell_type": "markdown",
   "metadata": {},
   "source": [
    "### 4. 리스트 슬라이싱(list slicing)\n",
    "\n",
    "- Java\n",
    "```java\n",
    "import java.util.Arrays;\n",
    "\n",
    "int[] myArray = {1, 2, 3, 4, 5};\n",
    "\n",
    "// 첫 번째부터 세 번째(인덱스 2까지)까지 슬라이싱\n",
    "int[] slice1 = Arrays.copyOfRange(myArray, 0, 3);\n",
    "System.out.println(Arrays.toString(slice1));  // 출력: [1, 2, 3]\n",
    "\n",
    "// 끝에서 세 번째부터 끝까지 슬라이싱\n",
    "int[] slice2 = Arrays.copyOfRange(myArray, myArray.length - 3, myArray.length);\n",
    "System.out.println(Arrays.toString(slice2));  // 출력: [3, 4, 5]\n",
    "\n",
    "// 시작부터 끝까지, 두 칸씩 건너뛰며 슬라이싱\n",
    "int[] slice3 = Arrays.copyOfRange(myArray, 0, myArray.length, 2);\n",
    "System.out.println(Arrays.toString(slice3));  // 출력: [1, 3, 5]\n",
    "```"
   ]
  },
  {
   "cell_type": "markdown",
   "metadata": {},
   "source": [
    "- Python"
   ]
  },
  {
   "cell_type": "code",
   "execution_count": null,
   "metadata": {},
   "outputs": [],
   "source": [
    "my_list = [1, 2, 3, 4, 5]\n",
    "\n",
    "# 첫 번째부터 세 번째(인덱스 2까지)까지 슬라이싱\n",
    "slice1 = my_list[0:3]\n",
    "print(slice1)  # 출력: [1, 2, 3]\n",
    "\n",
    "# 끝에서 세 번째부터 끝까지 슬라이싱\n",
    "slice2 = my_list[-3:]\n",
    "print(slice2)  # 출력: [3, 4, 5]\n",
    "\n",
    "# 시작부터 끝까지, 두 칸씩 건너뛰며 슬라이싱\n",
    "slice3 = my_list[::2]\n",
    "print(slice3)  # 출력: [1, 3, 5]"
   ]
  },
  {
   "cell_type": "markdown",
   "metadata": {},
   "source": [
    "### 5. key 리스트와 value 리스트를 머지하여 Map 만들기\n",
    "- Java\n",
    "```java\n",
    "import java.util.*;\n",
    "\n",
    "public class ListToMap {\n",
    "    public static void main(String[] args) {\n",
    "        // 주어진 리스트들\n",
    "        List<String> list1 = Arrays.asList(\"a\", \"b\", \"c\");\n",
    "        List<Integer> list2 = Arrays.asList(1, 2, 3);\n",
    "\n",
    "        // 새로운 Map 생성\n",
    "        Map<String, Integer> resultDict = new HashMap<>();\n",
    "\n",
    "        // 리스트들의 길이가 같다고 가정\n",
    "        for (int i = 0; i < list1.size(); i++) {\n",
    "            resultDict.put(list1.get(i), list2.get(i));\n",
    "        }\n",
    "\n",
    "        // 결과 출력\n",
    "        System.out.println(resultDict);\n",
    "    }\n",
    "}\n",
    "```"
   ]
  },
  {
   "cell_type": "markdown",
   "metadata": {},
   "source": [
    "- Python"
   ]
  },
  {
   "cell_type": "code",
   "execution_count": null,
   "metadata": {},
   "outputs": [],
   "source": [
    "list1 = ['a', 'b', 'c']\n",
    "list2 = [1, 2, 3]\n",
    "\n",
    "# 두 리스트를 딕셔너리로 변환\n",
    "result_dict = dict(zip(list1, list2))\n",
    "print(result_dict)"
   ]
  },
  {
   "cell_type": "markdown",
   "metadata": {},
   "source": [
    "### 6. 2~100 사이 소수(prime number) 모두 구하기\n",
    "\n",
    "- Java\n",
    "```java\n",
    "import java.util.List;\n",
    "import java.util.stream.Collectors;\n",
    "import java.util.stream.IntStream;\n",
    "\n",
    "public class Main {\n",
    "    public static void main(String[] args) {\n",
    "        List<Integer> primeNumbers = IntStream.rangeClosed(2, 100)\n",
    "                .filter(Main::isPrime)\n",
    "                .boxed()\n",
    "                .collect(Collectors.toList());\n",
    "\n",
    "        System.out.println(primeNumbers);\n",
    "    }\n",
    "\n",
    "    public static boolean isPrime(int num) {\n",
    "        if (num <= 1) {\n",
    "            return false;\n",
    "        }\n",
    "        for (int i = 2; i <= Math.sqrt(num); i++) {\n",
    "            if (num % i == 0) {\n",
    "                return false;\n",
    "            }\n",
    "        }\n",
    "        return true;\n",
    "    }\n",
    "}\n",
    "```"
   ]
  },
  {
   "cell_type": "markdown",
   "metadata": {},
   "source": [
    "- Python"
   ]
  },
  {
   "cell_type": "code",
   "execution_count": null,
   "metadata": {},
   "outputs": [],
   "source": [
    "prime_numbers = [num for num in range(2, 101) \\\n",
    "                 if all(num % i != 0 for i in range(2, int(num**0.5) + 1))]\n",
    "\n",
    "print(prime_numbers)"
   ]
  },
  {
   "cell_type": "markdown",
   "metadata": {},
   "source": [
    "## Wrap up\n",
    "- Python과 Java의 문법적 차이를 통해 Python이 간결함과 가독성에서 비교 우위에 있음을 확인했습니다."
   ]
  }
 ],
 "metadata": {
  "kernelspec": {
   "display_name": "Python 3",
   "language": "python",
   "name": "python3"
  },
  "language_info": {
   "codemirror_mode": {
    "name": "ipython",
    "version": 3
   },
   "file_extension": ".py",
   "mimetype": "text/x-python",
   "name": "python",
   "nbconvert_exporter": "python",
   "pygments_lexer": "ipython3",
   "version": "3.10.12"
  }
 },
 "nbformat": 4,
 "nbformat_minor": 2
}
