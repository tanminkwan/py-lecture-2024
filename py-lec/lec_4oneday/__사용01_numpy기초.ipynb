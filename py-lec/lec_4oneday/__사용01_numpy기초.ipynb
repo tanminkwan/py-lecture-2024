{
 "cells": [
  {
   "cell_type": "markdown",
   "metadata": {},
   "source": [
    "# NumPy 란\n",
    "- Numpy는 파이썬의 고성능 과학 계산을 위한 라이브러리로, 다차원 배열을 효율적으로 처리합니다. \n",
    "- 주로 데이터 분석, 머신러닝, 과학 연구, 엔지니어링 분야에서 활용됩니다."
   ]
  },
  {
   "cell_type": "markdown",
   "metadata": {},
   "source": [
    "# NumPy 기본 사용법\n",
    "### 1. NumPy 라이브러리 가져오기\n",
    "\n",
    "- NumPy를 사용하기 위해서는 먼저 라이브러리를 import 해야 합니다."
   ]
  },
  {
   "cell_type": "code",
   "execution_count": 1,
   "metadata": {},
   "outputs": [],
   "source": [
    "import numpy as np"
   ]
  },
  {
   "cell_type": "markdown",
   "metadata": {},
   "source": [
    "### 2. ndarray(N-dimensional array) 생성하기\n",
    "- **ndarray**는 NumPy의 다차원 배열로, 수치 데이터를 효율적으로 저장하고 연산하기 위한 핵심 데이터 구조입니다. 동형 데이터(모든 요소가 같은 타입)를 가지며, 벡터화된 연산과 브로드캐스팅을 통해 반복문 없이 대규모 데이터를 빠르게 처리할 수 있습니다. 다양한 인덱싱, 슬라이싱, 배열 모양 변경 기능을 제공하며, 고성능 수학 연산을 지원합니다.\n",
    "- **ndarray** 예\n",
    "- ![Alt text for broken image link](../resources/ndarray.png)"
   ]
  },
  {
   "cell_type": "markdown",
   "metadata": {},
   "source": [
    "#### 2-1. binary 파일(비정형Data)을 읽어서 ndarray로 변환"
   ]
  },
  {
   "cell_type": "code",
   "execution_count": 2,
   "metadata": {},
   "outputs": [
    {
     "name": "stdout",
     "output_type": "stream",
     "text": [
      "data 길이 40000 byte, data 일부 발췌 : b'd\\x14\\x10>Q2r>\\xb0\\x96O?\\x8c\\xcb\\x03=\\x89Vq?'\n"
     ]
    }
   ],
   "source": [
    "# 파일을 바이너리 모드로 열기\n",
    "f = open('../resources/data.bin', 'rb')\n",
    "bin_data = f.read() # binary type의 data\n",
    "# 파일 닫기\n",
    "f.close()\n",
    "\n",
    "print(f\"data 길이 {len(bin_data)} byte, data 일부 발췌 : {bin_data[:20]}\")"
   ]
  },
  {
   "cell_type": "code",
   "execution_count": 3,
   "metadata": {},
   "outputs": [
    {
     "name": "stdout",
     "output_type": "stream",
     "text": [
      "[0.14070278 0.23652007 0.81089306 ... 0.7500107  0.33982688 0.48760268]\n",
      "10000\n",
      "<class 'numpy.ndarray'>\n"
     ]
    }
   ],
   "source": [
    "# float32 타입의 ndarray로 변환\n",
    "# - 32bit(4byte) 길이의 float type의 data로 구성\n",
    "np_data = np.frombuffer(bin_data, dtype=np.float32)\n",
    "\n",
    "print(np_data)\n",
    "print(np_data.size)\n",
    "print(type(np_data))"
   ]
  },
  {
   "cell_type": "markdown",
   "metadata": {},
   "source": [
    "#### 2-2. list를 ndarray 형태로 변환"
   ]
  },
  {
   "cell_type": "code",
   "execution_count": 4,
   "metadata": {},
   "outputs": [
    {
     "name": "stdout",
     "output_type": "stream",
     "text": [
      "[1 2 3 4 5]\n",
      "<class 'numpy.ndarray'>\n"
     ]
    }
   ],
   "source": [
    "# 1차원 list\n",
    "list_1d = [1, 2, 3, 4, 5]\n",
    "\n",
    "arr_1d = np.array(list_1d)\n",
    "\n",
    "print(arr_1d)\n",
    "# 출력: [1 2 3 4 5]\n",
    "\n",
    "print(type(arr_1d))\n",
    "# 출력: <class 'numpy.ndarray'>"
   ]
  },
  {
   "cell_type": "code",
   "execution_count": 5,
   "metadata": {},
   "outputs": [
    {
     "name": "stdout",
     "output_type": "stream",
     "text": [
      "[[1 2 3]\n",
      " [4 5 6]\n",
      " [7 8 9]]\n"
     ]
    }
   ],
   "source": [
    "# 2차원 list\n",
    "list_2d = [[1, 2, 3], [4, 5, 6], [7, 8, 9]]\n",
    "\n",
    "arr_2d = np.array(list_2d)\n",
    "print(arr_2d)\n",
    "# 출력:\n",
    "# [[1 2 3]\n",
    "#  [4 5 6]\n",
    "#  [7 8 9]]"
   ]
  },
  {
   "cell_type": "markdown",
   "metadata": {},
   "source": [
    "#### 2-3. ndarray 배열 요소(element)의 데이터 타입(Type) 확인 또는 지정"
   ]
  },
  {
   "cell_type": "code",
   "execution_count": 6,
   "metadata": {},
   "outputs": [
    {
     "name": "stdout",
     "output_type": "stream",
     "text": [
      "int32\n"
     ]
    }
   ],
   "source": [
    "print(arr_2d.dtype)  # 배열 요소의 데이터 타입 반환\n",
    "# 출력: int64 (integer 64bit)"
   ]
  },
  {
   "cell_type": "code",
   "execution_count": 7,
   "metadata": {},
   "outputs": [
    {
     "name": "stdout",
     "output_type": "stream",
     "text": [
      "uint8\n"
     ]
    }
   ],
   "source": [
    "arr_2d_uint8 = np.array(list_2d, dtype='uint8')\n",
    "\n",
    "print(arr_2d_uint8.dtype)  # 배열 요소의 데이터 타입 반환\n",
    "# 출력: uint8 (unsigned integer 8bit)\n"
   ]
  },
  {
   "cell_type": "markdown",
   "metadata": {},
   "source": [
    "### 3. 배열 속성 확인\n",
    "\n",
    "- ndarray 객체의 다양한 속성을 확인할 수 있습니다."
   ]
  },
  {
   "cell_type": "code",
   "execution_count": 8,
   "metadata": {},
   "outputs": [
    {
     "name": "stdout",
     "output_type": "stream",
     "text": [
      "(3, 3)\n",
      "2\n",
      "9\n",
      "int32\n"
     ]
    }
   ],
   "source": [
    "\"\"\" \n",
    "arr_2d =\n",
    " [[1 2 3]\n",
    "  [4 5 6]\n",
    "  [7 8 9]]\n",
    "\"\"\"\n",
    "print(arr_2d.shape)  # 배열의 형태를 튜플로 반환\n",
    "# 출력: (3, 3)\n",
    "\n",
    "print(arr_2d.ndim)   # 배열의 차원 수 반환\n",
    "# 출력: 2\n",
    "\n",
    "print(arr_2d.size)   # 배열의 데이터 개수 반환\n",
    "# 출력: 9\n",
    "\n",
    "print(arr_2d.dtype)  # 배열 데이터 타입 반환\n",
    "# 출력: int64"
   ]
  },
  {
   "cell_type": "code",
   "execution_count": 9,
   "metadata": {},
   "outputs": [
    {
     "name": "stdout",
     "output_type": "stream",
     "text": [
      "(3,)\n",
      "1\n",
      "3\n",
      "int32\n"
     ]
    }
   ],
   "source": [
    "\"\"\" \n",
    "arr_2d[0] = [1 2 3]\n",
    "\"\"\"\n",
    "\n",
    "print(arr_2d[0].shape)  # 배열의 형태를 튜플로 반환\n",
    "# 출력: (3,)\n",
    "\n",
    "print(arr_2d[0].ndim)   # 배열의 차원 수 반환\n",
    "# 출력: 1\n",
    "\n",
    "print(arr_2d[0].size)   # 배열의 데이터 개수 반환\n",
    "# 출력: 3\n",
    "\n",
    "print(arr_2d[0].dtype)  # 배열 데이터 타입 반환\n",
    "# 출력: int64"
   ]
  },
  {
   "cell_type": "markdown",
   "metadata": {},
   "source": [
    "### 4. 같은 형태(Shape) 배열 연산\n",
    "- 같은 형태(Shape)를 가진 NumPy 배열간 요소별 연산이 가능합니다."
   ]
  },
  {
   "cell_type": "code",
   "execution_count": 10,
   "metadata": {},
   "outputs": [
    {
     "name": "stdout",
     "output_type": "stream",
     "text": [
      "arr1 : [1 2 3 4], arr2 : [5 6 7 8]\n",
      "add : [ 6  8 10 12]\n",
      "mul : [ 5 12 21 32]\n"
     ]
    }
   ],
   "source": [
    "arr1 = np.array([1, 2, 3, 4])\n",
    "arr2 = np.array([5, 6, 7, 8])\n",
    "print(f\"arr1 : {arr1}, arr2 : {arr2}\")\n",
    "# 출력: arr1 : [1 2 3 4], arr2 : [5 6 7 8]\n",
    "\n",
    "# 덧셈\n",
    "result_add = arr1 + arr2\n",
    "print(f'add : {result_add}')\n",
    "# 출력: [ 6  8 10 12]\n",
    "\n",
    "# 곱셈\n",
    "result_mul = arr1 * arr2\n",
    "print(f'mul : {result_mul}')\n",
    "# 출력: [ 5 12 21 32]"
   ]
  },
  {
   "cell_type": "markdown",
   "metadata": {},
   "source": [
    "### 5. 배열과 스칼라(Scala)간 연산\n",
    "- ndarray와 스칼라(Scala)간 연산이 가능합니다."
   ]
  },
  {
   "cell_type": "code",
   "execution_count": 11,
   "metadata": {},
   "outputs": [],
   "source": [
    "import numpy as np\n",
    "\n",
    "# 1차원 배열 생성\n",
    "arr = np.array([1, 2, 3, 4, 5])\n",
    "\n",
    "# 스칼라 값\n",
    "scalar = 10"
   ]
  },
  {
   "cell_type": "code",
   "execution_count": 12,
   "metadata": {},
   "outputs": [
    {
     "name": "stdout",
     "output_type": "stream",
     "text": [
      "배열과 스칼라 덧셈:\n",
      "[11 12 13 14 15]\n"
     ]
    }
   ],
   "source": [
    "# 배열과 스칼라 덧셈\n",
    "result_add = arr + scalar\n",
    "# (참고) 명시적 메소드 호출 : arr.__add__(scalar)\n",
    "\n",
    "print(\"배열과 스칼라 덧셈:\")\n",
    "print(result_add)\n",
    "# 출력: [11 12 13 14 15]"
   ]
  },
  {
   "cell_type": "code",
   "execution_count": null,
   "metadata": {},
   "outputs": [],
   "source": [
    "# 배열에서 스칼라 값 빼기\n",
    "result_sub1 = arr - scalar\n",
    "\n",
    "print(\"배열에서 스칼라 값 빼기:\")\n",
    "print(result_sub1)\n",
    "# 출력: [-9 -8 -7 -6 -5]"
   ]
  },
  {
   "cell_type": "code",
   "execution_count": null,
   "metadata": {},
   "outputs": [],
   "source": [
    "# 스칼라 값에서 배열 빼기\n",
    "result_sub2 = scalar - arr\n",
    "# (참고) 명시적 메소드 호출 : arr.__rsub__(scalar)\n",
    "\n",
    "print(\"스칼라 값에서 배열 빼기:\")\n",
    "print(result_sub2)\n",
    "# 출력: [9 8 7 6 5]"
   ]
  },
  {
   "cell_type": "code",
   "execution_count": null,
   "metadata": {},
   "outputs": [],
   "source": [
    "# 배열과 스칼라 곱셈\n",
    "result_mul = arr * scalar\n",
    "\n",
    "print(\"배열과 스칼라 곱셈:\")\n",
    "print(result_mul)\n",
    "# 출력: [10 20 30 40 50]\n",
    "\n",
    "# 배열과 스칼라 나눗셈\n",
    "result_div = arr / scalar\n",
    "\n",
    "print(\"배열과 스칼라 나눗셈:\")\n",
    "print(result_div)\n",
    "# 출력: [0.1 0.2 0.3 0.4 0.5]\n",
    "\n",
    "# 배열과 스칼라 지수 연산\n",
    "result_pow = arr ** scalar\n",
    "\n",
    "print(\"배열과 스칼라 지수 연산:\")\n",
    "print(result_pow)\n",
    "# 출력: [    1   100  1000 10000 100000]"
   ]
  },
  {
   "cell_type": "markdown",
   "metadata": {},
   "source": [
    "### 6. 인덱싱과 슬라이싱\n",
    "- ndarray는 파이썬 리스트처럼 인덱싱과 슬라이싱이 가능합니다."
   ]
  },
  {
   "cell_type": "code",
   "execution_count": 16,
   "metadata": {},
   "outputs": [
    {
     "name": "stdout",
     "output_type": "stream",
     "text": [
      "1\n",
      "[2 3 4]\n"
     ]
    }
   ],
   "source": [
    "# 1차원 배열에서의 인덱싱과 슬라이싱\n",
    "arr = np.array([1, 2, 3, 4, 5])\n",
    "\n",
    "# 인덱싱\n",
    "print(arr[0])\n",
    "# (참고) 명시적 메소드 호출 : arr.__getitem__(0)\n",
    "# 출력: 1\n",
    "\n",
    "# 슬라이싱\n",
    "print(arr[1:4])\n",
    "# (참고) 명시적 메소드 호출 : arr.__getitem__((slice(1, 4)))\n",
    "# 출력: [2 3 4]"
   ]
  },
  {
   "cell_type": "code",
   "execution_count": null,
   "metadata": {},
   "outputs": [],
   "source": [
    "# 2차원 배열에서의 인덱싱과 슬라이싱\n",
    "arr_2d = np.array([[1, 2, 3], [4, 5, 6], [7, 8, 9]])\n",
    "\n",
    "print(arr_2d[1, 2])  # 1행 2열 요소\n",
    "# (참고) 명시적 메소드 호출 : arr_2d.__getitem__((1, 2))\n",
    "# 출력: 6\n",
    "\n",
    "print(arr_2d[:2, 1:])  # 0~1행, 1~2열 슬라이싱\n",
    "# (참고) 명시적 메소드 호출 : arr_2d.__getitem__((slice(None, 2), slice(1, None)))\n",
    "# 출력:\n",
    "# [[2 3]\n",
    "#  [5 6]]"
   ]
  },
  {
   "cell_type": "code",
   "execution_count": null,
   "metadata": {},
   "outputs": [],
   "source": [
    "# 인덱싱과 슬라이싱 혼합 (인텍싱을 하면 차원(ndim)이 줄어드는 것에 주목)\n",
    "arr_2d = np.array([[1, 2, 3], [4, 5, 6], [7, 8, 9]])\n",
    "\n",
    "arr_mixed = arr_2d[1, 1:] # 1행 고정, 1~2열 슬라이싱\n",
    "# (참고) 명시적 메소드 호출 : arr_2d.__getitem__((1, slice(1, None)))\n",
    "\n",
    "print(arr_mixed.ndim, arr_mixed)\n",
    "# 출력:\n",
    "# 1 [5 6]"
   ]
  },
  {
   "cell_type": "markdown",
   "metadata": {},
   "source": [
    "- 문제"
   ]
  },
  {
   "cell_type": "code",
   "execution_count": null,
   "metadata": {},
   "outputs": [],
   "source": [
    "\"\"\"\n",
    "문제 :\n",
    "    ndarray 변수 arr_44 를 slicing해서\n",
    "    [[6 7], [10 11]] 를 만들어서 변수 arr_22 에 할당하세요\n",
    "\n",
    "예상 출력:\n",
    "    [[6 7]\n",
    "     [10 11]]\n",
    "\"\"\" \n",
    "arr_44 = np.array([[1, 2, 3, 4],\n",
    "                   [5, 6, 7, 8],\n",
    "                   [9, 10, 11, 12],\n",
    "                   [13, 14, 15, 16]])\n",
    "\n",
    "arr_22 = arr_44[...]\n",
    "\n",
    "print(arr_22)"
   ]
  },
  {
   "cell_type": "markdown",
   "metadata": {},
   "source": [
    "### 7. ndarray 생성 시 값 지정\n",
    "#### 7-1. 고정값 지정"
   ]
  },
  {
   "cell_type": "code",
   "execution_count": null,
   "metadata": {},
   "outputs": [],
   "source": [
    "# 0으로 채워진 배열 생성\n",
    "zeros_arr = np.zeros((2, 3))\n",
    "print(zeros_arr)\n",
    "# 출력:\n",
    "# [[0. 0. 0.]\n",
    "#  [0. 0. 0.]]\n",
    "\n",
    "ones_arr = np.ones((3, 2))\n",
    "print(ones_arr)\n",
    "# 출력:\n",
    "# [[1. 1.]\n",
    "#  [1. 1.]\n",
    "#  [1. 1.]]\n",
    "\n",
    "# 2x3 형태의 2차원 배열을 5로 채움\n",
    "arr_2d_five = np.full((2, 3), 5)\n",
    "print(arr_2d_five)\n",
    "# 출력:\n",
    "# [[5 5 5]\n",
    "#  [5 5 5]]"
   ]
  },
  {
   "cell_type": "markdown",
   "metadata": {},
   "source": [
    "#### 7-2.  랜덤(random)값 지정"
   ]
  },
  {
   "cell_type": "code",
   "execution_count": null,
   "metadata": {},
   "outputs": [],
   "source": [
    "# 1. 실수 난수 생성\n",
    "# 0부터 1 사이의 실수로 이루어진 1차원 배열\n",
    "random_floats = np.random.rand(5)\n",
    "print(random_floats)\n",
    "# 출력: [0.48772369 0.32645563 0.93481944 0.60790383 0.19452714]\n",
    "\n",
    "# 2x3 형태의 2차원 배열\n",
    "random_floats_2d = np.random.rand(2, 3)\n",
    "print(random_floats_2d)\n",
    "# 출력:\n",
    "# [[0.42448742 0.75828409 0.83611169]\n",
    "#  [0.54386223 0.81086794 0.81912079]]\n",
    "\n",
    "# 2. 정수 난수 생성\n",
    "# 0에서 9 사이의 정수로 이루어진 1차원 배열\n",
    "random_ints = np.random.randint(0, 10, size=5)\n",
    "print(random_ints)\n",
    "# 출력: [6 0 4 9 6]\n",
    "\n",
    "# 1에서 20 사이의 정수로 이루어진 2x3 형태의 2차원 배열\n",
    "random_ints_2d = np.random.randint(1, 21, size=(2, 3))\n",
    "print(random_ints_2d)\n",
    "# 출력:\n",
    "# [[ 5  4  8]\n",
    "#  [16 10 11]]"
   ]
  },
  {
   "cell_type": "markdown",
   "metadata": {},
   "source": [
    "### 8. 배열 형태 변경(reshape)\n",
    "- reshape 함수는 NumPy 배열의 형태(모양)를 변경할 때 사용됩니다. 즉, 배열의 차원을 바꾸거나, 행과 열의 개수를 조절할 수 있습니다.\n",
    "#### 8-1. 차원 변경"
   ]
  },
  {
   "cell_type": "code",
   "execution_count": null,
   "metadata": {},
   "outputs": [],
   "source": [
    "arr_1d = np.array([1, 2, 3, 4, 5, 6])\n",
    "arr_2d = arr_1d.reshape(2, 3)\n",
    "\n",
    "print(\"2차원 배열:\")\n",
    "print(arr_2d)\n",
    "# 출력:\n",
    "# [[1 2 3]\n",
    "#  [4 5 6]]"
   ]
  },
  {
   "cell_type": "code",
   "execution_count": null,
   "metadata": {},
   "outputs": [],
   "source": [
    "# shape (2, 3, 2)\n",
    "arr_3d = np.array([[[1, 2],\n",
    "                    [3, 4],\n",
    "                    [5, 6]],\n",
    "                   \n",
    "                   [[7, 8],\n",
    "                    [9, 10],\n",
    "                    [11, 12]]])\n",
    "\n",
    "arr_2d_reshaped = arr_3d.reshape(3, 4)\n",
    "\n",
    "print(\"arr_2d_reshaped shape:\", arr_2d_reshaped.shape)\n",
    "print(arr_2d_reshaped)\n",
    "# 출력:\n",
    "# [[ 1  2  3  4]\n",
    "#  [ 5  6  7  8]\n",
    "#  [ 9 10 11 12]]"
   ]
  },
  {
   "cell_type": "markdown",
   "metadata": {},
   "source": [
    "#### 8-2. `-1`을 사용한 자동 계산"
   ]
  },
  {
   "cell_type": "code",
   "execution_count": null,
   "metadata": {},
   "outputs": [],
   "source": [
    "arr = np.array([1, 2, 3, 4, 5, 6, 7, 8, 9, 10, 11, 12])\n",
    "arr_reshaped = arr.reshape(2, -1, 3)\n",
    "# arr_reshaped의 shape 항목들의 곱(2 * x * 3) = arr의 shape 항목들의 곱(12)\n",
    "# => x = 2\n",
    "\n",
    "print(\"3차원 배열:\")\n",
    "print(arr_reshaped)\n",
    "# 출력:\n",
    "#[[[ 1  2  3]\n",
    "#  [ 4  5  6]]\n",
    "# [[ 7  8  9]\n",
    "#  [10 11 12]]]\n"
   ]
  },
  {
   "cell_type": "code",
   "execution_count": null,
   "metadata": {},
   "outputs": [],
   "source": [
    "arr.shape"
   ]
  },
  {
   "cell_type": "markdown",
   "metadata": {},
   "source": [
    "#### 8-3. 다차원 배열을 1차원 배열로 변경"
   ]
  },
  {
   "cell_type": "code",
   "execution_count": null,
   "metadata": {},
   "outputs": [],
   "source": [
    "arr = np.array([[1, 2, 3],\n",
    "                [4, 5, 6],\n",
    "                [7, 8, 9]])\n",
    "\n",
    "arr_flattened = arr.reshape(-1)\n",
    "# arr_flattened의 shape 항목들의 곱(x) = arr의 shape 항목들의 곱(3 * 3)\n",
    "# => x = 9\n",
    "\n",
    "print(\"원래 배열:\")\n",
    "print(arr)\n",
    "# 출력:\n",
    "# [[1 2 3]\n",
    "#  [4 5 6]\n",
    "#  [7 8 9]]\n",
    "\n",
    "print(\"1차원 배열:\")\n",
    "print(arr_flattened)\n",
    "# 출력: [1 2 3 4 5 6 7 8 9]"
   ]
  },
  {
   "cell_type": "markdown",
   "metadata": {},
   "source": [
    "- 문제"
   ]
  },
  {
   "cell_type": "code",
   "execution_count": null,
   "metadata": {},
   "outputs": [],
   "source": [
    "\"\"\"\n",
    "문제 :\n",
    "    NumPy array 변수 orig_arr를 reshape해서\n",
    "    [[1 2 3 4]\n",
    "     [5 6 7 8]\n",
    "     [9 10 11 12]]\n",
    "    로 만들어서 변수 new_arr에 할당하세요\n",
    "\n",
    "예상 출력:\n",
    "    [[1 2 3 4]\n",
    "     [5 6 7 8]\n",
    "     [9 10 11 12]]\n",
    "\"\"\" \n",
    "orig_arr = np.array([[1, 2, 3],\n",
    "                     [4, 5, 6],\n",
    "                     [7, 8, 9],\n",
    "                     [10, 11, 12]])\n",
    "\n",
    "new_arr = ...\n",
    "print(new_arr)"
   ]
  },
  {
   "cell_type": "markdown",
   "metadata": {},
   "source": [
    "### 9. 배열 붙이기(append)\n",
    "- `append`는 배열에 새로운 요소를 추가한 복사본을 반환합니다. 원본 배열은 변경되지 않습니다.\n",
    "- 추가하려는 요소의 형태와 배열의 형태(shape)가 일치해야 합니다. 열을 추가할 때는 차원이 맞아야 합니다.\n",
    "\n",
    "#### 9-1. 1차원 배열에 요소 추가"
   ]
  },
  {
   "cell_type": "code",
   "execution_count": null,
   "metadata": {},
   "outputs": [],
   "source": [
    "arr = np.array([1, 2, 3])\n",
    "\n",
    "# 요소 4를 배열에 추가\n",
    "arr_appended = np.append(arr, 4)\n",
    "print(arr_appended)\n",
    "# 출력: [1 2 3 4]\n",
    "\n",
    "# 요소 5, 6, 7을 배열에 추가\n",
    "arr_appended_multiple = np.append(arr, [5, 6, 7])\n",
    "print(arr_appended_multiple)\n",
    "# 출력: [1 2 3 5 6 7]"
   ]
  },
  {
   "cell_type": "markdown",
   "metadata": {},
   "source": [
    "#### 9-2. 다차원 배열 붙이기"
   ]
  },
  {
   "cell_type": "code",
   "execution_count": null,
   "metadata": {},
   "outputs": [],
   "source": [
    "arr_2d_1 = np.array([[1, 2, 3],\n",
    "                   [4, 5, 6]])\n",
    "\n",
    "arr_2d_2 = np.array([[7, 8, 9],\n",
    "                    [10, 11, 12]])\n",
    "\n",
    "# 첫번째 차원에 붙이기\n",
    "appended_row = np.append(arr_2d_1, arr_2d_2, axis=0)\n",
    "print(appended_row)\n",
    "# 출력:\n",
    "# [[1 2 3]\n",
    "#  [4 5 6]\n",
    "#  [7 8 9]\n",
    "#  [10 11 12]]\n",
    "\n",
    "# 두번째 차원에 붙이기\n",
    "appended_col = np.append(arr_2d_1, arr_2d_2, axis=1)\n",
    "print(appended_col)\n",
    "# 출력:\n",
    "# [[ 1  2  3  7  8  9]\n",
    "# [ 4  5  6 10 11 12]]\n",
    "\n",
    "# shape 출력\n",
    "print('arr_2d_1 arr_2d_2 형태 : ', arr_2d_1.shape, arr_2d_2.shape)\n",
    "print('appended_row 형태 : ', appended_row.shape)\n",
    "print('appended_col 형태 : ', appended_col.shape)"
   ]
  },
  {
   "cell_type": "markdown",
   "metadata": {},
   "source": [
    "## Wrap up\n",
    "1. **ndarray (NumPy Array) 의 특성 확인**\n",
    "\n",
    "\t차원(`ndim`), 형태(`shape`), 데이터 개수(`size`), 데이터 타입(`dtype`) 네 가지 Numpy Array 속성을 사용하여 배열의 특성을 파악합니다.\n",
    "2. **배열 연산의 기본**:\n",
    "\n",
    "\tndarray 간, 또는 ndarray와 스칼라 값 간의 4칙 연산이 가능합니다.\n",
    "3. **배열의 인덱싱과 슬라이싱**:\n",
    "\n",
    "\tndarray는 리스트(list)와 유사한 방식으로 인덱싱과 슬라이싱이 가능하며, 이를 통해 배열의 특정 부분을 선택하거나 조작할 수 있습니다.\n",
    "4. **배열 형태 변경 및 데이터 처리**:\n",
    "\n",
    "\tndarray의 형태를 변경하는 다양한 함수(예: `reshape`, `split`, `append`)를 제공합니다. "
   ]
  }
 ],
 "metadata": {
  "kernelspec": {
   "display_name": "Python 3",
   "language": "python",
   "name": "python3"
  },
  "language_info": {
   "codemirror_mode": {
    "name": "ipython",
    "version": 3
   },
   "file_extension": ".py",
   "mimetype": "text/x-python",
   "name": "python",
   "nbconvert_exporter": "python",
   "pygments_lexer": "ipython3",
   "version": "3.12.1"
  }
 },
 "nbformat": 4,
 "nbformat_minor": 2
}
