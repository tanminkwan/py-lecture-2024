{
 "cells": [
  {
   "cell_type": "markdown",
   "metadata": {},
   "source": [
    "## 다차원 배열의 연산과 시각화"
   ]
  },
  {
   "cell_type": "markdown",
   "metadata": {},
   "source": [
    "### 1. `-9 ~ 9` 사이의 숫자를 값으로 가지는 3x3 리스트 정의"
   ]
  },
  {
   "cell_type": "code",
   "execution_count": 1,
   "metadata": {},
   "outputs": [],
   "source": [
    "list1 = [[1,2,3],[4,5,6],[7,8,9]]\n",
    "list2 = [[-4,-3,-2],[-1,0,1],[2,3,4]]"
   ]
  },
  {
   "cell_type": "markdown",
   "metadata": {},
   "source": [
    "- 리스트의 산술 연산 : 리스트를 리스트에 append하는 목적으로 사용"
   ]
  },
  {
   "cell_type": "code",
   "execution_count": null,
   "metadata": {},
   "outputs": [],
   "source": [
    "list1 * 3 # list1를 3번 반복"
   ]
  },
  {
   "cell_type": "code",
   "execution_count": null,
   "metadata": {},
   "outputs": [],
   "source": [
    "list1 + list2 # list1과 list2를 연결"
   ]
  },
  {
   "cell_type": "markdown",
   "metadata": {},
   "source": [
    "### 2. list 값을 시각화 하기\n",
    "- 리스트를 시각화하여 데이터의 구조를 시각적으로 확인할 수 있습니다. 여기서 시각화는 리스트의 값을 지질도처럼 표현합니다."
   ]
  },
  {
   "cell_type": "code",
   "execution_count": 2,
   "metadata": {},
   "outputs": [],
   "source": [
    "import functions as fs"
   ]
  },
  {
   "cell_type": "code",
   "execution_count": null,
   "metadata": {},
   "outputs": [],
   "source": [
    "fs.visualize_matrices([list1, list2], num_on_a_row=2)"
   ]
  },
  {
   "cell_type": "markdown",
   "metadata": {},
   "source": [
    "### 3. 3X3 list 테스트 데이터 정의\n",
    "- 다양한 테스트 데이터를 준비해봅니다. 이는 이후의 연산 테스트에 사용될 것입니다."
   ]
  },
  {
   "cell_type": "code",
   "execution_count": 39,
   "metadata": {},
   "outputs": [],
   "source": [
    "matrix_a = [[1,2,3], [4,5,6], [7,8,9]]\n",
    "matrix_b = [[9,8,7], [6,5,4], [3,2,1]]\n",
    "matrix_c = [[5,5,5], [5,5,5], [5,5,5]]\n",
    "matrix_d = [[-1,0,1], [2,3,4], [5,6,7]]\n",
    "matrix_e = [[9,-4,1], [0,-1,2], [-3,5,-3]]\n",
    "matrix_f = [[-1,-2,-3], [-4,-5,-6], [-7,-8,-9]]"
   ]
  },
  {
   "cell_type": "markdown",
   "metadata": {},
   "source": [
    "- 데이터들을 시각화하여 형태를 확인해봅니다."
   ]
  },
  {
   "cell_type": "code",
   "execution_count": null,
   "metadata": {},
   "outputs": [],
   "source": [
    "matrices = [matrix_a, matrix_b, matrix_c, matrix_d, matrix_e, matrix_f]\n",
    "fs.visualize_matrices(matrices, num_on_a_row=3)"
   ]
  },
  {
   "cell_type": "markdown",
   "metadata": {},
   "source": [
    "### 문제 #1\n",
    "- 3x3 2차원 리스트와 숫자를 입력으로 받아, 리스트의 각 항목에 해당 숫자를 곱한 결과를 반환하는 함수를 정의하시오\n",
    "- 예를 들어, `[[1,2,3],[4,5,6],[7,8,9]]` * `2` = `[[2,4,6],[8,10,12],[14,16,18]]`"
   ]
  },
  {
   "cell_type": "code",
   "execution_count": 6,
   "metadata": {},
   "outputs": [],
   "source": [
    "# 스칼라 곱 함수 정의\n",
    "\"\"\"\n",
    "2차원 list의 각 item에 특정 숫자(float)를 곱하는 함수를 만드시오.\n",
    "예) [[1,2,3],[4,5,6],[7,8,9]] 에 2 을 곱하면 => [[2,4,6],[8,10,12],[14,16,18]]\n",
    "\"\"\"\n",
    "def scale_matrix(twod: list, scalar: float)->list:\n",
    "    ..."
   ]
  },
  {
   "cell_type": "markdown",
   "metadata": {},
   "source": [
    "### 문제 #2\n",
    "- 3x3 2차원 리스트를 입력받아, 이를 1차원 리스트로 변환하는 함수를 정의하시오.\n",
    "- 예를 들어, `[[1,2,3],[4,5,6],[7,8,9]]`는 `[1,2,3,4,5,6,7,8,9]`로 변환됩니다."
   ]
  },
  {
   "cell_type": "code",
   "execution_count": 7,
   "metadata": {},
   "outputs": [],
   "source": [
    "# 평탄화 함수 정의\n",
    "\"\"\"\n",
    "2차원 list를 1차원(벡터) list로 변환하는 함수를 만들어라\n",
    "예) [[1,2,3],[4,5,6],[7,8,9]] => [1,2,3,4,5,6,7,8,9]\n",
    "\"\"\"\n",
    "def flatten(twod: list)->list:\n",
    "    ..."
   ]
  },
  {
   "cell_type": "markdown",
   "metadata": {},
   "source": [
    "### 4. 2차원 list를 스칼라 곱을 한 후 1차원으로 변환하기\n",
    "- 리스트에 스칼라 곱을 한 후, 그 결과를 1차원으로 변환하는 과정을 보여줍니다.\n",
    "- 여기서 스칼라 곱은 리스트의 최대값으로 나누어 값들을 0에서 1 사이로 정규화(최소-최대 정규화(Min-Max Normalization))하는 데 사용됩니다."
   ]
  },
  {
   "cell_type": "code",
   "execution_count": null,
   "metadata": {},
   "outputs": [],
   "source": [
    "# 원본 matrix_a 출력\n",
    "fs.visualize_matrices([matrix_a])\n",
    "\n",
    "# 스칼라 곱하기 (최대값으로 나누어 0~1 사이 값으로 변환)\n",
    "normalized_a = fs.scale_matrix(matrix_a, 1/9)\n",
    "fs.visualize_matrices([normalized_a], vmin=-1, vmax=1)\n",
    "\n",
    "# 평탄화\n",
    "flattened_a = fs.flatten(normalized_a)\n",
    "fs.visualize_matrices([flattened_a], vmin=-1, vmax=1)"
   ]
  },
  {
   "cell_type": "markdown",
   "metadata": {},
   "source": [
    "### 5. 2차원 list의 평탄화, 스칼라 곱을 메서드로 가지는 Class 정의\n",
    "- 클래스 형태로 구조화하여, 반복적인 작업을 보다 효율적으로 처리할 수 있습니다."
   ]
  },
  {
   "cell_type": "code",
   "execution_count": 25,
   "metadata": {},
   "outputs": [],
   "source": [
    "class Matrix:\n",
    "    def __init__(self, twod: list = None):\n",
    "        self.twod = twod\n",
    "    \n",
    "    def scale_matrix(self, scalar: float) -> 'Matrix':\n",
    "        # 2차원 리스트의 각 요소에 스칼라 값을 곱한 결과를 반환\n",
    "        self.twod = fs.scale_matrix(self.twod, scalar)\n",
    "        return self\n",
    "    \n",
    "    def flatten(self) -> list:\n",
    "        return fs.flatten(self.twod)"
   ]
  },
  {
   "cell_type": "markdown",
   "metadata": {},
   "source": [
    "- 이 클래스를 사용해서 `4`장의 함수로 구현한 경우와 동일한 결과를 얻습니다."
   ]
  },
  {
   "cell_type": "code",
   "execution_count": null,
   "metadata": {},
   "outputs": [],
   "source": [
    "flattened_a = Matrix(matrix_a).scale_matrix(1/9).flatten()\n",
    "\n",
    "fs.visualize_matrices([flattened_a], vmin=-1, vmax=1)"
   ]
  },
  {
   "cell_type": "markdown",
   "metadata": {},
   "source": [
    "- `Matrix` Class 객체를 출력해 봅니다. 객체에 할당된 메모리 주소정보가 출력됩니다."
   ]
  },
  {
   "cell_type": "code",
   "execution_count": null,
   "metadata": {},
   "outputs": [],
   "source": [
    "print(Matrix(matrix_a))"
   ]
  },
  {
   "cell_type": "markdown",
   "metadata": {},
   "source": [
    "### 6. 매직 메서드를 활용한 연산자 오버로딩\n",
    "- 목적 : `Matrix` 클래스의 연산을 더욱 직관적이고 간결하게 만들기\n",
    "- 연산자 `*` : 스칼라 곱 연산 (새로운 객체 생성)\n",
    "- 연산자 `~` : 행렬 평탄화 연산"
   ]
  },
  {
   "cell_type": "code",
   "execution_count": 30,
   "metadata": {},
   "outputs": [],
   "source": [
    "class MagicMatrix:\n",
    "\n",
    "    def __init__(self, twod: list = None):\n",
    "        self.twod = twod\n",
    "    \n",
    "    def __mul__(self, scalar: float) -> 'MagicMatrix':\n",
    "        \"\"\"\n",
    "        * 연산자로 scale_matrix 기능 구현 (right side)\n",
    "        스칼라 값을 곱한 결과를 반환\n",
    "        \"\"\"\n",
    "        # 원본 리스트를 변경하지 않고 새로운 객체 생성\n",
    "        new_obj = MagicMatrix(fs.scale_matrix(self.twod, scalar))\n",
    "        return new_obj\n",
    "    \n",
    "    def __rmul__(self, scalar: float) -> 'MagicMatrix':\n",
    "        \"\"\"\n",
    "        * 연산자로 scale_matrix 기능 구현 (left side)\n",
    "        스칼라 값을 곱한 결과를 반환\n",
    "        \"\"\"\n",
    "        # 원본 리스트를 변경하지 않고 새로운 객체 생성\n",
    "        new_obj = MagicMatrix(fs.scale_matrix(self.twod, scalar))\n",
    "        return new_obj\n",
    "    \n",
    "    def __invert__(self) -> list:\n",
    "        \"\"\"\n",
    "        ~ 연산자로 flatten 기능 구현\n",
    "        2차원 리스트를 1차원 리스트로 변환\n",
    "        \"\"\"\n",
    "        return fs.flatten(self.twod)\n",
    "    \n",
    "    def __repr__(self) -> str:\n",
    "        \"\"\"\n",
    "        객체의 문자열 표현\n",
    "        \n",
    "        Returns:\n",
    "        --------\n",
    "        str\n",
    "            객체의 내용을 나타내는 문자열\n",
    "        \"\"\"\n",
    "        return f\"MagicMatrix(twod={self.twod})\"\n",
    "    \n",
    "    def __str__(self) -> str:\n",
    "        \"\"\"\n",
    "        비공식적인 문자열 표현\n",
    "        \n",
    "        Returns:\n",
    "        --------\n",
    "        str\n",
    "            사용자에게 보여줄 문자열\n",
    "        \"\"\"\n",
    "        return str(self.twod)"
   ]
  },
  {
   "cell_type": "markdown",
   "metadata": {},
   "source": [
    "- `MagicMatrix` 클래스 사용 예"
   ]
  },
  {
   "cell_type": "code",
   "execution_count": null,
   "metadata": {},
   "outputs": [],
   "source": [
    "# 객체 생성\n",
    "a = MagicMatrix([[1, 2], [3, 4]])\n",
    "\n",
    "# 오른쪽 스칼라 곱\n",
    "b = a * 2   # [[2, 4], [6, 8]]\n",
    "\n",
    "# 왼쪽 스칼라 곱\n",
    "c = 1/8 * b   # [[0.25, 0.5], [0.75, 1]]\n",
    "\n",
    "# 평탄화\n",
    "flat = ~c   # [0.25, 0.5, 0.75, 1]\n",
    "\n",
    "# 출력\n",
    "print(flat) # [0.25, 0.5, 0.75, 1]"
   ]
  },
  {
   "cell_type": "markdown",
   "metadata": {},
   "source": [
    "- `MagicMatrix`의 `*`, `~`연산자를 사용하여 `SamSam` 클래스의 명시적인 메소드를 사용한 경우와 동일한 결과를 얻습니다."
   ]
  },
  {
   "cell_type": "code",
   "execution_count": null,
   "metadata": {},
   "outputs": [],
   "source": [
    "flattened_a = ~ ( MagicMatrix(matrix_a) * ( 1 / 9 ) )\n",
    "\n",
    "fs.visualize_matrices([flattened_a], vmin=-1, vmax=1)"
   ]
  },
  {
   "cell_type": "markdown",
   "metadata": {},
   "source": [
    "- `MagicMatrix` 클래스 객체를 출력해봅니다. 매직메소드 `__str__` 또는 `__repr__` 가 실행됩니다."
   ]
  },
  {
   "cell_type": "code",
   "execution_count": null,
   "metadata": {},
   "outputs": [],
   "source": [
    "MagicMatrix(matrix_a)"
   ]
  },
  {
   "cell_type": "code",
   "execution_count": null,
   "metadata": {},
   "outputs": [],
   "source": [
    "print(MagicMatrix(matrix_a))"
   ]
  },
  {
   "cell_type": "markdown",
   "metadata": {},
   "source": [
    "- 나머지 3X3 리스트 테스트 데이터들을 각각 스칼라 곱(최소-최대 정규화) 및 평탄화 합니다."
   ]
  },
  {
   "cell_type": "code",
   "execution_count": 41,
   "metadata": {},
   "outputs": [],
   "source": [
    "flattened_b = ~ ( MagicMatrix(matrix_b) * ( 1 / 9 ) )\n",
    "flattened_c = ~ ( MagicMatrix(matrix_c) * ( 1 / 9 ) )\n",
    "flattened_d = ~ ( MagicMatrix(matrix_d) * ( 1 / 9 ) )\n",
    "flattened_e = ~ ( MagicMatrix(matrix_e) * ( 1 / 9 ) )\n",
    "flattened_f = ~ ( MagicMatrix(matrix_f) * ( 1 / 9 ) )"
   ]
  },
  {
   "cell_type": "markdown",
   "metadata": {},
   "source": [
    "- 스칼라 곱 + 평탄화된 정보를 시각화 합니다."
   ]
  },
  {
   "cell_type": "code",
   "execution_count": null,
   "metadata": {},
   "outputs": [],
   "source": [
    "vectors = [flattened_a, flattened_b, flattened_c, flattened_d, flattened_e, flattened_f]\n",
    "\n",
    "fs.visualize_matrices(vectors, vmin=-1, vmax=1, num_on_a_row=2)"
   ]
  },
  {
   "cell_type": "markdown",
   "metadata": {},
   "source": [
    "### 7. 두 1차원 list간 유사도를 구하는 함수 정의\n",
    "- 두 1차원 리스트 간의 유사도를 구하는 함수를 정의합니다. 여기서는 코사인 유사도 함수를 사용합니다."
   ]
  },
  {
   "cell_type": "code",
   "execution_count": 43,
   "metadata": {},
   "outputs": [],
   "source": [
    "# 코사인 유사도 함수 정의\n",
    "# prompt : 두 1차원 list 간의 유사도를 구하는 함수 만들어줘\n",
    "import math\n",
    "\n",
    "def cosine_similarity(list_a: list, list_b: list) -> float:\n",
    "    # 내적 (dot product) 계산\n",
    "    dot_product = sum(a * b for a, b in zip(list_a, list_b))\n",
    "    \n",
    "    # 각 벡터의 크기 (magnitude) 계산\n",
    "    magnitude_a = math.sqrt(sum(a * a for a in list_a))\n",
    "    magnitude_b = math.sqrt(sum(b * b for b in list_b))\n",
    "    \n",
    "    # 두 벡터의 크기가 0일 경우 유사도를 계산할 수 없음\n",
    "    if magnitude_a == 0 or magnitude_b == 0:\n",
    "        return 0.0\n",
    "    \n",
    "    # 코사인 유사도 계산\n",
    "    return dot_product / (magnitude_a * magnitude_b)"
   ]
  },
  {
   "cell_type": "markdown",
   "metadata": {},
   "source": [
    "### 8. 3X3 리스트 테스트 데이터간에 유사도 측정\n",
    "- 2개의 데이터간의 유사도를 측정합니다.\n",
    "- 유사도가 높을수록 결과값이 `1`에 가깝고 낮을수록 `-1`에 가깝습니다.\n",
    "- 결과값 `0`은 서로 상관없음(두벡터간 직교)을 의미합니다."
   ]
  },
  {
   "cell_type": "code",
   "execution_count": 44,
   "metadata": {},
   "outputs": [],
   "source": [
    "a_vs_a = cosine_similarity(flattened_a, flattened_a)\n",
    "a_vs_b = cosine_similarity(flattened_a, flattened_b)\n",
    "a_vs_c = cosine_similarity(flattened_a, flattened_c)\n",
    "a_vs_d = cosine_similarity(flattened_a, flattened_d)\n",
    "a_vs_e = cosine_similarity(flattened_a, flattened_e)\n",
    "a_vs_f = cosine_similarity(flattened_a, flattened_f)"
   ]
  },
  {
   "cell_type": "markdown",
   "metadata": {},
   "source": [
    "- 두 시각화된 이미지(지형)간의 비슷한 정도가 유사도로 잘 나타났는지 확인해 봅니다."
   ]
  },
  {
   "cell_type": "code",
   "execution_count": null,
   "metadata": {},
   "outputs": [],
   "source": [
    "print(f\"a_vs_a : {a_vs_a:.2f}\")\n",
    "fs.visualize_matrices([matrix_a, matrix_a], num_on_a_row=2)\n",
    "\n",
    "print(f\"a_vs_b : {a_vs_b:.2f}\")\n",
    "fs.visualize_matrices([matrix_a, matrix_b], num_on_a_row=2)\n",
    "\n",
    "print(f\"a_vs_c : {a_vs_c:.2f}\")\n",
    "fs.visualize_matrices([matrix_a, matrix_c], num_on_a_row=2)\n",
    "\n",
    "print(f\"a_vs_d : {a_vs_d:.2f}\")\n",
    "fs.visualize_matrices([matrix_a, matrix_d], num_on_a_row=2)\n",
    "\n",
    "print(f\"a_vs_e : {a_vs_e:.2f}\")\n",
    "fs.visualize_matrices([matrix_a, matrix_e], num_on_a_row=2)\n",
    "\n",
    "print(f\"a_vs_f : {a_vs_f:.2f}\")\n",
    "fs.visualize_matrices([matrix_a, matrix_f], num_on_a_row=2)"
   ]
  }
 ],
 "metadata": {
  "kernelspec": {
   "display_name": "Python 3",
   "language": "python",
   "name": "python3"
  },
  "language_info": {
   "codemirror_mode": {
    "name": "ipython",
    "version": 3
   },
   "file_extension": ".py",
   "mimetype": "text/x-python",
   "name": "python",
   "nbconvert_exporter": "python",
   "pygments_lexer": "ipython3",
   "version": "3.10.10"
  }
 },
 "nbformat": 4,
 "nbformat_minor": 2
}
