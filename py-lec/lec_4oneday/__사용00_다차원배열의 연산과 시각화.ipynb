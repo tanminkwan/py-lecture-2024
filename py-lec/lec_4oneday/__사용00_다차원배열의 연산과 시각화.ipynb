{
 "cells": [
  {
   "cell_type": "markdown",
   "metadata": {},
   "source": [
    "## 다차원 배열의 연산과 시각화"
   ]
  },
  {
   "cell_type": "markdown",
   "metadata": {},
   "source": [
    "### 1. `-9 ~ 9` 사이의 정수를 값으로 가지는 3x3 리스트 정의"
   ]
  },
  {
   "cell_type": "code",
   "execution_count": 1,
   "metadata": {},
   "outputs": [],
   "source": [
    "ndlist1 = [[1,2,3],[4,5,6],[7,8,9]]\n",
    "ndlist2 = [[-4,-3,-2],[-1,0,1],[2,3,4]]"
   ]
  },
  {
   "cell_type": "markdown",
   "metadata": {},
   "source": [
    "- 리스트의 산술 연산자 사용 (리스트를 리스트에 append하는 목적으로 사용 )"
   ]
  },
  {
   "cell_type": "code",
   "execution_count": 2,
   "metadata": {},
   "outputs": [
    {
     "data": {
      "text/plain": [
       "[[1, 2, 3],\n",
       " [4, 5, 6],\n",
       " [7, 8, 9],\n",
       " [1, 2, 3],\n",
       " [4, 5, 6],\n",
       " [7, 8, 9],\n",
       " [1, 2, 3],\n",
       " [4, 5, 6],\n",
       " [7, 8, 9]]"
      ]
     },
     "execution_count": 2,
     "metadata": {},
     "output_type": "execute_result"
    }
   ],
   "source": [
    "ndlist1 * 3"
   ]
  },
  {
   "cell_type": "code",
   "execution_count": 3,
   "metadata": {},
   "outputs": [
    {
     "data": {
      "text/plain": [
       "[[1, 2, 3], [4, 5, 6], [7, 8, 9], [-4, -3, -2], [-1, 0, 1], [2, 3, 4]]"
      ]
     },
     "execution_count": 3,
     "metadata": {},
     "output_type": "execute_result"
    }
   ],
   "source": [
    "ndlist1 + ndlist2"
   ]
  },
  {
   "cell_type": "markdown",
   "metadata": {},
   "source": [
    "### 2. list 값을 시각화 하기\n",
    "- 리스트를 시각화하여 데이터의 구조를 시각적으로 확인할 수 있습니다. 여기서 시각화는 리스트의 값을 지질도처럼 표현합니다."
   ]
  },
  {
   "cell_type": "code",
   "execution_count": 4,
   "metadata": {},
   "outputs": [],
   "source": [
    "import functions as fs"
   ]
  },
  {
   "cell_type": "code",
   "execution_count": 5,
   "metadata": {},
   "outputs": [
    {
     "data": {
      "image/png": "[encoded data removed]",
      "text/plain": [
       "<Figure size 200x200 with 1 Axes>"
      ]
     },
     "metadata": {},
     "output_type": "display_data"
    },
    {
     "data": {
      "image/png": "[encoded data removed]",
      "text/plain": [
       "<Figure size 200x200 with 1 Axes>"
      ]
     },
     "metadata": {},
     "output_type": "display_data"
    }
   ],
   "source": [
    "fs.visualize_ndlist(ndlist1)\n",
    "fs.visualize_ndlist(ndlist2)"
   ]
  },
  {
   "cell_type": "markdown",
   "metadata": {},
   "source": [
    "### 문제 #1\n",
    "- 3x3 2차원 리스트와 숫자를 입력으로 받아, 리스트의 각 항목에 해당 숫자를 곱한 결과를 반환하는 함수를 정의하시오\n",
    "- 예를 들어, `[[1,2,3],[4,5,6],[7,8,9]]` * `2` = `[[2,4,6],[8,10,12],[14,16,18]]`"
   ]
  },
  {
   "cell_type": "code",
   "execution_count": 6,
   "metadata": {},
   "outputs": [],
   "source": [
    "# 스칼라 곱 함수 정의\n",
    "\"\"\"\n",
    "2차원 list의 각 item에 특정 숫자(float)를 곱하는 함수를 만들어라\n",
    "예) [[1,2,3],[4,5,6],[7,8,9]] 에 2 을 곱하면 => [[2,4,6],[8,10,12],[14,16,18]]\n",
    "\"\"\"\n",
    "def list_mul_scalar(twod: list, scalar: float)->list:\n",
    "    ..."
   ]
  },
  {
   "cell_type": "markdown",
   "metadata": {},
   "source": [
    "### 문제 #2\n",
    "- 3x3 2차원 리스트를 입력받아, 이를 1차원 리스트로 변환하는 함수를 정의하시오.\n",
    "- 예를 들어, `[[1,2,3],[4,5,6],[7,8,9]]`는 `[1,2,3,4,5,6,7,8,9]`로 변환됩니다."
   ]
  },
  {
   "cell_type": "code",
   "execution_count": 7,
   "metadata": {},
   "outputs": [],
   "source": [
    "# 평탄화 함수 정의\n",
    "\"\"\"\n",
    "2차원 list를 1차원(벡터) list로 변환하는 함수를 만들어라\n",
    "예) [[1,2,3],[4,5,6],[7,8,9]] => [1,2,3,4,5,6,7,8,9]\n",
    "\"\"\"\n",
    "def two2one(twod: list)->list:\n",
    "    ..."
   ]
  },
  {
   "cell_type": "markdown",
   "metadata": {},
   "source": [
    "### 3. 3X3 list 테스트 데이터 정의\n",
    "- 다양한 테스트 데이터를 준비해봅니다. 이는 이후의 연산 테스트에 사용될 것입니다."
   ]
  },
  {
   "cell_type": "code",
   "execution_count": 8,
   "metadata": {},
   "outputs": [],
   "source": [
    "matrix_a = [[1,2,3], [4,5,6], [7,8,9]]\n",
    "matrix_b = [[9,8,7], [6,5,4], [3,2,1]]\n",
    "matrix_c = [[5,5,5], [5,5,5], [5,5,5]]\n",
    "matrix_d = [[1,1,1], [1,1,1], [1,1,1]]\n",
    "matrix_e = [[0,1,2], [3,4,5], [6,7,8]]\n",
    "matrix_f = [[9,-4,1], [0,-1,2], [-3,5,-3]]\n",
    "matrix_g = [[-1,-2,-3], [-4,-5,-6], [-7,-8,-9]]"
   ]
  },
  {
   "cell_type": "markdown",
   "metadata": {},
   "source": [
    "- 데이터들을 시각화하여 구조를 확인해봅니다."
   ]
  },
  {
   "cell_type": "code",
   "execution_count": 9,
   "metadata": {},
   "outputs": [
    {
     "data": {
      "image/png": "[encoded data removed]",
      "text/plain": [
       "<Figure size 200x200 with 1 Axes>"
      ]
     },
     "metadata": {},
     "output_type": "display_data"
    },
    {
     "data": {
      "image/png": "[encoded data removed]",
      "text/plain": [
       "<Figure size 200x200 with 1 Axes>"
      ]
     },
     "metadata": {},
     "output_type": "display_data"
    },
    {
     "data": {
      "image/png": "[encoded data removed]",
      "text/plain": [
       "<Figure size 200x200 with 1 Axes>"
      ]
     },
     "metadata": {},
     "output_type": "display_data"
    },
    {
     "data": {
      "image/png": "[encoded data removed]",
      "text/plain": [
       "<Figure size 200x200 with 1 Axes>"
      ]
     },
     "metadata": {},
     "output_type": "display_data"
    },
    {
     "data": {
      "image/png": "[encoded data removed]",
      "text/plain": [
       "<Figure size 200x200 with 1 Axes>"
      ]
     },
     "metadata": {},
     "output_type": "display_data"
    },
    {
     "data": {
      "image/png": "[encoded data removed]",
      "text/plain": [
       "<Figure size 200x200 with 1 Axes>"
      ]
     },
     "metadata": {},
     "output_type": "display_data"
    },
    {
     "data": {
      "image/png": "[encoded data removed]",
      "text/plain": [
       "<Figure size 200x200 with 1 Axes>"
      ]
     },
     "metadata": {},
     "output_type": "display_data"
    }
   ],
   "source": [
    "fs.visualize_ndlist(matrix_a)\n",
    "fs.visualize_ndlist(matrix_b)\n",
    "fs.visualize_ndlist(matrix_c)\n",
    "fs.visualize_ndlist(matrix_d)\n",
    "fs.visualize_ndlist(matrix_e)\n",
    "fs.visualize_ndlist(matrix_f)\n",
    "fs.visualize_ndlist(matrix_g)"
   ]
  },
  {
   "cell_type": "markdown",
   "metadata": {},
   "source": [
    "### 4. 2차원 list를 스칼라 곱을 한 후 1차원으로 변환하기\n",
    "- 리스트에 스칼라 곱을 한 후, 그 결과를 1차원으로 변환하는 과정을 보여줍니다.\n",
    "- 여기서 스칼라 곱은 리스트의 최대값으로 나누어 값들을 0에서 1 사이로 정규화(최소-최대 정규화(Min-Max Normalization))하는 데 사용됩니다."
   ]
  },
  {
   "cell_type": "code",
   "execution_count": 10,
   "metadata": {},
   "outputs": [
    {
     "data": {
      "image/png": "[encoded data removed]",
      "text/plain": [
       "<Figure size 640x480 with 1 Axes>"
      ]
     },
     "metadata": {},
     "output_type": "display_data"
    },
    {
     "name": "stdout",
     "output_type": "stream",
     "text": [
      "[0.1111111111111111, 0.2222222222222222, 0.3333333333333333, 0.4444444444444444, 0.5555555555555556, 0.6666666666666666, 0.7777777777777777, 0.8888888888888888, 1.0]\n"
     ]
    }
   ],
   "source": [
    "# 스칼라 곱하기 (최대값으로 나누어 0~1 사이 값으로 변환)\n",
    "matrix_a_mul_scalar = fs.list_mul_scalar(matrix_a, 1/9)\n",
    "# 평탄화\n",
    "matrix_a_2flat = fs.two2one(matrix_a_mul_scalar)\n",
    "\n",
    "fs.visualize_ndlist(matrix_a_2flat, vmin=-1, vmax=1)\n",
    "print(matrix_a_2flat)"
   ]
  },
  {
   "cell_type": "markdown",
   "metadata": {},
   "source": [
    "### 5. 2차원 list의 평탄화, 스칼라 곱에 특화된 컨테이너 타입의 Class 정의\n",
    "- 이제 이 과정을 클래스 형태로 구조화하여, 반복적인 작업을 보다 효율적으로 처리할 수 있도록 합니다."
   ]
  },
  {
   "cell_type": "code",
   "execution_count": 11,
   "metadata": {},
   "outputs": [],
   "source": [
    "class SamSam:\n",
    "    def __init__(self, twod: list = None):\n",
    "        self.twod = twod\n",
    "    \n",
    "    def list_mul_scalar(self, scalar: float) -> 'SamSam':\n",
    "        # 2차원 리스트의 각 요소에 스칼라 값을 곱한 결과를 반환\n",
    "        new_twod = fs.list_mul_scalar(self.twod, scalar)\n",
    "        return SamSam(new_twod)\n",
    "    \n",
    "    def two2one(self) -> list:\n",
    "        return fs.two2one(self.twod)"
   ]
  },
  {
   "cell_type": "markdown",
   "metadata": {},
   "source": [
    "- 이 클래스를 사용해서 `4`장의 함수로 구현한 경우와 동일한 결과를 얻습니다."
   ]
  },
  {
   "cell_type": "code",
   "execution_count": 12,
   "metadata": {},
   "outputs": [
    {
     "data": {
      "image/png": "[encoded data removed]",
      "text/plain": [
       "<Figure size 640x480 with 1 Axes>"
      ]
     },
     "metadata": {},
     "output_type": "display_data"
    },
    {
     "name": "stdout",
     "output_type": "stream",
     "text": [
      "[0.1111111111111111, 0.2222222222222222, 0.3333333333333333, 0.4444444444444444, 0.5555555555555556, 0.6666666666666666, 0.7777777777777777, 0.8888888888888888, 1.0]\n"
     ]
    }
   ],
   "source": [
    "matrix_a_2flat = SamSam(matrix_a).list_mul_scalar(1/9).two2one()\n",
    "\n",
    "fs.visualize_ndlist(matrix_a_2flat, vmin=-1, vmax=1)\n",
    "print(matrix_a_2flat)"
   ]
  },
  {
   "cell_type": "markdown",
   "metadata": {},
   "source": [
    "- `SamSam` Class 객체를 출력해 봅니다. 객체에 할당된 메모리 주소정보가 출력됩니다."
   ]
  },
  {
   "cell_type": "code",
   "execution_count": 13,
   "metadata": {},
   "outputs": [
    {
     "data": {
      "text/plain": [
       "<__main__.SamSam at 0x137532d18a0>"
      ]
     },
     "execution_count": 13,
     "metadata": {},
     "output_type": "execute_result"
    }
   ],
   "source": [
    "SamSam(matrix_a)"
   ]
  },
  {
   "cell_type": "code",
   "execution_count": 14,
   "metadata": {},
   "outputs": [
    {
     "name": "stdout",
     "output_type": "stream",
     "text": [
      "<__main__.SamSam object at 0x00000137532D0310>\n"
     ]
    }
   ],
   "source": [
    "print(SamSam(matrix_a))"
   ]
  },
  {
   "cell_type": "markdown",
   "metadata": {},
   "source": [
    "### 6. 스칼라 곱을 연산자 `*`기호로 사용할 수 있도록 Class 재정의\n",
    "- 연산자 오버로딩을 통해, 스칼라 곱을 더 직관적으로 처리할 수 있도록 `*` 연산자를 사용할 수 있게 만듭니다.\n",
    "- 매직메소드 `__mul__`, `__rmul__` 정의"
   ]
  },
  {
   "cell_type": "code",
   "execution_count": 15,
   "metadata": {},
   "outputs": [],
   "source": [
    "class SamSamMagic:\n",
    "    \n",
    "    def __init__(self, twod: list = None):\n",
    "        self.twod = twod\n",
    "    \n",
    "    def __mul__(self, scalar: float) -> 'SamSamMagic':\n",
    "        # 2차원 리스트의 각 요소에 스칼라 값을 곱한 결과를 반환\n",
    "        new_twod = fs.list_mul_scalar(self.twod, scalar)\n",
    "        return SamSamMagic(new_twod)\n",
    "    \n",
    "    def __rmul__(self, scalar: float) -> 'SamSamMagic':\n",
    "        # 스칼라 값이 앞에 올 때의 곱셈 연산을 처리\n",
    "        return self.__mul__(scalar)\n",
    "    \n",
    "    def two2one(self) -> list:\n",
    "        return fs.two2one(self.twod)\n",
    "    \n",
    "    def __str__(self) -> str:\n",
    "        # 객체의 비공식적이고 사람이 읽기 쉬운 문자열 표현\n",
    "        return f\"{self.twod}\"\n",
    "    \n",
    "    def __repr__(self) -> str:\n",
    "        # 객체의 공식적인 문자열 표현 (디버깅을 위해 사용)\n",
    "        return f\"SamSamMagic({self.twod})\""
   ]
  },
  {
   "cell_type": "markdown",
   "metadata": {},
   "source": [
    "- 이 클래스의 `*`연산자를 사용해도 `SamSam` 클래스의 명시적인 메소드를 사용한 경우와 동일한 결과를 얻습니다."
   ]
  },
  {
   "cell_type": "code",
   "execution_count": 16,
   "metadata": {},
   "outputs": [
    {
     "data": {
      "image/png": "[encoded data removed]",
      "text/plain": [
       "<Figure size 640x480 with 1 Axes>"
      ]
     },
     "metadata": {},
     "output_type": "display_data"
    },
    {
     "name": "stdout",
     "output_type": "stream",
     "text": [
      "[0.1111111111111111, 0.2222222222222222, 0.3333333333333333, 0.4444444444444444, 0.5555555555555556, 0.6666666666666666, 0.7777777777777777, 0.8888888888888888, 1.0]\n"
     ]
    }
   ],
   "source": [
    "matrix_a_2flat_mul_scalar = ( SamSamMagic(matrix_a) * (1/9) ).two2one()\n",
    "\n",
    "fs.visualize_ndlist(matrix_a_2flat, vmin=-1, vmax=1)\n",
    "print(matrix_a_2flat_mul_scalar)"
   ]
  },
  {
   "cell_type": "markdown",
   "metadata": {},
   "source": [
    "- `SamSamMagic` 클래스 객체를 출력해봅니다. 매직메소드 `__str__` 또는 `__repr__` 가 실행됩니다."
   ]
  },
  {
   "cell_type": "code",
   "execution_count": 17,
   "metadata": {},
   "outputs": [
    {
     "data": {
      "text/plain": [
       "SamSamMagic([[1, 2, 3], [4, 5, 6], [7, 8, 9]])"
      ]
     },
     "execution_count": 17,
     "metadata": {},
     "output_type": "execute_result"
    }
   ],
   "source": [
    "SamSamMagic(matrix_a)"
   ]
  },
  {
   "cell_type": "code",
   "execution_count": 18,
   "metadata": {},
   "outputs": [
    {
     "name": "stdout",
     "output_type": "stream",
     "text": [
      "[[1, 2, 3], [4, 5, 6], [7, 8, 9]]\n"
     ]
    }
   ],
   "source": [
    "print(SamSamMagic(matrix_a))"
   ]
  },
  {
   "cell_type": "markdown",
   "metadata": {},
   "source": [
    "- 전체 3X3 리스트 테스트 데이터들을 각각 스칼라 곱(최소-최대 정규화) 및 평탄화 합니다."
   ]
  },
  {
   "cell_type": "code",
   "execution_count": 19,
   "metadata": {},
   "outputs": [],
   "source": [
    "matrix_b_2flat_mul_scalar = ( SamSamMagic(matrix_b) * (1/9) ).two2one()\n",
    "matrix_c_2flat_mul_scalar = ( SamSamMagic(matrix_c) * (1/9) ).two2one()\n",
    "matrix_d_2flat_mul_scalar = ( SamSamMagic(matrix_d) * (1/9) ).two2one()\n",
    "matrix_e_2flat_mul_scalar = ( SamSamMagic(matrix_e) * (1/9) ).two2one()\n",
    "matrix_f_2flat_mul_scalar = ( SamSamMagic(matrix_f) * (1/9) ).two2one()\n",
    "matrix_g_2flat_mul_scalar = ( SamSamMagic(matrix_g) * (1/9) ).two2one()"
   ]
  },
  {
   "cell_type": "markdown",
   "metadata": {},
   "source": [
    "- 스칼라 곱 + 평탄화된 정보를 시각화 합니다."
   ]
  },
  {
   "cell_type": "code",
   "execution_count": 20,
   "metadata": {},
   "outputs": [
    {
     "data": {
      "image/png": "[encoded data removed]",
      "text/plain": [
       "<Figure size 640x480 with 1 Axes>"
      ]
     },
     "metadata": {},
     "output_type": "display_data"
    },
    {
     "data": {
      "image/png": "[encoded data removed]",
      "text/plain": [
       "<Figure size 640x480 with 1 Axes>"
      ]
     },
     "metadata": {},
     "output_type": "display_data"
    },
    {
     "data": {
      "image/png": "[encoded data removed]",
      "text/plain": [
       "<Figure size 640x480 with 1 Axes>"
      ]
     },
     "metadata": {},
     "output_type": "display_data"
    },
    {
     "data": {
      "image/png": "[encoded data removed]",
      "text/plain": [
       "<Figure size 640x480 with 1 Axes>"
      ]
     },
     "metadata": {},
     "output_type": "display_data"
    },
    {
     "data": {
      "image/png": "[encoded data removed]",
      "text/plain": [
       "<Figure size 640x480 with 1 Axes>"
      ]
     },
     "metadata": {},
     "output_type": "display_data"
    },
    {
     "data": {
      "image/png": "[encoded data removed]",
      "text/plain": [
       "<Figure size 640x480 with 1 Axes>"
      ]
     },
     "metadata": {},
     "output_type": "display_data"
    },
    {
     "data": {
      "image/png": "[encoded data removed]",
      "text/plain": [
       "<Figure size 640x480 with 1 Axes>"
      ]
     },
     "metadata": {},
     "output_type": "display_data"
    }
   ],
   "source": [
    "fs.visualize_ndlist(matrix_a_2flat_mul_scalar, vmin=-1, vmax=1)\n",
    "fs.visualize_ndlist(matrix_b_2flat_mul_scalar, vmin=-1, vmax=1)\n",
    "fs.visualize_ndlist(matrix_c_2flat_mul_scalar, vmin=-1, vmax=1)\n",
    "fs.visualize_ndlist(matrix_d_2flat_mul_scalar, vmin=-1, vmax=1)\n",
    "fs.visualize_ndlist(matrix_e_2flat_mul_scalar, vmin=-1, vmax=1)\n",
    "fs.visualize_ndlist(matrix_f_2flat_mul_scalar, vmin=-1, vmax=1)\n",
    "fs.visualize_ndlist(matrix_g_2flat_mul_scalar, vmin=-1, vmax=1)"
   ]
  },
  {
   "cell_type": "markdown",
   "metadata": {},
   "source": [
    "### 7. 두 1차원 list간 유사도를 구하는 함수 정의\n",
    "- 두 1차원 리스트 간의 유사도를 구하는 함수를 정의합니다. 여기서는 코사인 유사도를 사용하여 유사성을 계산합니다."
   ]
  },
  {
   "cell_type": "code",
   "execution_count": 21,
   "metadata": {},
   "outputs": [],
   "source": [
    "# 코사인 유사도 함수 정의\n",
    "# prompt : 두 1차원 list 간의 유사도를 구하는 함수 만들어줘\n",
    "import math\n",
    "\n",
    "def calc_similarity(list_a: list, list_b: list) -> float:\n",
    "    # 내적 (dot product) 계산\n",
    "    dot_product = sum(a * b for a, b in zip(list_a, list_b))\n",
    "    \n",
    "    # 각 벡터의 크기 (magnitude) 계산\n",
    "    magnitude_a = math.sqrt(sum(a * a for a in list_a))\n",
    "    magnitude_b = math.sqrt(sum(b * b for b in list_b))\n",
    "    \n",
    "    # 두 벡터의 크기가 0일 경우 유사도를 계산할 수 없음\n",
    "    if magnitude_a == 0 or magnitude_b == 0:\n",
    "        return 0.0\n",
    "    \n",
    "    # 코사인 유사도 계산\n",
    "    return dot_product / (magnitude_a * magnitude_b)"
   ]
  },
  {
   "cell_type": "markdown",
   "metadata": {},
   "source": [
    "### 8. 3X3 리스트 테스트 데이터간에 유사도 측정\n",
    "- 2개의 데이터간의 유사도를 측정합니다.\n",
    "- 유사도가 높을수록 결과값이 `1`에 가깝고 낮을수록 `-1`에 가깝습니다.\n",
    "- 결과값 `0`은 서로 상관없음(두벡터간 직교)을 의미합니다."
   ]
  },
  {
   "cell_type": "code",
   "execution_count": 22,
   "metadata": {},
   "outputs": [],
   "source": [
    "a_vs_a = calc_similarity(matrix_a_2flat_mul_scalar, matrix_a_2flat_mul_scalar)\n",
    "a_vs_b = calc_similarity(matrix_a_2flat_mul_scalar, matrix_b_2flat_mul_scalar)\n",
    "a_vs_c = calc_similarity(matrix_a_2flat_mul_scalar, matrix_c_2flat_mul_scalar)\n",
    "a_vs_e = calc_similarity(matrix_a_2flat_mul_scalar, matrix_e_2flat_mul_scalar)\n",
    "a_vs_f = calc_similarity(matrix_a_2flat_mul_scalar, matrix_f_2flat_mul_scalar)\n",
    "c_vs_d = calc_similarity(matrix_a_2flat_mul_scalar, matrix_e_2flat_mul_scalar)\n",
    "a_vs_g = calc_similarity(matrix_a_2flat_mul_scalar, matrix_g_2flat_mul_scalar)"
   ]
  },
  {
   "cell_type": "markdown",
   "metadata": {},
   "source": [
    "- 유사도 계산결과를 시작화합니다."
   ]
  },
  {
   "cell_type": "code",
   "execution_count": 23,
   "metadata": {},
   "outputs": [
    {
     "data": {
      "image/png": "[encoded data removed]",
      "text/plain": [
       "<Figure size 1000x300 with 2 Axes>"
      ]
     },
     "metadata": {},
     "output_type": "display_data"
    },
    {
     "name": "stdout",
     "output_type": "stream",
     "text": [
      "a_vs_a : 1.00\n"
     ]
    },
    {
     "data": {
      "image/png": "[encoded data removed]",
      "text/plain": [
       "<Figure size 1000x300 with 2 Axes>"
      ]
     },
     "metadata": {},
     "output_type": "display_data"
    },
    {
     "name": "stdout",
     "output_type": "stream",
     "text": [
      "a_vs_b : 0.58\n"
     ]
    },
    {
     "data": {
      "image/png": "[encoded data removed]",
      "text/plain": [
       "<Figure size 1000x300 with 2 Axes>"
      ]
     },
     "metadata": {},
     "output_type": "display_data"
    },
    {
     "name": "stdout",
     "output_type": "stream",
     "text": [
      "a_vs_c : 0.89\n"
     ]
    },
    {
     "data": {
      "image/png": "[encoded data removed]",
      "text/plain": [
       "<Figure size 1000x300 with 2 Axes>"
      ]
     },
     "metadata": {},
     "output_type": "display_data"
    },
    {
     "name": "stdout",
     "output_type": "stream",
     "text": [
      "a_vs_e : 1.00\n"
     ]
    },
    {
     "data": {
      "image/png": "[encoded data removed]",
      "text/plain": [
       "<Figure size 1000x300 with 2 Axes>"
      ]
     },
     "metadata": {},
     "output_type": "display_data"
    },
    {
     "name": "stdout",
     "output_type": "stream",
     "text": [
      "a_vs_f : 0.01\n"
     ]
    },
    {
     "data": {
      "image/png": "[encoded data removed]",
      "text/plain": [
       "<Figure size 1000x300 with 2 Axes>"
      ]
     },
     "metadata": {},
     "output_type": "display_data"
    },
    {
     "name": "stdout",
     "output_type": "stream",
     "text": [
      "c_vs_d : 1.00\n"
     ]
    },
    {
     "data": {
      "image/png": "[encoded data removed]",
      "text/plain": [
       "<Figure size 1000x300 with 2 Axes>"
      ]
     },
     "metadata": {},
     "output_type": "display_data"
    },
    {
     "name": "stdout",
     "output_type": "stream",
     "text": [
      "a_vs_g : -1.00\n"
     ]
    }
   ],
   "source": [
    "print(f\"a_vs_a : {a_vs_a:.2f}\")\n",
    "fs.visualize_ndlists_side_by_side([matrix_a, matrix_a], num_on_a_row=2)\n",
    "\n",
    "print(f\"a_vs_b : {a_vs_b:.2f}\")\n",
    "fs.visualize_ndlists_side_by_side([matrix_a, matrix_b], num_on_a_row=2)\n",
    "\n",
    "print(f\"a_vs_c : {a_vs_c:.2f}\")\n",
    "fs.visualize_ndlists_side_by_side([matrix_a, matrix_c], num_on_a_row=2)\n",
    "\n",
    "print(f\"a_vs_e : {a_vs_e:.2f}\")\n",
    "fs.visualize_ndlists_side_by_side([matrix_a, matrix_e], num_on_a_row=2)\n",
    "\n",
    "print(f\"a_vs_f : {a_vs_f:.2f}\")\n",
    "fs.visualize_ndlists_side_by_side([matrix_a, matrix_f], num_on_a_row=2)\n",
    "\n",
    "print(f\"c_vs_d : {c_vs_d:.2f}\")\n",
    "fs.visualize_ndlists_side_by_side([matrix_c, matrix_d], num_on_a_row=2)\n",
    "\n",
    "print(f\"a_vs_g : {a_vs_g:.2f}\")\n",
    "fs.visualize_ndlists_side_by_side([matrix_a, matrix_g], num_on_a_row=2)"
   ]
  }
 ],
 "metadata": {
  "kernelspec": {
   "display_name": "Python 3",
   "language": "python",
   "name": "python3"
  },
  "language_info": {
   "codemirror_mode": {
    "name": "ipython",
    "version": 3
   },
   "file_extension": ".py",
   "mimetype": "text/x-python",
   "name": "python",
   "nbconvert_exporter": "python",
   "pygments_lexer": "ipython3",
   "version": "3.10.10"
  }
 },
 "nbformat": 4,
 "nbformat_minor": 2
}
