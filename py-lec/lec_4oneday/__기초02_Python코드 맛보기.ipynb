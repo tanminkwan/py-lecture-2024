{
 "cells": [
  {
   "cell_type": "markdown",
   "metadata": {},
   "source": [
    "## Python 코드 맛보기\n",
    "\n",
    "- python의 가장 기초적인 문법들을 예시로 살펴봅니다."
   ]
  },
  {
   "cell_type": "markdown",
   "metadata": {},
   "source": [
    "### 1. 변수 할당과 출력\n",
    "\n",
    "- 변수에 값을 할당하고 그 값을 출력하는 기본적인 예시입니다.\n",
    "- Python은 변수에 <span style=\"color:yellow\"><string>동적으로 타입(Type)을 할당</string></span>합니다."
   ]
  },
  {
   "cell_type": "code",
   "execution_count": null,
   "metadata": {},
   "outputs": [],
   "source": [
    "# 변수에 값 할당\n",
    "name = \"Alice\"\n",
    "age = 17\n",
    "is_adult = False\n",
    "\n",
    "# 변수 출력\n",
    "print(\"Name:\", name)\n",
    "print(\"Age:\", age)\n",
    "print(\"I am an adult. :\", is_adult)"
   ]
  },
  {
   "cell_type": "markdown",
   "metadata": {},
   "source": [
    "#### 문제 #1"
   ]
  },
  {
   "cell_type": "code",
   "execution_count": null,
   "metadata": {},
   "outputs": [],
   "source": [
    "\"\"\"\n",
    "문제 :\n",
    "    'c_'로 시작하는 변수 3개를 선언하고 서로 다른 Type의 값을 할당하세요.\n",
    "    Python 내장함수 print를 사용해서 변수들을 출력하세요\n",
    "\n",
    "결과 예시 :\n",
    "    김형기\n",
    "    3.14\n",
    "    7\n",
    "\"\"\"\n",
    "# to-do"
   ]
  },
  {
   "cell_type": "markdown",
   "metadata": {},
   "source": [
    "### 2. 조건문 (if-else)\n",
    "\n",
    "- 조건에 따라 다른 코드 블록을 실행하는 예시입니다.\n",
    "- Python은 코드 블록을 <span style=\"color:yellow\"><string>들여쓰기(indent)</string></span>로 표현합니다.  "
   ]
  },
  {
   "cell_type": "code",
   "execution_count": null,
   "metadata": {},
   "outputs": [],
   "source": [
    "# 사용자의 나이 입력 받기\n",
    "age = 30\n",
    "\n",
    "# 조건문으로 나이에 따라 다른 메시지 출력\n",
    "# (참고) age < 18 의 매직메소드 표현 : age.__lt__(18)\n",
    "if age < 18:\n",
    "    print(\"You are under 18.\")\n",
    "else:\n",
    "    print(\"You are 18 or older.\")"
   ]
  },
  {
   "cell_type": "markdown",
   "metadata": {},
   "source": [
    "- 인라인 if(inline-if) 예시입니다."
   ]
  },
  {
   "cell_type": "code",
   "execution_count": null,
   "metadata": {},
   "outputs": [],
   "source": [
    "# 사용자의 이름 입력 받기\n",
    "name = \"Tom\"\n",
    "\n",
    "# 참거짓에 따라 다른 문자열 할당\n",
    "# (참고) name == \"Tom\" 의 매직메소드 표현 : name.__eq__(\"Tom\")\n",
    "message = \"You are Tom.\" if name == \"Tom\" else \"You are not Tom.\"\n",
    "\n",
    "print(message)"
   ]
  },
  {
   "cell_type": "markdown",
   "metadata": {},
   "source": [
    "### 3. `bool` 자료형\n",
    "- 참과 거짓을 나타냅니다.\n",
    "    - 참 : True / 거짓 : False (맨 앞 글자가 대문자임을 유의)\n",
    "    - 숫자 0, 문자열, 리스트, 튜플, 딕셔너리등의 값이 비어있으면 거짓."
   ]
  },
  {
   "cell_type": "code",
   "execution_count": null,
   "metadata": {},
   "outputs": [],
   "source": [
    "if 'python':\n",
    "    print(True)\n",
    "else:\n",
    "    print(False)"
   ]
  },
  {
   "cell_type": "code",
   "execution_count": null,
   "metadata": {},
   "outputs": [],
   "source": [
    "print(True if '' else False)"
   ]
  },
  {
   "cell_type": "code",
   "execution_count": null,
   "metadata": {},
   "outputs": [],
   "source": [
    "# 내장함수 bool을 사용하여 True/False를 확인\n",
    "# (참고) bool(9) 의 매직메소드 표현 : (9).__bool__()\n",
    "bool(9), bool(...), bool(0), bool(0.0), bool(None)"
   ]
  },
  {
   "cell_type": "markdown",
   "metadata": {},
   "source": [
    "#### 문제 #2"
   ]
  },
  {
   "cell_type": "code",
   "execution_count": null,
   "metadata": {},
   "outputs": [],
   "source": [
    "\"\"\"\n",
    "문제 :\n",
    "   아래 원래 code를 inline-if문으로 변경하세요.\n",
    "\n",
    "# 원래 code\n",
    "if age >= 18:\n",
    "    status = \"abult\"\n",
    "else:\n",
    "    status = \"child\"\n",
    "\"\"\"\n",
    "age = 13\n",
    "status = ...\n",
    "\n",
    "print(status)"
   ]
  },
  {
   "cell_type": "markdown",
   "metadata": {},
   "source": [
    " ### 4. `not`, `and`, `or` 논리 연산자\n",
    " - not, and, or는 조건문에서 조건의 참과 거짓을 결정하거나, 복합 조건을 구성하는 데 사용됩니다.\n",
    " #### 4-1. `not`"
   ]
  },
  {
   "cell_type": "code",
   "execution_count": null,
   "metadata": {},
   "outputs": [],
   "source": [
    "x = True\n",
    "print(not x)  # False를 출력"
   ]
  },
  {
   "cell_type": "markdown",
   "metadata": {},
   "source": [
    "#### 4-2. `and`"
   ]
  },
  {
   "cell_type": "code",
   "execution_count": null,
   "metadata": {},
   "outputs": [],
   "source": [
    "x = True\n",
    "y = False\n",
    "print(x and y)  # False를 출력, x는 True이지만 y가 False이므로"
   ]
  },
  {
   "cell_type": "markdown",
   "metadata": {},
   "source": [
    "#### 4-3. `or`"
   ]
  },
  {
   "cell_type": "code",
   "execution_count": null,
   "metadata": {},
   "outputs": [],
   "source": [
    "x = True\n",
    "y = False\n",
    "print(x or y)  # True를 출력, x가 True이므로"
   ]
  },
  {
   "cell_type": "markdown",
   "metadata": {},
   "source": [
    "#### 문제 #3"
   ]
  },
  {
   "cell_type": "code",
   "execution_count": null,
   "metadata": {},
   "outputs": [],
   "source": [
    "\"\"\"\n",
    "문제 :\n",
    "    age가 10보다 크거나 같고 20보다 작은 경우\n",
    "    is_teen에 True를 할당하고\n",
    "    나머지 경우에는\n",
    "    is_teen에 False를 할당하는 code를 작성하라\n",
    "\"\"\"\n",
    "\n",
    "age = 13\n",
    "is_teen = ...\n",
    "\n",
    "print(is_teen)"
   ]
  },
  {
   "cell_type": "markdown",
   "metadata": {},
   "source": [
    "### 5. 리스트 (`list` 클래스)\n",
    "\n",
    "- 순서가 있는 변경 가능한 객체들의 집합.\n",
    "- 다양한 데이터 타입을 포함할 수 있음.\n",
    "- `[]`로 감싸서 표현"
   ]
  },
  {
   "cell_type": "code",
   "execution_count": null,
   "metadata": {},
   "outputs": [],
   "source": [
    "# 리스트 생성\n",
    "numbers = [0, 1]\n",
    "\n",
    "# 리스트에 항목 추가\n",
    "numbers.append(2)\n",
    "\n",
    "# index로 값에 접근하기\n",
    "# (참고) numbers[1]의 매직메소드 표현 : numbers.__getitem__(1)\n",
    "print(numbers[1])\n",
    "\n",
    "# index로 값 변경하기\n",
    "# (참고) numbers[1] = 5 의 매직메소드 표현 : numbers.__setitem__(1, 5)\n",
    "numbers[1] = 5\n",
    "\n",
    "# 리스트 출력\n",
    "print(\"Numbers:\", numbers)"
   ]
  },
  {
   "cell_type": "markdown",
   "metadata": {},
   "source": [
    "### 6. 반복문 (`for loop`)\n",
    "\n",
    "- `iterable`(반복 가능한) 클래스와 반복(`iteration`)문\n",
    "- `iterable` 클래스란 매직메소드 `__iter__()`, `__next__()`가 정의된 클래스스"
   ]
  },
  {
   "cell_type": "code",
   "execution_count": null,
   "metadata": {},
   "outputs": [],
   "source": [
    "# 대표적인 iterable 클래스인 list를 for 반복문으로 순회\n",
    "# -  list numbers 에서 5보다 큰 숫자만 list big_numbers에 추가\n",
    "numbers = [6, 8, 2, 4, 7, 9, 0]\n",
    "\n",
    "big_numbers = []\n",
    "\n",
    "for n in numbers:\n",
    "    if n > 5:\n",
    "        big_numbers.append(n)\n",
    "\n",
    "print(big_numbers)"
   ]
  },
  {
   "cell_type": "code",
   "execution_count": null,
   "metadata": {},
   "outputs": [],
   "source": [
    "# (참고) 컴프리헨션을 이용하여 동일하게 구현\n",
    "numbers = [6, 8, 2, 4, 7, 9, 0]\n",
    "\n",
    "big_numbers = [n for n in numbers if n > 5]\n",
    "\n",
    "print(big_numbers)"
   ]
  },
  {
   "cell_type": "code",
   "execution_count": null,
   "metadata": {},
   "outputs": [],
   "source": [
    "# (참고) 메직메소드를 명시적으로 사용하여 동일하게 구현\n",
    "numbers = [6, 8, 2, 4, 7, 9, 0]\n",
    "\n",
    "big_numbers = []\n",
    "\n",
    "iterator = numbers.__iter__()\n",
    "while True:\n",
    "    try:\n",
    "        n = next(iterator)\n",
    "        if n.__gt__(5):\n",
    "            big_numbers.append(n) \n",
    "    except StopIteration:\n",
    "        break\n",
    "\n",
    "print(big_numbers)"
   ]
  },
  {
   "cell_type": "markdown",
   "metadata": {},
   "source": [
    "#### 문제 #4"
   ]
  },
  {
   "cell_type": "code",
   "execution_count": null,
   "metadata": {},
   "outputs": [],
   "source": [
    "\"\"\"\n",
    "문제 :\n",
    "    numbers는 0~9 정수를 값으로 가지는 list이다.\n",
    "    sum_numbers가 numbers의 모든 값을 합산하도록 ...를 완성하라\n",
    "   \n",
    "예상 출력:\n",
    "    45\n",
    "\"\"\"\n",
    "numbers = [0,1,2,3,4,5,6,7,8,9]\n",
    "sum_numbers = 0\n",
    "\n",
    "for number in numbers:\n",
    "    ...\n",
    "\n",
    "print(sum_numbers)"
   ]
  },
  {
   "cell_type": "markdown",
   "metadata": {},
   "source": [
    "### 7. 함수\n",
    "- 특정 작업을 수행하는 코드 블록으로, 재사용이 가능함.\n",
    "- `def` 키워드로 정의"
   ]
  },
  {
   "cell_type": "code",
   "execution_count": null,
   "metadata": {},
   "outputs": [],
   "source": [
    "# 두 수를 더하는 함수 정의\n",
    "def add_numbers(a, b):\n",
    "    return a + b\n",
    "\n",
    "# 함수 호출 및 결과 출력\n",
    "result = add_numbers(5, 3)\n",
    "print(\"Result:\", result)"
   ]
  },
  {
   "cell_type": "markdown",
   "metadata": {},
   "source": [
    "#### 문제 #5"
   ]
  },
  {
   "cell_type": "code",
   "execution_count": null,
   "metadata": {
    "metadata": {}
   },
   "outputs": [],
   "source": [
    "\"\"\"\n",
    "문제 :\n",
    "    두개의 인수를 받아 두 인수의 값이 같으면 True 다르면 False를 return하는 함수를 정의 하시오\n",
    "\n",
    "    \n",
    "\"\"\"\n",
    "def equal(a, b):\n",
    "    ...\n",
    "    return ...\n",
    "\n",
    "print(equal(1, 1))\n",
    "print(equal(\"문제\", \"함수\"))"
   ]
  },
  {
   "cell_type": "markdown",
   "metadata": {},
   "source": [
    "### 8. 문자열(`str` 클래스)\n",
    "\n",
    "- 텍스트 데이터를 처리하기 위한 클래스"
   ]
  },
  {
   "cell_type": "code",
   "execution_count": null,
   "metadata": {},
   "outputs": [],
   "source": [
    "# 문자열 변수 선언\n",
    "message = 'Hello, World!'\n",
    "\n",
    "# 문자열 일부분 출력\n",
    "# (참고) message[:5]의 매직메소드 표현 : message.__getitem__(slice(None, 5))\n",
    "print(\"First 5 characters:\", message[:5])"
   ]
  },
  {
   "cell_type": "code",
   "execution_count": null,
   "metadata": {},
   "outputs": [],
   "source": [
    "# 두 문자열 합치기\n",
    "greeting = 'Hello'\n",
    "name = \"Alice\"\n",
    "full_message = greeting + \", \" + name + \"!\"\n",
    "# (참고) 매직메소드 표현 : greeting.__add__(\", \").__add__(name).__add__(\"!\")\n",
    "\n",
    "print(\"Full Message:\", full_message)"
   ]
  },
  {
   "cell_type": "markdown",
   "metadata": {},
   "source": [
    "- Python에서는 문자열을 표현할 때 큰 따옴표(\")와 작은 따옴표(')를 모두 사용할 수 있습니다. \n",
    "- 이 두 가지의 차이는 주로 문자열 안에 따옴표를 포함해야 할 때나 문자열 안에 변수 값을 포함해야 할 때 발생합니다."
   ]
  },
  {
   "cell_type": "code",
   "execution_count": null,
   "metadata": {},
   "outputs": [],
   "source": [
    "message1 = \"I'm fine.\"\n",
    "message2 = 'He said, \"Hello!\"'\n",
    "\n",
    "print(message1)\n",
    "print(message2)"
   ]
  },
  {
   "cell_type": "markdown",
   "metadata": {},
   "source": [
    "### 9. 딕셔너리 (`dict` 클래스)\n",
    "- 키와 값의 쌍으로 구성된 변경 가능한 자료형으로, 키는 고유해야 함\n",
    "- `{}`로 감싸서 표현"
   ]
  },
  {
   "cell_type": "code",
   "execution_count": null,
   "metadata": {},
   "outputs": [],
   "source": [
    "# 빈 딕셔너리 생성\n",
    "person = {}\n",
    "\n",
    "# 방법 1 딕셔너리에 정보 추가\n",
    "person[\"name\"] = \"Alice\"\n",
    "person[\"age\"] = 30\n",
    "person[\"city\"] = \"New York\"\n",
    "\n",
    "# 방법 2 딕셔너리에 정보 추가\n",
    "person = {\n",
    "    \"name\":\"Alice\",\n",
    "    \"age\":30,\n",
    "    \"city\":\"New York\"\n",
    "}\n",
    "\n",
    "# 딕셔너리의 값 출력\n",
    "print(\"Person:\", person)\n",
    "\n",
    "# 특정 키의 값 출력\n",
    "# (참고) person[\"name\"]의 매직메소드 표현 : person.__getitem__(\"name\")\n",
    "print(\"Name:\", person[\"name\"])\n"
   ]
  },
  {
   "cell_type": "markdown",
   "metadata": {},
   "source": [
    "#### 문제 #6"
   ]
  },
  {
   "cell_type": "code",
   "execution_count": null,
   "metadata": {},
   "outputs": [],
   "source": [
    "\"\"\"\n",
    "문제 :\n",
    "    다음 key, value를 저장하는 딕셔너리를 생성하세요.\n",
    "    frame_no : 35\n",
    "    height : 150\n",
    "    width : 340\n",
    "예상 출력:\n",
    "    {'frame_no': 35, 'height': 150, 'width': 340}\n",
    "\"\"\" \n",
    "frame_size = ...\n",
    "print(frame_size)"
   ]
  },
  {
   "cell_type": "markdown",
   "metadata": {},
   "source": [
    "### 10. 클래스(Class)\n",
    "- 데이터와 해당 데이터를 처리하는 메서드(함수)를 포함하는 사용자 정의 데이터 형식\n",
    "- Python에서 클래스 이름은 CamelCase 를 사용하고 클래스가 아닌 경우에는 snake_case를 사용 (단, `int`, `range` 등 내장 클래스는 소문자로만 사용)"
   ]
  },
  {
   "cell_type": "code",
   "execution_count": 25,
   "metadata": {},
   "outputs": [],
   "source": [
    "class Person:\n",
    "    \"\"\"간단한 사람 클래스\"\"\"\n",
    "    \n",
    "    def __init__(self, name, age):\n",
    "        \"\"\"Person 클래스의 생성자\"\"\"\n",
    "        self.name = name\n",
    "        self.age = age\n",
    "    \n",
    "    def greet(self):\n",
    "        \"\"\"인사하는 메서드\"\"\"\n",
    "        print(f\"Hello, my name is {self.name} and I am {self.age} years old.\")\n",
    "\n",
    "# Person 클래스의 인스턴스 생성\n",
    "person1 = Person(\"Alice\", 30)\n",
    "person2 = Person(\"Bob\", 25)\n",
    "\n",
    "# 인스턴스의 속성에 접근하여 출력\n",
    "print(person1.name)  # 출력: \"Alice\"\n",
    "print(person2.age)   # 출력: 25\n",
    "\n",
    "# 인스턴스의 메서드 호출\n",
    "person1.greet()  # 출력: \"Hello, my name is Alice and I am 30 years old.\"\n",
    "person2.greet()  # 출력: \"Hello, my name is Bob and I am 25 years old.\""
   ]
  },
  {
   "cell_type": "markdown",
   "metadata": {},
   "source": [
    "### 11. 라이브러리 import 하기\n",
    "- 라이브러리를 import하는 것은 해당 라이브러리의 기능을 현재 스크립트나 모듈에서 사용할 수 있게 해줍니다."
   ]
  },
  {
   "cell_type": "code",
   "execution_count": null,
   "metadata": {},
   "outputs": [],
   "source": [
    "# 기본 Import\n",
    "import math\n",
    "\n",
    "print(math.sqrt(16))  # 4.0 출력"
   ]
  },
  {
   "cell_type": "code",
   "execution_count": null,
   "metadata": {},
   "outputs": [],
   "source": [
    "# From...Import 구문\n",
    "from math import sqrt\n",
    "\n",
    "print(sqrt(16))  # 4.0 출력"
   ]
  },
  {
   "cell_type": "code",
   "execution_count": null,
   "metadata": {},
   "outputs": [],
   "source": [
    "# Alias 사용\n",
    "import math as m\n",
    "\n",
    "print(m.sqrt(16))  # 4.0 출력"
   ]
  },
  {
   "cell_type": "markdown",
   "metadata": {},
   "source": [
    "## Wrap up\n",
    "1. **변수와 데이터 타입**: \n",
    "    \n",
    "    파이썬에서 변수를 사용하여 데이터를 저장하고, 동적 타이핑으로 다양한 데이터 타입(문자열, 숫자, 불리언)을 다룰 수 있어야 합니다.\n",
    "2. **조건문과 반복문의 기본**: \n",
    "    \n",
    "    파이썬에서 조건문(`if-else`)과 반복문(`for`)을 사용하여 프로그램의 흐름을 제어하고, 반복 작업을 처리할 수 있어야 합니다.\n",
    "3. **리스트와 딕셔너리 사용법**: \n",
    "    \n",
    "    파이썬의 핵심 데이터 구조인 리스트와 딕셔너리를 사용할 수 있어야 합니다.\n",
    "4. **함수와 클래스**: \n",
    "    \n",
    "    함수와 클래스스를 정의하고 호출하는 방법을 배워 코드를 모듈화하고 재사용할 수 있어야 합니다."
   ]
  }
 ],
 "metadata": {
  "kernelspec": {
   "display_name": "Python 3",
   "language": "python",
   "name": "python3"
  },
  "language_info": {
   "codemirror_mode": {
    "name": "ipython",
    "version": 3
   },
   "file_extension": ".py",
   "mimetype": "text/x-python",
   "name": "python",
   "nbconvert_exporter": "python",
   "pygments_lexer": "ipython3",
   "version": "3.10.10"
  }
 },
 "nbformat": 4,
 "nbformat_minor": 2
}
