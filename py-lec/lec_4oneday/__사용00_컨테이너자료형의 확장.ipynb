{
 "cells": [
  {
   "cell_type": "markdown",
   "metadata": {},
   "source": [
    "- 특수한 Class  Ellipsis , None\n",
    "- Magic method 를 활용 직관적인 연산"
   ]
  },
  {
   "cell_type": "markdown",
   "metadata": {},
   "source": [
    "**패키지(Packages)**와 모듈(Modules):\n",
    "\n",
    "패키지는 모듈의 집합으로, 디렉토리 구조로 이루어져 있으며 `__init__.py` 파일을 포함합니다.\n",
    "모듈은 하나의 .py 파일로, 다양한 함수나 클래스를 포함합니다. 예를 들어, numpy 패키지 내에 여러 모듈들이 존재합니다."
   ]
  },
  {
   "cell_type": "markdown",
   "metadata": {},
   "source": [
    "Numpy: 수치 연산을 위한 컨테이너의 확장\n",
    "Numpy는 주로 수치 데이터를 효율적으로 다루고 연산하기 위한 라이브러리로, Python의 기본 컨테이너 자료형의 기능을 확장합니다. 특히, Numpy는 수치 연산을 매우 빠르게 수행할 수 있도록 최적화된 ndarray라는 배열 객체를 제공합니다.\n",
    "\n",
    "ndarray는 다차원 배열을 지원하며, 모든 요소는 동일한 자료형을 가집니다. 이는 수치 데이터를 처리하는 데 최적화되어 있습니다.\n",
    "벡터화 연산: Numpy는 반복문 없이 배열 전체에 대해 연산을 수행할 수 있습니다. 예를 들어, 두 배열의 덧셈은 arr1 + arr2와 같은 방식으로 간단히 수행됩니다.\n",
    "브로드캐스팅: 서로 다른 크기의 배열 간의 연산도 가능하게 해주는 기능입니다. 예를 들어, 스칼라 값을 배열 전체에 더하는 연산이 가능합니다.\n",
    "Numpy는 수치 연산에서 리스트보다 훨씬 효율적이며, 대규모 데이터 처리에서 주로 사용됩니다."
   ]
  },
  {
   "cell_type": "markdown",
   "metadata": {},
   "source": [
    "Pandas: 구조화된 데이터 연산을 위한 컨테이너의 확장\n",
    "Pandas는 구조화된 데이터를 효과적으로 관리하고 조작하기 위해 설계된 라이브러리입니다. 특히, Series와 DataFrame이라는 두 가지 주요 자료형을 제공합니다.\n",
    "\n",
    "Series: 1차원 배열과 유사하지만, 각 데이터에 인덱스를 부여할 수 있습니다. 이는 데이터를 라벨링하여 관리할 수 있는 강력한 기능을 제공합니다.\n",
    "DataFrame: 2차원 테이블 구조로, 여러 개의 Series를 모아놓은 형태입니다. 이는 행(row)과 열(column)로 데이터를 관리할 수 있으며, 엑셀이나 SQL 테이블과 유사한 방식으로 데이터를 다룰 수 있습니다.\n",
    "Pandas는 다음과 같은 연산을 제공합니다:\n",
    "\n",
    "데이터 필터링: 조건에 따라 데이터를 필터링할 수 있습니다. 예: df[df['column'] > value]\n",
    "그룹화: 데이터를 특정 기준으로 그룹화하고 집계 연산을 수행할 수 있습니다. 예: df.groupby('column').sum()\n",
    "결합: 여러 DataFrame을 하나로 결합할 수 있습니다. 예: pd.concat([df1, df2]) 또는 df1.merge(df2, on='key')\n",
    "Pandas는 특히 구조화된 데이터(예: CSV 파일, 데이터베이스에서 불러온 데이터)를 분석하고 조작할 때 매우 유용합니다. 이는 기본 컨테이너 자료형의 기능을 확장하여 대규모 데이터를 효율적으로 관리하고 분석할 수 있는 도구를 제공합니다."
   ]
  },
  {
   "cell_type": "code",
   "execution_count": 13,
   "metadata": {},
   "outputs": [],
   "source": [
    "class Time:\n",
    "    def __init__(self, hours, minutes):\n",
    "        self.hours = hours\n",
    "        self.minutes = minutes\n",
    "\n",
    "    def __add__(self, other):\n",
    "        if isinstance(other, Time):\n",
    "            total_minutes = self.minutes + other.minutes\n",
    "            total_hours = self.hours + other.hours + total_minutes // 60\n",
    "            total_minutes = total_minutes % 60\n",
    "        elif isinstance(other, int):\n",
    "            total_minutes = self.minutes + other\n",
    "            total_hours = self.hours + total_minutes // 60\n",
    "            total_minutes = total_minutes % 60\n",
    "        else:\n",
    "            return NotImplemented\n",
    "        return Time(total_hours, total_minutes)\n",
    "\n",
    "    def __radd__(self, other):\n",
    "        # int + Time을 지원하기 위해 __radd__ 메서드를 추가\n",
    "        return self.__add__(other)\n",
    "    \n",
    "    def __eq__(self, other):\n",
    "        if isinstance(other, Time):\n",
    "            return self.hours == other.hours and self.minutes == other.minutes\n",
    "        return False\n",
    "    \n",
    "    def __str__(self):\n",
    "        return f\"{self.hours}h {self.minutes}m\"\n",
    "    \n",
    "    def __repr__(self):\n",
    "        return f\"{self.hours}시간 {self.minutes}분\"\n"
   ]
  },
  {
   "cell_type": "code",
   "execution_count": 16,
   "metadata": {},
   "outputs": [],
   "source": [
    "t1 = Time(1, 10)\n",
    "t2 = Time(2, 5)"
   ]
  },
  {
   "cell_type": "code",
   "execution_count": 17,
   "metadata": {},
   "outputs": [
    {
     "data": {
      "text/plain": [
       "True"
      ]
     },
     "execution_count": 17,
     "metadata": {},
     "output_type": "execute_result"
    }
   ],
   "source": [
    "t1 + t2 == t1.__add__(t2)"
   ]
  },
  {
   "cell_type": "code",
   "execution_count": 27,
   "metadata": {},
   "outputs": [
    {
     "data": {
      "text/plain": [
       "True"
      ]
     },
     "execution_count": 27,
     "metadata": {},
     "output_type": "execute_result"
    }
   ],
   "source": [
    "t1 + 2 == t1.__add__(2)"
   ]
  },
  {
   "cell_type": "code",
   "execution_count": 26,
   "metadata": {},
   "outputs": [
    {
     "data": {
      "text/plain": [
       "True"
      ]
     },
     "execution_count": 26,
     "metadata": {},
     "output_type": "execute_result"
    }
   ],
   "source": [
    "2 + t1 == t1.__radd__(2)"
   ]
  },
  {
   "cell_type": "code",
   "execution_count": 25,
   "metadata": {},
   "outputs": [
    {
     "data": {
      "text/plain": [
       "1시간 12분"
      ]
     },
     "execution_count": 25,
     "metadata": {},
     "output_type": "execute_result"
    }
   ],
   "source": [
    "Time(1, 10).__radd__(2)"
   ]
  },
  {
   "cell_type": "markdown",
   "metadata": {},
   "source": [
    "### 1. 외부 라이브러리 사용하기\n",
    "#### 1-1. 외부 라이브러리 설치"
   ]
  },
  {
   "cell_type": "code",
   "execution_count": 28,
   "metadata": {},
   "outputs": [
    {
     "name": "stdout",
     "output_type": "stream",
     "text": [
      "Requirement already satisfied: numpy in c:\\users\\prof\\appdata\\local\\programs\\python\\python312\\lib\\site-packages (1.26.4)\n"
     ]
    }
   ],
   "source": [
    "# Python 패키지 관리 도구인 pip를 사용하여 설치\n",
    "!pip install numpy"
   ]
  },
  {
   "cell_type": "markdown",
   "metadata": {},
   "source": [
    "#### 1-2. 라이브러리 구조\n",
    "- numpy 예시\n",
    "    ```bash\n",
    "    numpy/\n",
    "    │\n",
    "    ├── __init__.py   # 패키지 초기화 파일 (파이썬 3.3 이후 생략 가능)\n",
    "    ├── version.py     # 모듈 파일\n",
    "    ├── random/       # 서브 패키지 디렉토리\n",
    "    │   ├── __init__.py   # 서브 패키지 초기화 파일\n",
    "    │   ├── submodule.py  # 서브 모듈 파일\n",
    "    │   └── ...\n",
    "    └── ...\n",
    "\n",
    "    ```"
   ]
  },
  {
   "cell_type": "markdown",
   "metadata": {},
   "source": [
    "__init__.py 에 선언된 변수, 함수, 클레스는 해당 패키지"
   ]
  },
  {
   "cell_type": "markdown",
   "metadata": {},
   "source": [
    "sys.path : 파이썬이 모듈을 검색하는 경로들의 리스트\n",
    "임의의 경로 추가 가능\n",
    "해당 경로에 위치한 패키지(디렉토리) 또는 모듈파일(py 파일) 들은 해당 디렉토리 또는 파일명으로 import 가 가능함"
   ]
  },
  {
   "cell_type": "code",
   "execution_count": 33,
   "metadata": {},
   "outputs": [
    {
     "data": {
      "text/plain": [
       "['c:\\\\Users\\\\prof\\\\AppData\\\\Local\\\\Programs\\\\Python\\\\Python312\\\\python312.zip',\n",
       " 'c:\\\\Users\\\\prof\\\\AppData\\\\Local\\\\Programs\\\\Python\\\\Python312\\\\DLLs',\n",
       " 'c:\\\\Users\\\\prof\\\\AppData\\\\Local\\\\Programs\\\\Python\\\\Python312\\\\Lib',\n",
       " 'c:\\\\Users\\\\prof\\\\AppData\\\\Local\\\\Programs\\\\Python\\\\Python312',\n",
       " '',\n",
       " 'c:\\\\Users\\\\prof\\\\AppData\\\\Local\\\\Programs\\\\Python\\\\Python312\\\\Lib\\\\site-packages',\n",
       " 'c:\\\\Users\\\\prof\\\\AppData\\\\Local\\\\Programs\\\\Python\\\\Python312\\\\Lib\\\\site-packages\\\\win32',\n",
       " 'c:\\\\Users\\\\prof\\\\AppData\\\\Local\\\\Programs\\\\Python\\\\Python312\\\\Lib\\\\site-packages\\\\win32\\\\lib',\n",
       " 'c:\\\\Users\\\\prof\\\\AppData\\\\Local\\\\Programs\\\\Python\\\\Python312\\\\Lib\\\\site-packages\\\\Pythonwin']"
      ]
     },
     "execution_count": 33,
     "metadata": {},
     "output_type": "execute_result"
    }
   ],
   "source": [
    "import sys\n",
    "sys.path"
   ]
  },
  {
   "cell_type": "markdown",
   "metadata": {},
   "source": [
    "<라이브러리>.<모듈 또는 서브 패키지>.<서브 모듈 또는 >...<변수,함수,Class 등>\n",
    "\n"
   ]
  },
  {
   "cell_type": "code",
   "execution_count": 32,
   "metadata": {},
   "outputs": [
    {
     "data": {
      "text/plain": [
       "'1.26.4'"
      ]
     },
     "execution_count": 32,
     "metadata": {},
     "output_type": "execute_result"
    }
   ],
   "source": [
    "import numpy\n",
    "\n",
    "# numpy/__init__.py array 에 정의된 함수 사용\n",
    "arr = numpy.array([1,2,3])\n",
    "\n",
    "# numpy/version.py 에 정의된 version 변수 사용\n",
    "version = numpy.version.version\n",
    "\n",
    "# numpy/random/__init__.py 에 정의된 randint 함수 사용\n",
    "arr_rand = numpy.random.randint(0, 255, size=5)"
   ]
  }
 ],
 "metadata": {
  "kernelspec": {
   "display_name": "Python 3",
   "language": "python",
   "name": "python3"
  },
  "language_info": {
   "codemirror_mode": {
    "name": "ipython",
    "version": 3
   },
   "file_extension": ".py",
   "mimetype": "text/x-python",
   "name": "python",
   "nbconvert_exporter": "python",
   "pygments_lexer": "ipython3",
   "version": "3.12.1"
  }
 },
 "nbformat": 4,
 "nbformat_minor": 2
}
