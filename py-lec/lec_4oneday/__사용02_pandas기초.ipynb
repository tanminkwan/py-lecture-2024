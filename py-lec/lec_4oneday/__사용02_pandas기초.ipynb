{
 "cells": [
  {
   "cell_type": "markdown",
   "metadata": {},
   "source": [
    "# Pandas 란\n",
    "- 테이블 데이터를 효율적으로 조작 및 분석할 수 있는 라이브러리입니다.\n",
    "- 금융 데이터 분석, 통계 데이터 분석, 데이터 전처리 및 데이터 클린징 작업에 활용됩니다."
   ]
  },
  {
   "cell_type": "markdown",
   "metadata": {},
   "source": [
    "# Pandas 기본 사용법"
   ]
  },
  {
   "cell_type": "markdown",
   "metadata": {},
   "source": [
    "### 1. Pandas 라이브러리 가져오기\n",
    "\n",
    "- Pandas를 사용하기 위해서는 먼저 라이브러리를 import 해야 합니다."
   ]
  },
  {
   "cell_type": "code",
   "execution_count": null,
   "metadata": {},
   "outputs": [],
   "source": [
    "import pandas as pd"
   ]
  },
  {
   "cell_type": "markdown",
   "metadata": {},
   "source": [
    "### 2. 데이터 구조\n",
    "\n",
    "- Pandas에서는 두 가지 주요 데이터 구조를 사용합니다: Series와 DataFrame.\n",
    "#### 2.1. Series\n",
    "\n",
    "- Series는 1차원 데이터 배열입니다. 인덱스를 가지고 있습니다."
   ]
  },
  {
   "cell_type": "code",
   "execution_count": null,
   "metadata": {},
   "outputs": [],
   "source": [
    "# Series 생성\n",
    "s = pd.Series([1, 3, 5, 6, 8])\n",
    "print(s)\n",
    "\n",
    "# Series 생성\n",
    "s = pd.Series([1, [\"Hello\", \"Bye\"], 5, None, 6, 8])\n",
    "print(s)\n",
    "\n",
    "# Series 생성\n",
    "s = pd.Series([1, 3, 5, None, \"6\", 8])\n",
    "print(s)"
   ]
  },
  {
   "cell_type": "markdown",
   "metadata": {},
   "source": [
    "#### 2.2. DataFrame\n",
    "\n",
    "- DataFrame은 2차원 데이터 배열이며, 여러 개의 Series를 모아서 테이블 형태로 만든 것입니다."
   ]
  },
  {
   "cell_type": "code",
   "execution_count": null,
   "metadata": {},
   "outputs": [],
   "source": [
    "# DataFrame 생성 (Series로 생성하기)\n",
    "name        = pd.Series(['걸그룹_뉴진스', '민지', '하니', '다니엘', '해린', '혜인', '걸그룹_에스파', '카리나', '지젤', '윈터', '닝닝'] , name=\"Name\")\n",
    "age         = pd.Series([None, 20, 20, 19, 18, 16, None, 24, 24, 23, 22] , name=\"Age\")\n",
    "nationality = pd.Series([None, '한국', '호주', '호주', '한국', '한국', None, '한국', '일본', '한국', '중국'] , name=\"Nationality\")\n",
    "\n",
    "df = pd.concat([name, age, nationality], axis=1)\n",
    "\n",
    "df"
   ]
  },
  {
   "cell_type": "code",
   "execution_count": null,
   "metadata": {},
   "outputs": [],
   "source": [
    "# DataFrame 생성 (list를 value로 가지는 dictionary data로 생성하기)\n",
    "df = pd.DataFrame({\n",
    "    'Name': ['걸그룹_뉴진스', '민지', '하니', '다니엘', '해린', '혜인', '걸그룹_에스파', '카리나', '지젤', '윈터', '닝닝'],\n",
    "    'Age': [None, 20, 20, 19, 18, 16, None, 24, 24, 23, 22],\n",
    "    'Nationality': [None, '한국', '호주', '호주', '한국', '한국', None, '한국', '일본', '한국', '중국']\n",
    "})\n",
    "\n",
    "df"
   ]
  },
  {
   "cell_type": "markdown",
   "metadata": {},
   "source": [
    "- 그룹 식별용 깃발(flag) 다음에 해당 그룹에 소속된 사람들이 한줄로 서 있는 경우를 상상해주세요.\n",
    "\n",
    "  ![Alt text for broken image link](../resources/pandas_df.jpg)"
   ]
  },
  {
   "cell_type": "markdown",
   "metadata": {},
   "source": [
    "### 3. 데이터 접근하기\n",
    "\n",
    "- DataFrame 내의 데이터에 접근하고 조작할 수 있습니다.\n",
    "#### 3.1. 열(Columns) 선택"
   ]
  },
  {
   "cell_type": "code",
   "execution_count": null,
   "metadata": {},
   "outputs": [],
   "source": [
    "# 열 선택\n",
    "df['Name'] # -> Series return"
   ]
  },
  {
   "cell_type": "markdown",
   "metadata": {},
   "source": [
    "#### 3.2. 행(Rows) 선택"
   ]
  },
  {
   "cell_type": "code",
   "execution_count": null,
   "metadata": {},
   "outputs": [],
   "source": [
    "# 인덱스로 행 선택\n",
    "df.loc[2] # -> Series return"
   ]
  },
  {
   "cell_type": "markdown",
   "metadata": {},
   "source": [
    "### 4. 슬라이싱"
   ]
  },
  {
   "cell_type": "code",
   "execution_count": null,
   "metadata": {},
   "outputs": [],
   "source": [
    "# df 값 출력\n",
    "df"
   ]
  },
  {
   "cell_type": "code",
   "execution_count": null,
   "metadata": {},
   "outputs": [],
   "source": [
    "# 1열 ~ 2열 Slicing\n",
    "df[1:3] # -> Data Frame return"
   ]
  },
  {
   "cell_type": "code",
   "execution_count": null,
   "metadata": {},
   "outputs": [],
   "source": [
    "# 1열 ~ 6열 Slicing, 간격 2\n",
    "df[1:7:2] # -> Data Frame return"
   ]
  },
  {
   "cell_type": "markdown",
   "metadata": {},
   "source": [
    "### 5. 데이터 필터링\n",
    "\n",
    "- 조건에 맞는 데이터를 추출할 수 있습니다."
   ]
  },
  {
   "cell_type": "code",
   "execution_count": null,
   "metadata": {},
   "outputs": [],
   "source": [
    "# 조건에 맞는 행 추출\n",
    "filtered_df = df[df['Age'] > 21]\n",
    "print(filtered_df)"
   ]
  },
  {
   "cell_type": "markdown",
   "metadata": {},
   "source": [
    "### 6. 데이터 정렬"
   ]
  },
  {
   "cell_type": "code",
   "execution_count": null,
   "metadata": {},
   "outputs": [],
   "source": [
    "# 나이를 기준으로 오름차순 정렬\n",
    "sorted_df = df.sort_values(by='Age')\n",
    "print(sorted_df)"
   ]
  },
  {
   "cell_type": "markdown",
   "metadata": {},
   "source": [
    "### 7. Data 추가\n",
    "#### 7-1. 열(column) 추가\n",
    "- 단일 값으로 새로운 열 추가"
   ]
  },
  {
   "cell_type": "code",
   "execution_count": null,
   "metadata": {},
   "outputs": [],
   "source": [
    "# '성별'이라는 새로운 열 추가 (단일 값으로 브로드케스트)\n",
    "df['성별'] = '여성'\n",
    "\n",
    "df"
   ]
  },
  {
   "cell_type": "markdown",
   "metadata": {},
   "source": [
    "- 특정 값 수정"
   ]
  },
  {
   "cell_type": "code",
   "execution_count": null,
   "metadata": {},
   "outputs": [],
   "source": [
    "# 그룹을 구분하는 열의 성별값을 None으로 변경\n",
    "\n",
    "df.at[0, '성별'] = None\n",
    "df.at[6, '성별'] = None\n",
    "\n",
    "df"
   ]
  },
  {
   "cell_type": "markdown",
   "metadata": {},
   "source": [
    "- 리스트나 배열로 새로운 열 추가"
   ]
  },
  {
   "cell_type": "code",
   "execution_count": null,
   "metadata": {},
   "outputs": [],
   "source": [
    "# 리스트를 사용하여 새로운 열 추가\n",
    "df['성별'] = [None, '여성', '여성', '여성', '여성', '여성', None, '여성', '여성', '여성', '여성']\n",
    "\n",
    "df"
   ]
  },
  {
   "cell_type": "markdown",
   "metadata": {},
   "source": [
    "#### 7-2. 행(row) 추가 (실제로는 두개의 data frame 이어 붙이기)\n",
    "- pandas에서 행추가 기능은 제공하지 않습니다. \n",
    "- 두개의 데이터프레임을 이어 붙이는 메소드 `concat`을 활용하여 행을 추가합니다.\n",
    "- `ignore_index=True`를 지정하면 기존 인덱스를 무시하고 새로운 인덱스를 부여합니다."
   ]
  },
  {
   "cell_type": "code",
   "execution_count": null,
   "metadata": {},
   "outputs": [],
   "source": [
    "# 데이터프레임 생성\n",
    "new_member_df = pd.DataFrame({'Name': ['홍예슬'], 'Age': [35], 'Nationality': ['한국'], '성별': ['여성']})"
   ]
  },
  {
   "cell_type": "markdown",
   "metadata": {},
   "source": [
    "- DataFrame의 끝행에 append"
   ]
  },
  {
   "cell_type": "code",
   "execution_count": null,
   "metadata": {},
   "outputs": [],
   "source": [
    "new_df = pd.concat([df, new_member_df], ignore_index=True)\n",
    "\n",
    "new_df"
   ]
  },
  {
   "cell_type": "markdown",
   "metadata": {},
   "source": [
    "- DataFrame 사이 열에 insert"
   ]
  },
  {
   "cell_type": "code",
   "execution_count": null,
   "metadata": {},
   "outputs": [],
   "source": [
    "df = pd.concat([df[:5], new_member_df, df[6:]], ignore_index=True)\n",
    "\n",
    "df"
   ]
  },
  {
   "cell_type": "markdown",
   "metadata": {},
   "source": [
    "### 8. 집계 함수\n",
    "\n",
    "- DataFrame에서 데이터를 집계하고 요약할 수 있는 함수들이 있습니다."
   ]
  },
  {
   "cell_type": "code",
   "execution_count": null,
   "metadata": {},
   "outputs": [],
   "source": [
    "# 평균, 최대값, 최소값 계산\n",
    "print(f\"Age 평균 : {df['Age'].mean()}\")\n",
    "print(f\"Name max : {df['Name'].max()}\")\n",
    "print(f\"Name min : {df['Nationality'].min()}\") # Error 발생"
   ]
  },
  {
   "cell_type": "code",
   "execution_count": null,
   "metadata": {},
   "outputs": [],
   "source": [
    "# None 값을 NaN으로 변경\n",
    "import numpy as np\n",
    "df = df.replace({None: np.nan})\n",
    "\n",
    "df"
   ]
  },
  {
   "cell_type": "code",
   "execution_count": null,
   "metadata": {},
   "outputs": [],
   "source": [
    "# NaN 값 무시\n",
    "df['Nationality'].dropna().min()"
   ]
  },
  {
   "cell_type": "markdown",
   "metadata": {},
   "source": [
    "### 9. 데이터 읽기와 쓰기\n",
    "\n",
    "- Pandas는 다양한 데이터 소스에서 데이터를 읽고 쓰는 기능을 제공합니다.\n",
    "#### 9.1. CSV 파일 읽기와 쓰기"
   ]
  },
  {
   "cell_type": "code",
   "execution_count": null,
   "metadata": {},
   "outputs": [],
   "source": [
    "# CSV 파일 쓰기\n",
    "df.to_csv('output.csv', index=False)"
   ]
  },
  {
   "cell_type": "code",
   "execution_count": null,
   "metadata": {},
   "outputs": [],
   "source": [
    "# CSV 파일 읽기\n",
    "df_data = pd.read_csv('output.csv')\n",
    "print(df_data.head())  # 처음 5개 행 출력"
   ]
  },
  {
   "cell_type": "markdown",
   "metadata": {},
   "source": [
    "#### 10. Cumulative Sum (누적 합)"
   ]
  },
  {
   "cell_type": "markdown",
   "metadata": {},
   "source": [
    "- DataFrame에 group 식별용 열이 존재할 때 group 식별자 칼럼 추가하기"
   ]
  },
  {
   "cell_type": "code",
   "execution_count": null,
   "metadata": {},
   "outputs": [],
   "source": [
    "# group 식별 행에 True(=1) 표식을 단다\n",
    "df['is_group_tag'] = df['Name'].str.contains('걸그룹_')\n",
    "\n",
    "df"
   ]
  },
  {
   "cell_type": "markdown",
   "metadata": {},
   "source": [
    "- 데이터의 누적 합을 구할 수 있습니다."
   ]
  },
  {
   "cell_type": "code",
   "execution_count": null,
   "metadata": {},
   "outputs": [],
   "source": [
    "# 현재 행 앞에 is_group_tag 값의 누적합계(cumsum)를 구한다.\n",
    "# 이 값은 group 순번과 일치한다.\n",
    "df['group_number'] = df['is_group_tag'].cumsum()\n",
    "\n",
    "df"
   ]
  },
  {
   "cell_type": "markdown",
   "metadata": {},
   "source": [
    "### 11. 그룹화(Grouping)\n",
    "\n",
    "- 데이터를 그룹화하여 통계나 집계를 수행할 수 있습니다.\n",
    "#### 11.1 Group by"
   ]
  },
  {
   "cell_type": "markdown",
   "metadata": {},
   "source": [
    "- DataFrame의 `groupby` method 를 사용하여 group by 조건에 따라 DataFrame을 분할\n",
    "- `groupby` 가 return 하는 결과는 `DataFrameGroupBy` 객체로 iterator을 통해 개별 그룹으로 분할된 각각의 DataFrame에 접근할 수 있음"
   ]
  },
  {
   "cell_type": "code",
   "execution_count": null,
   "metadata": {},
   "outputs": [],
   "source": [
    "# 걸그룹 기준으로 grouping\n",
    "dfg = df.groupby('group_number')\n",
    "print(type(dfg))\n",
    "\n",
    "for group_number, group_df in dfg:\n",
    "    print(f\"그룹 : {group_number}\")\n",
    "    print(f\"그룹 평균 나이 : {group_df[\"Age\"].mean()}\")\n",
    "    print(group_df)"
   ]
  },
  {
   "cell_type": "code",
   "execution_count": null,
   "metadata": {},
   "outputs": [],
   "source": [
    "# DataFrameGroupBy 객체 (NaN 는 Count에서 제외됨)\n",
    "group_row_count = dfg.count()\n",
    "\n",
    "print(type(group_row_count))\n",
    "print(group_row_count)"
   ]
  },
  {
   "cell_type": "code",
   "execution_count": null,
   "metadata": {},
   "outputs": [],
   "source": [
    "# 성별이라는 이름의 Series 리턴\n",
    "group_row_count = dfg[\"성별\"].count()\n",
    "\n",
    "# Series 이름변경\n",
    "group_row_count.name = \"걸그룹 인원수\"\n",
    "\n",
    "group_row_count"
   ]
  },
  {
   "cell_type": "markdown",
   "metadata": {},
   "source": [
    "### 문제 #1 ~ #4\n",
    "- 고객 데이터는 다음과 같습니다:"
   ]
  },
  {
   "cell_type": "code",
   "execution_count": null,
   "metadata": {},
   "outputs": [],
   "source": [
    "customers_data = {\n",
    "    'Name': ['Alice', 'Bob', 'Charlie', 'David', 'Eve'],\n",
    "    'Age': [25, 30, 35, 40, 28],\n",
    "    'Location': ['New York', 'Los Angeles', 'New York', 'Chicago', 'Los Angeles']\n",
    "}"
   ]
  },
  {
   "cell_type": "markdown",
   "metadata": {},
   "source": [
    "- 문제 #1 : \n",
    "    \n",
    "    위 데이터를 이용해 Pandas DataFrame을 생성하세요.\n",
    "- 문제 #2 : \n",
    "\n",
    "    전체 고객의 평균 나이를 계산하세요.\n",
    "- 문제 #3 : \n",
    "\n",
    "    각 지역별로 몇 명의 고객이 있는지 계산하세요.\n",
    "- 문제 #4 : \n",
    "\n",
    "    나이가 30세 이상인 고객만을 포함하는 새로운 DataFrame을 생성하고 출력하세요."
   ]
  },
  {
   "cell_type": "code",
   "execution_count": null,
   "metadata": {},
   "outputs": [],
   "source": [
    "import pandas as pd\n",
    "\n",
    "# 데이터 생성\n",
    "customers_data = {\n",
    "    'Name': ['Alice', 'Bob', 'Charlie', 'David', 'Eve'],\n",
    "    'Age': [25, 30, 35, 40, 28],\n",
    "    'Location': ['New York', 'Los Angeles', 'New York', 'Chicago', 'Los Angeles']\n",
    "}\n",
    "\n",
    "# 문제 #1. Pandas DataFrame 생성 (참고 : 2.2. DataFrame)\n",
    "df = ...\n",
    "\n",
    "# 문제 #2. 전체 고객의 평균 나이 계산 (참고 : 8. 집계 함수)\n",
    "average_age = ...\n",
    "\n",
    "# 문제 #3. 각 지역별 고객 수 계산 (참고 : 11.1 Group by)\n",
    "customer_by_location = ...\n",
    "# to-do\n",
    "\n",
    "# 문제 #4. 나이가 30세 이상인 고객의 DataFrame 생성 (참고 : 5. 데이터 필터링)\n",
    "df_30_and_above = ...\n",
    "# to-do\n",
    "\n",
    "# 결과 출력\n",
    "print(\"평균 나이:\", average_age)\n",
    "print(\"\\n지역별 고객 수:\")\n",
    "print(customer_by_location)\n",
    "print(\"\\n나이가 30세 이상인 고객:\")\n",
    "print(df_30_and_above)\n"
   ]
  },
  {
   "cell_type": "markdown",
   "metadata": {},
   "source": [
    "## Wrap up\n",
    "1. **Pandas의 핵심 구성요소**:\n",
    "\n",
    "\tPandas는 주로 Series와 DataFrame 두 가지 데이터 구조를 사용합니다. Series는 1차원 배열이고, DataFrame은 2차원 테이블 형태의 데이터를 다룹니다.\n",
    "2. **데이터 조작과 분석의 기본**:\n",
    "\n",
    "\t데이터의 선택, 필터링, 추가 등 기본적인 데이터 조작과 분석 기법을 이해하고 있어야 합니다.\n",
    "3. **데이터 집계와 그룹화**:\n",
    "\n",
    "\tPandas는 데이터를 그룹화하고, 이를 기반으로 집계, 요약하는 기능을 제공합니다.\n",
    "4. **다양한 데이터 소스와의 상호작용**:\n",
    "\n",
    "\tPandas는 CSV 등 다양한 데이터 소스에서 데이터를 읽고 쓸 수 있는 기능을 제공합니다."
   ]
  }
 ],
 "metadata": {
  "kernelspec": {
   "display_name": "Python 3",
   "language": "python",
   "name": "python3"
  },
  "language_info": {
   "codemirror_mode": {
    "name": "ipython",
    "version": 3
   },
   "file_extension": ".py",
   "mimetype": "text/x-python",
   "name": "python",
   "nbconvert_exporter": "python",
   "pygments_lexer": "ipython3",
   "version": "3.12.1"
  }
 },
 "nbformat": 4,
 "nbformat_minor": 2
}
