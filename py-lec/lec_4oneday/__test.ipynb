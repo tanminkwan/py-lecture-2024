{
 "cells": [
  {
   "cell_type": "code",
   "execution_count": null,
   "metadata": {},
   "outputs": [],
   "source": [
    "!pip install gradio"
   ]
  },
  {
   "cell_type": "code",
   "execution_count": 2,
   "metadata": {},
   "outputs": [],
   "source": [
    "# pipeline_example.py\n",
    "\n",
    "import gradio as gr\n",
    "\n",
    "class PipelineString:\n",
    "    def __init__(self, value):\n",
    "        self.value = value\n",
    "\n",
    "    def __or__(self, text):\n",
    "        \"\"\"\n",
    "        `|` 연산자가 사용될 때 호출되는 매직 메서드.\n",
    "        기존 문자열에 입력받은 문자열을 이어붙여 PipelineString 객체를 생성.\n",
    "        \"\"\"\n",
    "        new_value = self.value + text\n",
    "        return PipelineString(new_value)\n",
    "\n",
    "    def __str__(self):\n",
    "        return self.value\n",
    "\n",
    "    def __repr__(self):\n",
    "        return f'PipelineString(\"{self.value}\")'\n",
    "\n",
    "def ui(func):\n",
    "    \"\"\"\n",
    "    데코레이터: 주어진 함수를 Gradio 인터페이스로 감싸고 실행.\n",
    "    greeting() 호출 시 Gradio 인터페이스가 실행됩니다.\n",
    "    \"\"\"\n",
    "    def wrapper():\n",
    "        \n",
    "        def gradio_function(text):\n",
    "            \n",
    "            pipeline_result = func(text)\n",
    "\n",
    "            return pipeline_result.value  # PipelineString의 실제 문자열 값을 반환\n",
    "            \n",
    "        # Gradio 인터페이스 생성\n",
    "        iface = gr.Interface(\n",
    "            fn=gradio_function,\n",
    "            inputs=gr.Textbox(label=\"이름을 입력하세요\"),\n",
    "            outputs=gr.Textbox(label=\"인사말\"),\n",
    "            title=\"인사말 생성기\",\n",
    "            description=\"입력한 이름에 따라 인사말을 생성합니다.\"\n",
    "        )\n",
    "        \n",
    "        # Gradio 인터페이스 실행\n",
    "        iface.launch()\n",
    "\n",
    "    return wrapper"
   ]
  },
  {
   "cell_type": "code",
   "execution_count": 3,
   "metadata": {},
   "outputs": [],
   "source": [
    "@ui\n",
    "def greeting(text):\n",
    "    \"\"\"\n",
    "    사용자 입력 텍스트에 파이프라인을 적용하여 인사말을 생성하는 함수.\n",
    "    \"\"\"\n",
    "    return PipelineString(text) | \"님\" | \" 안녕하세요.\" | \" 만나서 반갑습니다.\""
   ]
  },
  {
   "cell_type": "code",
   "execution_count": null,
   "metadata": {},
   "outputs": [],
   "source": [
    "# greeting() 함수를 호출하여 Gradio 인터페이스를 실행합니다.\n",
    "greeting()"
   ]
  }
 ],
 "metadata": {
  "kernelspec": {
   "display_name": "Python 3",
   "language": "python",
   "name": "python3"
  },
  "language_info": {
   "codemirror_mode": {
    "name": "ipython",
    "version": 3
   },
   "file_extension": ".py",
   "mimetype": "text/x-python",
   "name": "python",
   "nbconvert_exporter": "python",
   "pygments_lexer": "ipython3",
   "version": "3.10.10"
  }
 },
 "nbformat": 4,
 "nbformat_minor": 2
}
