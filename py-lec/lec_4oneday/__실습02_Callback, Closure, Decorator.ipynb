{
 "cells": [
  {
   "cell_type": "markdown",
   "metadata": {},
   "source": [
    "### 실습 개요\n",
    "- 당신은 App 개발자입니다.\n",
    "- 당신은 영상을 `역실행(backwards_video)`, `색상반전(reverse_video)` 시키는 함수들을 만들어 사용자에게 제공해야 합니다. 또한 향후 다양한 영상 편집 함수를 추가로 만들어야 합니다.\n",
    "- 이해하기 쉽고, 생산성이 높은 구현 방법을 찾으세요.\n",
    "- video 입출력 및 공통 기능 개발은 Library 개발자가 대신 할 것입니다. 그를 잘 활용하세요."
   ]
  },
  {
   "cell_type": "code",
   "execution_count": null,
   "metadata": {},
   "outputs": [],
   "source": [
    "import numpy as np\n",
    "\n",
    "# functions.py 에 미리 정의된 함수들을 import 한다\n",
    "from functions import video_2_ndarray, ndarray_2_video"
   ]
  },
  {
   "cell_type": "markdown",
   "metadata": {},
   "source": [
    "### 1. library의 Video 함수들를 직접 사용하기\n",
    "- 가장 기본적인 방식.\n",
    "- “공통 로직”을 중복해서 호출하는 불편함\n",
    "- “App 개발자”가 `video_2_ndarray`, `ndarray_2_video`등 어려운 함수들을 정확하게 파악하고 사용해야 함"
   ]
  },
  {
   "cell_type": "code",
   "execution_count": null,
   "metadata": {},
   "outputs": [],
   "source": [
    "# App 개발자 영역 : library의 video_2_ndarray, ndarray_2_video 등 전문 영역 함수들의 사용법을 알아야 한다\n",
    "def backwards(video_array: np.ndarray) -> np.ndarray:\n",
    "    return video_array[::-1]\n",
    "\n",
    "def reverse(video_array: np.ndarray) -> np.ndarray:\n",
    "    return 255 - video_array\n",
    "\n",
    "def backwards_video(input_path: str, output_path: str):\n",
    "\n",
    "    video_array, _, _ = video_2_ndarray(input_path)\n",
    "    modified_video = backwards(video_array)\n",
    "    ndarray_2_video(modified_video, output_path)\n",
    "\n",
    "def reverse_video(input_path: str, output_path: str):\n",
    "\n",
    "    video_array, _, _ = video_2_ndarray(input_path)\n",
    "    modified_video = reverse(video_array)\n",
    "    ndarray_2_video(modified_video, output_path)\n",
    "\n",
    "# 사용자 영역\n",
    "backwards_video('../media/SampleVideo_640x360_5mb.mp4', 'backwards_video_1.mp4')\n",
    "reverse_video('../media/SampleVideo_640x360_5mb.mp4', 'reverse_video_1.mp4')"
   ]
  },
  {
   "cell_type": "markdown",
   "metadata": {},
   "source": [
    "### 2. Callback 함수 사용하기\n",
    "- “App 개발자”가 `video_2_ndarray`, `ndarray_2_video`를 알 필요없음\n",
    "- “App 개발자”가 Callback 함수 개념을 알고 구현해야 함"
   ]
  },
  {
   "cell_type": "code",
   "execution_count": null,
   "metadata": {},
   "outputs": [],
   "source": [
    "from typing import Callable\n",
    "\n",
    "# library 개발자 영역\n",
    "def modify_video(input_path: str, output_path: str, func: Callable):\n",
    "\n",
    "    video_array, _, _ = video_2_ndarray(input_path)    \n",
    "    modified_video = func(video_array)\n",
    "    ndarray_2_video(modified_video, output_path)\n",
    "\n",
    "# App 개발자 영역 : Callback 함수 사용법 알아야 함함 \n",
    "def backwards(video_array: np.ndarray) -> np.ndarray:\n",
    "    return video_array[::-1]\n",
    "\n",
    "def reverse(video_array: np.ndarray) -> np.ndarray:\n",
    "    return 255 - video_array\n",
    "\n",
    "def backwards_video(input_path: str, output_path: str):\n",
    "    return modify_video(input_path, output_path, backwards) \n",
    "\n",
    "def reverse_video(input_path: str, output_path: str):\n",
    "    return modify_video(input_path, output_path, reverse) \n",
    "\n",
    "# 사용자 영역\n",
    "backwards_video('../media/SampleVideo_640x360_5mb.mp4', 'backwards_video_2.mp4') \n",
    "reverse_video('../media/SampleVideo_640x360_5mb.mp4', 'reverse_video_2.mp4') "
   ]
  },
  {
   "cell_type": "markdown",
   "metadata": {},
   "source": [
    "### 3. 함수를 return 하는 Closure 사용하기\n",
    "- “App 개발자”가 함수가 함수의 인자로 그리고 return 값으로 사용되는 과정을 이해해야 함"
   ]
  },
  {
   "cell_type": "code",
   "execution_count": null,
   "metadata": {},
   "outputs": [],
   "source": [
    "from typing import Callable\n",
    "\n",
    "# library 개발자 영역\n",
    "def modify_video(func: Callable) -> Callable:\n",
    "    def wrapper(input_path: str, output_path: str):\n",
    "\n",
    "        video_array, _, _ = video_2_ndarray(input_path)\n",
    "        modified_video = func(video_array)\n",
    "        ndarray_2_video(modified_video, output_path)\n",
    "\n",
    "    return wrapper\n",
    "\n",
    "# App 개발자 영역 : Closure 함수 사용법 알아야 함\n",
    "def backwards(video_array: np.ndarray) -> np.ndarray:\n",
    "    return video_array[::-1]\n",
    "\n",
    "def reverse(video_array: np.ndarray) -> np.ndarray:\n",
    "    return 255 - video_array\n",
    "\n",
    "backwards_video = modify_video(backwards)\n",
    "reverse_video = modify_video(reverse)\n",
    "\n",
    "# 사용자 영역\n",
    "backwards_video('../media/SampleVideo_640x360_5mb.mp4', 'backwards_video_3.mp4')\n",
    "reverse_video('../media/SampleVideo_640x360_5mb.mp4', 'reverse_video_3.mp4')"
   ]
  },
  {
   "cell_type": "markdown",
   "metadata": {},
   "source": [
    "### 4. Decorator 사용하기\n",
    "- 함수가 인자나 return값으로 넘나드는 과정을 은닉하고 추상화하여 직관적이고 쉽게 표현"
   ]
  },
  {
   "cell_type": "code",
   "execution_count": null,
   "metadata": {},
   "outputs": [],
   "source": [
    "# library 개발자 영역\n",
    "def modify_video(func: Callable) -> Callable:\n",
    "    def wrapper(input_path: str, output_path: str):\n",
    "\n",
    "        video_array, _, _ = video_2_ndarray(input_path)\n",
    "        modified_video = func(video_array)\n",
    "        ndarray_2_video(modified_video, output_path)\n",
    "\n",
    "    return wrapper\n",
    "\n",
    "# App 개발자 영역\n",
    "@modify_video\n",
    "def backwards_video(video_array: np.ndarray) -> np.ndarray:\n",
    "    return video_array[::-1]\n",
    "\n",
    "@modify_video\n",
    "def reverse_video(video_array: np.ndarray) -> np.ndarray:\n",
    "    return 255 - video_array\n",
    "\n",
    "# 사용자 영역\n",
    "backwards_video('../media/SampleVideo_640x360_5mb.mp4', 'backwards_video_4.mp4')\n",
    "reverse_video('../media/SampleVideo_640x360_5mb.mp4', 'reverse_video_4.mp4')"
   ]
  },
  {
   "cell_type": "markdown",
   "metadata": {},
   "source": [
    "### 따라 해보기 #1. \n",
    "- `backwards_video`를 Web UI로 구현하도록 library 개발자(genAI 서비스)에게 요청하기"
   ]
  },
  {
   "cell_type": "code",
   "execution_count": null,
   "metadata": {},
   "outputs": [],
   "source": [
    "\"\"\"\n",
    " prompt : \n",
    "\n",
    "    다음 code는 mp4 파일 input_path를 받아서\n",
    "    func에 의해 영상을 가공한 후\n",
    "    output_path에 다시 mp4를 저장하는 절차다.\n",
    "    video_2_ndarray, ndarray_2_video 는 이미 만들어져 있다.\n",
    "    ```\n",
    "    video_array, _, _ = video_2_ndarray(input_path)\n",
    "    modified_video = func(video_array)\n",
    "    ndarray_2_video(modified_video, output_path)\n",
    "    ```\n",
    "\n",
    "    아래 code를 실행했을 때\n",
    "    - gradio UI 가 나타남 \n",
    "    - UI상에서 input_path를 입력받고\n",
    "    - submit 실행하면 backwards_video 함수에 의해 변환된 동영상이 play되도록 serve_modified_video 를 구현해줘\n",
    "    ---\n",
    "    @serve_modified_video\n",
    "    def backwards_video(video_array):\n",
    "        return video_array[::-1]\n",
    "\n",
    "    backwards_video()\n",
    "    \n",
    "\"\"\""
   ]
  },
  {
   "cell_type": "code",
   "execution_count": null,
   "metadata": {},
   "outputs": [],
   "source": [
    "# serve_modified_video 를 functions.py에 저장하고 import\n",
    "from functions import serve_modified_video\n",
    "\n",
    "@serve_modified_video\n",
    "def backwards_video(video_array: np.ndarray) -> np.ndarray:\n",
    "    return video_array[::-1]\n",
    "\n",
    "# 사용자 영역\n",
    "backwards_video()"
   ]
  }
 ],
 "metadata": {
  "kernelspec": {
   "display_name": "Python 3",
   "language": "python",
   "name": "python3"
  },
  "language_info": {
   "codemirror_mode": {
    "name": "ipython",
    "version": 3
   },
   "file_extension": ".py",
   "mimetype": "text/x-python",
   "name": "python",
   "nbconvert_exporter": "python",
   "pygments_lexer": "ipython3",
   "version": "3.12.1"
  }
 },
 "nbformat": 4,
 "nbformat_minor": 2
}
