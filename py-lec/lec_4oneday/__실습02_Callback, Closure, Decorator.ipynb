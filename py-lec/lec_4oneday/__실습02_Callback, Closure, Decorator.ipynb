{
 "cells": [
  {
   "cell_type": "markdown",
   "metadata": {},
   "source": [
    "### 실습 개요\n",
    "- 1등급 객체로써의 함수의 쓰임을 알아본다\n",
    "- 여러유형의 함수들의 쓰임임"
   ]
  },
  {
   "cell_type": "markdown",
   "metadata": {},
   "source": [
    "### 사전 준비\n",
    "- functions.py 안에 mp4 파일 encoding, decoding 관련 함수들을 import 한다\n",
    "- numpy를 import 한다"
   ]
  },
  {
   "cell_type": "code",
   "execution_count": 2,
   "metadata": {},
   "outputs": [],
   "source": [
    "# functions.py 에 미리 정의된 함수들을 import 한다\n",
    "from functions import video_2_ndarray, ndarray_2_video"
   ]
  },
  {
   "cell_type": "markdown",
   "metadata": {},
   "source": [
    "### 1. library의 Video 함수들를 직접 사용하기"
   ]
  },
  {
   "cell_type": "code",
   "execution_count": 6,
   "metadata": {},
   "outputs": [],
   "source": [
    "# App 개발자 영역 : library의 video_2_ndarray, ndarray_2_video 등 전문 영역 함수들의 사용법을 알아야 한다\n",
    "def backwards(video_array):\n",
    "    return video_array[::-1]\n",
    "\n",
    "def reverse(video_array):\n",
    "    return 255 - video_array\n",
    "\n",
    "def backwards_video(input_path, output_path):\n",
    "\n",
    "    video_array, _, _ = video_2_ndarray(input_path)\n",
    "    modified_video = backwards(video_array)\n",
    "    ndarray_2_video(modified_video, output_path)\n",
    "\n",
    "def reverse_video(input_path, output_path):\n",
    "\n",
    "    video_array, _, _ = video_2_ndarray(input_path)\n",
    "    modified_video = reverse(video_array)\n",
    "    ndarray_2_video(modified_video, output_path)\n",
    "\n",
    "backwards_video('../media/SampleVideo_640x360_5mb.mp4', 'backwards_video_1.mp4')\n",
    "reverse_video('../media/SampleVideo_640x360_5mb.mp4', 'reverse_video_1.mp4')"
   ]
  },
  {
   "cell_type": "markdown",
   "metadata": {},
   "source": [
    "### 2. Callback 함수 사용하기"
   ]
  },
  {
   "cell_type": "code",
   "execution_count": 3,
   "metadata": {},
   "outputs": [],
   "source": [
    "# library 개발자 영역\n",
    "def modify_video(input_path, output_path, func):\n",
    "\n",
    "    video_array, _, _ = video_2_ndarray(input_path)    \n",
    "    modified_video = func(video_array)\n",
    "    ndarray_2_video(modified_video, output_path)\n",
    "\n",
    "# App 개발자 영역 : Callback 함수 사용법 알아야 함함 \n",
    "def backwards(video_array):\n",
    "    return video_array[::-1]\n",
    "\n",
    "def reverse(video_array):\n",
    "    return 255 - video_array\n",
    "\n",
    "def backwards_video(input_path, output_path):\n",
    "    return modify_video(input_path, output_path, backwards) \n",
    "\n",
    "def reverse_video(input_path, output_path):\n",
    "    return modify_video(input_path, output_path, reverse) \n",
    "\n",
    "# 사용자 영역\n",
    "backwards_video('../media/SampleVideo_640x360_5mb.mp4', 'backwards_video_2.mp4') \n",
    "reverse_video('../media/SampleVideo_640x360_5mb.mp4', 'reverse_video_2.mp4') "
   ]
  },
  {
   "cell_type": "markdown",
   "metadata": {},
   "source": [
    "### 3. Closure 함수 사용하기"
   ]
  },
  {
   "cell_type": "code",
   "execution_count": 5,
   "metadata": {},
   "outputs": [],
   "source": [
    "# library 개발자 영역\n",
    "def modify_video(func):\n",
    "    def wrapper(input_path, output_path):\n",
    "\n",
    "        video_array, _, _ = video_2_ndarray(input_path)\n",
    "        modified_video = func(video_array)\n",
    "        ndarray_2_video(modified_video, output_path)\n",
    "\n",
    "    return wrapper\n",
    "\n",
    "# App 개발자 영역 : Closure 함수 사용법 알아야 함\n",
    "def backwards(video_array):\n",
    "    return video_array[::-1]\n",
    "\n",
    "def reverse(video_array):\n",
    "    return 255 - video_array\n",
    "\n",
    "backwards_video = modify_video(backwards)\n",
    "reverse_video = modify_video(reverse)\n",
    "\n",
    "# 사용자 영역\n",
    "backwards_video('../media/SampleVideo_640x360_5mb.mp4', 'backwards_video_3.mp4')\n",
    "reverse_video('../media/SampleVideo_640x360_5mb.mp4', 'reverse_video_3.mp4')"
   ]
  },
  {
   "cell_type": "markdown",
   "metadata": {},
   "source": [
    "### 4. Decorator 사용하기"
   ]
  },
  {
   "cell_type": "code",
   "execution_count": null,
   "metadata": {},
   "outputs": [],
   "source": [
    "# library 개발자 영역\n",
    "def modify_video(func):\n",
    "    def wrapper(input_path, output_path):\n",
    "\n",
    "        video_array, _, _ = video_2_ndarray(input_path)\n",
    "        modified_video = func(video_array)\n",
    "        ndarray_2_video(modified_video, output_path)\n",
    "\n",
    "    return wrapper\n",
    "\n",
    "# App 개발자 영역 : Decorator 활용 방법을 알아야함 (Callback함수나 Closure 함수보다 쉽고 간결하게 사용 가능)\n",
    "@modify_video\n",
    "def backwards_video(video_array):\n",
    "    return video_array[::-1]\n",
    "\n",
    "@modify_video\n",
    "def reverse_video(video_array):\n",
    "    return 255 - video_array\n",
    "\n",
    "# 사용자 영역\n",
    "backwards_video('../media/SampleVideo_640x360_5mb.mp4', 'backwards_video_3.mp4')\n",
    "reverse_video('../media/SampleVideo_640x360_5mb.mp4', 'reverse_video_3.mp4')"
   ]
  },
  {
   "cell_type": "markdown",
   "metadata": {},
   "source": [
    "### 생각 해보기\n",
    "Decorator 장단점은 무엇인가?"
   ]
  },
  {
   "cell_type": "code",
   "execution_count": null,
   "metadata": {},
   "outputs": [],
   "source": [
    "from functions import serve_modified_video\n",
    "\n",
    "@serve_modified_video\n",
    "def backwards_video(video_array):\n",
    "    return video_array[::-1]\n",
    "\n",
    "# 사용자 영역\n",
    "backwards_video()"
   ]
  }
 ],
 "metadata": {
  "kernelspec": {
   "display_name": "Python 3",
   "language": "python",
   "name": "python3"
  },
  "language_info": {
   "codemirror_mode": {
    "name": "ipython",
    "version": 3
   },
   "file_extension": ".py",
   "mimetype": "text/x-python",
   "name": "python",
   "nbconvert_exporter": "python",
   "pygments_lexer": "ipython3",
   "version": "3.10.10"
  }
 },
 "nbformat": 4,
 "nbformat_minor": 2
}
