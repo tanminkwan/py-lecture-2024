{
 "cells": [
  {
   "cell_type": "markdown",
   "metadata": {},
   "source": [
    "## Python 컨테이너 자료형\n",
    "- Python은 컨테이너 자료형을 이용해서 여러 개의 값을 한 변수에 저장하고 효율적으로 관리할 수 있습니다.\n",
    "- 컨테이너 자료형으로는 리스트(list), 튜플(tuple), 세트(set), 딕셔너리(dictionary)가 있습니다.\n",
    "\n",
    "  참고 : 상대적으로 활용도가 낮은 세트(set)는 본 챕터에서 배우지 않습니다.\n",
    "\n",
    "### 1. 리스트 (List)\n",
    "\n",
    "- 여러 값을 순서대로 저장하며, 값을 추가하거나 변경.(mutable)\n",
    "- 대괄호(`[]`)로 표현하며, 각 값은 쉼표(,)로 구분.\n",
    "\n",
    "#### 1-1. 리스트 생성"
   ]
  },
  {
   "cell_type": "code",
   "execution_count": null,
   "metadata": {},
   "outputs": [],
   "source": [
    "# 빈 리스트 생성\n",
    "my_list = []\n",
    "\n",
    "# 값이 있는 리스트 생성\n",
    "numbers = [0, 1, 2, 3, 4, 5, 6, 7, 8, 9, 10, 11]\n",
    "fruits = [\"apple\", \"banana\", \"cherry\"]\n",
    "mixed = [1, \"apple\", True, 3.14]"
   ]
  },
  {
   "cell_type": "markdown",
   "metadata": {},
   "source": [
    "#### 1-2. 리스트 인덱싱(Indexing)과 슬라이싱(Slicing)\n",
    "- 인덱싱(Indexing)"
   ]
  },
  {
   "cell_type": "code",
   "execution_count": null,
   "metadata": {},
   "outputs": [],
   "source": [
    "numbers = [0, 1, 2, 3, 4, 5, 6, 7, 8, 9, 10, 11]\n",
    "fruits = [\"apple\", \"banana\", \"cherry\"]\n",
    "\n",
    "# 인덱싱(Indexing): 특정 위치의 값에 접근\n",
    "# (참고) numbers[0] 의 매직메소드 표현 : numbers.__getitem__(0)\n",
    "print(numbers[0])  # 출력: 0\n",
    "print(fruits[1])   # 출력: \"banana\"\n",
    "\n",
    "# 음수 인덱스: 뒤에서부터 접근\n",
    "print(numbers[-1])  # 출력: 11\n",
    "print(fruits[-2])   # 출력: \"banana\""
   ]
  },
  {
   "cell_type": "markdown",
   "metadata": {},
   "source": [
    "- 슬라이싱(Slicing)"
   ]
  },
  {
   "cell_type": "code",
   "execution_count": null,
   "metadata": {},
   "outputs": [],
   "source": [
    "numbers = [0, 1, 2, 3, 4, 5, 6, 7, 8, 9, 10, 11]\n",
    "fruits = [\"apple\", \"banana\", \"cherry\"]\n",
    "\n",
    "# 2 항식 : 슬라이싱할 두개의 index를 지정\n",
    "# 슬라이싱(Slicing): 범위로 값들을 추출\n",
    "# (참고) numbers[1:4] 의 매직메소드 표현 : numbers.__getitem__(slice(1, 4))\n",
    "print(numbers[1:4])  # 출력: [1, 2, 3]\n",
    "print(numbers[-3:])  # 출력: [9, 10, 11]\n",
    "print(numbers[:-3])  # 출력: [0, 1, 2, 3, 4, 5, 6, 7, 8]\n",
    "print(fruits[:2])    # 출력: [\"apple\", \"banana\"]\n",
    "print(fruits[2:])     # 출력: ['cherry']"
   ]
  },
  {
   "cell_type": "code",
   "execution_count": null,
   "metadata": {},
   "outputs": [],
   "source": [
    "# 3 항식 : 슬라이싱할 두개의 index와 방향+간격을 정의\n",
    "# 간격을 지정한 슬라이싱(Slicing)\n",
    "# (참고) numbers[::2] 의 매직메소드 표현 : numbers.__getitem__(slice(None, None, 2))\n",
    "print(numbers[::2])   # 출력: [0, 2, 4, 6, 8, 10]\n",
    "print(numbers[1:6:2]) # 출력: [1, 3, 5]\n",
    "print(numbers[::-3])  # 출력: [11, 8, 5, 2]"
   ]
  },
  {
   "cell_type": "markdown",
   "metadata": {},
   "source": [
    "#### 문제 #1\n",
    "  \n",
    "  list변수 numbers 를 앞부분은 자르지 않고 뒷부분은 index 11 에서 자르는 slicing 식을 완성하세요.\n",
    "\n",
    "  ![slice_1.jpg](../resources/slice_1.jpg)"
   ]
  },
  {
   "cell_type": "code",
   "execution_count": null,
   "metadata": {},
   "outputs": [],
   "source": [
    "\"\"\"\n",
    "문제 :\n",
    "    list변수 numbers 를 앞부분은 자르지 않고 \n",
    "    뒷부분은 index 11 에서 자르는 slicing 식을 완성하세요.\n",
    "예상 출력:\n",
    "    [0, 1, 2, 3, 4, 5, 6, 7, 8, 9, 10]\n",
    "\"\"\"\n",
    "numbers = [0, 1, 2, 3, 4, 5, 6, 7, 8, 9, 10, 11]\n",
    "\n",
    "numbers[...]"
   ]
  },
  {
   "cell_type": "markdown",
   "metadata": {},
   "source": [
    "#### 문제 #2\n",
    "  \n",
    "  list변수 numbers 를 index 2 와 index 9에서 자른 후 2 간격으로 slicing 하는 식을 완성하세요.\n",
    "\n",
    "  ![slice_2.jpg](../resources/slice_2.jpg)"
   ]
  },
  {
   "cell_type": "code",
   "execution_count": null,
   "metadata": {},
   "outputs": [],
   "source": [
    "\"\"\"\n",
    "문제 :\n",
    "    list변수 numbers 를 index 2 와 index 9 에서 자르고\n",
    "    2 간격으로 slicing 하는 식을 완성하세요.\n",
    "\n",
    "예상 출력:\n",
    "    [2, 4, 6, 8]\n",
    "\"\"\"\n",
    "numbers = [0, 1, 2, 3, 4, 5, 6, 7, 8, 9, 10, 11]\n",
    "\n",
    "numbers[...]"
   ]
  },
  {
   "cell_type": "markdown",
   "metadata": {},
   "source": [
    "#### 1-3. 리스트 값 추가 및 변경"
   ]
  },
  {
   "cell_type": "code",
   "execution_count": null,
   "metadata": {},
   "outputs": [],
   "source": [
    "numbers = [1, 2, 3, 4, 5, 6, 7, 8]\n",
    "fruits = [\"apple\", \"banana\", \"cherry\"]\n",
    "\n",
    "# 값 추가: append() 메서드\n",
    "fruits.append(\"orange\")\n",
    "print(fruits)  # 출력: [\"apple\", \"banana\", \"cherry\", \"orange\"]\n",
    "\n",
    "# 특정 위치에 값 추가: insert() 메서드\n",
    "fruits.insert(1, \"grape\")\n",
    "print(fruits)  # 출력: [\"apple\", \"grape\", \"banana\", \"cherry\", \"orange\"]\n",
    "\n",
    "# 값 변경\n",
    "numbers[2] = 10\n",
    "print(numbers)  # 출력: [1, 2, 10, 4, 5, 6, 7, 8]\n",
    "\n",
    "# 구간간값 변경\n",
    "numbers[1:4] = [20, 30, 40]\n",
    "# 또는\n",
    "numbers[1:4] = 20, 30, 40\n",
    "print(numbers) # 출력: [1, 20, 30, 40, 5, 6, 7, 8]"
   ]
  },
  {
   "cell_type": "code",
   "execution_count": 3,
   "metadata": {},
   "outputs": [],
   "source": [
    "numbers[1:4] = 20, 30, 40"
   ]
  },
  {
   "cell_type": "markdown",
   "metadata": {},
   "source": [
    "#### 1-4. 리스트 값 제거"
   ]
  },
  {
   "cell_type": "code",
   "execution_count": null,
   "metadata": {},
   "outputs": [],
   "source": [
    "numbers = [1, 2, 3, 4, 5, 6, 7, 8]\n",
    "fruits = [\"apple\", \"banana\", \"cherry\"]\n",
    "\n",
    "# 값 제거: remove() 메서드\n",
    "fruits.remove(\"banana\")\n",
    "print(fruits)  # 출력: ['apple', 'cherry']"
   ]
  },
  {
   "cell_type": "markdown",
   "metadata": {},
   "source": [
    "#### 1-5. 리스트 길이와 포함 여부 확인"
   ]
  },
  {
   "cell_type": "code",
   "execution_count": null,
   "metadata": {},
   "outputs": [],
   "source": [
    "numbers = [1, 2, 3, 4, 5, 6, 7, 8]\n",
    "fruits = [\"apple\", \"banana\", \"cherry\"]\n",
    "\n",
    "# 리스트 길이 확인: len() 함수\n",
    "print(len(numbers))  # 출력: 8\n",
    "print(len(fruits))   # 출력: 3"
   ]
  },
  {
   "cell_type": "code",
   "execution_count": null,
   "metadata": {},
   "outputs": [],
   "source": [
    "# 값의 존재 여부 확인: in 키워드\n",
    "# (참고) \"apple\" in fruits 의 매직메소드 표현 : fruits.__contains__(\"apple\")\n",
    "print(f'\"apple\" in fruits : {\"apple\" in fruits}')  # 출력: True\n",
    "print(f'7 not in numbers : {7 not in numbers}')  # 출력: False"
   ]
  },
  {
   "cell_type": "markdown",
   "metadata": {},
   "source": [
    "### 2. 딕셔너리(Dictionary)\n",
    "- 키(key)와 값(value)의 쌍을 저장하는 자료형. \n",
    "- 각 항목은 중괄호(`{}`)로 감싸며, 키와 값은 콜론(:)으로 구분하여 표현. \n",
    "- 키를 사용하여 해당 값을 검색할 수 있는 매우 유용한 자료형.\n",
    "\n",
    "#### 2-1. 딕셔너리 생성"
   ]
  },
  {
   "cell_type": "code",
   "execution_count": null,
   "metadata": {},
   "outputs": [],
   "source": [
    "# 빈 딕셔너리 생성\n",
    "my_dict = {}\n",
    "\n",
    "# 값이 있는 딕셔너리 생성\n",
    "person = {\n",
    "    \"name\": \"Alice\",\n",
    "    \"age\": 25,\n",
    "    \"city\": \"New York\"\n",
    "}\n",
    "\n",
    "print(my_dict)\n",
    "print(person)"
   ]
  },
  {
   "cell_type": "code",
   "execution_count": null,
   "metadata": {},
   "outputs": [],
   "source": [
    "# dict 내장함수를 사용한 딕셔너리 생성\n",
    "# 빈 딕셔너리 생성\n",
    "my_dict = dict()\n",
    "\n",
    "# 값이 있는 딕셔너리 생성\n",
    "person = dict(\n",
    "    name = \"Alice\",\n",
    "    age = 25,\n",
    "    city = \"New York\"\n",
    ")\n",
    "\n",
    "print(my_dict)\n",
    "print(person)"
   ]
  },
  {
   "cell_type": "markdown",
   "metadata": {},
   "source": [
    "#### 2-2. 딕셔너리 값 접근"
   ]
  },
  {
   "cell_type": "code",
   "execution_count": null,
   "metadata": {},
   "outputs": [],
   "source": [
    "# 특정 키를 사용하여 값에 접근\n",
    "person[\"name\"]  # 출력: \"Alice\""
   ]
  },
  {
   "cell_type": "markdown",
   "metadata": {},
   "source": [
    "#### 2-3. 딕셔너리 값 변경 및 추가"
   ]
  },
  {
   "cell_type": "code",
   "execution_count": null,
   "metadata": {},
   "outputs": [],
   "source": [
    "person = dict(\n",
    "    name = \"Alice\",\n",
    "    age = 25,\n",
    "    city = \"New York\"\n",
    ")\n",
    "\n",
    "# 값 변경\n",
    "# (참고) person[\"age\"] = 26 의 매직메소드 표현 : person.__setitem__(\"age\", 26)\n",
    "person[\"age\"] = 26\n",
    "print(person)  \n",
    "# 출력: {'name': 'Alice', 'age': 26, 'city': 'New York'}\n",
    "\n",
    "# 새로운 키와 값 추가\n",
    "person[\"job\"] = \"Engineer\"\n",
    "print(person)  \n",
    "# 출력: {'name': 'Alice', 'age': 26, 'city': 'New York', 'job': 'Engineer'}"
   ]
  },
  {
   "cell_type": "markdown",
   "metadata": {},
   "source": [
    "#### 2-4. 딕셔너리 메서드(method)"
   ]
  },
  {
   "cell_type": "code",
   "execution_count": null,
   "metadata": {},
   "outputs": [],
   "source": [
    "# keys(): 모든 키 반환\n",
    "print(person.keys())\n",
    "# 출력: dict_keys(['name', 'age', 'city', 'job'])"
   ]
  },
  {
   "cell_type": "code",
   "execution_count": null,
   "metadata": {},
   "outputs": [],
   "source": [
    "# values(): 모든 값 반환\n",
    "print(person.values())\n",
    "# 출력: dict_values(['Alice', 26, 'New York', 'Engineer'])"
   ]
  },
  {
   "cell_type": "code",
   "execution_count": null,
   "metadata": {},
   "outputs": [],
   "source": [
    "# items(): 모든 키-값 쌍 반환\n",
    "print(person.items())\n",
    "# 출력: dict_items([('name', 'Alice'), ('age', 26), ('city', 'New York'), ('job', 'Engineer')])"
   ]
  },
  {
   "cell_type": "markdown",
   "metadata": {},
   "source": [
    "#### 2-5. 딕셔너리 반복(iteration)"
   ]
  },
  {
   "cell_type": "code",
   "execution_count": null,
   "metadata": {},
   "outputs": [],
   "source": [
    "person = dict(\n",
    "    name = \"Alice\",\n",
    "    age = 25,\n",
    "    city = \"New York\"\n",
    ")\n",
    "\n",
    "# 키를 사용한 반복\n",
    "for key in person:\n",
    "    print(key, person[key])\n",
    "\n",
    "# items() 메서드를 사용한 반복\n",
    "for key, value in person.items():\n",
    "    print(key, value)"
   ]
  },
  {
   "cell_type": "markdown",
   "metadata": {},
   "source": [
    "#### 2-6. 딕셔너리 길이 확인"
   ]
  },
  {
   "cell_type": "code",
   "execution_count": null,
   "metadata": {},
   "outputs": [],
   "source": [
    "# len() 함수로 딕셔너리의 길이 확인\n",
    "len(person)  # 출력: 4"
   ]
  },
  {
   "cell_type": "markdown",
   "metadata": {},
   "source": [
    "#### 2-7. 딕셔너리 값 제거"
   ]
  },
  {
   "cell_type": "code",
   "execution_count": null,
   "metadata": {},
   "outputs": [],
   "source": [
    "person = dict(\n",
    "    name = \"Alice\",\n",
    "    age = 25,\n",
    "    city = \"New York\"\n",
    ")\n",
    "\n",
    "# 특정 키와 값을 제거\n",
    "del person[\"city\"]\n",
    "print(person)  # 출력: {'name': 'Alice', 'age': 26, 'job': 'Engineer'}"
   ]
  },
  {
   "cell_type": "markdown",
   "metadata": {},
   "source": [
    "#### 2-8. 리스트와 딕셔너리를 혼용하는 경우\n",
    "- 딕셔너리를 값으로 가지는 리스트\n",
    "- JSON Array를 Mapping할 때 자주 등장"
   ]
  },
  {
   "cell_type": "code",
   "execution_count": null,
   "metadata": {},
   "outputs": [],
   "source": [
    "logs = [\n",
    "    {\"user_id\": 1, \"page\": \"Home\"},\n",
    "    {\"user_id\": 2, \"page\": \"About\"},\n",
    "    {\"user_id\": 1, \"page\": \"Product\"},\n",
    "    {\"user_id\": 1, \"page\": \"Home\"},\n",
    "    {\"user_id\": 2, \"page\": \"Contact\"},\n",
    "    {\"user_id\": 3, \"page\": \"Home\"},\n",
    "    {\"user_id\": 2, \"page\": \"Home\"}\n",
    "]\n",
    "\n",
    "# list logs의 index 3의 값 출력\n",
    "print(logs[3])\n",
    "# dictionary logs[3] 의 key 'page'의 값 출력\n",
    "print(logs[3]['page'])"
   ]
  },
  {
   "cell_type": "markdown",
   "metadata": {},
   "source": [
    "#### 문제 #3"
   ]
  },
  {
   "cell_type": "code",
   "execution_count": null,
   "metadata": {},
   "outputs": [],
   "source": [
    "\"\"\"\n",
    "문제 :\n",
    "    \n",
    "    - list변수 logs의 각각의 값에 대하여 key 'page'의 value를 출력하세요\n",
    "\n",
    "예상결과 : \n",
    "    Home\n",
    "    About\n",
    "    Product\n",
    "    Home\n",
    "    Contact\n",
    "    Home\n",
    "    Home\n",
    "\"\"\" \n",
    "\n",
    "# to-do\n",
    "for i in ... :\n",
    "    print(...)"
   ]
  },
  {
   "cell_type": "markdown",
   "metadata": {},
   "source": [
    "- list를 value로 가지는 딕셔너리\n",
    "- Pandas에서 DataFrame을 생성할 때 자주 등장"
   ]
  },
  {
   "cell_type": "code",
   "execution_count": null,
   "metadata": {},
   "outputs": [],
   "source": [
    "data_frame = {\n",
    "    'Name': ['Alice', 'Bob', 'Charlie', 'Tom', 'Jane', 'Nobody'],\n",
    "    'Age': [35, 30, 25, 101, 7, 29],\n",
    "    'Location': ['New York', 'Los Angeles', 'Los Angeles', 'Seoul', 'Seoul', 'Nowhere']\n",
    "}\n",
    "\n",
    "# dictionary data_frame 의 key 'Name'의 값 출력\n",
    "print(data_frame['Name'])\n",
    "# list data_frame['Name']의 index 2의 값 출력\n",
    "print(data_frame['Name'][2])"
   ]
  },
  {
   "cell_type": "markdown",
   "metadata": {},
   "source": [
    "### 3. Python 튜플(Tuple)\n",
    "\n",
    "- Python의 튜플은 여러 값을 순서대로 저장하며, 한 번 생성되면 수정할 수 없는(immutable) 자료형.\n",
    "- 튜플은 괄호(())로 값을 감싸며, 각 값은 쉼표(,)로 구분하여 표현.\n",
    "\n",
    "#### 3-1. 튜플 생성"
   ]
  },
  {
   "cell_type": "code",
   "execution_count": null,
   "metadata": {},
   "outputs": [],
   "source": [
    "# 빈 튜플 생성\n",
    "empty_tuple = ()\n",
    "print(empty_tuple)"
   ]
  },
  {
   "cell_type": "code",
   "execution_count": null,
   "metadata": {},
   "outputs": [],
   "source": [
    "# 값이 있는 튜플 생성\n",
    "fruits_tuple = (\"apple\", \"banana\", \"cherry\", \"orange\")\n",
    "print(fruits_tuple)"
   ]
  },
  {
   "cell_type": "code",
   "execution_count": null,
   "metadata": {},
   "outputs": [],
   "source": [
    "# 괄호를 생략하여 튜플 생성\n",
    "eight_values_tuple = 1, 2, 3, 4, 5, 6, 7, 8\n",
    "print(eight_values_tuple)"
   ]
  },
  {
   "cell_type": "markdown",
   "metadata": {},
   "source": [
    "#### 3-2. 튜플 인덱싱(Indexing)과 슬라이싱(Slicing)\n",
    "- 리스트(list)와 인덱싱(Indexing)과 슬라이싱(Slicing) 방식이 동일합니다.\n",
    "\n",
    "- 인덱싱(Indexing)"
   ]
  },
  {
   "cell_type": "code",
   "execution_count": null,
   "metadata": {},
   "outputs": [],
   "source": [
    "fruits_tuple = (\"apple\", \"banana\", \"cherry\", \"orange\")\n",
    "\n",
    "# 인덱싱(Indexing): 특정 위치의 값에 접근\n",
    "print(fruits_tuple[0])  # 출력: \"apple\"\n",
    "print(fruits_tuple[1])  # 출력: \"banana\"\n",
    "\n",
    "# 음수 인덱스: 뒤에서부터 접근\n",
    "print(fruits_tuple[-1])  # 출력: \"cherry\""
   ]
  },
  {
   "cell_type": "markdown",
   "metadata": {},
   "source": [
    "- 슬라이싱(Slicing)"
   ]
  },
  {
   "cell_type": "code",
   "execution_count": null,
   "metadata": {},
   "outputs": [],
   "source": [
    "fruits_tuple = (\"apple\", \"banana\", \"cherry\", \"orange\")\n",
    "\n",
    "# 2 항식 : 슬라이싱할 두개의 index를 지정\n",
    "# 슬라이싱(Slicing): 범위로 값들을 추출\n",
    "print(fruits_tuple[1:])  # 출력: (\"banana\", \"cherry\", \"orange\")\n",
    "\n",
    "# 슬라이싱(Slicing): 범위로 값들을 추출 index 1 ~ 2(3 이전)\n",
    "print(fruits_tuple[1:3])  # 출력: (\"banana\", \"cherry\")"
   ]
  },
  {
   "cell_type": "code",
   "execution_count": null,
   "metadata": {},
   "outputs": [],
   "source": [
    "eight_values_tuple = 1, 2, 3, 4, 5, 6, 7, 8\n",
    "\n",
    "# 3 항식 : 슬라이싱할 두개의 index와 방향+간격을 정의\n",
    "# 간격을 지정한 슬라이싱(Slicing)\n",
    "print(eight_values_tuple[::2])   # 출력: (1, 3, 5, 7)\n",
    "print(eight_values_tuple[1:6:2]) # 출력: (2, 4, 6)\n",
    "print(eight_values_tuple[::-3])  # 출력: (8, 5, 2)"
   ]
  },
  {
   "cell_type": "markdown",
   "metadata": {},
   "source": [
    "#### 3-3. 튜플 값 변경과 추가"
   ]
  },
  {
   "cell_type": "code",
   "execution_count": null,
   "metadata": {},
   "outputs": [],
   "source": [
    "fruits_tuple[0] = \"pear\"  # TypeError 발생!"
   ]
  },
  {
   "cell_type": "code",
   "execution_count": null,
   "metadata": {},
   "outputs": [],
   "source": [
    "fruits_tuple.append(\"mango\")  # AttributeError 발생!"
   ]
  },
  {
   "cell_type": "markdown",
   "metadata": {},
   "source": [
    "#### 3-4. 여러 값을 한 번에 할당하기"
   ]
  },
  {
   "cell_type": "code",
   "execution_count": null,
   "metadata": {},
   "outputs": [],
   "source": [
    "(name, age, city) = (\"Alice\", 25, \"New York\")\n",
    "\n",
    "print(name, age, city)  # 출력: Alice 25 New York"
   ]
  },
  {
   "cell_type": "code",
   "execution_count": null,
   "metadata": {},
   "outputs": [],
   "source": [
    "name, age, city = (\"Alice\", 25, \"New York\")\n",
    "\n",
    "print(name, age, city)  # 출력: Alice 25 New York"
   ]
  },
  {
   "cell_type": "code",
   "execution_count": null,
   "metadata": {},
   "outputs": [],
   "source": [
    "name, age, city = \"Alice\", 25, \"New York\"\n",
    "\n",
    "print(name, age, city)  # 출력: Alice 25 New York"
   ]
  },
  {
   "cell_type": "code",
   "execution_count": null,
   "metadata": {},
   "outputs": [],
   "source": [
    "(name, age, city) = \"Alice\", 25, \"New York\"\n",
    "\n",
    "print(name, age, city)  # 출력: Alice 25 New York"
   ]
  },
  {
   "cell_type": "markdown",
   "metadata": {},
   "source": [
    "- 함수에서 여러 값을 리턴하기"
   ]
  },
  {
   "cell_type": "code",
   "execution_count": null,
   "metadata": {},
   "outputs": [],
   "source": [
    "def get_info():\n",
    "    name = \"Bob\"\n",
    "    age = 30\n",
    "    city = \"Los Angeles\"\n",
    "    return name, age, city\n",
    "\n",
    "# 튜플 리턴값을 하나의 변수로 받기\n",
    "person_info = get_info()\n",
    "\n",
    "print(type(person_info), person_info)  # 출력: (\"Bob\", 30, \"Los Angeles\")\n",
    "print(person_info[0])\n",
    "print(person_info[1])\n",
    "print(person_info[2])"
   ]
  },
  {
   "cell_type": "code",
   "execution_count": null,
   "metadata": {},
   "outputs": [],
   "source": [
    "# 튜플 리턴값을 튜플 항목 수 만큼의 변수로 받기\n",
    "name, age, city = get_info()\n",
    "\n",
    "print(name)  # 출력: \"Bob\"\n",
    "print(age)   # 출력: 30\n",
    "print(city)  # 출력: \"Los Angeles\""
   ]
  },
  {
   "cell_type": "markdown",
   "metadata": {},
   "source": [
    "#### 3-5. 튜플의 길이와 포함 여부 확인"
   ]
  },
  {
   "cell_type": "code",
   "execution_count": null,
   "metadata": {},
   "outputs": [],
   "source": [
    "fruits_tuple = (\"apple\", \"banana\", \"cherry\", \"orange\")\n",
    "\n",
    "# 길이 확인: len() 함수\n",
    "print(len(fruits_tuple))  # 출력: 4\n",
    "\n",
    "# 값의 존재 여부 확인: in 키워드\n",
    "print(\"apple\" in fruits_tuple)  # 출력: True\n",
    "print(\"orange\" not in fruits_tuple)  # 출력: False\n"
   ]
  },
  {
   "cell_type": "markdown",
   "metadata": {},
   "source": [
    "#### 3-6. 튜플을 리턴하는 주요 이터레이터(iterator)들\n",
    "\n",
    "- 내장함수 `enumerate`가 리턴하는 튜플"
   ]
  },
  {
   "cell_type": "code",
   "execution_count": null,
   "metadata": {},
   "outputs": [],
   "source": [
    "fruits_tuple = (\"apple\", \"banana\", \"cherry\", \"orange\")\n",
    "\n",
    "# 내장함수 `enumerate`가 리턴하는 튜플\n",
    "for index, fruit in enumerate(fruits_tuple):\n",
    "    print(index, fruit)\n",
    "\n",
    "for indexed_fruit in enumerate(fruits_tuple):\n",
    "    print(type(indexed_fruit), indexed_fruit)"
   ]
  },
  {
   "cell_type": "markdown",
   "metadata": {},
   "source": [
    "- 딕셔너리(dictionary)의 메소드 `items`가 리턴하는 튜플"
   ]
  },
  {
   "cell_type": "code",
   "execution_count": null,
   "metadata": {},
   "outputs": [],
   "source": [
    "person = dict(\n",
    "    name = \"Alice\",\n",
    "    age = 25,\n",
    "    city = \"New York\"\n",
    ")\n",
    "\n",
    "# 딕셔너리의 메소드 `items`가 리턴하는 튜플\n",
    "for key, value in person.items():\n",
    "    print(key, value)\n",
    "\n",
    "for item in person.items():\n",
    "    print(type(item), item)"
   ]
  },
  {
   "cell_type": "markdown",
   "metadata": {},
   "source": [
    "### 4. 컨테이너 자료형 `copy()` 함수\n",
    "- 컨테이너 자료형 변수를 다른 변수에 할당할 경우 한 변수에 변경을 가할 경우 나머지 변수도 같이 변함.\n",
    "- 튜플(tuple)은 immutable 객체이므로 대상에서 제외."
   ]
  },
  {
   "cell_type": "code",
   "execution_count": null,
   "metadata": {},
   "outputs": [],
   "source": [
    "# list\n",
    "l_orig = [1,2,3]\n",
    "l_replica = l_orig\n",
    "l_orig.append(4)\n",
    "print(l_replica)\n",
    "\n",
    "# dictionary\n",
    "d_orig = {'a':1,'b':2,'c':3}\n",
    "d_replica = d_orig\n",
    "d_orig['d'] = 4\n",
    "print(d_replica)"
   ]
  },
  {
   "cell_type": "markdown",
   "metadata": {},
   "source": [
    "- 원본 변수의 값만 복제하여 새로운 변수에 할당할 때 `copy()` 메소드(method)를 사용."
   ]
  },
  {
   "cell_type": "code",
   "execution_count": null,
   "metadata": {},
   "outputs": [],
   "source": [
    "# list\n",
    "l_orig = [1,2,3]\n",
    "l_replica = l_orig.copy()\n",
    "l_orig.append(4)\n",
    "print(l_replica)\n",
    "\n",
    "# dictionary\n",
    "d_orig = {'a':1,'b':2,'c':3}\n",
    "d_replica = d_orig.copy()\n",
    "d_orig['d'] = 4\n",
    "print(d_replica)"
   ]
  },
  {
   "cell_type": "markdown",
   "metadata": {},
   "source": [
    "### 과제 #1"
   ]
  },
  {
   "cell_type": "code",
   "execution_count": null,
   "metadata": {},
   "outputs": [],
   "source": [
    "\"\"\"\n",
    "과제 : \n",
    "   디셔너리 데이터를 리스트 형태로 변환하는 함수\n",
    "   dict2list 를 완성하세요.\n",
    "\n",
    "딕셔너리 데이터 :\n",
    "{\n",
    "    'Name': ['Alice', 'Bob', 'Charlie', 'Tom', 'Jane', 'Nobody'],\n",
    "    'Age': [35, 30, 25, 101, 7, 29],\n",
    "    'Location': ['New York', 'Los Angeles', 'Los Angeles', 'Seoul', 'Seoul', 'Nowhere']\n",
    "}\n",
    "\n",
    "변환된 리스트 :\n",
    "[\n",
    "    {'Name': 'Alice', 'Age': 35, 'Location': 'New York'},\n",
    "    {'Name': 'Bob', 'Age': 30, 'Location': 'Los Angeles'},\n",
    "    {'Name': 'Charlie', 'Age': 25, 'Location': 'Los Angeles'},\n",
    "    {'Name': 'Tom', 'Age': 101, 'Location': 'Seoul'},\n",
    "    {'Name': 'Jane', 'Age': 7, 'Location': 'Seoul'},\n",
    "    {'Name': 'Nobody', 'Age': 29, 'Location': 'Nowhere'}\n",
    "]\n",
    "\"\"\"\n",
    "\n",
    "dict_profiles = {\n",
    "    'Name': ['Alice', 'Bob', 'Charlie', 'Tom', 'Jane', 'Nobody'],\n",
    "    'Age': [35, 30, 25, 101, 7, 29],\n",
    "    'Location': ['New York', 'Los Angeles', 'Los Angeles', 'Seoul', 'Seoul', 'Nowhere']\n",
    "}\n",
    "\n",
    "def dict2list(profiles:dict)-> list:\n",
    "    ...\n",
    "\n",
    "\n",
    "list_profiles = dict2list(dict_profiles)\n",
    "\n",
    "print(list_profiles)"
   ]
  },
  {
   "cell_type": "markdown",
   "metadata": {},
   "source": [
    "### Wrap up\n",
    "1. **컨테이너 자료형의 이해와 사용**:\n",
    "\n",
    "\t리스트, 딕셔너리, 튜플, 집합은 서로 다른 타입의 데이터를 그룹으로 관리할 수 있게 해주는 중요한 자료형입니다. 각각의 특징(예: mutable vs immutable, 순서 유무, 중복 허용 여부)을 이해하고 상황에 맞게 사용할 수 있어야 합니다.\n",
    "2. **데이터 조작 기법**:\n",
    "\n",
    "\t컨테이너 자료형의 데이터를 추가, 삭제, 변경하는 방법과 이들 간의 연산(예: 리스트 연결, 집합의 합집합과 교집합 등)을 할 수 있어야 합니다.\n",
    "3. **반복, 조건 검사, 데이터 접근 방법**:\n",
    "\n",
    "\t반복문(for), 조건문(if-else)을 사용하여 컨테이너 자료형을 순회하고, 인덱싱, 슬라이싱, 키를 통한 접근 등 데이터를 효율적으로 다룰 수 있어야 합니다.\n",
    "    "
   ]
  }
 ],
 "metadata": {
  "kernelspec": {
   "display_name": "Python 3",
   "language": "python",
   "name": "python3"
  },
  "language_info": {
   "codemirror_mode": {
    "name": "ipython",
    "version": 3
   },
   "file_extension": ".py",
   "mimetype": "text/x-python",
   "name": "python",
   "nbconvert_exporter": "python",
   "pygments_lexer": "ipython3",
   "version": "3.10.10"
  }
 },
 "nbformat": 4,
 "nbformat_minor": 2
}
