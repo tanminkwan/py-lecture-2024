{
 "cells": [
  {
   "cell_type": "markdown",
   "metadata": {},
   "source": [
    "### 실습 개요\n",
    "- 특정 유사도 수치를 기준으로 Video array를 분할하고 그룹화(Grouping)합니다.\n",
    "- 그룹별 평균 유사도를 활용하여 해당 그룹의 활동성을 분석합니다.\n",
    "- 분석 내용을 csv 파일에 저장합니다."
   ]
  },
  {
   "cell_type": "markdown",
   "metadata": {},
   "source": [
    "### 사전준비\n",
    "- functions.py 안에 mp4 파일 decoding 함수들을 import 한다"
   ]
  },
  {
   "cell_type": "code",
   "execution_count": null,
   "metadata": {},
   "outputs": [],
   "source": [
    "# functions.py 에 미리 정의된 함수들을 import 한다\n",
    "from functions import video_2_ndarray\n",
    "\n",
    "# numpy를 import 한다\n",
    "import numpy as np"
   ]
  },
  {
   "cell_type": "markdown",
   "metadata": {},
   "source": [
    "- mp4 file로부터 video array, 재생시간, frame개수 정보를 추출하기"
   ]
  },
  {
   "cell_type": "code",
   "execution_count": null,
   "metadata": {},
   "outputs": [],
   "source": [
    "\"\"\"\n",
    "함수 video_2_ndarray 를 사용하여 ../media/SampleVideo_640x360_5mb.mp4 의 video data를 ndarray 에 저장한다.\n",
    "video array, 재생시간, frame 개수를 저장\n",
    "\"\"\"\n",
    "video_array, tot_duration, tot_frames = video_2_ndarray('../media/SampleVideo_640x360_5mb.mp4')"
   ]
  },
  {
   "cell_type": "markdown",
   "metadata": {},
   "source": [
    "- 연속되는 두 frame들간의 유사도를 구해서 list 변수(similarity_list)에 저장"
   ]
  },
  {
   "cell_type": "code",
   "execution_count": null,
   "metadata": {},
   "outputs": [],
   "source": [
    "from numpy import dot\n",
    "from numpy.linalg import norm\n",
    "\n",
    "# cosine similatiry 함수\n",
    "def cos_sim(A, B):\n",
    "    return dot(A, B) / (norm(A) * norm(B))"
   ]
  },
  {
   "cell_type": "code",
   "execution_count": null,
   "metadata": {},
   "outputs": [],
   "source": [
    "prev_vector = None\n",
    "\n",
    "similarity_list = []\n",
    "\n",
    "for frame in video_array:\n",
    "\n",
    "    # 1차원으로 reshape\n",
    "    # 255로 나눔\n",
    "    current_vector = (frame.reshape(-1) / 255)\n",
    "    \n",
    "    if prev_vector is not None:\n",
    "        similarity = cos_sim(prev_vector, current_vector)\n",
    "        similarity_list.append(similarity)\n",
    "            \n",
    "    prev_vector = current_vector.copy()\n",
    "\n",
    "print('vector size : ',current_vector.shape)\n",
    "print('similarity_list : ',similarity_list)"
   ]
  },
  {
   "cell_type": "markdown",
   "metadata": {},
   "source": [
    "- pandas를 import 한다"
   ]
  },
  {
   "cell_type": "code",
   "execution_count": null,
   "metadata": {},
   "outputs": [],
   "source": [
    "import pandas as pd"
   ]
  },
  {
   "cell_type": "markdown",
   "metadata": {},
   "source": [
    "### 따라 해보기. pandas를 사용하여 영상 유사도 list를 grouping 하기\n",
    "- 유사도가 낮아지는 지점을 기준으로 grouping 하기"
   ]
  },
  {
   "cell_type": "markdown",
   "metadata": {},
   "source": [
    "#### 1. 유사도 DataFrame 생성"
   ]
  },
  {
   "cell_type": "code",
   "execution_count": null,
   "metadata": {},
   "outputs": [],
   "source": [
    "import pandas as pd\n",
    "\n",
    "# DataFrame 생성\n",
    "df = pd.DataFrame(similarity_list, columns=['similarity'])\n",
    "\n",
    "print(df)"
   ]
  },
  {
   "cell_type": "code",
   "execution_count": null,
   "metadata": {},
   "outputs": [],
   "source": [
    "df.plot()"
   ]
  },
  {
   "cell_type": "markdown",
   "metadata": {},
   "source": [
    "#### 2. 특정 유사도 값을 기준으로 '낮은 유사도'와 '높은 유사도' 두그룹으로 분할하기\n",
    "-  ![Alt text for broken image link](../resources/pandas_plot.jpg)"
   ]
  },
  {
   "cell_type": "code",
   "execution_count": null,
   "metadata": {},
   "outputs": [],
   "source": [
    "# 유사도 임계치 설정\n",
    "lower_sim_threshold = 0.9"
   ]
  },
  {
   "cell_type": "markdown",
   "metadata": {},
   "source": [
    "#### 3. 유사도 DataFrame에 2개 칼럼 추가\n",
    "- lower_sim : 유사도 임계치 이하 여부"
   ]
  },
  {
   "cell_type": "code",
   "execution_count": null,
   "metadata": {},
   "outputs": [],
   "source": [
    "# 유사도가 임계치 이하면 True(1) 아니면 False(0)\n",
    "df['lower_sim'] = (df['similarity'] < lower_sim_threshold)\n",
    "\n",
    "# 출력 시 '...' 없이 전체 출력\n",
    "pd.set_option('display.max_rows', None)\n",
    "\n",
    "# df 출력\n",
    "print(df)"
   ]
  },
  {
   "cell_type": "markdown",
   "metadata": {},
   "source": [
    "- cumsum : lower_sim의 누적 합계"
   ]
  },
  {
   "cell_type": "code",
   "execution_count": null,
   "metadata": {},
   "outputs": [],
   "source": [
    "#lower_sim의 누적합(Cumulative Sum)을 구함\n",
    "df['cumsum'] = df['lower_sim'].cumsum()\n",
    "\n",
    "# df 출력\n",
    "print(df)\n",
    "\n",
    "# 출력 시 30 rows 출력 후 '...' 처리\n",
    "pd.set_option('display.max_rows', 30)"
   ]
  },
  {
   "cell_type": "code",
   "execution_count": null,
   "metadata": {},
   "outputs": [],
   "source": [
    "df.plot()"
   ]
  },
  {
   "cell_type": "markdown",
   "metadata": {},
   "source": [
    "#### 4. cumsum값 을 기준으로 grouping\n",
    "- 결과적으로 유사도가 낮은 순간(lower_sim_threshold 보다 작은 순간) group이 분할됨"
   ]
  },
  {
   "cell_type": "code",
   "execution_count": null,
   "metadata": {},
   "outputs": [],
   "source": [
    "df_takes = df.groupby(df['cumsum'])\n",
    "\n",
    "for group_number, group_df in df_takes:\n",
    "    print('Group Name : ', group_number)\n",
    "    print('Row Count : ', group_df.shape[0])\n",
    "    print()"
   ]
  },
  {
   "cell_type": "markdown",
   "metadata": {},
   "source": [
    "#### 5. Group별 시작 frame 번호, 종료 frame 번호, group 분할 시점의 유사도 조회"
   ]
  },
  {
   "cell_type": "code",
   "execution_count": null,
   "metadata": {},
   "outputs": [],
   "source": [
    "for group_number, group_df in df_takes:\n",
    "    min_frame_number = group_df.index.min()+1\n",
    "    max_frame_number = group_df.index.max()+1\n",
    "    min_similarity = group_df['similarity'].min()\n",
    "    print(group_number, min_frame_number, max_frame_number, min_similarity)"
   ]
  },
  {
   "cell_type": "markdown",
   "metadata": {},
   "source": [
    "#### 6. Group별 유사도 평균 계산\n",
    "- 유사도 평균은 해당 Group의 영상이 얼마나 움직임이 많은지를 가늠함\n",
    "- 좁은 범위에 조밀하게 분포한 값을 넓게 분포하도록 거듭제곱 변환 (Power Transformation)사용\n",
    "- 1−x 변환을 이용해서 데이터의 범위를 [0, 1]로 유지하면서 값의 관점을 반대로 뒤집음"
   ]
  },
  {
   "cell_type": "code",
   "execution_count": null,
   "metadata": {},
   "outputs": [],
   "source": [
    "for group_number, group_df in df_takes:\n",
    "\n",
    "    min_similarity = group_df['similarity'].min()\n",
    "\n",
    "    # 영상의 Take가 변경되는 지점의 similarity는 빼고 해당 Take(group DataFrame)의 similarity 평균을 구함\n",
    "    similarity_mean = group_df[group_df['similarity'] > min_similarity]['similarity'].mean()\n",
    "\n",
    "    # 1. 거듭제곱 변환 (Power Transformation)\n",
    "    # 좁은 범위에 조밀하게 분포한 값을 넓게 분포하도록 변환(100 거듭제곱)\n",
    "    # - data들이 0~1 사이 값이므로 거듭제곱 할수록 1에서 멀어지고 0 에 가까와짐. \n",
    "    # - data들이 1 근처에 조밀하게 분포하는 경우 효과적으로 분산시킴\n",
    "    # 2. 1−x 변환\n",
    "    # 데이터의 범위를 [0, 1]로 유지하면서 값의 관점을 반대로 뒤집음\n",
    "    # - 값이 클수록 동적인 영상, 작을수록 정적인 영상이됨\n",
    "    similarity_mean_power = similarity_mean**100\n",
    "    activity_intensity = 1 - similarity_mean_power\n",
    "    \n",
    "    print(similarity_mean, similarity_mean_power, activity_intensity)"
   ]
  },
  {
   "cell_type": "markdown",
   "metadata": {},
   "source": [
    "- 시각화하여 차이를 확인하기"
   ]
  },
  {
   "cell_type": "code",
   "execution_count": null,
   "metadata": {},
   "outputs": [],
   "source": [
    "# 그룹별 유사도 평균 \n",
    "mean = [ group_df[group_df['similarity'] > min_similarity]['similarity'].mean() \\\n",
    "        for group_number, group_df in df_takes ]\n",
    "\n",
    "# 거듭제곱 변환 (100 거듭제곱)\n",
    "mean_power = [ v**100 for v in mean ]\n",
    "\n",
    "# 1-x 변환\n",
    "activity = [ 1-v for v in mean_power]\n",
    "\n",
    "pd.DataFrame({'mean':mean, 'mean_power':mean_power, 'activity':activity}).plot()"
   ]
  },
  {
   "cell_type": "markdown",
   "metadata": {},
   "source": [
    "#### 7. Group별 frame개수, 시작시간, 재생시간 계산\n",
    "- 사전준비 단계에서 구했던 tot_duration(재생시간), tot_frames(frame 개수) 사용하여 frame개수, 시작시간, 재생시간 항목 생성"
   ]
  },
  {
   "cell_type": "code",
   "execution_count": null,
   "metadata": {},
   "outputs": [],
   "source": [
    "for group_number, group_df in df_takes:\n",
    "\n",
    "    min_frame_number = group_df.index.min()+1\n",
    "    max_frame_number = group_df.index.max()+1\n",
    "\n",
    "    frame_count = max_frame_number - min_frame_number + 1\n",
    "    start = tot_duration*(min_frame_number/tot_frames)\n",
    "    duration = tot_duration*(frame_count/tot_frames)\n",
    "\n",
    "    print(frame_count, start, duration)"
   ]
  },
  {
   "cell_type": "markdown",
   "metadata": {},
   "source": [
    "#### 8. Group DataFrame 생성"
   ]
  },
  {
   "cell_type": "code",
   "execution_count": null,
   "metadata": {},
   "outputs": [],
   "source": [
    "# 사전준비 단계에 구했던 tot_duration(재생시간), tot_frames(frame 개수) 사용\n",
    "\n",
    "groups = []\n",
    "\n",
    "for group_number, group_df in df_takes:\n",
    "\n",
    "    min_frame_number = group_df.index.min()+1\n",
    "    max_frame_number = group_df.index.max()+1\n",
    "    min_similarity = group_df['similarity'].min()\n",
    "\n",
    "    activity_intensity = 1 - group_df[group_df['similarity'] >\\\n",
    "                                min_similarity]['similarity'].mean()**100\n",
    "\n",
    "    frame_count = max_frame_number - min_frame_number + 1\n",
    "    start = tot_duration*(min_frame_number/tot_frames)\n",
    "    duration = tot_duration*(frame_count/tot_frames)\n",
    "\n",
    "    # dictionary를 append하는 경우 key값이 column명이 됨\n",
    "    groups.append({\n",
    "        'group_number': group_number,\n",
    "        'group_name': f\"Take #{group_number}\",\n",
    "        'min_frame_number': min_frame_number,\n",
    "        'max_frame_number': max_frame_number,\n",
    "        'frame_count' : frame_count,\n",
    "        'start' : \"{:.2f}\".format(start),\n",
    "        'duration' : \"{:.2f}\".format(duration),\n",
    "        'min_similarity': min_similarity,\n",
    "        'activity_intensity':activity_intensity\n",
    "    })\n",
    "\n",
    "# group 정보로 DataFrame 생성\n",
    "group_df = pd.DataFrame(groups)\n",
    "\n",
    "print(group_df)"
   ]
  },
  {
   "cell_type": "markdown",
   "metadata": {},
   "source": [
    "#### 9. DataFrame을 csv파일에 저장"
   ]
  },
  {
   "cell_type": "code",
   "execution_count": null,
   "metadata": {},
   "outputs": [],
   "source": [
    "csv = group_df.to_csv(path_or_buf = \"video_grouping.csv\", \n",
    "                      columns=[\n",
    "                          'group_name', \n",
    "                          'frame_count', \n",
    "                          'start', \n",
    "                          'duration', \n",
    "                          'min_frame_number', \n",
    "                          'max_frame_number', \n",
    "                          'activity_intensity',\n",
    "                          'min_similarity', \n",
    "                          ], \n",
    "                      index=False)"
   ]
  },
  {
   "cell_type": "markdown",
   "metadata": {},
   "source": []
  }
 ],
 "metadata": {
  "kernelspec": {
   "display_name": "Python 3",
   "language": "python",
   "name": "python3"
  },
  "language_info": {
   "codemirror_mode": {
    "name": "ipython",
    "version": 3
   },
   "file_extension": ".py",
   "mimetype": "text/x-python",
   "name": "python",
   "nbconvert_exporter": "python",
   "pygments_lexer": "ipython3",
   "version": "3.12.3"
  }
 },
 "nbformat": 4,
 "nbformat_minor": 2
}
