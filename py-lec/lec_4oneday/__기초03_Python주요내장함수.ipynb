{
 "cells": [
  {
   "cell_type": "markdown",
   "metadata": {},
   "source": [
    "## Python 주요 내장 함수\n",
    "- 많이 사용되는 Python 내장 함수들을 알아봅니다.\n",
    "\n",
    "### 1. `print()`\n",
    "- 값을 출력하는 함수입니다."
   ]
  },
  {
   "cell_type": "code",
   "execution_count": null,
   "metadata": {},
   "outputs": [],
   "source": [
    "print(\"Hello, World!\")"
   ]
  },
  {
   "cell_type": "markdown",
   "metadata": {},
   "source": [
    "### 2. `len()`\n",
    "- 시퀀스(문자열, 리스트, 딕셔너리, 튜플 등)의 길이를 반환합니다."
   ]
  },
  {
   "cell_type": "code",
   "execution_count": null,
   "metadata": {},
   "outputs": [],
   "source": [
    "my_list = [1, 2, 3, 4, 5]\n",
    "print(len(my_list))  # 출력: \n",
    "\n",
    "my_string = 'Hello Hello'\n",
    "print(len(my_string))  # 출력:"
   ]
  },
  {
   "cell_type": "markdown",
   "metadata": {},
   "source": [
    "### 3. `type()`\n",
    "- 객체의 타입을 반환합니다."
   ]
  },
  {
   "cell_type": "code",
   "execution_count": null,
   "metadata": {},
   "outputs": [],
   "source": [
    "print(type(\"Hello\"))  # 출력: <class 'str'>\n",
    "\n",
    "print(type(3))  # 출력: <class 'int'>"
   ]
  },
  {
   "cell_type": "markdown",
   "metadata": {},
   "source": [
    "- 문제"
   ]
  },
  {
   "cell_type": "code",
   "execution_count": 4,
   "metadata": {},
   "outputs": [
    {
     "name": "stdout",
     "output_type": "stream",
     "text": [
      "<class 'list'>\n"
     ]
    }
   ],
   "source": [
    "\"\"\"\n",
    "문제 :\n",
    "    'c_'로 시작하는 임의의 list 변수를 선언하고 임의로 값을 할당하세요.\n",
    "    그리고 Python 내장함수 type()을 사용해서 해당 list 변수의 type을 출력하도록 ...를 완성하세요.\n",
    "\n",
    "예상 출력:\n",
    "    <class 'list'>\n",
    "\"\"\" \n",
    "...\n",
    "\n",
    "print(type(...))"
   ]
  },
  {
   "cell_type": "markdown",
   "metadata": {},
   "source": [
    "### 4. `int()` `float()` `str()`\n",
    "- 값을 각각 정수, 부동소수점 수, 문자열로 변환합니다."
   ]
  },
  {
   "cell_type": "code",
   "execution_count": null,
   "metadata": {},
   "outputs": [],
   "source": [
    "num_str = \"10\"\n",
    "num_int = int(num_str)\n",
    "\n",
    "print(type(num_int), num_int)\n",
    "\n",
    "num_str = \"3.14\"\n",
    "num_float = float(num_str)\n",
    "\n",
    "print(type(num_float), num_float)\n",
    "\n",
    "str_float = 3.141592\n",
    "str_str = str(str_float)\n",
    "\n",
    "print(type(str_str), str_str)"
   ]
  },
  {
   "cell_type": "code",
   "execution_count": 5,
   "metadata": {},
   "outputs": [
    {
     "name": "stdout",
     "output_type": "stream",
     "text": [
      "<class 'str'> [1, 2, 3, 4]\n"
     ]
    }
   ],
   "source": [
    "list_1234 = [1,2,3,4]\n",
    "str_list = str(list_1234)\n",
    "\n",
    "print(type(str_list), str_list)"
   ]
  },
  {
   "cell_type": "markdown",
   "metadata": {},
   "source": [
    "### 5. `range()`\n",
    "- 정수 범위의 순차적인 값을 생성합니다."
   ]
  },
  {
   "cell_type": "code",
   "execution_count": null,
   "metadata": {},
   "outputs": [],
   "source": [
    "# 0 ~ 4\n",
    "for i in range(5):\n",
    "    print('1st loop :', i)\n",
    "\n",
    "# 3 ~ 9\n",
    "for i in range(3,10):\n",
    "    print('2nd loop :', i)"
   ]
  },
  {
   "cell_type": "code",
   "execution_count": null,
   "metadata": {},
   "outputs": [],
   "source": [
    "# list type으로 변환\n",
    "print(list(range(5)))"
   ]
  },
  {
   "cell_type": "markdown",
   "metadata": {},
   "source": [
    "- 문제"
   ]
  },
  {
   "cell_type": "code",
   "execution_count": null,
   "metadata": {},
   "outputs": [],
   "source": [
    "\"\"\"\n",
    "문제 :\n",
    "    Python 내장 함수 range와 for 구문을 사용해서,\n",
    "    변수 sum_range가 10 에서 100 까지 정수의 합이 되도록 아래 ...를 완성하세요.\n",
    "\n",
    "예상 출력:\n",
    "    [1, 2, 3, 6]\n",
    "\"\"\" \n",
    "sum_range = 0\n",
    "for i in ...:\n",
    "    ...\n",
    "print(sum_range)"
   ]
  },
  {
   "cell_type": "markdown",
   "metadata": {},
   "source": [
    "### 6. `enumerate()`\n",
    "- 순서와 값을 함께 반환합니다."
   ]
  },
  {
   "cell_type": "code",
   "execution_count": null,
   "metadata": {},
   "outputs": [],
   "source": [
    "abc = ['a', 'b', 'c']\n",
    "\n",
    "for index, value in enumerate(abc):\n",
    "    print(index, value)"
   ]
  },
  {
   "cell_type": "markdown",
   "metadata": {},
   "source": [
    "- 문제"
   ]
  },
  {
   "cell_type": "code",
   "execution_count": null,
   "metadata": {},
   "outputs": [],
   "source": [
    "\"\"\"\n",
    "문제 :\n",
    "    True와 False들로 구성된 list_1이 있습니다. \n",
    "    값이 True 인 경우에만 해당 index들 true_list에 저장하도록 ...을 완성하세요.\n",
    "\n",
    "예상 출력:\n",
    "    [1, 2, 3, 6]\n",
    "\"\"\" \n",
    "list_1 = [False, True, True, True, False, False, True]\n",
    "\n",
    "true_list = []\n",
    "\n",
    "...\n",
    "\n",
    "print(true_list)"
   ]
  },
  {
   "cell_type": "markdown",
   "metadata": {},
   "source": [
    "### Wrap up\n",
    "1. **다양한 데이터 타입과 구조를 다루는 함수들**: \n",
    "\n",
    "    len(), type(), int(), float(), str() 등의 함수를 사용하여 데이터 타입을 조회하거나 변환할 수 있어야 합니다.\n",
    "\n",
    "2. **순회를 돕는 함수들의 활용**: \n",
    "\n",
    "    range(), enumerate()와 같은 함수들을 통해 데이터 대한 순회 및 변환 작업을 효과적으로 수행할 수 있어야 합니다."
   ]
  }
 ],
 "metadata": {
  "kernelspec": {
   "display_name": "Python 3",
   "language": "python",
   "name": "python3"
  },
  "language_info": {
   "codemirror_mode": {
    "name": "ipython",
    "version": 3
   },
   "file_extension": ".py",
   "mimetype": "text/x-python",
   "name": "python",
   "nbconvert_exporter": "python",
   "pygments_lexer": "ipython3",
   "version": "3.10.10"
  }
 },
 "nbformat": 4,
 "nbformat_minor": 2
}
