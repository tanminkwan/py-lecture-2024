{
 "cells": [
  {
   "cell_type": "markdown",
   "metadata": {},
   "source": [
    "## Python 주요 내장 함수\n",
    "- 많이 사용되는 Python 내장 함수들을 알아봅니다.\n",
    "\n",
    "### 1. `print()`\n",
    "- 값을 출력하는 함수입니다."
   ]
  },
  {
   "cell_type": "code",
   "execution_count": null,
   "metadata": {},
   "outputs": [],
   "source": [
    "# (참고) print는 argument 객체의 매직메서드 __str__ 를 호출하여 출력\n",
    "# 즉, \"Hello, World!\".__str__() 가 실행됨\n",
    "print(\"Hello, World!\")\n",
    "\n",
    "# f-string 사용\n",
    "num = 10\n",
    "text = \"Hello, World!\"\n",
    "\n",
    "print(f\"num: {num}, text: {text}\")"
   ]
  },
  {
   "cell_type": "markdown",
   "metadata": {},
   "source": [
    "### 2. `len()`\n",
    "- 시퀀스(문자열, 리스트, 딕셔너리, 튜플 등)의 길이를 반환합니다."
   ]
  },
  {
   "cell_type": "code",
   "execution_count": null,
   "metadata": {},
   "outputs": [],
   "source": [
    "# (참고) len 은 argument 객체의 매직메서드 __len__ 를 호출\n",
    "# 예 : my_list.__len__()\n",
    "my_list = [1, 2, 3, 4, 5]\n",
    "print(len(my_list))  # 출력: \n",
    "\n",
    "my_string = 'Hello Hello'\n",
    "print(len(my_string))  # 출력:"
   ]
  },
  {
   "cell_type": "markdown",
   "metadata": {},
   "source": [
    "### 3. `type()`\n",
    "- 객체의 타입을 반환합니다."
   ]
  },
  {
   "cell_type": "code",
   "execution_count": null,
   "metadata": {},
   "outputs": [],
   "source": [
    "print(type(\"Hello\"))  # 출력: <class 'str'>\n",
    "\n",
    "print(type(3))  # 출력: <class 'int'>"
   ]
  },
  {
   "cell_type": "markdown",
   "metadata": {},
   "source": [
    "#### 문제 #1"
   ]
  },
  {
   "cell_type": "code",
   "execution_count": null,
   "metadata": {},
   "outputs": [],
   "source": [
    "\"\"\"\n",
    "문제 :\n",
    "    print()와 len() 함수가 동작하도록 MyName 클래스를 정의\n",
    "    예상 출력을 만족하도록 ... 를 완성하시오.\n",
    "\n",
    "예상 출력:\n",
    "    me = MyName('벙어리삼용이')\n",
    "    print(me)  # 출력: 당신의 이름은 [벙어리삼용이]입니다.\n",
    "    print(len(me))  # 출력: 6\n",
    "    \n",
    "\"\"\" \n",
    "class MyName:\n",
    "    def __init__(self, data):\n",
    "        self.data = data\n",
    "\n",
    "    def __str__(self):\n",
    "        return ...\n",
    "\n",
    "    def __len__(self):\n",
    "        return ...   "
   ]
  },
  {
   "cell_type": "markdown",
   "metadata": {},
   "source": [
    "### 4. `int()` `float()` `str()`\n",
    "- 값을 각각 정수, 부동소수점 수, 문자열로 변환합니다."
   ]
  },
  {
   "cell_type": "code",
   "execution_count": null,
   "metadata": {},
   "outputs": [],
   "source": [
    "num_str = \"10\"\n",
    "num_int = int(num_str)\n",
    "\n",
    "print(type(num_int), num_int)\n",
    "\n",
    "num_str = \"3.14\"\n",
    "num_float = float(num_str)\n",
    "\n",
    "print(type(num_float), num_float)\n",
    "\n",
    "str_float = 3.141592\n",
    "str_str = str(str_float)\n",
    "\n",
    "print(type(str_str), str_str)"
   ]
  },
  {
   "cell_type": "code",
   "execution_count": null,
   "metadata": {},
   "outputs": [],
   "source": [
    "list_1234 = [1,2,3,4]\n",
    "str_list = str(list_1234)\n",
    "\n",
    "print(type(str_list), str_list)"
   ]
  },
  {
   "cell_type": "markdown",
   "metadata": {},
   "source": [
    "### 5. `range()`\n",
    "- 정수 범위의 순차적인 값을 생성합니다."
   ]
  },
  {
   "cell_type": "code",
   "execution_count": null,
   "metadata": {},
   "outputs": [],
   "source": [
    "# 0 ~ 4\n",
    "for i in range(5):\n",
    "    print('1st loop :', i)\n",
    "\n",
    "# 3 ~ 9\n",
    "for i in range(3,10):\n",
    "    print('2nd loop :', i)"
   ]
  },
  {
   "cell_type": "markdown",
   "metadata": {},
   "source": [
    "#### 문제 #2"
   ]
  },
  {
   "cell_type": "code",
   "execution_count": null,
   "metadata": {},
   "outputs": [],
   "source": [
    "\"\"\"\n",
    "문제 :\n",
    "    Python 내장 함수 range와 for 구문을 사용해서,\n",
    "    변수 sum_range가 10 에서 100 까지 정수의 합이 되도록 아래 ...를 완성하세요.\n",
    "\n",
    "예상 출력:\n",
    "    5005\n",
    "\"\"\" \n",
    "sum_range = 0\n",
    "\n",
    "for i in ...:\n",
    "    ...\n",
    "\n",
    "print(sum_range)"
   ]
  },
  {
   "cell_type": "markdown",
   "metadata": {},
   "source": [
    "### 6. `enumerate()`\n",
    "- 순서와 값을 함께 반환합니다."
   ]
  },
  {
   "cell_type": "code",
   "execution_count": null,
   "metadata": {},
   "outputs": [],
   "source": [
    "abc = ['a', 'b', 'c']\n",
    "\n",
    "for index, value in enumerate(abc):\n",
    "    print(index, value)"
   ]
  },
  {
   "cell_type": "markdown",
   "metadata": {},
   "source": [
    "#### 문제 #3"
   ]
  },
  {
   "cell_type": "code",
   "execution_count": null,
   "metadata": {},
   "outputs": [],
   "source": [
    "\"\"\"\n",
    "문제 :\n",
    "    True와 False들로 구성된 list_1이 있습니다. \n",
    "    값이 True 인 index들을 true_list에 저장하도록 ...을 완성하세요.\n",
    "    Python 내장 함수 enumerate 를 사용하라.\n",
    "예상 출력:\n",
    "    [1, 2, 3, 6]\n",
    "\"\"\" \n",
    "list_1 = [False, True, True, True, False, False, True]\n",
    "\n",
    "true_list = []\n",
    "\n",
    "...\n",
    "\n",
    "print(true_list)"
   ]
  },
  {
   "cell_type": "markdown",
   "metadata": {},
   "source": [
    "### Wrap up\n",
    "1. **다양한 데이터 타입과 구조를 다루는 함수들**: \n",
    "\n",
    "    len(), type(), int(), float(), str() 등의 함수를 사용하여 데이터 타입을 조회하거나 변환할 수 있어야 합니다.\n",
    "\n",
    "2. **순회를 돕는 함수들의 활용**: \n",
    "\n",
    "    range(), enumerate()와 같은 함수들을 통해 데이터 대한 순회 및 변환 작업을 효과적으로 수행할 수 있어야 합니다."
   ]
  }
 ],
 "metadata": {
  "kernelspec": {
   "display_name": "Python 3",
   "language": "python",
   "name": "python3"
  },
  "language_info": {
   "codemirror_mode": {
    "name": "ipython",
    "version": 3
   },
   "file_extension": ".py",
   "mimetype": "text/x-python",
   "name": "python",
   "nbconvert_exporter": "python",
   "pygments_lexer": "ipython3",
   "version": "3.10.10"
  }
 },
 "nbformat": 4,
 "nbformat_minor": 2
}
