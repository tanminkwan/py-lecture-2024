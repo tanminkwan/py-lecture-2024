{
 "cells": [
  {
   "cell_type": "markdown",
   "metadata": {},
   "source": [
    "### 실습 개요\n",
    "- 다양한 속성을 가진 이미지 array(3차원)를 생성하고 시각화합니다.\n",
    "- 다양한 이미지 array들 간에 유사도를 측정합니다.\n",
    "- Video array의 연속되는 두 이미지(frame)들 간의 유사도의 의미를 분석합니다."
   ]
  },
  {
   "cell_type": "markdown",
   "metadata": {},
   "source": [
    "### 사전준비\n",
    "- functions.py 안에 mp4 파일 decoding 함수들을 import\n",
    "- numpy를 import"
   ]
  },
  {
   "cell_type": "code",
   "execution_count": null,
   "metadata": {},
   "outputs": [],
   "source": [
    "# functions.py 에 미리 정의된 함수들을 import 한다\n",
    "from functions import video_2_ndarray\n",
    "\n",
    "# numpy를 import 한다\n",
    "import numpy as np"
   ]
  },
  {
   "cell_type": "markdown",
   "metadata": {},
   "source": [
    "- mp4 file의 video data를 ndarray(N-dimensional Array) 변수에 저장하기"
   ]
  },
  {
   "cell_type": "code",
   "execution_count": null,
   "metadata": {},
   "outputs": [],
   "source": [
    "\"\"\"\n",
    "함수 video_2_ndarray 를 사용하여 ../media/SampleVideo_640x360_5mb.mp4 의 video data를\n",
    "ndarray 에 저장한다.\n",
    "\"\"\"\n",
    "video_array, _, _ = video_2_ndarray('../media/SampleVideo_640x360_5mb.mp4')"
   ]
  },
  {
   "cell_type": "markdown",
   "metadata": {},
   "source": [
    "### 따라 해보기 #1. 다차원 array(여기서는 video frame)들 간 유사도 측정하기"
   ]
  },
  {
   "cell_type": "markdown",
   "metadata": {},
   "source": [
    "#### 1. 다양한 test image array 들을 생성\n",
    "- 세로 : 360, 가로 : 640 사이즈의 다양한 test image array 들을 생성"
   ]
  },
  {
   "cell_type": "code",
   "execution_count": null,
   "metadata": {},
   "outputs": [],
   "source": [
    "# noisy image 2개\n",
    "noise1 = np.random.randint(0, 255, size=(360, 640, 3), dtype=np.uint8)\n",
    "noise2 = np.random.randint(0, 255, size=(360, 640, 3), dtype=np.uint8)\n",
    "\n",
    "# R, G, B 값 중 하나는 최대(255), 나머지는 최소(0)\n",
    "red = np.full((360, 640, 3), (255, 0, 0), dtype=np.uint8)\n",
    "blue = np.full((360, 640, 3), (0, 0, 255), dtype=np.uint8)\n",
    "\n",
    "# R, G, B 값이 모두 같음(흑백). 색의 밝기만 차이가 있음. \n",
    "light1 = np.full((360, 640, 3), 230, dtype=np.uint8)\n",
    "light2 = np.full((360, 640, 3), 210, dtype=np.uint8)\n",
    "dark1 = np.full((360, 640, 3), 20, dtype=np.uint8)\n",
    "dark2 = np.full((360, 640, 3), 40, dtype=np.uint8)\n",
    "\n",
    "# 흑백 noisy image 만들기\n",
    "# 1. R, G, B가 같은 값이면 흑백(gray)이 됨\n",
    "# 2. 0~255 사이 random 값 추출  shape:(360, 640, 1)인 array를 만들고\n",
    "#    같은 array를 세번째 차원(axis=2)에 2회 append 하여 3개 항목(R, G, B)이 같은 값을 가지도록 함 \n",
    "a = np.random.randint(0, 255, size=(360, 640, 1), dtype=np.uint8)\n",
    "b = np.append(a, a, axis=2)\n",
    "gray_noise1 = np.append(b, a, axis=2)\n",
    "\n",
    "a = np.random.randint(0, 255, size=(360, 640, 1), dtype=np.uint8)\n",
    "b = np.append(a, a, axis=2)\n",
    "gray_noise2 = np.append(b, a, axis=2)"
   ]
  },
  {
   "cell_type": "code",
   "execution_count": null,
   "metadata": {},
   "outputs": [],
   "source": [
    "# Numpy Array의 shape와 size 확인\n",
    "print(f\"noise1 shape : {noise1.shape}, size : {noise1.size}\")\n",
    "print(f\"red shape : {red.shape}, size : {red.size}\")\n",
    "print(f\"light1 shape : {light1.shape}, size : {light1.size}\")\n",
    "print(f\"dark1 shape : {dark1.shape}, size : {dark1.size}\")\n",
    "print(f\"gray_noise1 shape : {gray_noise1.shape}, size : {gray_noise1.size}\")"
   ]
  },
  {
   "cell_type": "markdown",
   "metadata": {},
   "source": [
    "#### 2. test image array들 출력"
   ]
  },
  {
   "cell_type": "code",
   "execution_count": null,
   "metadata": {},
   "outputs": [],
   "source": [
    "from matplotlib import pyplot as plt"
   ]
  },
  {
   "cell_type": "code",
   "execution_count": null,
   "metadata": {},
   "outputs": [],
   "source": [
    "rows = 5\n",
    "columns = 2\n",
    "\n",
    "plt.subplot(rows, columns, 1)\n",
    "plt.imshow(noise1, interpolation='nearest')\n",
    "plt.title('noise1')\n",
    "plt.axis('off')\n",
    "\n",
    "plt.subplot(rows, columns, 2)\n",
    "plt.imshow(noise2, interpolation='nearest')\n",
    "plt.title('noise2')\n",
    "plt.axis('off')\n",
    "\n",
    "plt.subplot(rows, columns, 3)\n",
    "plt.imshow(gray_noise1, interpolation='nearest')\n",
    "plt.title('gray_noise1')\n",
    "plt.axis('off')\n",
    "\n",
    "plt.subplot(rows, columns, 4)\n",
    "plt.imshow(gray_noise2, interpolation='nearest')\n",
    "plt.title('gray_noise2')\n",
    "plt.axis('off')\n",
    "\n",
    "plt.subplot(rows, columns, 5)\n",
    "plt.imshow(red, interpolation='nearest')\n",
    "plt.title('red')\n",
    "plt.axis('off')\n",
    "\n",
    "plt.subplot(rows, columns, 6)\n",
    "plt.imshow(blue, interpolation='nearest')\n",
    "plt.title('blue')\n",
    "plt.axis('off')\n",
    "\n",
    "plt.subplot(rows, columns, 7)\n",
    "plt.imshow(light1, interpolation='nearest')\n",
    "plt.title('light1')\n",
    "plt.axis('off')\n",
    "\n",
    "plt.subplot(rows, columns, 8)\n",
    "plt.imshow(light2, interpolation='nearest')\n",
    "plt.title('light2')\n",
    "plt.axis('off')\n",
    "\n",
    "plt.subplot(rows, columns, 9)\n",
    "plt.imshow(dark1, interpolation='nearest')\n",
    "plt.title('dark1')\n",
    "plt.axis('off')\n",
    "\n",
    "plt.subplot(rows, columns, 10)\n",
    "plt.imshow(dark2, interpolation='nearest')\n",
    "plt.title('dark2')\n",
    "plt.axis('off')"
   ]
  },
  {
   "cell_type": "markdown",
   "metadata": {},
   "source": [
    "#### 3. test image들 간의 유사성을 측정하기 위해 test image들을 가공하기\n",
    "- 평탄화(Flattening)\n",
    "- 최소-최대 정규화(Min-Max Normalization)"
   ]
  },
  {
   "cell_type": "code",
   "execution_count": null,
   "metadata": {},
   "outputs": [],
   "source": [
    "# 다차원를 1차원으로 평탄화(Flattening)한다.\n",
    "noisy1_vector = noise1.reshape(-1)\n",
    "\n",
    "# 그 결과를 255로 나누어 각 항목의 값이 0 ~ 1 사이의 float 값을 가지도록 최소-최대 정규화(Min-Max Normalization)한다.\n",
    "# 공식 : (x - min) / (max - min) = (x - 0) / (255 - 0) = x / 255\n",
    "noisy1_vector = noisy1_vector/255\n",
    "\n",
    "noisy2_vector = noise2.reshape(-1)/255\n",
    "\n",
    "red_vector = red.reshape(-1)/255\n",
    "blue_vector = blue.reshape(-1)/255\n",
    "\n",
    "light1_vector = light1.reshape(-1)/255\n",
    "light2_vector = light2.reshape(-1)/255\n",
    "dark1_vector = dark1.reshape(-1)/255\n",
    "dark2_vector = dark2.reshape(-1)/255\n",
    "gray_noisy1_vector = gray_noise1.reshape(-1)/255\n",
    "gray_noisy2_vector = gray_noise2.reshape(-1)/255\n",
    "\n",
    "# 0 ~ 1사이 난수 출력\n",
    "print(f\"noisy1_vector shape : {noisy1_vector.shape}, size : {noisy1_vector.size}, \\n value{noisy1_vector}\\n\")\n",
    "\n",
    "# 1에 근접하는 동일한 값 출력\n",
    "print(f\"light1_vector shape : {light1_vector.shape}, size : {light1_vector.size}, \\n value{light1_vector}\\n\")\n",
    "\n",
    "# 0에 가까운 동일한 값 출력\n",
    "print(f\"dark1_vector shape : {dark1_vector.shape}, size : {dark1_vector.size}, \\n value{dark1_vector}\\n\")\n",
    "\n",
    "# 0, 0, 1, 0, 0, 1... 반복 출력\n",
    "print(f\"blue_vector shape : {blue_vector.shape}, size : {blue_vector.size}, \\n value{blue_vector}\\n\")\n",
    "\n",
    "# 0과 1사이 난수 값이 3회씩 반복 출력\n",
    "print(f\"gray_noisy1_vector shape : {gray_noisy1_vector.shape}, size : {gray_noisy1_vector.size}, \\n value{gray_noisy1_vector}\\n\")"
   ]
  },
  {
   "cell_type": "markdown",
   "metadata": {},
   "source": [
    "#### 4. 쉽고 간단한 유사도 측정 방법 cosine similatiry"
   ]
  },
  {
   "cell_type": "code",
   "execution_count": null,
   "metadata": {},
   "outputs": [],
   "source": [
    "from numpy import dot\n",
    "from numpy.linalg import norm\n",
    "\n",
    "# cosine similatiry 함수\n",
    "def cos_sim(A, B):\n",
    "    return dot(A, B) / (norm(A) * norm(B))"
   ]
  },
  {
   "cell_type": "markdown",
   "metadata": {},
   "source": [
    "- 그림 : cosine similarity 함수 이해\n",
    "\n",
    "    ![Alt text for broken image link](../resources/cosine-similarity-vectors.jpg)\n",
    "    - image vector의 모든 값은 0 ~ 1 이므로 마이너스 유사도(opposite vectors)는 나타나지 않음. 최소값은 0"
   ]
  },
  {
   "cell_type": "markdown",
   "metadata": {},
   "source": [
    "#### 5. cosine similatiry 함수를 사용한 유사도 구하기"
   ]
  },
  {
   "cell_type": "code",
   "execution_count": null,
   "metadata": {},
   "outputs": [],
   "source": [
    "# dark1과 dark2 간 유사도\n",
    "print('dark1과 dark2 간 유사도 : ', cos_sim(dark1_vector, dark2_vector))\n",
    "\n",
    "# light1과 light2 간 유사도\n",
    "print('light1과 light2 간 유사도 : ', cos_sim(light1_vector, light2_vector))\n",
    "\n",
    "# dark와 light 간 유사도\n",
    "print('dark와 light 간 유사도 : ', cos_sim(dark1_vector, light1_vector))\n",
    "\n",
    "# 두 noise 간 유사도\n",
    "print('두 noise 간 유사도 : ', cos_sim(noisy1_vector, noisy2_vector))\n",
    "\n",
    "# 두 흑백 noise 간 유사도\n",
    "print('두 흑백 noise 간 유사도 : ', cos_sim(gray_noisy1_vector, gray_noisy2_vector))\n",
    "\n",
    "# red와 blue 간 유사도\n",
    "print('red와 blue 간 유사도 : ', cos_sim(red_vector, blue_vector))"
   ]
  },
  {
   "cell_type": "markdown",
   "metadata": {},
   "source": [
    "### 따라 해보기 #2. 동영상의 연속되는 두 frame들간의 유사도 측정하기"
   ]
  },
  {
   "cell_type": "markdown",
   "metadata": {},
   "source": [
    "#### 1. 연속되는 두 frame들간의 유사도를 구해서 차례로 list에 저장"
   ]
  },
  {
   "cell_type": "code",
   "execution_count": null,
   "metadata": {},
   "outputs": [],
   "source": [
    "# 방법 #1 : 일반적인 반복문 사용\n",
    "\n",
    "# 이전 프레임 vector  초기화\n",
    "prev_vector = None\n",
    "\n",
    "# 유사도 값을 저장할 list 변수 초기화\n",
    "similarity_list = []\n",
    "\n",
    "# 각 프레임별로 처리\n",
    "for frame in video_array:\n",
    "\n",
    "    # 평탄화(Flattening) 및 최소-최대 정규화(Min-Max Normalization)\n",
    "    # 1차원으로 reshape하고 255로 나눔\n",
    "    current_vector = frame.reshape(-1) / 255\n",
    "\n",
    "    # 첫번째 frame인 경우 건너뜀\n",
    "    if prev_vector is not None:\n",
    "        # 유사도 계산 및 similarity_list에 append\n",
    "        similarity = cos_sim(prev_vector, current_vector)\n",
    "        similarity_list.append(similarity)\n",
    "            \n",
    "    # 이전 프레임 vector를 현재 vector로 업데이트\n",
    "    prev_vector = current_vector.copy()\n",
    "\n",
    "print('vector size : ',current_vector.shape)\n",
    "print('similarity_list : ',similarity_list)"
   ]
  },
  {
   "cell_type": "code",
   "execution_count": null,
   "metadata": {},
   "outputs": [],
   "source": [
    "# 방법 #2 : 컴프리헨션(Comprehension) 사용\n",
    "\n",
    "# 평탄화(Flattening) 및 최소-최대 정규화(Min-Max Normalization)\n",
    "modi_video = video_array.reshape(video_array.shape[0], -1) / 255\n",
    "\n",
    "# 유사도 list 생성\n",
    "similarity_list = [ cos_sim(modi_video[i-1], c) for i, c in enumerate(modi_video[1:], start=1) ]"
   ]
  },
  {
   "cell_type": "code",
   "execution_count": null,
   "metadata": {},
   "outputs": [],
   "source": [
    "# similarity_list 꺾은선 그래프 그리기\n",
    "\n",
    "plt.figure(figsize=(10, 6))\n",
    "plt.plot(range(len(similarity_list)), similarity_list, marker='o', linestyle='-', color='b')\n",
    "plt.xlabel('Frame Number')\n",
    "plt.ylabel('Similarity')\n",
    "plt.title('Similarity vs Frame Number')\n",
    "plt.grid(True)"
   ]
  },
  {
   "cell_type": "markdown",
   "metadata": {},
   "source": [
    "#### 2. 연속되는 frame들 중 유사도가 낮은 frame들 출력하기"
   ]
  },
  {
   "cell_type": "code",
   "execution_count": null,
   "metadata": {},
   "outputs": [],
   "source": [
    "# 낮은 유사도 임계치\n",
    "lower_sim_threshold = 0.9\n",
    "\n",
    "#similarity_list 값 중 임계치 이하 건수 계산\n",
    "lower_sim_cnt = len([1 for value in similarity_list if value <= lower_sim_threshold])\n",
    "\n",
    "row = 0\n",
    "plt.figure(figsize=(10, 20))\n",
    "\n",
    "for index, value in enumerate(similarity_list):\n",
    "\n",
    "    # 임계치 이하의 두 frame들을 출력\n",
    "    if value <= lower_sim_threshold:\n",
    "        row += 1\n",
    "        plt.subplot(lower_sim_cnt, 2, row)\n",
    "        plt.imshow(video_array[index], interpolation='nearest')\n",
    "        plt.title(f'frame#{index}')\n",
    "        plt.axis('off')\n",
    "\n",
    "        row += 1\n",
    "        plt.subplot(lower_sim_cnt, 2, row)\n",
    "        plt.imshow(video_array[index+1], interpolation='nearest')\n",
    "        plt.title(f'frame#{index+1}')\n",
    "        plt.axis('off')"
   ]
  },
  {
   "cell_type": "markdown",
   "metadata": {},
   "source": []
  }
 ],
 "metadata": {
  "kernelspec": {
   "display_name": "Python 3",
   "language": "python",
   "name": "python3"
  },
  "language_info": {
   "codemirror_mode": {
    "name": "ipython",
    "version": 3
   },
   "file_extension": ".py",
   "mimetype": "text/x-python",
   "name": "python",
   "nbconvert_exporter": "python",
   "pygments_lexer": "ipython3",
   "version": "3.10.10"
  }
 },
 "nbformat": 4,
 "nbformat_minor": 2
}
