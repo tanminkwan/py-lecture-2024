{
 "cells": [
  {
   "cell_type": "markdown",
   "metadata": {},
   "source": [
    "### 실습 개요\n",
    "- 다양한 속성을 가진 이미지 array(3차원)를 생성하고 시각화합니다.\n",
    "- 다양한 이미지 array들 간에 유사도를 측정합니다.\n",
    "- Video array의 연속되는 두 이미지(frame)들 간의 유사도의 의미를 분석합니다."
   ]
  },
  {
   "cell_type": "markdown",
   "metadata": {},
   "source": [
    "### 사전준비\n",
    "- functions.py 안에 mp4 파일 decoding 함수들을 import\n",
    "- numpy를 import"
   ]
  },
  {
   "cell_type": "code",
   "execution_count": 1,
   "metadata": {},
   "outputs": [],
   "source": [
    "# functions.py 에 미리 정의된 함수들을 import 한다\n",
    "import functions as fs\n",
    "\n",
    "# numpy를 import 한다\n",
    "import numpy as np\n",
    "\n",
    "# matplotlib.pyplot을 import 한다\n",
    "import matplotlib.pyplot as plt"
   ]
  },
  {
   "cell_type": "markdown",
   "metadata": {},
   "source": [
    "- mp4 file의 video data를 ndarray(N-dimensional Array) 변수에 저장하기"
   ]
  },
  {
   "cell_type": "code",
   "execution_count": 2,
   "metadata": {},
   "outputs": [],
   "source": [
    "\"\"\"\n",
    "함수 video_2_ndarray 를 사용하여 ../media/SampleVideo_640x360_5mb.mp4 의 video data를\n",
    "ndarray 에 저장한다.\n",
    "\"\"\"\n",
    "video_array, _, _ = fs.video_2_ndarray('../media/SampleVideo_640x360_5mb.mp4')"
   ]
  },
  {
   "cell_type": "markdown",
   "metadata": {},
   "source": [
    "### 따라 해보기 #1. 다차원 array(여기서는 video frame)들 간 유사도 측정하기"
   ]
  },
  {
   "cell_type": "markdown",
   "metadata": {},
   "source": [
    "#### 1. 다양한 test image array 들을 생성\n",
    "- 세로 : 360, 가로 : 640 사이즈의 다양한 test image array 들을 생성"
   ]
  },
  {
   "cell_type": "code",
   "execution_count": 3,
   "metadata": {},
   "outputs": [],
   "source": [
    "# noisy image 2개\n",
    "noise1 = np.random.randint(0, 255, size=(360, 640, 3), dtype=np.uint8)\n",
    "noise2 = np.random.randint(0, 255, size=(360, 640, 3), dtype=np.uint8)\n",
    "\n",
    "# R, G, B 값 중 하나는 최대(255), 나머지는 최소(0)\n",
    "red = np.full((360, 640, 3), (255, 0, 0), dtype=np.uint8)\n",
    "blue = np.full((360, 640, 3), (0, 0, 255), dtype=np.uint8)\n",
    "\n",
    "# R, G, B 값이 254로 매우 밝은색(하얀색)\n",
    "light = np.full((360, 640, 3), (254, 254, 254), dtype=np.uint8)\n",
    "\n",
    "# R, G, B 값이 1로 매우 어두운색(검은색)\n",
    "dark = np.full((360, 640, 3), (1, 1, 1), dtype=np.uint8)"
   ]
  },
  {
   "cell_type": "code",
   "execution_count": null,
   "metadata": {},
   "outputs": [],
   "source": [
    "# Numpy Array의 shape와 size 확인\n",
    "print(f\"noise1 shape : {noise1.shape}, size : {noise1.size}\")\n",
    "print(f\"red shape : {red.shape}, size : {red.size}\")\n",
    "print(f\"light shape : {light.shape}, size : {light.size}\")\n",
    "print(f\"dark shape : {dark.shape}, size : {dark.size}\")"
   ]
  },
  {
   "cell_type": "markdown",
   "metadata": {},
   "source": [
    "#### 2. test image array들 출력"
   ]
  },
  {
   "cell_type": "code",
   "execution_count": null,
   "metadata": {},
   "outputs": [],
   "source": [
    "images = [noise1, noise2, red, blue, light, dark]\n",
    "\n",
    "fs.plot_images(images, rows=3, columns=2)"
   ]
  },
  {
   "cell_type": "markdown",
   "metadata": {},
   "source": [
    "#### 3. test image들 간의 유사성을 측정하기 위해 test image들을 가공하기\n",
    "- 평탄화(Flattening)\n",
    "    - 다차원 배열을 벡터(1차원)로 변환하여 벡터의 내적, 노름(norm)등 벡터 연산이 가능하게 함\n",
    "- 최소-최대 정규화(Min-Max Normalization)\n",
    "    - 가장 작은 값을 0, 가장 큰 값을 1로 두고, 나머지 값들은 비율을 맞춰서 모두 0과 1 사이의 값으로 스케일링. "
   ]
  },
  {
   "cell_type": "code",
   "execution_count": 7,
   "metadata": {},
   "outputs": [],
   "source": [
    "# 1. 다차원를 1차원으로 평탄화(Flattening)한다.\n",
    "# 2. 그 결과를 255로 나누어 각 항목의 값이 0 ~ 1 사이의 float 값을 가지도록 최소-최대 정규화(Min-Max Normalization)한다.\n",
    "#    공식 : (x - min) / (max - min) = (x - 0) / (255 - 0) = x / 255\n",
    "\n",
    "noisy1_vector = noise1.reshape(-1)/255\n",
    "noisy2_vector = noise2.reshape(-1)/255\n",
    "\n",
    "red_vector = red.reshape(-1)/255\n",
    "blue_vector = blue.reshape(-1)/255\n",
    "\n",
    "light_vector = light.reshape(-1)/255\n",
    "dark_vector = dark.reshape(-1)/255"
   ]
  },
  {
   "cell_type": "markdown",
   "metadata": {},
   "source": [
    "#### 4. 쉽고 간단한 유사도 측정 방법 cosine similatiry"
   ]
  },
  {
   "cell_type": "code",
   "execution_count": 8,
   "metadata": {},
   "outputs": [],
   "source": [
    "from numpy import dot\n",
    "from numpy.linalg import norm\n",
    "\n",
    "# cosine similatiry 함수\n",
    "def cos_sim(A, B):\n",
    "    return dot(A, B) / (norm(A) * norm(B))"
   ]
  },
  {
   "cell_type": "markdown",
   "metadata": {},
   "source": [
    "- 그림 : cosine similarity 함수 이해\n",
    "\n",
    "    ![Alt text for broken image link](../resources/cosine-similarity-vectors.jpg)\n",
    "    - image vector의 모든 값은 0 ~ 1 이므로 마이너스 유사도(opposite vectors)는 나타나지 않음. 최소값은 0"
   ]
  },
  {
   "cell_type": "markdown",
   "metadata": {},
   "source": [
    "#### 5. cosine similatiry 함수를 사용한 유사도 구하기"
   ]
  },
  {
   "cell_type": "code",
   "execution_count": null,
   "metadata": {},
   "outputs": [],
   "source": [
    "# dark와 light 간 유사도\n",
    "print('dark와 light 간 유사도 : ', cos_sim(dark_vector, light_vector))\n",
    "\n",
    "# 두 noise 간 유사도\n",
    "print('두 noise 간 유사도 : ', cos_sim(noisy1_vector, noisy2_vector))\n",
    "\n",
    "# red와 blue 간 유사도\n",
    "print('red와 blue 간 유사도 : ', cos_sim(red_vector, blue_vector))"
   ]
  },
  {
   "cell_type": "markdown",
   "metadata": {},
   "source": [
    "### 따라 해보기 #2. 동영상의 연속되는 두 frame들간의 유사도 측정하기"
   ]
  },
  {
   "cell_type": "markdown",
   "metadata": {},
   "source": [
    "#### 1. 연속되는 두 frame들간의 유사도를 구해서 차례로 list에 저장"
   ]
  },
  {
   "cell_type": "code",
   "execution_count": null,
   "metadata": {},
   "outputs": [],
   "source": [
    "# 방법 #1 : 일반적인 반복문 사용\n",
    "\n",
    "# 이전 프레임 vector  초기화\n",
    "prev_vector = None\n",
    "\n",
    "# 유사도 값을 저장할 list 변수 초기화\n",
    "similarity_list = []\n",
    "\n",
    "# 각 프레임별로 처리\n",
    "for frame in video_array:\n",
    "\n",
    "    # 평탄화(Flattening) 및 최소-최대 정규화(Min-Max Normalization)\n",
    "    # 1차원으로 reshape하고 255로 나눔\n",
    "    current_vector = frame.reshape(-1) / 255\n",
    "\n",
    "    # 첫번째 frame인 경우 건너뜀\n",
    "    if prev_vector is not None:\n",
    "        # 유사도 계산 및 similarity_list에 append\n",
    "        similarity = cos_sim(prev_vector, current_vector)\n",
    "        similarity_list.append(similarity)\n",
    "            \n",
    "    # 이전 프레임 vector를 현재 vector로 업데이트\n",
    "    prev_vector = current_vector.copy()\n",
    "\n",
    "print('frame하나의 vector size : ',current_vector.size)\n",
    "print('similarity_list : ',similarity_list)"
   ]
  },
  {
   "cell_type": "code",
   "execution_count": 14,
   "metadata": {},
   "outputs": [],
   "source": [
    "# 방법 #2 : zip을 사용한 반복문\n",
    "\n",
    "# 유사도 값을 저장할 list 변수 초기화\n",
    "similarity_list = []\n",
    "\n",
    "# 연속되는 2개의 프레임을 처리\n",
    "for frame_1, frame_2 in zip(video_array[:-1], video_array[1:]):\n",
    "\n",
    "    # 평탄화(Flattening) 및 최소-최대 정규화(Min-Max Normalization)\n",
    "    # 1차원으로 reshape하고 255로 나눔\n",
    "    vector_1 = frame_1.reshape(-1) / 255\n",
    "    vector_2 = frame_2.reshape(-1) / 255\n",
    "\n",
    "    # 유사도 계산 및 similarity_list에 append\n",
    "    similarity = cos_sim(vector_1, vector_2)\n",
    "    similarity_list.append(similarity)"
   ]
  },
  {
   "cell_type": "code",
   "execution_count": 11,
   "metadata": {},
   "outputs": [],
   "source": [
    "# 방법 #3 : 컴프리헨션(Comprehension) 사용\n",
    "\n",
    "# 평탄화(Flattening) 및 최소-최대 정규화(Min-Max Normalization)\n",
    "frame_cnt = video_array.shape[0]\n",
    "modi_video = video_array.reshape(frame_cnt, -1) / 255\n",
    "\n",
    "# 유사도 list 생성 (i번째 frame과 i+1번째 frame의 유사도)\n",
    "similarity_list = [ cos_sim(modi_video[i], c) for i, c in enumerate(modi_video[1:]) ]"
   ]
  },
  {
   "cell_type": "code",
   "execution_count": null,
   "metadata": {},
   "outputs": [],
   "source": [
    "# similarity_list 꺾은선 그래프 그리기\n",
    "\n",
    "plt.figure(figsize=(10, 6))\n",
    "plt.plot(range(len(similarity_list)), similarity_list, marker='o', linestyle='-', color='b')\n",
    "plt.xlabel('Frame Number')\n",
    "plt.ylabel('Similarity')\n",
    "plt.title('Similarity vs Frame Number')\n",
    "plt.grid(True)"
   ]
  },
  {
   "cell_type": "markdown",
   "metadata": {},
   "source": [
    "#### 2. 연속되는 frame들 중 유사도가 낮은 frame들 출력하기"
   ]
  },
  {
   "cell_type": "code",
   "execution_count": null,
   "metadata": {},
   "outputs": [],
   "source": [
    "# 낮은 유사도 임계치\n",
    "lower_sim_threshold = 0.9\n",
    "\n",
    "for index, value in enumerate(similarity_list):\n",
    "\n",
    "    # 임계치 이하의 두 frame들을 출력\n",
    "    if value <= lower_sim_threshold:\n",
    "\n",
    "        frames = [video_array[index], video_array[index+1]]\n",
    "        titles = ['frame#'+str(index), 'frame#'+str(index+1)]\n",
    "\n",
    "        fs.plot_images(frames, rows=1, columns=2, titles=titles)"
   ]
  },
  {
   "cell_type": "markdown",
   "metadata": {},
   "source": []
  }
 ],
 "metadata": {
  "kernelspec": {
   "display_name": "Python 3",
   "language": "python",
   "name": "python3"
  },
  "language_info": {
   "codemirror_mode": {
    "name": "ipython",
    "version": 3
   },
   "file_extension": ".py",
   "mimetype": "text/x-python",
   "name": "python",
   "nbconvert_exporter": "python",
   "pygments_lexer": "ipython3",
   "version": "3.10.10"
  }
 },
 "nbformat": 4,
 "nbformat_minor": 2
}
